{
 "cells": [
  {
   "cell_type": "markdown",
   "id": "24591e88",
   "metadata": {},
   "source": [
    "# Исследование о сервисе аренды самокатов"
   ]
  },
  {
   "cell_type": "markdown",
   "id": "7cf978b0-f40f-41bd-bb3e-589ada16f301",
   "metadata": {},
   "source": [
    "Сервис аренды самокатов GoFast предоставил данные о поездках пользователей из нескольких городов. Чтобы совершать поездки по городу, пользователи сервиса GoFast пользуются мобильным приложением. Сервисом можно пользоваться с подпиской и без нее. Необходимо проанализировать данные и проверить гипотезы, которые могут помочь бизнесу вырасти:\n",
    "- пользователи с подпиской тратят больше времени на поездки, чем пользователи без подписки;\n",
    "- среднее расстояние, которое проезжают пользователи с подпиской за одну поездку, не превышает 3130 метров;\n",
    "- помесячная выручка от пользователей с подпиской по месяцам выше, чем выручка от пользователей без подписки."
   ]
  },
  {
   "cell_type": "markdown",
   "id": "a255a6be-61cb-4acb-b80f-247c179e0c51",
   "metadata": {},
   "source": [
    "**Цель исследования:** провести сравнение поведения пользователей сервиса аренды самокатов с подпиской и без для помощи в определении дальнейших стратегий развития сервиса. "
   ]
  },
  {
   "cell_type": "markdown",
   "id": "55ee894a-701d-46e0-b96c-6e024b9107d6",
   "metadata": {},
   "source": [
    "**Задачи исследования:** \n",
    "\n",
    "- определить пригодность исходных данных для дальнейшего анализа, провести предобработку данных;\n",
    "- выявить наиболее частотные значения таких характеристик пользователей как город проживания, наличие подписки, возраст, расстояние и продолжительность поездок.\n",
    "- сравнить характеристики пользователей с подпиской и без;\n",
    "- проверить гипотезы о сходстве поведения пользователей с подпиской и без нее."
   ]
  },
  {
   "cell_type": "markdown",
   "id": "d6f6607b-2f0d-44fb-b292-fec882c793bd",
   "metadata": {},
   "source": [
    "## Краткие выводы по результатам анализа"
   ]
  },
  {
   "cell_type": "markdown",
   "id": "5476c895-fdb2-46a4-ac30-e966a906b307",
   "metadata": {},
   "source": [
    "По результатам анализа данных:\n",
    "\n",
    "- данные одинаково репрезентативны для всех 8 городов, где действует сервис;\n",
    "- самое большое количество пользователей в Пятигорске, самое маленькое – в Москве;\n",
    "- количество пользователей без подписки превышает количество пользователей с подпиской на 19% (835 против 699);\n",
    "- наиболее часто встречающийся возраст пользователей - 22-28 лет;\n",
    "- выявлены две стратегии пользования самокатом: на малых расстояниях (пиковое значение – 750 метров), на больших расстояниях (пиковое значение – 3000 метров) (данные могут быть использованы для корректировки тарифных планов);\n",
    "- наиболее частая продолжительность поездок - 12-22 минут;\n",
    "- выявлен пик поездок продролжительностью 0.5 минуты при значительном преодолеваемом расстоянии. Он характерен только для пользователей без подписки. Возможно речь идет о технической неисправности в работе приложения.\n",
    "\n",
    "По результатам проверки гипотез:\n",
    "- С наибольшей долей вероятности, пользователи с подпиской потратят больше времени на поездки, чем пользователи без подписки, а также принесут большую выручку.\n",
    "- С вероятностью 33% среднее значение, проезжаемое пользователем с подпиской, будет равно 3130 метрам."
   ]
  },
  {
   "cell_type": "markdown",
   "id": "b22f6586-a40b-4ce4-8a84-501a25de36e9",
   "metadata": {},
   "source": [
    "## Обзор данных"
   ]
  },
  {
   "cell_type": "markdown",
   "id": "cad21ad2",
   "metadata": {},
   "source": [
    "Импортируем необходимые для проведения анализа данных библиотеки:"
   ]
  },
  {
   "cell_type": "code",
   "execution_count": 1,
   "id": "72576667",
   "metadata": {},
   "outputs": [],
   "source": [
    "import pandas as pd\n",
    "import matplotlib.pyplot as plt\n",
    "import seaborn\n",
    "import numpy as np\n",
    "from scipy import stats as st\n",
    "from math import factorial\n",
    "from scipy.special import comb\n",
    "import pylab as pl\n",
    "import json\n",
    "from IPython.display import display, HTML"
   ]
  },
  {
   "cell_type": "markdown",
   "id": "b8cc62e8-b60f-4a0f-bfc5-73f7011c1a85",
   "metadata": {},
   "source": [
    "Прочитаем файлы `users_go.csv`, `subscriptions_go.csv` и `rides_go.csv` с данными (путь к данным храниться в файлах формата json) и сохраним их в соответствующих переменных `users`, `subscriptions`, `rides`:"
   ]
  },
  {
   "cell_type": "code",
   "execution_count": 2,
   "id": "e558c7c2-402d-4b5c-9ddb-55691d0d621f",
   "metadata": {},
   "outputs": [],
   "source": [
    "# Чтение JSON файла\n",
    "with open('config.json', 'r', encoding='utf-8') as f:\n",
    "    config = json.load(f)\n",
    "\n",
    "# Чтение данных \n",
    "dataset_path_users = config['dataset_path_users_go']\n",
    "dataset_path_subscriptions = config['dataset_path_subscriptions_go']\n",
    "dataset_path_rides = config['dataset_path_rides_go']\n",
    "users = pd.read_csv(dataset_path_users)\n",
    "subscriptions = pd.read_csv(dataset_path_subscriptions)\n",
    "rides = pd.read_csv(dataset_path_rides)"
   ]
  },
  {
   "cell_type": "markdown",
   "id": "fd160b93",
   "metadata": {},
   "source": [
    "Уберем ограничения при отображении количества столбцов, строк, ширины столбцов."
   ]
  },
  {
   "cell_type": "code",
   "execution_count": 3,
   "id": "f2be8e7d",
   "metadata": {},
   "outputs": [],
   "source": [
    "pd.set_option('display.max_rows', None)\n",
    "pd.set_option('display.max_columns', None)\n",
    "pd.set_option('display.max_colwidth', None)"
   ]
  },
  {
   "cell_type": "markdown",
   "id": "1383113a",
   "metadata": {},
   "source": [
    "Выведем первые строки каждого набора данных и общую информацию о каждом датафрейме."
   ]
  },
  {
   "cell_type": "code",
   "execution_count": 4,
   "id": "7619a14e-01c7-4863-8e72-4e059715d956",
   "metadata": {},
   "outputs": [
    {
     "name": "stdout",
     "output_type": "stream",
     "text": [
      "Первые 10 строк датафрейма users:\n",
      "\n",
      "   user_id        name  age            city subscription_type\n",
      "0        1        Кира   22          Тюмень             ultra\n",
      "1        2   Станислав   31            Омск             ultra\n",
      "2        3     Алексей   20          Москва             ultra\n",
      "3        4  Константин   26  Ростов-на-Дону             ultra\n",
      "4        5       Адель   28            Омск             ultra\n",
      "5        6      Регина   25       Краснодар             ultra\n",
      "6        7       Игорь   23            Омск             ultra\n",
      "7        8        Юрий   23       Краснодар             ultra\n",
      "8        9          Ян   21       Пятигорск             ultra\n",
      "9       10     Валерий   18    Екатеринбург             ultra\n",
      "\n",
      "Информация о датафрейме:\n",
      "\n",
      "<class 'pandas.core.frame.DataFrame'>\n",
      "RangeIndex: 1565 entries, 0 to 1564\n",
      "Data columns (total 5 columns):\n",
      " #   Column             Non-Null Count  Dtype \n",
      "---  ------             --------------  ----- \n",
      " 0   user_id            1565 non-null   int64 \n",
      " 1   name               1565 non-null   object\n",
      " 2   age                1565 non-null   int64 \n",
      " 3   city               1565 non-null   object\n",
      " 4   subscription_type  1565 non-null   object\n",
      "dtypes: int64(2), object(3)\n",
      "memory usage: 61.3+ KB\n",
      "None\n",
      "\n",
      "================================================================================\n",
      "\n",
      "Первые 10 строк датафрейма subscriptions:\n",
      "\n",
      "  subscription_type  minute_price  start_ride_price  subscription_fee\n",
      "0              free             8                50                 0\n",
      "1             ultra             6                 0               199\n",
      "\n",
      "Информация о датафрейме:\n",
      "\n",
      "<class 'pandas.core.frame.DataFrame'>\n",
      "RangeIndex: 2 entries, 0 to 1\n",
      "Data columns (total 4 columns):\n",
      " #   Column             Non-Null Count  Dtype \n",
      "---  ------             --------------  ----- \n",
      " 0   subscription_type  2 non-null      object\n",
      " 1   minute_price       2 non-null      int64 \n",
      " 2   start_ride_price   2 non-null      int64 \n",
      " 3   subscription_fee   2 non-null      int64 \n",
      "dtypes: int64(3), object(1)\n",
      "memory usage: 196.0+ bytes\n",
      "None\n",
      "\n",
      "================================================================================\n",
      "\n",
      "Первые 10 строк датафрейма rides:\n",
      "\n",
      "   user_id     distance   duration        date\n",
      "0        1  4409.919140  25.599769  2021-01-01\n",
      "1        1  2617.592153  15.816871  2021-01-18\n",
      "2        1   754.159807   6.232113  2021-04-20\n",
      "3        1  2694.783254  18.511000  2021-08-11\n",
      "4        1  4028.687306  26.265803  2021-08-28\n",
      "5        1  2770.890808  16.650138  2021-10-09\n",
      "6        1  3039.020292  14.927879  2021-10-19\n",
      "7        1  2842.118050  23.117468  2021-11-06\n",
      "8        1  3412.690668  15.238072  2021-11-14\n",
      "9        1   748.690645  15.041884  2021-11-22\n",
      "\n",
      "Информация о датафрейме:\n",
      "\n",
      "<class 'pandas.core.frame.DataFrame'>\n",
      "RangeIndex: 18068 entries, 0 to 18067\n",
      "Data columns (total 4 columns):\n",
      " #   Column    Non-Null Count  Dtype  \n",
      "---  ------    --------------  -----  \n",
      " 0   user_id   18068 non-null  int64  \n",
      " 1   distance  18068 non-null  float64\n",
      " 2   duration  18068 non-null  float64\n",
      " 3   date      18068 non-null  object \n",
      "dtypes: float64(2), int64(1), object(1)\n",
      "memory usage: 564.8+ KB\n",
      "None\n",
      "\n",
      "================================================================================\n",
      "\n"
     ]
    }
   ],
   "source": [
    "# Функция для вывода первых 10 строк и информации о датафрейме\n",
    "def display_data(df, df_name):\n",
    "    print(f\"Первые 10 строк датафрейма {df_name}:\\n\")\n",
    "    print(df.head(10))\n",
    "    print(\"\\nИнформация о датафрейме:\\n\")\n",
    "    print(df.info())\n",
    "    print(\"\\n\" + \"=\"*80 + \"\\n\")\n",
    "\n",
    "# Основная функция для вывода данных для 'users', 'subscriptions' и 'rides'\n",
    "def main():\n",
    "    display_data(users, 'users')\n",
    "    display_data(subscriptions, 'subscriptions')\n",
    "    display_data(rides, 'rides')\n",
    "\n",
    "# Запускаем основную функцию\n",
    "main()"
   ]
  },
  {
   "cell_type": "markdown",
   "id": "c5d102e6",
   "metadata": {},
   "source": [
    "По начальным строкам каждого из датафреймов можно сделать вывод о том, что они содержат релевантные данные. Во всех датафреймах отсутствуют пропущенные значения. "
   ]
  },
  {
   "cell_type": "markdown",
   "id": "e95ebca7",
   "metadata": {},
   "source": [
    "## Предобработка данных"
   ]
  },
  {
   "cell_type": "markdown",
   "id": "3e320429",
   "metadata": {},
   "source": [
    "Тип данных в столбце `date` датафрйема `rides` - `object`. Перезапишем значения в формате `datetime`:"
   ]
  },
  {
   "cell_type": "code",
   "execution_count": 5,
   "id": "2761b101",
   "metadata": {},
   "outputs": [],
   "source": [
    "rides['date'] = pd.to_datetime(rides['date'], format='%Y-%m-%d')"
   ]
  },
  {
   "cell_type": "markdown",
   "id": "8940ea5f",
   "metadata": {},
   "source": [
    "Создадим новый столбец с номером месяца на основе столбца `date`:"
   ]
  },
  {
   "cell_type": "code",
   "execution_count": 6,
   "id": "86c5565f",
   "metadata": {},
   "outputs": [],
   "source": [
    "rides['month'] = rides['date'].dt.month"
   ]
  },
  {
   "cell_type": "markdown",
   "id": "8de15a03",
   "metadata": {},
   "source": [
    "Дополнительно проверим наличие пропущенных значений в датафреймах `users` и `rides` методом `isna()`:"
   ]
  },
  {
   "cell_type": "code",
   "execution_count": 7,
   "id": "55d1d5db",
   "metadata": {},
   "outputs": [
    {
     "data": {
      "text/plain": [
       "user_id              0\n",
       "name                 0\n",
       "age                  0\n",
       "city                 0\n",
       "subscription_type    0\n",
       "dtype: int64"
      ]
     },
     "execution_count": 7,
     "metadata": {},
     "output_type": "execute_result"
    }
   ],
   "source": [
    "users.isna().sum()"
   ]
  },
  {
   "cell_type": "code",
   "execution_count": 8,
   "id": "e9cdc546",
   "metadata": {},
   "outputs": [
    {
     "data": {
      "text/plain": [
       "user_id     0\n",
       "distance    0\n",
       "duration    0\n",
       "date        0\n",
       "month       0\n",
       "dtype: int64"
      ]
     },
     "execution_count": 8,
     "metadata": {},
     "output_type": "execute_result"
    }
   ],
   "source": [
    "rides.isna().sum()"
   ]
  },
  {
   "cell_type": "markdown",
   "id": "2cec1dee",
   "metadata": {},
   "source": [
    "Пропущенные значения во всех датафрйемах отсутствуют. Проверим наличие явных дубликатов в датафреймах:"
   ]
  },
  {
   "cell_type": "code",
   "execution_count": 9,
   "id": "8048f7a9",
   "metadata": {},
   "outputs": [
    {
     "data": {
      "text/plain": [
       "31"
      ]
     },
     "execution_count": 9,
     "metadata": {},
     "output_type": "execute_result"
    }
   ],
   "source": [
    "users.duplicated().sum()"
   ]
  },
  {
   "cell_type": "code",
   "execution_count": 10,
   "id": "b08a12d5",
   "metadata": {},
   "outputs": [
    {
     "data": {
      "text/plain": [
       "0"
      ]
     },
     "execution_count": 10,
     "metadata": {},
     "output_type": "execute_result"
    }
   ],
   "source": [
    "rides.duplicated().sum()"
   ]
  },
  {
   "cell_type": "markdown",
   "id": "533ece66",
   "metadata": {},
   "source": [
    "Удалим явные дубликаты из датафрйема `users`, перезапишем индексы данного датафрейма:"
   ]
  },
  {
   "cell_type": "code",
   "execution_count": 11,
   "id": "051616f2",
   "metadata": {},
   "outputs": [],
   "source": [
    "users = users.drop_duplicates().reset_index()"
   ]
  },
  {
   "cell_type": "markdown",
   "id": "67c26ede",
   "metadata": {},
   "source": [
    "Проверим отсутствие опечаток в наименованиях городов:"
   ]
  },
  {
   "cell_type": "code",
   "execution_count": 12,
   "id": "9d89e54c",
   "metadata": {},
   "outputs": [
    {
     "data": {
      "text/plain": [
       "array(['Тюмень', 'Омск', 'Москва', 'Ростов-на-Дону', 'Краснодар',\n",
       "       'Пятигорск', 'Екатеринбург', 'Сочи'], dtype=object)"
      ]
     },
     "execution_count": 12,
     "metadata": {},
     "output_type": "execute_result"
    }
   ],
   "source": [
    "users['city'].unique()"
   ]
  },
  {
   "cell_type": "markdown",
   "id": "fae293a5",
   "metadata": {},
   "source": [
    "Можно сделать вывод о том, что во всех датафреймах представлены полные данные, явные дубликаты были удалены, неявные дубликаты отсутствуют. "
   ]
  },
  {
   "cell_type": "markdown",
   "id": "212593c7",
   "metadata": {},
   "source": [
    "## Исследовательский анализ данных"
   ]
  },
  {
   "cell_type": "markdown",
   "id": "e6407b70-d5cb-4c8e-9f94-e304b35376eb",
   "metadata": {},
   "source": [
    "### Распределение пользователей по городам"
   ]
  },
  {
   "cell_type": "markdown",
   "id": "589697ff",
   "metadata": {},
   "source": [
    "Определим, в каком городе наибольшее количество пользователей, а также визуализируем полученную информацию:"
   ]
  },
  {
   "cell_type": "code",
   "execution_count": 13,
   "id": "97068a15-4a98-41a4-91e0-c13b76fc18f3",
   "metadata": {},
   "outputs": [
    {
     "data": {
      "image/png": "[encoded data removed]",
      "text/plain": [
       "<Figure size 800x600 with 1 Axes>"
      ]
     },
     "metadata": {},
     "output_type": "display_data"
    }
   ],
   "source": [
    "# Создаем столбчатую диаграмму\n",
    "plt.figure(figsize=(8, 6))\n",
    "ax = plt.gca()  # Получаем текущие оси\n",
    "bars = ax.bar(users['city'].value_counts().index, \n",
    "              users['city'].value_counts().values, \n",
    "              color='steelblue')\n",
    "\n",
    "ax.set_ylabel('Количество пользователей сервиса')\n",
    "ax.set_title('Распределение городов по количеству пользователей')\n",
    "ax.set_xticks(range(len(users['city'].value_counts().index)))\n",
    "ax.set_xticklabels(users['city'].value_counts().index, rotation=90)\n",
    "\n",
    "# Добавляем подписи столбцов\n",
    "for bar in bars:\n",
    "    height = bar.get_height()\n",
    "    ax.text(bar.get_x() + bar.get_width() / 2, \n",
    "            height, \n",
    "            f'{height:.0f}', \n",
    "            ha='center', \n",
    "            va='bottom')\n",
    "\n",
    "# Показываем график\n",
    "plt.tight_layout()\n",
    "plt.show()"
   ]
  },
  {
   "cell_type": "markdown",
   "id": "88ee6251",
   "metadata": {},
   "source": [
    "Распределение городов по количеству пользователей сервиса в датафрейме весьма равномерно, без пиковых значений. Всего в датафрейм попали данные о 8 городах, где был запущен сервис. Наибольшее количество пользователей в Пятигорске, наименьшее - в Москве. "
   ]
  },
  {
   "cell_type": "markdown",
   "id": "630c965d-104b-4f50-9411-83194674fe32",
   "metadata": {},
   "source": [
    "### Соотношение пользователей с подпиской и без подписки"
   ]
  },
  {
   "cell_type": "markdown",
   "id": "90eb6bd6",
   "metadata": {},
   "source": [
    "Определим соотношение пользователей с подпиской и без подписки и визуализируем полученные данные:"
   ]
  },
  {
   "cell_type": "code",
   "execution_count": 14,
   "id": "1d1a4973-f49c-435b-8770-98d62c36892f",
   "metadata": {},
   "outputs": [
    {
     "data": {
      "image/png": "[encoded data removed]",
      "text/plain": [
       "<Figure size 800x500 with 1 Axes>"
      ]
     },
     "metadata": {},
     "output_type": "display_data"
    }
   ],
   "source": [
    "# Создаем столбчатую диаграмму\n",
    "plt.figure(figsize=(8, 5))\n",
    "ax = plt.gca()  # Получаем текущие оси\n",
    "bars = ax.bar(sorted(users['subscription_type'].unique()), \n",
    "              users['subscription_type'].value_counts(), \n",
    "              color='steelblue')\n",
    "\n",
    "ax.set_ylabel('Количество пользователей сервиса')\n",
    "ax.set_title('Распределение пользователей по наличию подписки')\n",
    "ax.set_xticks(range(len(users['subscription_type'].value_counts().index)))\n",
    "ax.set_xticklabels(users['subscription_type'].value_counts().index, rotation=0)\n",
    "\n",
    "# Добавляем подписи столбцов\n",
    "for bar in bars:\n",
    "    height = bar.get_height()\n",
    "    ax.text(bar.get_x() + bar.get_width() / 2, \n",
    "            height, \n",
    "            f'{height:.0f}', \n",
    "            ha='center', \n",
    "            va='bottom')\n",
    "\n",
    "# Показываем график\n",
    "plt.tight_layout()\n",
    "plt.show()"
   ]
  },
  {
   "cell_type": "markdown",
   "id": "7e86be09",
   "metadata": {},
   "source": [
    "Выведем соотношение пользователей с подпиской и без нее:"
   ]
  },
  {
   "cell_type": "code",
   "execution_count": 15,
   "id": "d8b974ae",
   "metadata": {},
   "outputs": [
    {
     "data": {
      "text/plain": [
       "1.19"
      ]
     },
     "execution_count": 15,
     "metadata": {},
     "output_type": "execute_result"
    }
   ],
   "source": [
    "subsc_ratio = users.loc[users['subscription_type'] == 'free']['subscription_type'].count()/\\\n",
    "              users.loc[users['subscription_type'] == 'ultra']['subscription_type'].count()\n",
    "subsc_ratio.round(2)"
   ]
  },
  {
   "cell_type": "markdown",
   "id": "f88ffc7b",
   "metadata": {},
   "source": [
    "Количество пользователей без подписки превышает количество пользователей с подпиской на 19% (835 пользователей без подписки против 699 с подпиской)."
   ]
  },
  {
   "cell_type": "markdown",
   "id": "b4b6f5ee-410f-4cec-8a5a-5a411167c6a4",
   "metadata": {},
   "source": [
    "### Возраст пользователей"
   ]
  },
  {
   "cell_type": "markdown",
   "id": "5628a718",
   "metadata": {},
   "source": [
    "Определим количество пользователей каждого возраста и визуализируем полученные данные:"
   ]
  },
  {
   "cell_type": "code",
   "execution_count": 16,
   "id": "8f1b1c33-2dac-4f17-8c75-f9f34241ac38",
   "metadata": {},
   "outputs": [
    {
     "data": {
      "image/png": "[encoded data removed]",
      "text/plain": [
       "<Figure size 800x600 with 1 Axes>"
      ]
     },
     "metadata": {},
     "output_type": "display_data"
    }
   ],
   "source": [
    "# Создаем столбчатую диаграмму\n",
    "plt.figure(figsize=(8, 6))\n",
    "ax = plt.gca()  # Получаем текущие оси\n",
    "\n",
    "# Группируем данные по возрасту и считаем количество пользователей для каждого возраста\n",
    "age_counts = users.groupby('age')['user_id'].count().sort_index()\n",
    "\n",
    "# Строим столбчатую диаграмму\n",
    "bars = ax.bar(age_counts.index, \n",
    "              age_counts.values, \n",
    "              color='steelblue')\n",
    "\n",
    "ax.set_ylabel('Количество пользователей сервиса')\n",
    "ax.set_title('Распределение пользователей по возрастам')\n",
    "ax.set_xticks(age_counts.index)\n",
    "ax.set_xticklabels(age_counts.index, rotation=90)\n",
    "ax.grid(axis='y', which='both', linestyle='--', linewidth=0.5)\n",
    "\n",
    "# Показываем график\n",
    "plt.tight_layout()\n",
    "plt.show()"
   ]
  },
  {
   "cell_type": "markdown",
   "id": "a4b698a7",
   "metadata": {},
   "source": [
    "Как видно из диаграммы наибольшее количество пользователей проката - люди в возрасте от 22 до 28 лет. Минимальный возраст пользователя - 12, максимальный - 43. "
   ]
  },
  {
   "cell_type": "markdown",
   "id": "bfe20bf5-55f4-4a00-b513-79cfe4435739",
   "metadata": {},
   "source": [
    "### Расстояние, которое пользователь преодолевает за одну поезду"
   ]
  },
  {
   "cell_type": "markdown",
   "id": "3a343037",
   "metadata": {},
   "source": [
    "Выведем общие данные о расстоянии, которое пользователь преодолевает за одну поездку и визуализируем весь массив этих данных путем построения гистограммы."
   ]
  },
  {
   "cell_type": "code",
   "execution_count": 17,
   "id": "6bb69825",
   "metadata": {},
   "outputs": [
    {
     "data": {
      "text/plain": [
       "count    18068.000000\n",
       "mean      3070.659976\n",
       "std       1116.831209\n",
       "min          0.855683\n",
       "25%       2543.226360\n",
       "50%       3133.609994\n",
       "75%       3776.222735\n",
       "max       7211.007745\n",
       "Name: distance, dtype: float64"
      ]
     },
     "execution_count": 17,
     "metadata": {},
     "output_type": "execute_result"
    }
   ],
   "source": [
    "rides['distance'].describe()"
   ]
  },
  {
   "cell_type": "code",
   "execution_count": 18,
   "id": "db1e2c46",
   "metadata": {},
   "outputs": [
    {
     "data": {
      "image/png": "[encoded data removed]",
      "text/plain": [
       "<Figure size 640x480 with 1 Axes>"
      ]
     },
     "metadata": {},
     "output_type": "display_data"
    }
   ],
   "source": [
    "rides['distance'].hist(bins = 120).set(title='Распределение преодолеваемого расстояния', \n",
    "                                       xlabel = 'Преодолеваемое расстояние, м', \n",
    "                                       ylabel = 'Количество поездок');"
   ]
  },
  {
   "cell_type": "markdown",
   "id": "02eb2308",
   "metadata": {},
   "source": [
    "Поездки деляться на две неравные группы: \n",
    "\n",
    "- на небольшие расстояния (например, чтобы доехать до метро или другого вида общественного транспорта), пиковое расстояние - около 750 метров;\n",
    "- на большие расстояния (для поездок по городу) с пиковым значением - 3000 метров. "
   ]
  },
  {
   "cell_type": "markdown",
   "id": "1e6fb42a",
   "metadata": {},
   "source": [
    "### Продолжительность поездок"
   ]
  },
  {
   "cell_type": "markdown",
   "id": "f3be41dd-9a46-47da-b60d-049735fc4da8",
   "metadata": {},
   "source": [
    "Выведем и визуализируем общие данные о продолжительности поездок."
   ]
  },
  {
   "cell_type": "code",
   "execution_count": 19,
   "id": "8296faab",
   "metadata": {},
   "outputs": [
    {
     "data": {
      "text/plain": [
       "count    18068.000000\n",
       "mean        17.805011\n",
       "std          6.091051\n",
       "min          0.500000\n",
       "25%         13.597563\n",
       "50%         17.678395\n",
       "75%         21.724800\n",
       "max         40.823963\n",
       "Name: duration, dtype: float64"
      ]
     },
     "execution_count": 19,
     "metadata": {},
     "output_type": "execute_result"
    }
   ],
   "source": [
    "rides['duration'].describe()"
   ]
  },
  {
   "cell_type": "code",
   "execution_count": 20,
   "id": "400d22a1",
   "metadata": {},
   "outputs": [
    {
     "data": {
      "image/png": "[encoded data removed]",
      "text/plain": [
       "<Figure size 640x480 with 1 Axes>"
      ]
     },
     "metadata": {},
     "output_type": "display_data"
    }
   ],
   "source": [
    "rides['duration'].hist(bins = 120).set(title='Распределение продолжительности поездок', \n",
    "                                       xlabel = 'Продолжительность поездок, мин.', \n",
    "                                       ylabel = 'Количество поездок');"
   ]
  },
  {
   "cell_type": "markdown",
   "id": "fa3f133e",
   "metadata": {},
   "source": [
    "У большинства пользователей продолжитель поездки составляет от 12 до 22 минут, однако на диаграмме виден значительный всплекс значений около 0. Определим размер и количество таких значений:"
   ]
  },
  {
   "cell_type": "code",
   "execution_count": 21,
   "id": "2ba20f51",
   "metadata": {
    "scrolled": true
   },
   "outputs": [
    {
     "data": {
      "text/html": [
       "\n",
       "<div style=\"max-height:200px; overflow:auto;\">\n",
       "    <table border=\"1\" class=\"dataframe\">\n",
       "  <thead>\n",
       "    <tr style=\"text-align: right;\">\n",
       "      <th>user_id</th>\n",
       "      <th>distance</th>\n",
       "      <th>duration</th>\n",
       "      <th>date</th>\n",
       "      <th>month</th>\n",
       "    </tr>\n",
       "  </thead>\n",
       "  <tbody>\n",
       "    <tr>\n",
       "      <td>701</td>\n",
       "      <td>4196.445201</td>\n",
       "      <td>0.5</td>\n",
       "      <td>2021-08-31</td>\n",
       "      <td>8</td>\n",
       "    </tr>\n",
       "    <tr>\n",
       "      <td>704</td>\n",
       "      <td>4830.824371</td>\n",
       "      <td>0.5</td>\n",
       "      <td>2021-10-14</td>\n",
       "      <td>10</td>\n",
       "    </tr>\n",
       "    <tr>\n",
       "      <td>712</td>\n",
       "      <td>4684.004397</td>\n",
       "      <td>0.5</td>\n",
       "      <td>2021-03-04</td>\n",
       "      <td>3</td>\n",
       "    </tr>\n",
       "    <tr>\n",
       "      <td>713</td>\n",
       "      <td>5215.642710</td>\n",
       "      <td>0.5</td>\n",
       "      <td>2021-02-25</td>\n",
       "      <td>2</td>\n",
       "    </tr>\n",
       "    <tr>\n",
       "      <td>718</td>\n",
       "      <td>5197.436649</td>\n",
       "      <td>0.5</td>\n",
       "      <td>2021-02-11</td>\n",
       "      <td>2</td>\n",
       "    </tr>\n",
       "    <tr>\n",
       "      <td>724</td>\n",
       "      <td>6225.520342</td>\n",
       "      <td>0.5</td>\n",
       "      <td>2021-12-16</td>\n",
       "      <td>12</td>\n",
       "    </tr>\n",
       "    <tr>\n",
       "      <td>726</td>\n",
       "      <td>4452.491518</td>\n",
       "      <td>0.5</td>\n",
       "      <td>2021-03-01</td>\n",
       "      <td>3</td>\n",
       "    </tr>\n",
       "    <tr>\n",
       "      <td>735</td>\n",
       "      <td>4406.954812</td>\n",
       "      <td>0.5</td>\n",
       "      <td>2021-04-13</td>\n",
       "      <td>4</td>\n",
       "    </tr>\n",
       "    <tr>\n",
       "      <td>745</td>\n",
       "      <td>5286.167732</td>\n",
       "      <td>0.5</td>\n",
       "      <td>2021-08-17</td>\n",
       "      <td>8</td>\n",
       "    </tr>\n",
       "    <tr>\n",
       "      <td>760</td>\n",
       "      <td>4881.391865</td>\n",
       "      <td>0.5</td>\n",
       "      <td>2021-08-29</td>\n",
       "      <td>8</td>\n",
       "    </tr>\n",
       "    <tr>\n",
       "      <td>766</td>\n",
       "      <td>4539.088310</td>\n",
       "      <td>0.5</td>\n",
       "      <td>2021-12-22</td>\n",
       "      <td>12</td>\n",
       "    </tr>\n",
       "    <tr>\n",
       "      <td>772</td>\n",
       "      <td>4718.820996</td>\n",
       "      <td>0.5</td>\n",
       "      <td>2021-05-22</td>\n",
       "      <td>5</td>\n",
       "    </tr>\n",
       "    <tr>\n",
       "      <td>774</td>\n",
       "      <td>5488.141903</td>\n",
       "      <td>0.5</td>\n",
       "      <td>2021-05-27</td>\n",
       "      <td>5</td>\n",
       "    </tr>\n",
       "    <tr>\n",
       "      <td>780</td>\n",
       "      <td>6112.644835</td>\n",
       "      <td>0.5</td>\n",
       "      <td>2021-11-23</td>\n",
       "      <td>11</td>\n",
       "    </tr>\n",
       "    <tr>\n",
       "      <td>784</td>\n",
       "      <td>5202.815712</td>\n",
       "      <td>0.5</td>\n",
       "      <td>2021-06-03</td>\n",
       "      <td>6</td>\n",
       "    </tr>\n",
       "    <tr>\n",
       "      <td>792</td>\n",
       "      <td>5353.189287</td>\n",
       "      <td>0.5</td>\n",
       "      <td>2021-11-06</td>\n",
       "      <td>11</td>\n",
       "    </tr>\n",
       "    <tr>\n",
       "      <td>795</td>\n",
       "      <td>6262.302747</td>\n",
       "      <td>0.5</td>\n",
       "      <td>2021-09-09</td>\n",
       "      <td>9</td>\n",
       "    </tr>\n",
       "    <tr>\n",
       "      <td>800</td>\n",
       "      <td>5052.410425</td>\n",
       "      <td>0.5</td>\n",
       "      <td>2021-07-19</td>\n",
       "      <td>7</td>\n",
       "    </tr>\n",
       "    <tr>\n",
       "      <td>804</td>\n",
       "      <td>5547.830031</td>\n",
       "      <td>0.5</td>\n",
       "      <td>2021-05-10</td>\n",
       "      <td>5</td>\n",
       "    </tr>\n",
       "    <tr>\n",
       "      <td>836</td>\n",
       "      <td>4958.922077</td>\n",
       "      <td>0.5</td>\n",
       "      <td>2021-01-12</td>\n",
       "      <td>1</td>\n",
       "    </tr>\n",
       "    <tr>\n",
       "      <td>847</td>\n",
       "      <td>4770.172208</td>\n",
       "      <td>0.5</td>\n",
       "      <td>2021-03-26</td>\n",
       "      <td>3</td>\n",
       "    </tr>\n",
       "    <tr>\n",
       "      <td>890</td>\n",
       "      <td>4848.485014</td>\n",
       "      <td>0.5</td>\n",
       "      <td>2021-11-20</td>\n",
       "      <td>11</td>\n",
       "    </tr>\n",
       "    <tr>\n",
       "      <td>893</td>\n",
       "      <td>4762.120493</td>\n",
       "      <td>0.5</td>\n",
       "      <td>2021-03-18</td>\n",
       "      <td>3</td>\n",
       "    </tr>\n",
       "    <tr>\n",
       "      <td>896</td>\n",
       "      <td>5466.265687</td>\n",
       "      <td>0.5</td>\n",
       "      <td>2021-10-13</td>\n",
       "      <td>10</td>\n",
       "    </tr>\n",
       "    <tr>\n",
       "      <td>906</td>\n",
       "      <td>5258.160917</td>\n",
       "      <td>0.5</td>\n",
       "      <td>2021-02-02</td>\n",
       "      <td>2</td>\n",
       "    </tr>\n",
       "    <tr>\n",
       "      <td>907</td>\n",
       "      <td>4520.123807</td>\n",
       "      <td>0.5</td>\n",
       "      <td>2021-04-24</td>\n",
       "      <td>4</td>\n",
       "    </tr>\n",
       "    <tr>\n",
       "      <td>922</td>\n",
       "      <td>4620.899239</td>\n",
       "      <td>0.5</td>\n",
       "      <td>2021-01-05</td>\n",
       "      <td>1</td>\n",
       "    </tr>\n",
       "    <tr>\n",
       "      <td>928</td>\n",
       "      <td>4857.412920</td>\n",
       "      <td>0.5</td>\n",
       "      <td>2021-06-06</td>\n",
       "      <td>6</td>\n",
       "    </tr>\n",
       "    <tr>\n",
       "      <td>931</td>\n",
       "      <td>6002.236438</td>\n",
       "      <td>0.5</td>\n",
       "      <td>2021-11-10</td>\n",
       "      <td>11</td>\n",
       "    </tr>\n",
       "    <tr>\n",
       "      <td>937</td>\n",
       "      <td>4169.066800</td>\n",
       "      <td>0.5</td>\n",
       "      <td>2021-12-12</td>\n",
       "      <td>12</td>\n",
       "    </tr>\n",
       "    <tr>\n",
       "      <td>970</td>\n",
       "      <td>5180.551523</td>\n",
       "      <td>0.5</td>\n",
       "      <td>2021-08-07</td>\n",
       "      <td>8</td>\n",
       "    </tr>\n",
       "    <tr>\n",
       "      <td>973</td>\n",
       "      <td>4578.711073</td>\n",
       "      <td>0.5</td>\n",
       "      <td>2021-03-01</td>\n",
       "      <td>3</td>\n",
       "    </tr>\n",
       "    <tr>\n",
       "      <td>973</td>\n",
       "      <td>5052.769411</td>\n",
       "      <td>0.5</td>\n",
       "      <td>2021-11-27</td>\n",
       "      <td>11</td>\n",
       "    </tr>\n",
       "    <tr>\n",
       "      <td>978</td>\n",
       "      <td>4835.931553</td>\n",
       "      <td>0.5</td>\n",
       "      <td>2021-02-12</td>\n",
       "      <td>2</td>\n",
       "    </tr>\n",
       "    <tr>\n",
       "      <td>987</td>\n",
       "      <td>5375.139265</td>\n",
       "      <td>0.5</td>\n",
       "      <td>2021-03-16</td>\n",
       "      <td>3</td>\n",
       "    </tr>\n",
       "    <tr>\n",
       "      <td>989</td>\n",
       "      <td>5035.104114</td>\n",
       "      <td>0.5</td>\n",
       "      <td>2021-12-09</td>\n",
       "      <td>12</td>\n",
       "    </tr>\n",
       "    <tr>\n",
       "      <td>991</td>\n",
       "      <td>4753.927778</td>\n",
       "      <td>0.5</td>\n",
       "      <td>2021-07-23</td>\n",
       "      <td>7</td>\n",
       "    </tr>\n",
       "    <tr>\n",
       "      <td>1003</td>\n",
       "      <td>4204.302074</td>\n",
       "      <td>0.5</td>\n",
       "      <td>2021-05-17</td>\n",
       "      <td>5</td>\n",
       "    </tr>\n",
       "    <tr>\n",
       "      <td>1006</td>\n",
       "      <td>4106.278268</td>\n",
       "      <td>0.5</td>\n",
       "      <td>2021-10-31</td>\n",
       "      <td>10</td>\n",
       "    </tr>\n",
       "    <tr>\n",
       "      <td>1007</td>\n",
       "      <td>5245.629783</td>\n",
       "      <td>0.5</td>\n",
       "      <td>2021-04-12</td>\n",
       "      <td>4</td>\n",
       "    </tr>\n",
       "    <tr>\n",
       "      <td>1007</td>\n",
       "      <td>4633.256106</td>\n",
       "      <td>0.5</td>\n",
       "      <td>2021-04-27</td>\n",
       "      <td>4</td>\n",
       "    </tr>\n",
       "    <tr>\n",
       "      <td>1035</td>\n",
       "      <td>5488.776296</td>\n",
       "      <td>0.5</td>\n",
       "      <td>2021-07-28</td>\n",
       "      <td>7</td>\n",
       "    </tr>\n",
       "    <tr>\n",
       "      <td>1039</td>\n",
       "      <td>5314.186907</td>\n",
       "      <td>0.5</td>\n",
       "      <td>2021-12-23</td>\n",
       "      <td>12</td>\n",
       "    </tr>\n",
       "    <tr>\n",
       "      <td>1040</td>\n",
       "      <td>5129.337387</td>\n",
       "      <td>0.5</td>\n",
       "      <td>2021-11-22</td>\n",
       "      <td>11</td>\n",
       "    </tr>\n",
       "    <tr>\n",
       "      <td>1041</td>\n",
       "      <td>4599.798656</td>\n",
       "      <td>0.5</td>\n",
       "      <td>2021-02-26</td>\n",
       "      <td>2</td>\n",
       "    </tr>\n",
       "    <tr>\n",
       "      <td>1057</td>\n",
       "      <td>6601.197575</td>\n",
       "      <td>0.5</td>\n",
       "      <td>2021-02-07</td>\n",
       "      <td>2</td>\n",
       "    </tr>\n",
       "    <tr>\n",
       "      <td>1062</td>\n",
       "      <td>5486.745507</td>\n",
       "      <td>0.5</td>\n",
       "      <td>2021-05-25</td>\n",
       "      <td>5</td>\n",
       "    </tr>\n",
       "    <tr>\n",
       "      <td>1069</td>\n",
       "      <td>5780.316092</td>\n",
       "      <td>0.5</td>\n",
       "      <td>2021-04-06</td>\n",
       "      <td>4</td>\n",
       "    </tr>\n",
       "    <tr>\n",
       "      <td>1088</td>\n",
       "      <td>4533.964591</td>\n",
       "      <td>0.5</td>\n",
       "      <td>2021-11-23</td>\n",
       "      <td>11</td>\n",
       "    </tr>\n",
       "    <tr>\n",
       "      <td>1090</td>\n",
       "      <td>5121.403392</td>\n",
       "      <td>0.5</td>\n",
       "      <td>2021-09-29</td>\n",
       "      <td>9</td>\n",
       "    </tr>\n",
       "    <tr>\n",
       "      <td>1102</td>\n",
       "      <td>4602.122401</td>\n",
       "      <td>0.5</td>\n",
       "      <td>2021-08-01</td>\n",
       "      <td>8</td>\n",
       "    </tr>\n",
       "    <tr>\n",
       "      <td>1104</td>\n",
       "      <td>4807.103751</td>\n",
       "      <td>0.5</td>\n",
       "      <td>2021-01-06</td>\n",
       "      <td>1</td>\n",
       "    </tr>\n",
       "    <tr>\n",
       "      <td>1109</td>\n",
       "      <td>5202.556657</td>\n",
       "      <td>0.5</td>\n",
       "      <td>2021-01-08</td>\n",
       "      <td>1</td>\n",
       "    </tr>\n",
       "    <tr>\n",
       "      <td>1128</td>\n",
       "      <td>4703.905427</td>\n",
       "      <td>0.5</td>\n",
       "      <td>2021-09-23</td>\n",
       "      <td>9</td>\n",
       "    </tr>\n",
       "    <tr>\n",
       "      <td>1132</td>\n",
       "      <td>5466.110839</td>\n",
       "      <td>0.5</td>\n",
       "      <td>2021-11-10</td>\n",
       "      <td>11</td>\n",
       "    </tr>\n",
       "    <tr>\n",
       "      <td>1150</td>\n",
       "      <td>5666.735492</td>\n",
       "      <td>0.5</td>\n",
       "      <td>2021-01-22</td>\n",
       "      <td>1</td>\n",
       "    </tr>\n",
       "    <tr>\n",
       "      <td>1172</td>\n",
       "      <td>4907.140751</td>\n",
       "      <td>0.5</td>\n",
       "      <td>2021-12-19</td>\n",
       "      <td>12</td>\n",
       "    </tr>\n",
       "    <tr>\n",
       "      <td>1176</td>\n",
       "      <td>4935.071045</td>\n",
       "      <td>0.5</td>\n",
       "      <td>2021-05-14</td>\n",
       "      <td>5</td>\n",
       "    </tr>\n",
       "    <tr>\n",
       "      <td>1194</td>\n",
       "      <td>5636.253153</td>\n",
       "      <td>0.5</td>\n",
       "      <td>2021-11-20</td>\n",
       "      <td>11</td>\n",
       "    </tr>\n",
       "    <tr>\n",
       "      <td>1217</td>\n",
       "      <td>5905.524822</td>\n",
       "      <td>0.5</td>\n",
       "      <td>2021-09-27</td>\n",
       "      <td>9</td>\n",
       "    </tr>\n",
       "    <tr>\n",
       "      <td>1224</td>\n",
       "      <td>4430.510768</td>\n",
       "      <td>0.5</td>\n",
       "      <td>2021-01-15</td>\n",
       "      <td>1</td>\n",
       "    </tr>\n",
       "    <tr>\n",
       "      <td>1224</td>\n",
       "      <td>6414.516026</td>\n",
       "      <td>0.5</td>\n",
       "      <td>2021-07-15</td>\n",
       "      <td>7</td>\n",
       "    </tr>\n",
       "    <tr>\n",
       "      <td>1243</td>\n",
       "      <td>4434.740681</td>\n",
       "      <td>0.5</td>\n",
       "      <td>2021-05-31</td>\n",
       "      <td>5</td>\n",
       "    </tr>\n",
       "    <tr>\n",
       "      <td>1243</td>\n",
       "      <td>5095.432818</td>\n",
       "      <td>0.5</td>\n",
       "      <td>2021-12-02</td>\n",
       "      <td>12</td>\n",
       "    </tr>\n",
       "    <tr>\n",
       "      <td>1257</td>\n",
       "      <td>6120.067697</td>\n",
       "      <td>0.5</td>\n",
       "      <td>2021-03-16</td>\n",
       "      <td>3</td>\n",
       "    </tr>\n",
       "    <tr>\n",
       "      <td>1268</td>\n",
       "      <td>4177.139336</td>\n",
       "      <td>0.5</td>\n",
       "      <td>2021-06-09</td>\n",
       "      <td>6</td>\n",
       "    </tr>\n",
       "    <tr>\n",
       "      <td>1273</td>\n",
       "      <td>4178.876258</td>\n",
       "      <td>0.5</td>\n",
       "      <td>2021-04-30</td>\n",
       "      <td>4</td>\n",
       "    </tr>\n",
       "    <tr>\n",
       "      <td>1285</td>\n",
       "      <td>6316.574814</td>\n",
       "      <td>0.5</td>\n",
       "      <td>2021-09-25</td>\n",
       "      <td>9</td>\n",
       "    </tr>\n",
       "    <tr>\n",
       "      <td>1287</td>\n",
       "      <td>5944.789947</td>\n",
       "      <td>0.5</td>\n",
       "      <td>2021-12-09</td>\n",
       "      <td>12</td>\n",
       "    </tr>\n",
       "    <tr>\n",
       "      <td>1293</td>\n",
       "      <td>4704.878192</td>\n",
       "      <td>0.5</td>\n",
       "      <td>2021-02-13</td>\n",
       "      <td>2</td>\n",
       "    </tr>\n",
       "    <tr>\n",
       "      <td>1304</td>\n",
       "      <td>4899.706877</td>\n",
       "      <td>0.5</td>\n",
       "      <td>2021-07-28</td>\n",
       "      <td>7</td>\n",
       "    </tr>\n",
       "    <tr>\n",
       "      <td>1317</td>\n",
       "      <td>4593.389022</td>\n",
       "      <td>0.5</td>\n",
       "      <td>2021-07-16</td>\n",
       "      <td>7</td>\n",
       "    </tr>\n",
       "    <tr>\n",
       "      <td>1318</td>\n",
       "      <td>5894.633314</td>\n",
       "      <td>0.5</td>\n",
       "      <td>2021-03-28</td>\n",
       "      <td>3</td>\n",
       "    </tr>\n",
       "    <tr>\n",
       "      <td>1324</td>\n",
       "      <td>5537.095264</td>\n",
       "      <td>0.5</td>\n",
       "      <td>2021-09-16</td>\n",
       "      <td>9</td>\n",
       "    </tr>\n",
       "    <tr>\n",
       "      <td>1325</td>\n",
       "      <td>4030.308008</td>\n",
       "      <td>0.5</td>\n",
       "      <td>2021-12-22</td>\n",
       "      <td>12</td>\n",
       "    </tr>\n",
       "    <tr>\n",
       "      <td>1355</td>\n",
       "      <td>5913.033578</td>\n",
       "      <td>0.5</td>\n",
       "      <td>2021-01-16</td>\n",
       "      <td>1</td>\n",
       "    </tr>\n",
       "    <tr>\n",
       "      <td>1364</td>\n",
       "      <td>4375.042408</td>\n",
       "      <td>0.5</td>\n",
       "      <td>2021-10-23</td>\n",
       "      <td>10</td>\n",
       "    </tr>\n",
       "    <tr>\n",
       "      <td>1364</td>\n",
       "      <td>4697.638430</td>\n",
       "      <td>0.5</td>\n",
       "      <td>2021-12-20</td>\n",
       "      <td>12</td>\n",
       "    </tr>\n",
       "    <tr>\n",
       "      <td>1374</td>\n",
       "      <td>5487.630623</td>\n",
       "      <td>0.5</td>\n",
       "      <td>2021-08-29</td>\n",
       "      <td>8</td>\n",
       "    </tr>\n",
       "    <tr>\n",
       "      <td>1378</td>\n",
       "      <td>5505.418662</td>\n",
       "      <td>0.5</td>\n",
       "      <td>2021-08-04</td>\n",
       "      <td>8</td>\n",
       "    </tr>\n",
       "    <tr>\n",
       "      <td>1396</td>\n",
       "      <td>4544.668989</td>\n",
       "      <td>0.5</td>\n",
       "      <td>2021-03-14</td>\n",
       "      <td>3</td>\n",
       "    </tr>\n",
       "    <tr>\n",
       "      <td>1401</td>\n",
       "      <td>4688.979945</td>\n",
       "      <td>0.5</td>\n",
       "      <td>2021-11-19</td>\n",
       "      <td>11</td>\n",
       "    </tr>\n",
       "    <tr>\n",
       "      <td>1411</td>\n",
       "      <td>7211.007745</td>\n",
       "      <td>0.5</td>\n",
       "      <td>2021-04-15</td>\n",
       "      <td>4</td>\n",
       "    </tr>\n",
       "    <tr>\n",
       "      <td>1412</td>\n",
       "      <td>4247.502137</td>\n",
       "      <td>0.5</td>\n",
       "      <td>2021-11-28</td>\n",
       "      <td>11</td>\n",
       "    </tr>\n",
       "    <tr>\n",
       "      <td>1421</td>\n",
       "      <td>5071.577248</td>\n",
       "      <td>0.5</td>\n",
       "      <td>2021-03-04</td>\n",
       "      <td>3</td>\n",
       "    </tr>\n",
       "    <tr>\n",
       "      <td>1425</td>\n",
       "      <td>5306.346398</td>\n",
       "      <td>0.5</td>\n",
       "      <td>2021-07-05</td>\n",
       "      <td>7</td>\n",
       "    </tr>\n",
       "    <tr>\n",
       "      <td>1428</td>\n",
       "      <td>5059.187375</td>\n",
       "      <td>0.5</td>\n",
       "      <td>2021-05-06</td>\n",
       "      <td>5</td>\n",
       "    </tr>\n",
       "    <tr>\n",
       "      <td>1436</td>\n",
       "      <td>5409.750250</td>\n",
       "      <td>0.5</td>\n",
       "      <td>2021-06-18</td>\n",
       "      <td>6</td>\n",
       "    </tr>\n",
       "    <tr>\n",
       "      <td>1439</td>\n",
       "      <td>4324.482439</td>\n",
       "      <td>0.5</td>\n",
       "      <td>2021-12-27</td>\n",
       "      <td>12</td>\n",
       "    </tr>\n",
       "    <tr>\n",
       "      <td>1444</td>\n",
       "      <td>5830.705170</td>\n",
       "      <td>0.5</td>\n",
       "      <td>2021-08-29</td>\n",
       "      <td>8</td>\n",
       "    </tr>\n",
       "    <tr>\n",
       "      <td>1460</td>\n",
       "      <td>5531.335845</td>\n",
       "      <td>0.5</td>\n",
       "      <td>2021-01-19</td>\n",
       "      <td>1</td>\n",
       "    </tr>\n",
       "    <tr>\n",
       "      <td>1477</td>\n",
       "      <td>6724.932981</td>\n",
       "      <td>0.5</td>\n",
       "      <td>2021-01-12</td>\n",
       "      <td>1</td>\n",
       "    </tr>\n",
       "    <tr>\n",
       "      <td>1483</td>\n",
       "      <td>4445.481070</td>\n",
       "      <td>0.5</td>\n",
       "      <td>2021-03-06</td>\n",
       "      <td>3</td>\n",
       "    </tr>\n",
       "    <tr>\n",
       "      <td>1496</td>\n",
       "      <td>5722.551787</td>\n",
       "      <td>0.5</td>\n",
       "      <td>2021-02-14</td>\n",
       "      <td>2</td>\n",
       "    </tr>\n",
       "    <tr>\n",
       "      <td>1524</td>\n",
       "      <td>4103.998874</td>\n",
       "      <td>0.5</td>\n",
       "      <td>2021-06-18</td>\n",
       "      <td>6</td>\n",
       "    </tr>\n",
       "  </tbody>\n",
       "</table>\n",
       "</div>\n"
      ],
      "text/plain": [
       "<IPython.core.display.HTML object>"
      ]
     },
     "metadata": {},
     "output_type": "display_data"
    }
   ],
   "source": [
    "# Выведем значения поездок продолжительностью менее 2 минут\n",
    "short_rides = rides.loc[rides['duration'] < 2]\n",
    "\n",
    "short_rides_st = f'''\n",
    "<div style=\"max-height:200px; overflow:auto;\">\n",
    "    {short_rides.to_html(index=False)}\n",
    "</div>\n",
    "'''\n",
    "\n",
    "display(HTML(short_rides_st))"
   ]
  },
  {
   "cell_type": "code",
   "execution_count": 22,
   "id": "caf48463",
   "metadata": {},
   "outputs": [
    {
     "data": {
      "text/plain": [
       "95"
      ]
     },
     "execution_count": 22,
     "metadata": {},
     "output_type": "execute_result"
    }
   ],
   "source": [
    "# Выведем количество сверхкоротких поездок\n",
    "len(rides.loc[rides['duration'] < 2])"
   ]
  },
  {
   "cell_type": "markdown",
   "id": "75d998b4",
   "metadata": {},
   "source": [
    "В 95 случаях пользователи брали самокат на полминуты, при этом расстояние, которое они преодолели за это время - от 4 до 7 км.\n",
    "Можно предположить, что произошел сбой при заполнени данных о продолжительности поездок.\n",
    "Заменим значения продолжительности поездок в 0,5 минуты на медианное значение в зависимости от пройденного расстояния.\n",
    "Добавим в датафрейм `rides` столбец с обозначением категории в зависимости от пройденного расстояния:"
   ]
  },
  {
   "cell_type": "code",
   "execution_count": 23,
   "id": "66d8aa3c",
   "metadata": {},
   "outputs": [],
   "source": [
    "def distance(length):\n",
    "    try:\n",
    "        if 0 <= length <= 1000:\n",
    "            return 'Under 1 km'\n",
    "        elif 1000 <= length <= 2000:\n",
    "            return 'Under 2 km'\n",
    "        elif 2000 <= length <= 3000:\n",
    "            return 'Under 3 km'\n",
    "        elif 3000 <= length <= 4000:\n",
    "            return 'Under 4 km'\n",
    "        elif 4000 <= length <= 5000:\n",
    "            return 'Under 5 km'\n",
    "        elif 5000 <= length <= 6000:\n",
    "            return 'Under 6 km'\n",
    "        elif 6000 <= length <= 7000:\n",
    "            return 'Under 7 km'\n",
    "        elif length >= 7000:\n",
    "            return 'Under 8 km'\n",
    "    except:\n",
    "        pass\n",
    "\n",
    "rides['distance_category'] = rides['distance'].apply(distance)"
   ]
  },
  {
   "cell_type": "code",
   "execution_count": 24,
   "id": "97e9bd86",
   "metadata": {
    "scrolled": true
   },
   "outputs": [
    {
     "data": {
      "text/html": [
       "<div>\n",
       "<style scoped>\n",
       "    .dataframe tbody tr th:only-of-type {\n",
       "        vertical-align: middle;\n",
       "    }\n",
       "\n",
       "    .dataframe tbody tr th {\n",
       "        vertical-align: top;\n",
       "    }\n",
       "\n",
       "    .dataframe thead th {\n",
       "        text-align: right;\n",
       "    }\n",
       "</style>\n",
       "<table border=\"1\" class=\"dataframe\">\n",
       "  <thead>\n",
       "    <tr style=\"text-align: right;\">\n",
       "      <th></th>\n",
       "      <th>user_id</th>\n",
       "      <th>distance</th>\n",
       "      <th>duration</th>\n",
       "      <th>date</th>\n",
       "      <th>month</th>\n",
       "      <th>distance_category</th>\n",
       "    </tr>\n",
       "  </thead>\n",
       "  <tbody>\n",
       "    <tr>\n",
       "      <th>0</th>\n",
       "      <td>1</td>\n",
       "      <td>4409.919140</td>\n",
       "      <td>25.599769</td>\n",
       "      <td>2021-01-01</td>\n",
       "      <td>1</td>\n",
       "      <td>Under 5 km</td>\n",
       "    </tr>\n",
       "    <tr>\n",
       "      <th>1</th>\n",
       "      <td>1</td>\n",
       "      <td>2617.592153</td>\n",
       "      <td>15.816871</td>\n",
       "      <td>2021-01-18</td>\n",
       "      <td>1</td>\n",
       "      <td>Under 3 km</td>\n",
       "    </tr>\n",
       "    <tr>\n",
       "      <th>2</th>\n",
       "      <td>1</td>\n",
       "      <td>754.159807</td>\n",
       "      <td>6.232113</td>\n",
       "      <td>2021-04-20</td>\n",
       "      <td>4</td>\n",
       "      <td>Under 1 km</td>\n",
       "    </tr>\n",
       "    <tr>\n",
       "      <th>3</th>\n",
       "      <td>1</td>\n",
       "      <td>2694.783254</td>\n",
       "      <td>18.511000</td>\n",
       "      <td>2021-08-11</td>\n",
       "      <td>8</td>\n",
       "      <td>Under 3 km</td>\n",
       "    </tr>\n",
       "    <tr>\n",
       "      <th>4</th>\n",
       "      <td>1</td>\n",
       "      <td>4028.687306</td>\n",
       "      <td>26.265803</td>\n",
       "      <td>2021-08-28</td>\n",
       "      <td>8</td>\n",
       "      <td>Under 5 km</td>\n",
       "    </tr>\n",
       "  </tbody>\n",
       "</table>\n",
       "</div>"
      ],
      "text/plain": [
       "   user_id     distance   duration       date  month distance_category\n",
       "0        1  4409.919140  25.599769 2021-01-01      1        Under 5 km\n",
       "1        1  2617.592153  15.816871 2021-01-18      1        Under 3 km\n",
       "2        1   754.159807   6.232113 2021-04-20      4        Under 1 km\n",
       "3        1  2694.783254  18.511000 2021-08-11      8        Under 3 km\n",
       "4        1  4028.687306  26.265803 2021-08-28      8        Under 5 km"
      ]
     },
     "execution_count": 24,
     "metadata": {},
     "output_type": "execute_result"
    }
   ],
   "source": [
    "# Выведем первые 5 строк для проверки\n",
    "rides.head(5)"
   ]
  },
  {
   "cell_type": "markdown",
   "id": "3259bb04",
   "metadata": {},
   "source": [
    "Заменим значение в 0.5 минуты в столбце `duration` на медианное значение в зависимости от категории пройденного расстояния:"
   ]
  },
  {
   "cell_type": "code",
   "execution_count": 25,
   "id": "1863d1a1",
   "metadata": {},
   "outputs": [],
   "source": [
    "for t in rides['distance_category'].unique():\n",
    "    rides.loc[(rides['distance_category'] == t) & (rides['duration'] == 0.5), 'duration'] = \\\n",
    "    rides.loc[(rides['distance_category'] == t), 'duration'].median()"
   ]
  },
  {
   "cell_type": "markdown",
   "id": "a9324f15",
   "metadata": {},
   "source": [
    "Заново построим гистограмму:"
   ]
  },
  {
   "cell_type": "code",
   "execution_count": 26,
   "id": "2f9b9a14",
   "metadata": {},
   "outputs": [
    {
     "data": {
      "image/png": "[encoded data removed]",
      "text/plain": [
       "<Figure size 640x480 with 1 Axes>"
      ]
     },
     "metadata": {},
     "output_type": "display_data"
    }
   ],
   "source": [
    "rides['duration'].hist(bins = 120).set(title='Распределение продолжительности поездок', \n",
    "                                       xlabel = 'Продолжительность поездок, мин.', \n",
    "                                       ylabel = 'Количество поездок');"
   ]
  },
  {
   "cell_type": "markdown",
   "id": "f47e5585",
   "metadata": {},
   "source": [
    "Основные данные не сильно изменились, наиболее часто встречающаяся продолжительность поездок составиляет от 12 до 22 минут.\n",
    "Минимальная продолжительность поездки составляет около 2 минут, максимальная - около 42 минут. При этом пик ошибочных значений около 0 устранен. "
   ]
  },
  {
   "cell_type": "markdown",
   "id": "4ef51331",
   "metadata": {},
   "source": [
    "## Объединение данных"
   ]
  },
  {
   "cell_type": "markdown",
   "id": "3e1837ad",
   "metadata": {},
   "source": [
    "Объединение данные о пользователях, поездках и подписках в один датафрейм с помощью метода merge()."
   ]
  },
  {
   "cell_type": "code",
   "execution_count": 27,
   "id": "1c0ec55f-36c0-494f-8a7b-1532df0b8340",
   "metadata": {},
   "outputs": [
    {
     "data": {
      "text/html": [
       "<div>\n",
       "<style scoped>\n",
       "    .dataframe tbody tr th:only-of-type {\n",
       "        vertical-align: middle;\n",
       "    }\n",
       "\n",
       "    .dataframe tbody tr th {\n",
       "        vertical-align: top;\n",
       "    }\n",
       "\n",
       "    .dataframe thead th {\n",
       "        text-align: right;\n",
       "    }\n",
       "</style>\n",
       "<table border=\"1\" class=\"dataframe\">\n",
       "  <thead>\n",
       "    <tr style=\"text-align: right;\">\n",
       "      <th></th>\n",
       "      <th>user_id</th>\n",
       "      <th>distance</th>\n",
       "      <th>duration</th>\n",
       "      <th>date</th>\n",
       "      <th>month</th>\n",
       "      <th>distance_category</th>\n",
       "      <th>index</th>\n",
       "      <th>name</th>\n",
       "      <th>age</th>\n",
       "      <th>city</th>\n",
       "      <th>subscription_type</th>\n",
       "      <th>minute_price</th>\n",
       "      <th>start_ride_price</th>\n",
       "      <th>subscription_fee</th>\n",
       "    </tr>\n",
       "  </thead>\n",
       "  <tbody>\n",
       "    <tr>\n",
       "      <th>0</th>\n",
       "      <td>1</td>\n",
       "      <td>4409.919140</td>\n",
       "      <td>25.599769</td>\n",
       "      <td>2021-01-01</td>\n",
       "      <td>1</td>\n",
       "      <td>Under 5 km</td>\n",
       "      <td>0</td>\n",
       "      <td>Кира</td>\n",
       "      <td>22</td>\n",
       "      <td>Тюмень</td>\n",
       "      <td>ultra</td>\n",
       "      <td>6</td>\n",
       "      <td>0</td>\n",
       "      <td>199</td>\n",
       "    </tr>\n",
       "    <tr>\n",
       "      <th>1</th>\n",
       "      <td>1</td>\n",
       "      <td>2617.592153</td>\n",
       "      <td>15.816871</td>\n",
       "      <td>2021-01-18</td>\n",
       "      <td>1</td>\n",
       "      <td>Under 3 km</td>\n",
       "      <td>0</td>\n",
       "      <td>Кира</td>\n",
       "      <td>22</td>\n",
       "      <td>Тюмень</td>\n",
       "      <td>ultra</td>\n",
       "      <td>6</td>\n",
       "      <td>0</td>\n",
       "      <td>199</td>\n",
       "    </tr>\n",
       "    <tr>\n",
       "      <th>2</th>\n",
       "      <td>1</td>\n",
       "      <td>754.159807</td>\n",
       "      <td>6.232113</td>\n",
       "      <td>2021-04-20</td>\n",
       "      <td>4</td>\n",
       "      <td>Under 1 km</td>\n",
       "      <td>0</td>\n",
       "      <td>Кира</td>\n",
       "      <td>22</td>\n",
       "      <td>Тюмень</td>\n",
       "      <td>ultra</td>\n",
       "      <td>6</td>\n",
       "      <td>0</td>\n",
       "      <td>199</td>\n",
       "    </tr>\n",
       "    <tr>\n",
       "      <th>3</th>\n",
       "      <td>1</td>\n",
       "      <td>2694.783254</td>\n",
       "      <td>18.511000</td>\n",
       "      <td>2021-08-11</td>\n",
       "      <td>8</td>\n",
       "      <td>Under 3 km</td>\n",
       "      <td>0</td>\n",
       "      <td>Кира</td>\n",
       "      <td>22</td>\n",
       "      <td>Тюмень</td>\n",
       "      <td>ultra</td>\n",
       "      <td>6</td>\n",
       "      <td>0</td>\n",
       "      <td>199</td>\n",
       "    </tr>\n",
       "    <tr>\n",
       "      <th>4</th>\n",
       "      <td>1</td>\n",
       "      <td>4028.687306</td>\n",
       "      <td>26.265803</td>\n",
       "      <td>2021-08-28</td>\n",
       "      <td>8</td>\n",
       "      <td>Under 5 km</td>\n",
       "      <td>0</td>\n",
       "      <td>Кира</td>\n",
       "      <td>22</td>\n",
       "      <td>Тюмень</td>\n",
       "      <td>ultra</td>\n",
       "      <td>6</td>\n",
       "      <td>0</td>\n",
       "      <td>199</td>\n",
       "    </tr>\n",
       "  </tbody>\n",
       "</table>\n",
       "</div>"
      ],
      "text/plain": [
       "   user_id     distance   duration       date  month distance_category  index  \\\n",
       "0        1  4409.919140  25.599769 2021-01-01      1        Under 5 km      0   \n",
       "1        1  2617.592153  15.816871 2021-01-18      1        Under 3 km      0   \n",
       "2        1   754.159807   6.232113 2021-04-20      4        Under 1 km      0   \n",
       "3        1  2694.783254  18.511000 2021-08-11      8        Under 3 km      0   \n",
       "4        1  4028.687306  26.265803 2021-08-28      8        Under 5 km      0   \n",
       "\n",
       "   name  age    city subscription_type  minute_price  start_ride_price  \\\n",
       "0  Кира   22  Тюмень             ultra             6                 0   \n",
       "1  Кира   22  Тюмень             ultra             6                 0   \n",
       "2  Кира   22  Тюмень             ultra             6                 0   \n",
       "3  Кира   22  Тюмень             ultra             6                 0   \n",
       "4  Кира   22  Тюмень             ultra             6                 0   \n",
       "\n",
       "   subscription_fee  \n",
       "0               199  \n",
       "1               199  \n",
       "2               199  \n",
       "3               199  \n",
       "4               199  "
      ]
     },
     "execution_count": 27,
     "metadata": {},
     "output_type": "execute_result"
    }
   ],
   "source": [
    "data = rides.merge(users, \n",
    "                   on='user_id', \n",
    "                   how='left').merge(subscriptions, \n",
    "                                     on='subscription_type', \n",
    "                                     how='left')\n",
    "data.head(5)"
   ]
  },
  {
   "cell_type": "markdown",
   "id": "069d9fbb",
   "metadata": {},
   "source": [
    "Самый длинный исходный датафрейм `rides` содержал 18086 строк, проверим, что количество строк в объединенном датафрейме совпадает с этим значением:"
   ]
  },
  {
   "cell_type": "code",
   "execution_count": 28,
   "id": "82b852ed",
   "metadata": {},
   "outputs": [
    {
     "name": "stdout",
     "output_type": "stream",
     "text": [
      "<class 'pandas.core.frame.DataFrame'>\n",
      "RangeIndex: 18068 entries, 0 to 18067\n",
      "Data columns (total 14 columns):\n",
      " #   Column             Non-Null Count  Dtype         \n",
      "---  ------             --------------  -----         \n",
      " 0   user_id            18068 non-null  int64         \n",
      " 1   distance           18068 non-null  float64       \n",
      " 2   duration           18068 non-null  float64       \n",
      " 3   date               18068 non-null  datetime64[ns]\n",
      " 4   month              18068 non-null  int32         \n",
      " 5   distance_category  18068 non-null  object        \n",
      " 6   index              18068 non-null  int64         \n",
      " 7   name               18068 non-null  object        \n",
      " 8   age                18068 non-null  int64         \n",
      " 9   city               18068 non-null  object        \n",
      " 10  subscription_type  18068 non-null  object        \n",
      " 11  minute_price       18068 non-null  int64         \n",
      " 12  start_ride_price   18068 non-null  int64         \n",
      " 13  subscription_fee   18068 non-null  int64         \n",
      "dtypes: datetime64[ns](1), float64(2), int32(1), int64(6), object(4)\n",
      "memory usage: 1.9+ MB\n"
     ]
    }
   ],
   "source": [
    "data.info()"
   ]
  },
  {
   "cell_type": "markdown",
   "id": "b4d8619c",
   "metadata": {},
   "source": [
    "Объединенный датафрейм `data` содержит все необходимые на данном этапе анализа столбцы и строки, пропущенные значения отсутствуют."
   ]
  },
  {
   "cell_type": "markdown",
   "id": "a034f4fb-48d5-4e9b-9a96-d90e451255c0",
   "metadata": {},
   "source": [
    "## Сравнение пользователей с подпиской и без"
   ]
  },
  {
   "cell_type": "markdown",
   "id": "2facec1d",
   "metadata": {},
   "source": [
    "Визуализируем данные о **расстоянии, которое проезжают пользователи с подпиской и без**, путем построения гистограммы:"
   ]
  },
  {
   "cell_type": "code",
   "execution_count": 29,
   "id": "0fa45b26",
   "metadata": {},
   "outputs": [
    {
     "data": {
      "image/png": "[encoded data removed]",
      "text/plain": [
       "<Figure size 640x480 with 1 Axes>"
      ]
     },
     "metadata": {},
     "output_type": "display_data"
    }
   ],
   "source": [
    "# Построение гистограммы для пользователем без подписки\n",
    "ax = data.loc[data['subscription_type'] == 'free']['distance'].plot(\n",
    "    kind='hist',\n",
    "    range=(0, 7000),\n",
    "    bins=120,\n",
    "    linewidth=5,\n",
    "    alpha=0.7,\n",
    "    label='Без подписки',\n",
    "    legend=True,\n",
    ")\n",
    "\n",
    "# Построение гистограммы для пользователем с подпиской\n",
    "data.loc[data['subscription_type'] == 'ultra']['distance'].plot(\n",
    "    kind='hist',\n",
    "    range=(0, 7000),\n",
    "    bins=120,\n",
    "    linewidth=5,\n",
    "    alpha=0.7,\n",
    "    label='С подпиской',\n",
    "    ax=ax,\n",
    "    grid=True,\n",
    "    legend=True, \n",
    "); \n",
    "\n",
    "# Добавление заголовка и подписей осей\n",
    "ax.set(title='Распределение преодолеваемого расстояния', \n",
    "       xlabel = 'Преодолеваемое расстояние, м', \n",
    "       ylabel = 'Количество поездок');"
   ]
  },
  {
   "cell_type": "markdown",
   "id": "f5a4390e",
   "metadata": {},
   "source": [
    "Хотя количество пользователей с подпиской и без сопоставимо (699 и 835 соответственно), пользователи без подписки значительно чаще пользуются услугами сервиса. \n",
    "\n",
    "Пользователи без подписки наиболее часто проезжают расстояние от 2,2 до 4 км (на диаграмме отражено в виде плато).\n",
    "\n",
    "Пользователи с подпиской чаще проезжают 3 км (на диаграмме отражено резким пиком). "
   ]
  },
  {
   "cell_type": "markdown",
   "id": "682d74e9",
   "metadata": {},
   "source": [
    "Визуализируем данные о **продолжительности поездок пользователей с подпиской и без**, путем построения гистограммы:"
   ]
  },
  {
   "cell_type": "code",
   "execution_count": 30,
   "id": "02da1b0e",
   "metadata": {},
   "outputs": [
    {
     "data": {
      "image/png": "[encoded data removed]",
      "text/plain": [
       "<Figure size 640x480 with 1 Axes>"
      ]
     },
     "metadata": {},
     "output_type": "display_data"
    }
   ],
   "source": [
    "# Построение гистограммы для пользователем без подписки\n",
    "ax = data.loc[data['subscription_type'] == 'free']['duration'].plot(\n",
    "    kind='hist',\n",
    "    range=(0, 45),\n",
    "    bins=120,\n",
    "    linewidth=5,\n",
    "    alpha=0.7,\n",
    "    label='Без подписки',\n",
    "    legend=True,\n",
    ")\n",
    "\n",
    "# Построение гистограммы для пользователем с подпиской\n",
    "data.loc[data['subscription_type'] == 'ultra']['duration'].plot(\n",
    "    kind='hist',\n",
    "    range=(0, 45),\n",
    "    bins=120,\n",
    "    linewidth=5,\n",
    "    alpha=0.7,\n",
    "    label='С подпиской',\n",
    "    ax=ax,\n",
    "    grid=True,\n",
    "    legend=True,\n",
    "); \n",
    "\n",
    "# Добавление заголовка и подписей осей\n",
    "ax.set(title='Распределение продолжительности поездок', \n",
    "       xlabel = 'Продолжительность поездок, мин.', \n",
    "       ylabel = 'Количество поездок');"
   ]
  },
  {
   "cell_type": "markdown",
   "id": "800a517c",
   "metadata": {},
   "source": [
    "Гистограммы пользователей с подпиской и без практически совпадают по форме, то есть распределение значений в них схоже. Различие обусловлено только разным количеством данных: количество поездок пользователей без подписки сильно больше. Для тех и других самое распространенное время проката самоката от 12 до 22 минут."
   ]
  },
  {
   "cell_type": "markdown",
   "id": "919ba465-3d1f-46b0-a2ef-a21ded1344e4",
   "metadata": {},
   "source": [
    "## Расчет помесячной выручки"
   ]
  },
  {
   "cell_type": "markdown",
   "id": "b4ec8935",
   "metadata": {},
   "source": [
    "**Создадим датафрейм с агрегированными данными о поездках:**\n",
    "найдем суммарное расстояние, количество поездок и суммарное время для каждого пользователя за каждый месяц."
   ]
  },
  {
   "cell_type": "code",
   "execution_count": 31,
   "id": "61cde1f4",
   "metadata": {},
   "outputs": [],
   "source": [
    "# Предварительно округлим продолжительность каждой поездки с помощью метода `np.ceil()`:\n",
    "data['duration'] = np.ceil(data['duration']) "
   ]
  },
  {
   "cell_type": "code",
   "execution_count": 32,
   "id": "e771fae1-073c-411b-ab74-bdbb52e64be5",
   "metadata": {},
   "outputs": [
    {
     "data": {
      "text/html": [
       "<div>\n",
       "<style scoped>\n",
       "    .dataframe tbody tr th:only-of-type {\n",
       "        vertical-align: middle;\n",
       "    }\n",
       "\n",
       "    .dataframe tbody tr th {\n",
       "        vertical-align: top;\n",
       "    }\n",
       "\n",
       "    .dataframe thead th {\n",
       "        text-align: right;\n",
       "    }\n",
       "</style>\n",
       "<table border=\"1\" class=\"dataframe\">\n",
       "  <thead>\n",
       "    <tr style=\"text-align: right;\">\n",
       "      <th></th>\n",
       "      <th>user_id</th>\n",
       "      <th>month</th>\n",
       "      <th>distance</th>\n",
       "      <th>duration</th>\n",
       "      <th>rides</th>\n",
       "    </tr>\n",
       "  </thead>\n",
       "  <tbody>\n",
       "    <tr>\n",
       "      <th>0</th>\n",
       "      <td>1</td>\n",
       "      <td>1</td>\n",
       "      <td>7027.511294</td>\n",
       "      <td>42.0</td>\n",
       "      <td>2</td>\n",
       "    </tr>\n",
       "    <tr>\n",
       "      <th>1</th>\n",
       "      <td>1</td>\n",
       "      <td>4</td>\n",
       "      <td>754.159807</td>\n",
       "      <td>7.0</td>\n",
       "      <td>1</td>\n",
       "    </tr>\n",
       "    <tr>\n",
       "      <th>2</th>\n",
       "      <td>1</td>\n",
       "      <td>8</td>\n",
       "      <td>6723.470560</td>\n",
       "      <td>46.0</td>\n",
       "      <td>2</td>\n",
       "    </tr>\n",
       "    <tr>\n",
       "      <th>3</th>\n",
       "      <td>1</td>\n",
       "      <td>10</td>\n",
       "      <td>5809.911100</td>\n",
       "      <td>32.0</td>\n",
       "      <td>2</td>\n",
       "    </tr>\n",
       "    <tr>\n",
       "      <th>4</th>\n",
       "      <td>1</td>\n",
       "      <td>11</td>\n",
       "      <td>7003.499363</td>\n",
       "      <td>56.0</td>\n",
       "      <td>3</td>\n",
       "    </tr>\n",
       "    <tr>\n",
       "      <th>5</th>\n",
       "      <td>1</td>\n",
       "      <td>12</td>\n",
       "      <td>6751.629942</td>\n",
       "      <td>28.0</td>\n",
       "      <td>2</td>\n",
       "    </tr>\n",
       "    <tr>\n",
       "      <th>6</th>\n",
       "      <td>2</td>\n",
       "      <td>3</td>\n",
       "      <td>10187.723006</td>\n",
       "      <td>63.0</td>\n",
       "      <td>3</td>\n",
       "    </tr>\n",
       "    <tr>\n",
       "      <th>7</th>\n",
       "      <td>2</td>\n",
       "      <td>4</td>\n",
       "      <td>6164.381824</td>\n",
       "      <td>40.0</td>\n",
       "      <td>2</td>\n",
       "    </tr>\n",
       "    <tr>\n",
       "      <th>8</th>\n",
       "      <td>2</td>\n",
       "      <td>6</td>\n",
       "      <td>3255.338202</td>\n",
       "      <td>14.0</td>\n",
       "      <td>1</td>\n",
       "    </tr>\n",
       "    <tr>\n",
       "      <th>9</th>\n",
       "      <td>2</td>\n",
       "      <td>7</td>\n",
       "      <td>6780.722964</td>\n",
       "      <td>48.0</td>\n",
       "      <td>2</td>\n",
       "    </tr>\n",
       "  </tbody>\n",
       "</table>\n",
       "</div>"
      ],
      "text/plain": [
       "   user_id  month      distance  duration  rides\n",
       "0        1      1   7027.511294      42.0      2\n",
       "1        1      4    754.159807       7.0      1\n",
       "2        1      8   6723.470560      46.0      2\n",
       "3        1     10   5809.911100      32.0      2\n",
       "4        1     11   7003.499363      56.0      3\n",
       "5        1     12   6751.629942      28.0      2\n",
       "6        2      3  10187.723006      63.0      3\n",
       "7        2      4   6164.381824      40.0      2\n",
       "8        2      6   3255.338202      14.0      1\n",
       "9        2      7   6780.722964      48.0      2"
      ]
     },
     "execution_count": 32,
     "metadata": {},
     "output_type": "execute_result"
    }
   ],
   "source": [
    "data_pivot = data.pivot_table(index=['user_id', 'month'],\n",
    "                              values=['distance', 'duration'],\n",
    "                              aggfunc={'distance': 'sum', 'duration': 'sum', 'month': 'count'})\n",
    "\n",
    "data_pivot = data_pivot.rename(columns={'month': 'rides'})\n",
    "data_pivot = data_pivot.reset_index()\n",
    "data_pivot.head(10)"
   ]
  },
  {
   "cell_type": "markdown",
   "id": "da9e8600",
   "metadata": {},
   "source": [
    "**Добавим в получившийся датафрейм столбец с помесячной выручкой, которую принёс каждый пользователь.**"
   ]
  },
  {
   "cell_type": "markdown",
   "id": "1b80d000",
   "metadata": {},
   "source": [
    "Создадим промежуточный датафрейм `df1`, в котором содержится информация о типе и стоимости подписки для каждого пользователя:"
   ]
  },
  {
   "cell_type": "code",
   "execution_count": 33,
   "id": "0540a137",
   "metadata": {
    "scrolled": true
   },
   "outputs": [
    {
     "data": {
      "text/html": [
       "<div>\n",
       "<style scoped>\n",
       "    .dataframe tbody tr th:only-of-type {\n",
       "        vertical-align: middle;\n",
       "    }\n",
       "\n",
       "    .dataframe tbody tr th {\n",
       "        vertical-align: top;\n",
       "    }\n",
       "\n",
       "    .dataframe thead th {\n",
       "        text-align: right;\n",
       "    }\n",
       "</style>\n",
       "<table border=\"1\" class=\"dataframe\">\n",
       "  <thead>\n",
       "    <tr style=\"text-align: right;\">\n",
       "      <th></th>\n",
       "      <th>user_id</th>\n",
       "      <th>subscription_type</th>\n",
       "      <th>minute_price</th>\n",
       "      <th>start_ride_price</th>\n",
       "      <th>subscription_fee</th>\n",
       "    </tr>\n",
       "  </thead>\n",
       "  <tbody>\n",
       "    <tr>\n",
       "      <th>0</th>\n",
       "      <td>1</td>\n",
       "      <td>ultra</td>\n",
       "      <td>6</td>\n",
       "      <td>0</td>\n",
       "      <td>199</td>\n",
       "    </tr>\n",
       "    <tr>\n",
       "      <th>1</th>\n",
       "      <td>2</td>\n",
       "      <td>ultra</td>\n",
       "      <td>6</td>\n",
       "      <td>0</td>\n",
       "      <td>199</td>\n",
       "    </tr>\n",
       "    <tr>\n",
       "      <th>2</th>\n",
       "      <td>3</td>\n",
       "      <td>ultra</td>\n",
       "      <td>6</td>\n",
       "      <td>0</td>\n",
       "      <td>199</td>\n",
       "    </tr>\n",
       "    <tr>\n",
       "      <th>3</th>\n",
       "      <td>4</td>\n",
       "      <td>ultra</td>\n",
       "      <td>6</td>\n",
       "      <td>0</td>\n",
       "      <td>199</td>\n",
       "    </tr>\n",
       "    <tr>\n",
       "      <th>4</th>\n",
       "      <td>5</td>\n",
       "      <td>ultra</td>\n",
       "      <td>6</td>\n",
       "      <td>0</td>\n",
       "      <td>199</td>\n",
       "    </tr>\n",
       "  </tbody>\n",
       "</table>\n",
       "</div>"
      ],
      "text/plain": [
       "   user_id subscription_type  minute_price  start_ride_price  subscription_fee\n",
       "0        1             ultra             6                 0               199\n",
       "1        2             ultra             6                 0               199\n",
       "2        3             ultra             6                 0               199\n",
       "3        4             ultra             6                 0               199\n",
       "4        5             ultra             6                 0               199"
      ]
     },
     "execution_count": 33,
     "metadata": {},
     "output_type": "execute_result"
    }
   ],
   "source": [
    "df1 = data.loc[:, ['user_id', 'subscription_type', 'minute_price', 'start_ride_price', 'subscription_fee']]\n",
    "df1 = df1.drop_duplicates().reset_index(drop=True)\n",
    "df1.head(5)"
   ]
  },
  {
   "cell_type": "markdown",
   "id": "3c5043f6",
   "metadata": {},
   "source": [
    "Присоединим данные из промежуточного датафрейма `df1` к `pivot_table`:"
   ]
  },
  {
   "cell_type": "code",
   "execution_count": 34,
   "id": "fce7de00",
   "metadata": {
    "scrolled": true
   },
   "outputs": [
    {
     "data": {
      "text/html": [
       "<div>\n",
       "<style scoped>\n",
       "    .dataframe tbody tr th:only-of-type {\n",
       "        vertical-align: middle;\n",
       "    }\n",
       "\n",
       "    .dataframe tbody tr th {\n",
       "        vertical-align: top;\n",
       "    }\n",
       "\n",
       "    .dataframe thead th {\n",
       "        text-align: right;\n",
       "    }\n",
       "</style>\n",
       "<table border=\"1\" class=\"dataframe\">\n",
       "  <thead>\n",
       "    <tr style=\"text-align: right;\">\n",
       "      <th></th>\n",
       "      <th>user_id</th>\n",
       "      <th>month</th>\n",
       "      <th>distance</th>\n",
       "      <th>duration</th>\n",
       "      <th>rides</th>\n",
       "      <th>subscription_type</th>\n",
       "      <th>minute_price</th>\n",
       "      <th>start_ride_price</th>\n",
       "      <th>subscription_fee</th>\n",
       "    </tr>\n",
       "  </thead>\n",
       "  <tbody>\n",
       "    <tr>\n",
       "      <th>0</th>\n",
       "      <td>1</td>\n",
       "      <td>1</td>\n",
       "      <td>7027.511294</td>\n",
       "      <td>42.0</td>\n",
       "      <td>2</td>\n",
       "      <td>ultra</td>\n",
       "      <td>6</td>\n",
       "      <td>0</td>\n",
       "      <td>199</td>\n",
       "    </tr>\n",
       "    <tr>\n",
       "      <th>1</th>\n",
       "      <td>1</td>\n",
       "      <td>4</td>\n",
       "      <td>754.159807</td>\n",
       "      <td>7.0</td>\n",
       "      <td>1</td>\n",
       "      <td>ultra</td>\n",
       "      <td>6</td>\n",
       "      <td>0</td>\n",
       "      <td>199</td>\n",
       "    </tr>\n",
       "    <tr>\n",
       "      <th>2</th>\n",
       "      <td>1</td>\n",
       "      <td>8</td>\n",
       "      <td>6723.470560</td>\n",
       "      <td>46.0</td>\n",
       "      <td>2</td>\n",
       "      <td>ultra</td>\n",
       "      <td>6</td>\n",
       "      <td>0</td>\n",
       "      <td>199</td>\n",
       "    </tr>\n",
       "    <tr>\n",
       "      <th>3</th>\n",
       "      <td>1</td>\n",
       "      <td>10</td>\n",
       "      <td>5809.911100</td>\n",
       "      <td>32.0</td>\n",
       "      <td>2</td>\n",
       "      <td>ultra</td>\n",
       "      <td>6</td>\n",
       "      <td>0</td>\n",
       "      <td>199</td>\n",
       "    </tr>\n",
       "    <tr>\n",
       "      <th>4</th>\n",
       "      <td>1</td>\n",
       "      <td>11</td>\n",
       "      <td>7003.499363</td>\n",
       "      <td>56.0</td>\n",
       "      <td>3</td>\n",
       "      <td>ultra</td>\n",
       "      <td>6</td>\n",
       "      <td>0</td>\n",
       "      <td>199</td>\n",
       "    </tr>\n",
       "    <tr>\n",
       "      <th>5</th>\n",
       "      <td>1</td>\n",
       "      <td>12</td>\n",
       "      <td>6751.629942</td>\n",
       "      <td>28.0</td>\n",
       "      <td>2</td>\n",
       "      <td>ultra</td>\n",
       "      <td>6</td>\n",
       "      <td>0</td>\n",
       "      <td>199</td>\n",
       "    </tr>\n",
       "    <tr>\n",
       "      <th>6</th>\n",
       "      <td>2</td>\n",
       "      <td>3</td>\n",
       "      <td>10187.723006</td>\n",
       "      <td>63.0</td>\n",
       "      <td>3</td>\n",
       "      <td>ultra</td>\n",
       "      <td>6</td>\n",
       "      <td>0</td>\n",
       "      <td>199</td>\n",
       "    </tr>\n",
       "    <tr>\n",
       "      <th>7</th>\n",
       "      <td>2</td>\n",
       "      <td>4</td>\n",
       "      <td>6164.381824</td>\n",
       "      <td>40.0</td>\n",
       "      <td>2</td>\n",
       "      <td>ultra</td>\n",
       "      <td>6</td>\n",
       "      <td>0</td>\n",
       "      <td>199</td>\n",
       "    </tr>\n",
       "    <tr>\n",
       "      <th>8</th>\n",
       "      <td>2</td>\n",
       "      <td>6</td>\n",
       "      <td>3255.338202</td>\n",
       "      <td>14.0</td>\n",
       "      <td>1</td>\n",
       "      <td>ultra</td>\n",
       "      <td>6</td>\n",
       "      <td>0</td>\n",
       "      <td>199</td>\n",
       "    </tr>\n",
       "    <tr>\n",
       "      <th>9</th>\n",
       "      <td>2</td>\n",
       "      <td>7</td>\n",
       "      <td>6780.722964</td>\n",
       "      <td>48.0</td>\n",
       "      <td>2</td>\n",
       "      <td>ultra</td>\n",
       "      <td>6</td>\n",
       "      <td>0</td>\n",
       "      <td>199</td>\n",
       "    </tr>\n",
       "  </tbody>\n",
       "</table>\n",
       "</div>"
      ],
      "text/plain": [
       "   user_id  month      distance  duration  rides subscription_type  \\\n",
       "0        1      1   7027.511294      42.0      2             ultra   \n",
       "1        1      4    754.159807       7.0      1             ultra   \n",
       "2        1      8   6723.470560      46.0      2             ultra   \n",
       "3        1     10   5809.911100      32.0      2             ultra   \n",
       "4        1     11   7003.499363      56.0      3             ultra   \n",
       "5        1     12   6751.629942      28.0      2             ultra   \n",
       "6        2      3  10187.723006      63.0      3             ultra   \n",
       "7        2      4   6164.381824      40.0      2             ultra   \n",
       "8        2      6   3255.338202      14.0      1             ultra   \n",
       "9        2      7   6780.722964      48.0      2             ultra   \n",
       "\n",
       "   minute_price  start_ride_price  subscription_fee  \n",
       "0             6                 0               199  \n",
       "1             6                 0               199  \n",
       "2             6                 0               199  \n",
       "3             6                 0               199  \n",
       "4             6                 0               199  \n",
       "5             6                 0               199  \n",
       "6             6                 0               199  \n",
       "7             6                 0               199  \n",
       "8             6                 0               199  \n",
       "9             6                 0               199  "
      ]
     },
     "execution_count": 34,
     "metadata": {},
     "output_type": "execute_result"
    }
   ],
   "source": [
    "data_pivot = data_pivot.merge(df1, on=['user_id'], how='right')\n",
    "data_pivot.head(10)"
   ]
  },
  {
   "cell_type": "markdown",
   "id": "5aecf837",
   "metadata": {},
   "source": [
    "Рассчитаем помесячнную выручку для каждого пользователя в датафрейме `data_pivot`:"
   ]
  },
  {
   "cell_type": "code",
   "execution_count": 35,
   "id": "4a13d355",
   "metadata": {},
   "outputs": [
    {
     "data": {
      "text/html": [
       "<div>\n",
       "<style scoped>\n",
       "    .dataframe tbody tr th:only-of-type {\n",
       "        vertical-align: middle;\n",
       "    }\n",
       "\n",
       "    .dataframe tbody tr th {\n",
       "        vertical-align: top;\n",
       "    }\n",
       "\n",
       "    .dataframe thead th {\n",
       "        text-align: right;\n",
       "    }\n",
       "</style>\n",
       "<table border=\"1\" class=\"dataframe\">\n",
       "  <thead>\n",
       "    <tr style=\"text-align: right;\">\n",
       "      <th></th>\n",
       "      <th>user_id</th>\n",
       "      <th>month</th>\n",
       "      <th>distance</th>\n",
       "      <th>duration</th>\n",
       "      <th>rides</th>\n",
       "      <th>subscription_type</th>\n",
       "      <th>minute_price</th>\n",
       "      <th>start_ride_price</th>\n",
       "      <th>subscription_fee</th>\n",
       "      <th>monthly_revenue</th>\n",
       "    </tr>\n",
       "  </thead>\n",
       "  <tbody>\n",
       "    <tr>\n",
       "      <th>0</th>\n",
       "      <td>1</td>\n",
       "      <td>1</td>\n",
       "      <td>7027.511294</td>\n",
       "      <td>42.0</td>\n",
       "      <td>2</td>\n",
       "      <td>ultra</td>\n",
       "      <td>6</td>\n",
       "      <td>0</td>\n",
       "      <td>199</td>\n",
       "      <td>451.0</td>\n",
       "    </tr>\n",
       "    <tr>\n",
       "      <th>1</th>\n",
       "      <td>1</td>\n",
       "      <td>4</td>\n",
       "      <td>754.159807</td>\n",
       "      <td>7.0</td>\n",
       "      <td>1</td>\n",
       "      <td>ultra</td>\n",
       "      <td>6</td>\n",
       "      <td>0</td>\n",
       "      <td>199</td>\n",
       "      <td>241.0</td>\n",
       "    </tr>\n",
       "    <tr>\n",
       "      <th>2</th>\n",
       "      <td>1</td>\n",
       "      <td>8</td>\n",
       "      <td>6723.470560</td>\n",
       "      <td>46.0</td>\n",
       "      <td>2</td>\n",
       "      <td>ultra</td>\n",
       "      <td>6</td>\n",
       "      <td>0</td>\n",
       "      <td>199</td>\n",
       "      <td>475.0</td>\n",
       "    </tr>\n",
       "    <tr>\n",
       "      <th>3</th>\n",
       "      <td>1</td>\n",
       "      <td>10</td>\n",
       "      <td>5809.911100</td>\n",
       "      <td>32.0</td>\n",
       "      <td>2</td>\n",
       "      <td>ultra</td>\n",
       "      <td>6</td>\n",
       "      <td>0</td>\n",
       "      <td>199</td>\n",
       "      <td>391.0</td>\n",
       "    </tr>\n",
       "    <tr>\n",
       "      <th>4</th>\n",
       "      <td>1</td>\n",
       "      <td>11</td>\n",
       "      <td>7003.499363</td>\n",
       "      <td>56.0</td>\n",
       "      <td>3</td>\n",
       "      <td>ultra</td>\n",
       "      <td>6</td>\n",
       "      <td>0</td>\n",
       "      <td>199</td>\n",
       "      <td>535.0</td>\n",
       "    </tr>\n",
       "    <tr>\n",
       "      <th>5</th>\n",
       "      <td>1</td>\n",
       "      <td>12</td>\n",
       "      <td>6751.629942</td>\n",
       "      <td>28.0</td>\n",
       "      <td>2</td>\n",
       "      <td>ultra</td>\n",
       "      <td>6</td>\n",
       "      <td>0</td>\n",
       "      <td>199</td>\n",
       "      <td>367.0</td>\n",
       "    </tr>\n",
       "    <tr>\n",
       "      <th>6</th>\n",
       "      <td>2</td>\n",
       "      <td>3</td>\n",
       "      <td>10187.723006</td>\n",
       "      <td>63.0</td>\n",
       "      <td>3</td>\n",
       "      <td>ultra</td>\n",
       "      <td>6</td>\n",
       "      <td>0</td>\n",
       "      <td>199</td>\n",
       "      <td>577.0</td>\n",
       "    </tr>\n",
       "    <tr>\n",
       "      <th>7</th>\n",
       "      <td>2</td>\n",
       "      <td>4</td>\n",
       "      <td>6164.381824</td>\n",
       "      <td>40.0</td>\n",
       "      <td>2</td>\n",
       "      <td>ultra</td>\n",
       "      <td>6</td>\n",
       "      <td>0</td>\n",
       "      <td>199</td>\n",
       "      <td>439.0</td>\n",
       "    </tr>\n",
       "    <tr>\n",
       "      <th>8</th>\n",
       "      <td>2</td>\n",
       "      <td>6</td>\n",
       "      <td>3255.338202</td>\n",
       "      <td>14.0</td>\n",
       "      <td>1</td>\n",
       "      <td>ultra</td>\n",
       "      <td>6</td>\n",
       "      <td>0</td>\n",
       "      <td>199</td>\n",
       "      <td>283.0</td>\n",
       "    </tr>\n",
       "    <tr>\n",
       "      <th>9</th>\n",
       "      <td>2</td>\n",
       "      <td>7</td>\n",
       "      <td>6780.722964</td>\n",
       "      <td>48.0</td>\n",
       "      <td>2</td>\n",
       "      <td>ultra</td>\n",
       "      <td>6</td>\n",
       "      <td>0</td>\n",
       "      <td>199</td>\n",
       "      <td>487.0</td>\n",
       "    </tr>\n",
       "  </tbody>\n",
       "</table>\n",
       "</div>"
      ],
      "text/plain": [
       "   user_id  month      distance  duration  rides subscription_type  \\\n",
       "0        1      1   7027.511294      42.0      2             ultra   \n",
       "1        1      4    754.159807       7.0      1             ultra   \n",
       "2        1      8   6723.470560      46.0      2             ultra   \n",
       "3        1     10   5809.911100      32.0      2             ultra   \n",
       "4        1     11   7003.499363      56.0      3             ultra   \n",
       "5        1     12   6751.629942      28.0      2             ultra   \n",
       "6        2      3  10187.723006      63.0      3             ultra   \n",
       "7        2      4   6164.381824      40.0      2             ultra   \n",
       "8        2      6   3255.338202      14.0      1             ultra   \n",
       "9        2      7   6780.722964      48.0      2             ultra   \n",
       "\n",
       "   minute_price  start_ride_price  subscription_fee  monthly_revenue  \n",
       "0             6                 0               199            451.0  \n",
       "1             6                 0               199            241.0  \n",
       "2             6                 0               199            475.0  \n",
       "3             6                 0               199            391.0  \n",
       "4             6                 0               199            535.0  \n",
       "5             6                 0               199            367.0  \n",
       "6             6                 0               199            577.0  \n",
       "7             6                 0               199            439.0  \n",
       "8             6                 0               199            283.0  \n",
       "9             6                 0               199            487.0  "
      ]
     },
     "execution_count": 35,
     "metadata": {},
     "output_type": "execute_result"
    }
   ],
   "source": [
    "data_pivot['monthly_revenue'] = data_pivot['minute_price'] * data_pivot['duration'] +\\\n",
    "                                data_pivot['subscription_fee'] + \\\n",
    "                                data_pivot['start_ride_price'] * data_pivot['rides']\n",
    "data_pivot.head(10)"
   ]
  },
  {
   "cell_type": "markdown",
   "id": "1fca0ee0",
   "metadata": {},
   "source": [
    "## Проверка гипотез"
   ]
  },
  {
   "cell_type": "markdown",
   "id": "bb688397-e24d-4869-9448-f4848c2c667f",
   "metadata": {},
   "source": [
    "### Гипотеза 1: пользователи с подпиской тратят больше времени на поездки, чем пользователи без подписки."
   ]
  },
  {
   "cell_type": "markdown",
   "id": "d7c0a5e6",
   "metadata": {},
   "source": [
    "Определим среднее значение продолжительности поездок для пользователей с подпиской:"
   ]
  },
  {
   "cell_type": "code",
   "execution_count": 36,
   "id": "663e01ec",
   "metadata": {},
   "outputs": [
    {
     "data": {
      "text/plain": [
       "19.04"
      ]
     },
     "execution_count": 36,
     "metadata": {},
     "output_type": "execute_result"
    }
   ],
   "source": [
    "(data.loc[data['subscription_type'] == 'ultra']['duration'].mean()).round(2)"
   ]
  },
  {
   "cell_type": "markdown",
   "id": "b5fbb77b",
   "metadata": {},
   "source": [
    "Определим среднее значение продолжительности поездок для пользователей без подписки:"
   ]
  },
  {
   "cell_type": "code",
   "execution_count": 37,
   "id": "4831ee89",
   "metadata": {
    "scrolled": true
   },
   "outputs": [
    {
     "data": {
      "text/plain": [
       "18.07"
      ]
     },
     "execution_count": 37,
     "metadata": {},
     "output_type": "execute_result"
    }
   ],
   "source": [
    "(data.loc[data['subscription_type'] == 'free']['duration'].mean()).round(2)"
   ]
  },
  {
   "cell_type": "markdown",
   "id": "8b088c26",
   "metadata": {},
   "source": [
    "В среднем пользователи с подпиской тратят на поездку примерно на 1 минуту больше, чем пользователи без подписки."
   ]
  },
  {
   "cell_type": "markdown",
   "id": "0eaf4e79",
   "metadata": {},
   "source": [
    "Дополнительно для проверки гипотезы о равенстве среднего двух генеральных совокупностей по взятым из них выборкам используем метод scipy.stats.ttest_ind(array1, array2, equal_var, alternative).\n",
    "\n",
    "**Нулевая гипотеза:** Пользователи с подпиской в среднем тратят столько же времени на поездки, сколько пользователи без подписки.\n",
    "\n",
    "**Альтернативная гипотеза:** Пользователи с подпиской тратят больше времени на поездки, чем пользователи без подписки."
   ]
  },
  {
   "cell_type": "code",
   "execution_count": 38,
   "id": "627021e8",
   "metadata": {
    "scrolled": true
   },
   "outputs": [
    {
     "name": "stdout",
     "output_type": "stream",
     "text": [
      "\n",
      "p-значение: 3.572796306092548e-27\n",
      "Отвергаем  нулевую гипотезу\n",
      "\n"
     ]
    }
   ],
   "source": [
    "alpha = 0.05 # уровень статистической значимости\n",
    "# если p-value окажется меньше него, отвергнем гипотезу\n",
    "\n",
    "results = st.ttest_ind(data.loc[data['subscription_type'] == 'ultra']['duration'], \n",
    "                       data.loc[data['subscription_type'] == 'free']['duration'], \n",
    "                       equal_var = False, \n",
    "                       alternative ='greater')\n",
    "\n",
    "print()\n",
    "print('p-значение:', results.pvalue)\n",
    "\n",
    "if results.pvalue < alpha:\n",
    "    print('Отвергаем  нулевую гипотезу')\n",
    "else:\n",
    "    print('Нет оснований отвергнуть нулевую гипотезу') \n",
    "print()"
   ]
  },
  {
   "cell_type": "markdown",
   "id": "8b2c3369",
   "metadata": {},
   "source": [
    "Поскольку нулевая гипотеза отвергнута, можно сделать вывод о том, что с большей вероятностью **пользователи с подпиской тратят больше времени на поездки, чем пользователи без подписки**."
   ]
  },
  {
   "cell_type": "markdown",
   "id": "78f41d30-2968-4c06-b70c-2104250f3819",
   "metadata": {},
   "source": [
    "### Гипотеза 2: Среднее расстояние, которое проезжают пользователи с подпиской за одну поездку, не превышает 3130 метров (оптимальное расстояние с точки зрения износа самоката)."
   ]
  },
  {
   "cell_type": "markdown",
   "id": "858b7a08",
   "metadata": {},
   "source": [
    "Посмотрим на среднее расстояние поездки для пользователей с подпиской:"
   ]
  },
  {
   "cell_type": "code",
   "execution_count": 39,
   "id": "bb3d442a",
   "metadata": {
    "scrolled": true
   },
   "outputs": [
    {
     "data": {
      "text/plain": [
       "3115.45"
      ]
     },
     "execution_count": 39,
     "metadata": {},
     "output_type": "execute_result"
    }
   ],
   "source": [
    "(data.loc[data['subscription_type'] == 'ultra']['distance'].mean()).round(2)"
   ]
  },
  {
   "cell_type": "markdown",
   "id": "e65f8466",
   "metadata": {},
   "source": [
    "Пользователи с подпиской в среднем проезжают чуть более 3115 метров, что меньше порогового значения в 3130 метров."
   ]
  },
  {
   "cell_type": "markdown",
   "id": "46879ffc",
   "metadata": {},
   "source": [
    "Дополнительно проверим одностороннюю гипотезу о равенстве среднего генеральной совокупности некоторому значению путем  метода scipy.stats.ttest_1samp().\n",
    "\n",
    "**Нулевая гипотеза:** Среднее расстояние, которое проезжают пользователи с подпиской за одну поездку, составляет 3130 метров.\n",
    "\n",
    "**Алтернативная гипотеза:** Среднее расстояние, которое проезжают пользователи с подпиской за одну поездку, менее 3130 метров."
   ]
  },
  {
   "cell_type": "code",
   "execution_count": 40,
   "id": "d5d87564",
   "metadata": {
    "scrolled": true
   },
   "outputs": [
    {
     "name": "stdout",
     "output_type": "stream",
     "text": [
      "\n",
      "p-значение: 0.3304213962773028\n",
      "Не получилось отвергнуть нулевую гипотезу\n",
      "\n"
     ]
    }
   ],
   "source": [
    "interested_value = 3120 # оптимальное для одной поездки расстояние с точки зрения износа самоката\n",
    "\n",
    "alpha = 0.05 # уровень статистической значимости\n",
    "\n",
    "results = st.ttest_1samp(data.loc[data['subscription_type'] == 'ultra']['distance'], \n",
    "                         interested_value,\n",
    "                         alternative='less') \n",
    "\n",
    "print()\n",
    "print('p-значение:', results.pvalue) \n",
    "\n",
    "if results.pvalue < alpha:\n",
    "    print('Отвергаем нулевую гипотезу')\n",
    "else:\n",
    "    print('Не получилось отвергнуть нулевую гипотезу')\n",
    "print()"
   ]
  },
  {
   "cell_type": "markdown",
   "id": "baefa329",
   "metadata": {},
   "source": [
    "Среднее и пороговое значения очень близки друг к другу, поэтому **с вероятностью 33% среднее значение, проезжаемое пользователем с подпиской, будет равно 3130**."
   ]
  },
  {
   "cell_type": "markdown",
   "id": "ff803e4c-34f2-4205-9625-3eb7d6b3c103",
   "metadata": {},
   "source": [
    "### Гипотеза 3: помесячная выручка от пользователей с подпиской выше, чем выручка от пользователей без подписки."
   ]
  },
  {
   "cell_type": "markdown",
   "id": "f3b5f2d5",
   "metadata": {},
   "source": [
    "Рассчитаем среднюю помесячную выручку от пользователей с подпиской:"
   ]
  },
  {
   "cell_type": "code",
   "execution_count": 41,
   "id": "86fa384f",
   "metadata": {},
   "outputs": [
    {
     "data": {
      "text/plain": [
       "362.79"
      ]
     },
     "execution_count": 41,
     "metadata": {},
     "output_type": "execute_result"
    }
   ],
   "source": [
    "(data_pivot.loc[data_pivot['subscription_type'] == 'ultra']['monthly_revenue'].mean()).round(2)"
   ]
  },
  {
   "cell_type": "markdown",
   "id": "0ab65e74",
   "metadata": {},
   "source": [
    "Рассчитаем среднюю помесячную выручку от пользователей без подписки:"
   ]
  },
  {
   "cell_type": "code",
   "execution_count": 42,
   "id": "cde88d77-a107-4a92-a592-1c7c2c2d5095",
   "metadata": {},
   "outputs": [
    {
     "data": {
      "text/plain": [
       "331.1"
      ]
     },
     "execution_count": 42,
     "metadata": {},
     "output_type": "execute_result"
    }
   ],
   "source": [
    "(data_pivot.loc[data_pivot['subscription_type'] == 'free']['monthly_revenue'].mean()).round(2)"
   ]
  },
  {
   "cell_type": "markdown",
   "id": "e67258dc",
   "metadata": {},
   "source": [
    "Пользователи с подпиской приносят в среднем на 33% выручки больше, чем пользователи без подписки."
   ]
  },
  {
   "cell_type": "markdown",
   "id": "6731c9a0",
   "metadata": {},
   "source": [
    "Дополнительно для проверки гипотезы о равенстве среднего двух генеральных совокупностей по взятым из них выборкам используем метод scipy.stats.ttest_ind(array1, array2, equal_var, alternative).\n",
    "\n",
    "**Нулевая гипотеза:** Помесячная выручка от пользователей с подпиской по месяцам равна выручке от пользователей без подписки.\n",
    "\n",
    "**Альтернативная гипотеза:** Помесячная выручка от пользователей с подпиской по месяцам выше, чем выручка от пользователей без подписки."
   ]
  },
  {
   "cell_type": "code",
   "execution_count": 43,
   "id": "4ed2b127",
   "metadata": {
    "scrolled": true
   },
   "outputs": [
    {
     "name": "stdout",
     "output_type": "stream",
     "text": [
      "\n",
      "p-значение: 8.600900964398781e-14\n",
      "Отвергаем нулевую гипотезу\n",
      "\n"
     ]
    }
   ],
   "source": [
    "alpha = 0.05 # уровень статистической значимости\n",
    "# если p-value окажется меньше него, отвергнем гипотезу\n",
    "\n",
    "results = st.ttest_ind(data_pivot.loc[data['subscription_type'] == 'ultra']['monthly_revenue'], \n",
    "                       data_pivot.loc[data['subscription_type'] == 'free']['monthly_revenue'], \n",
    "                       equal_var=False, \n",
    "                       alternative = 'greater')\n",
    "\n",
    "print()\n",
    "print('p-значение:', results.pvalue)\n",
    "\n",
    "if results.pvalue < alpha:\n",
    "    print('Отвергаем нулевую гипотезу')\n",
    "else:\n",
    "    print('Не получилось отвергнуть нулевую гипотезу') \n",
    "print()"
   ]
  },
  {
   "cell_type": "markdown",
   "id": "67174488",
   "metadata": {},
   "source": [
    "Вероятно **выручка, приносимая пользователями с подпиской, не равна выручке, приносимой пользователями без подписки**. Следовательно альтернативная гипотеза не может быть отвергнута. "
   ]
  },
  {
   "cell_type": "markdown",
   "id": "8d861083",
   "metadata": {},
   "source": [
    "В целом можно сказать, что результаты проверки гипотез методами scipy.stats.ttest_ind и scipy.stats.ttest_1samp() соответстуют реальным средним значениям датафреймов за исключением случая, когда среднее и пороговое значение крайне близки. \n",
    "\n",
    "По результатам проведенной проверки гипотез не были опровергнуты следующие альтернативные гипотезы:\n",
    "- пользователи с подпиской тратят больше времени на поездки, чем пользователи без подписки;\n",
    "- помесячная выручка от пользователей с подпиской по месяцам выше, чем выручка от пользователей без подписки.\n",
    "Однако не была опровергнута нулевая гипотеза для следующей альтернативной:\n",
    "- среднее расстояние, которое проезжают пользователи с подпиской за одну поездку, не превышает 3130 метров."
   ]
  },
  {
   "cell_type": "markdown",
   "id": "61213c5e",
   "metadata": {},
   "source": [
    "## Распределения"
   ]
  },
  {
   "cell_type": "markdown",
   "id": "09c618e2-3ece-4820-8fe7-987929eecbf8",
   "metadata": {},
   "source": [
    "### Определение минимального количества рассылок"
   ]
  },
  {
   "cell_type": "markdown",
   "id": "35e009d7",
   "metadata": {},
   "source": [
    "Отделу маркетинга GoFast поставили задачу: нужно провести акцию с раздачей промокодов на один бесплатный месяц подписки, в рамках которой как минимум 100 существующих клиентов должны продлить эту подписку. То есть по завершении периода действия подписки пользователь может либо отказаться от неё, либо продлить, совершив соответствующий платёж. \n",
    "Эта акция уже проводилась ранее и по итогу выяснилось, что после бесплатного пробного периода подписку продлевают \n",
    "10 % пользователей. Необходимо выяснить, какое минимальное количество промокодов нужно разослать, чтобы вероятность не выполнить план была примерно 5 %. "
   ]
  },
  {
   "cell_type": "markdown",
   "id": "5ed4a00d",
   "metadata": {},
   "source": [
    "Выше описана ситуация, представляющая из себя биноминальное распределение. "
   ]
  },
  {
   "cell_type": "code",
   "execution_count": 44,
   "id": "c1175617",
   "metadata": {},
   "outputs": [
    {
     "data": {
      "image/png": "[encoded data removed]",
      "text/plain": [
       "<Figure size 640x480 with 1 Axes>"
      ]
     },
     "metadata": {},
     "output_type": "display_data"
    },
    {
     "name": "stdout",
     "output_type": "stream",
     "text": [
      "\n",
      "Минимальное количество промокодов: 1061\n",
      "\n"
     ]
    }
   ],
   "source": [
    "# Зададим параметры распределения\n",
    "p = 0.1  # Вероятность успеха (пользователь продлит подписку)\n",
    "k = 100  # Минимальное количество успехов\n",
    "alpha = 0.05  # Уровень значимости\n",
    "\n",
    "# Находим минимальное количество промокодов, используя обратное биномиальное распределение\n",
    "n = st.nbinom.ppf(1 - alpha, k, p)\n",
    "\n",
    "# Генерируем данные для графика\n",
    "x = range(k, k + 100)\n",
    "y = [st.nbinom.pmf(i, k, p) for i in x]\n",
    "\n",
    "# Строим график распределения\n",
    "plt.bar(x, y)\n",
    "plt.xlabel('Количество пользователей, продливших подписку')\n",
    "plt.ylabel('Вероятность')\n",
    "plt.title('Биномиальное распределение')\n",
    "plt.show();\n",
    "\n",
    "print()\n",
    "print(f\"Минимальное количество промокодов: {int(n)}\")\n",
    "print()"
   ]
  },
  {
   "cell_type": "markdown",
   "id": "9f9eb7ea",
   "metadata": {},
   "source": [
    "Можно сделать вывод о том, что 1061 - минимальное количество промокодов, которое необходимо разослать, чтобы с вероятностью около 95% 100 существующих клиентов продлили подписку. "
   ]
  },
  {
   "cell_type": "markdown",
   "id": "2a3b9291-3d76-4d61-93ac-ea463001aead",
   "metadata": {},
   "source": [
    "### Определение вероятности открытия уведомлений"
   ]
  },
  {
   "cell_type": "markdown",
   "id": "4c4dc94a",
   "metadata": {},
   "source": [
    "Отдел маркетинга рассылает клиентам push-уведомления в мобильном приложении. Клиенты могут открыть его или не открывать. Известно, что уведомления открывают около 40% получивших клиентов. Отдел планирует разослать 1 млн уведомлений. С помощью аппроксимации необходимо построить примерный график распределения и оценить вероятность того, что уведомление откроют не более 399,5 тыс. пользователей."
   ]
  },
  {
   "cell_type": "markdown",
   "id": "79d6f0e6",
   "metadata": {},
   "source": [
    "Для аппроксимации биномиального распределения используем нормальное распределение с параметрами, вычисленными на основе биномиального распределения. Параметры нормального распределения определяются следующим образом:\n",
    "\n",
    "Математическое ожидание = n⋅p\n",
    "\n",
    "Стандартное отклонение = n⋅p⋅(1−p)\n",
    "\n",
    "где:\n",
    "\n",
    "n - количество уведомлений (1 млн),\n",
    "p - вероятность открытия уведомления (40% или 0.4).\n",
    "\n",
    "Используем нормальную аппроксимацию и функцию распределения (cdf) для оценки вероятности:"
   ]
  },
  {
   "cell_type": "code",
   "execution_count": 45,
   "id": "dbeeab32",
   "metadata": {},
   "outputs": [
    {
     "data": {
      "image/png": "[encoded data removed]",
      "text/plain": [
       "<Figure size 640x480 with 1 Axes>"
      ]
     },
     "metadata": {},
     "output_type": "display_data"
    },
    {
     "name": "stdout",
     "output_type": "stream",
     "text": [
      "\n",
      "Вероятность, что уведомление откроют не более 399,5 тыс. пользователей: 0.1537\n"
     ]
    }
   ],
   "source": [
    "# Параметры распределения\n",
    "n = 1000000 # Количество предполагаемых к рассылке уведомлений\n",
    "p = 0.4 # Вероятность открытия уведомлений\n",
    "\n",
    "# Параметры нормального распределения\n",
    "mu = n * p\n",
    "sigma = np.sqrt(n * p * (1 - p))\n",
    "\n",
    "# Генерируем данные для графика\n",
    "x = np.arange(0, n + 1, 1000)\n",
    "y = st.norm.pdf(x, mu, sigma)\n",
    "\n",
    "# Строим график аппроксимации биномиального распределения\n",
    "plt.plot(x, y, label='Аппроксимация')\n",
    "\n",
    "# Строим график биномиального распределения (для сравнения)\n",
    "binomial_x = np.arange(0, n + 1)\n",
    "binomial_y = st.binom.pmf(binomial_x, n, p)\n",
    "plt.plot(binomial_x, binomial_y, label='Биномин. распред.', alpha=0.5)\n",
    "\n",
    "plt.xlabel('Количество открывших уведомление пользователей')\n",
    "plt.ylabel('Плотность вероятности')\n",
    "plt.title('Аппроксимация биномиального распределения нормальным распределением')\n",
    "plt.legend()\n",
    "plt.show()\n",
    "print()\n",
    "\n",
    "# Оценка вероятности открытия не более 399,5 тыс. пользователей\n",
    "probability_less_than_399_5k = st.norm.cdf(399500, mu, sigma)\n",
    "print(f\"Вероятность, что уведомление откроют не более 399,5 тыс. пользователей: {probability_less_than_399_5k:.4f}\")"
   ]
  },
  {
   "cell_type": "markdown",
   "id": "6e989e68",
   "metadata": {},
   "source": [
    "Можно сделать вывод о том, что при условии рассылки 1 млн уведомлений вероятность того, что данные уведомления откроют не более 399,5 тыс. пользователей составляет 15,37%."
   ]
  },
  {
   "cell_type": "markdown",
   "id": "ee77e21e-ee8f-4d21-bad9-e5861003c789",
   "metadata": {},
   "source": [
    "## Общий вывод"
   ]
  },
  {
   "cell_type": "markdown",
   "id": "cf0b0f62",
   "metadata": {},
   "source": [
    "В целом можно сказать, что представленные для анализа данные – полные и релевантные, неявные дубликаты отсутствуют, небольшое количество явных дубликатов было устранено.\n",
    "\n",
    "Представленные данные одинаково репрезентативны для всех 8 городов, где действует сервис. Самое большое количество пользователей в Пятигорске, самое маленькое – в Москве. \n",
    "\n",
    "Количество пользователей без подписки превышает количество пользователей с подпиской на 19% (835 против 699).\n",
    "\n",
    "Наиболее часто встречающийся возраст пользователей лежит в диапазоне от 22 до 28 лет.\n",
    "\n",
    "Диаграмма распределения преодолеваемого расстояния показала наличие двух неравных групп, отражающих стратегии пользователей: использование самокатов на малых расстояниях (пиковое значение – 750 метров), использование на больших расстояниях (пиковое значение – 3000 метров). Данные могут быть в дальнейшем использованы для корректировки тарифных планов.\n",
    "\n",
    "Наиболее частая продолжительность поездок составляет от 12 до 22 минут. \n",
    "\n",
    "Выявлен всплеск значений продолжительности поездок, равной 0.5 минуты, при значительном расстоянии поездок. Он характерен только для пользователей без подписки. По всей видимости, речь идет о технической неисправности в работе приложения, поэтому данные были заменены на медианные значения. \n",
    "\n",
    "При сопоставимости значений пользователей с подпиской и без, пользователи без подписки совершают практически вдвое больше поездок, чем пользователи с подпиской. \n",
    "\n",
    "С наибольшей долей вероятности, пользователи с подпиской потратят больше времени на поездки, чем пользователи без подписки, а также принесут большую выручку. С вероятностью 33% среднее значение, проезжаемое пользователем с подпиской, будет равно 3130 метрам.\n",
    "\n",
    "Для привлечения с вероятностью в 95% каждых дополнительных 100 пользователей с подпиской необходимо производить рассылку не менее 1061 промокода на один бесплатный месяц подписки в рамках акции. \n",
    "\n",
    "При этом при рассылке 1 млн push-уведомлений в мобильном приложении уведомление откроют не более 399,5 тыс. пользователей с вероятностью 15,37%.\n"
   ]
  }
 ],
 "metadata": {
  "ExecuteTimeLog": [
   {
    "duration": 843,
    "start_time": "2023-11-28T12:40:15.216Z"
   },
   {
    "duration": 189,
    "start_time": "2023-11-28T12:40:16.553Z"
   },
   {
    "duration": 13,
    "start_time": "2023-11-28T12:40:16.970Z"
   },
   {
    "duration": 11,
    "start_time": "2023-11-28T12:40:17.239Z"
   },
   {
    "duration": 10,
    "start_time": "2023-11-28T12:40:17.714Z"
   },
   {
    "duration": 10,
    "start_time": "2023-11-28T12:40:17.873Z"
   },
   {
    "duration": 6,
    "start_time": "2023-11-28T12:40:18.052Z"
   },
   {
    "duration": 9,
    "start_time": "2023-11-28T12:40:18.547Z"
   },
   {
    "duration": 15,
    "start_time": "2023-11-28T12:52:48.624Z"
   },
   {
    "duration": 11,
    "start_time": "2023-11-28T12:52:59.400Z"
   },
   {
    "duration": 15,
    "start_time": "2023-11-28T12:53:17.124Z"
   },
   {
    "duration": 6,
    "start_time": "2023-11-28T12:54:41.187Z"
   },
   {
    "duration": 9,
    "start_time": "2023-11-28T12:54:51.352Z"
   },
   {
    "duration": 6,
    "start_time": "2023-11-28T12:57:10.233Z"
   },
   {
    "duration": 6,
    "start_time": "2023-11-28T12:57:11.450Z"
   },
   {
    "duration": 6,
    "start_time": "2023-11-28T13:01:26.318Z"
   },
   {
    "duration": 8,
    "start_time": "2023-11-28T13:01:29.442Z"
   },
   {
    "duration": 5,
    "start_time": "2023-11-28T13:04:49.610Z"
   },
   {
    "duration": 10,
    "start_time": "2023-11-28T13:04:58.632Z"
   },
   {
    "duration": 71,
    "start_time": "2023-11-28T13:06:56.213Z"
   },
   {
    "duration": 9,
    "start_time": "2023-11-28T13:07:01.250Z"
   },
   {
    "duration": 3,
    "start_time": "2023-11-28T13:08:21.903Z"
   },
   {
    "duration": 4,
    "start_time": "2023-11-28T13:08:22.473Z"
   },
   {
    "duration": 7,
    "start_time": "2023-11-28T13:10:18.438Z"
   },
   {
    "duration": 7229,
    "start_time": "2023-11-28T13:10:23.912Z"
   },
   {
    "duration": 7644,
    "start_time": "2023-11-28T13:10:37.967Z"
   },
   {
    "duration": 4,
    "start_time": "2023-11-28T13:11:16.939Z"
   },
   {
    "duration": 7,
    "start_time": "2023-11-28T13:11:26.906Z"
   },
   {
    "duration": 4,
    "start_time": "2023-11-28T13:11:32.362Z"
   },
   {
    "duration": 4,
    "start_time": "2023-11-28T13:11:44.173Z"
   },
   {
    "duration": 10,
    "start_time": "2023-11-28T13:12:09.892Z"
   },
   {
    "duration": 4,
    "start_time": "2023-11-28T13:15:46.599Z"
   },
   {
    "duration": 31,
    "start_time": "2023-11-28T13:20:49.226Z"
   },
   {
    "duration": 18,
    "start_time": "2023-11-28T13:21:15.330Z"
   },
   {
    "duration": 13,
    "start_time": "2023-11-28T13:24:46.930Z"
   },
   {
    "duration": 12,
    "start_time": "2023-11-28T13:25:11.479Z"
   },
   {
    "duration": 481,
    "start_time": "2023-11-28T13:33:19.496Z"
   },
   {
    "duration": 35,
    "start_time": "2023-11-28T13:36:55.265Z"
   },
   {
    "duration": 8,
    "start_time": "2023-11-28T13:37:08.246Z"
   },
   {
    "duration": 3,
    "start_time": "2023-11-28T13:37:58.078Z"
   },
   {
    "duration": 8,
    "start_time": "2023-11-28T13:37:59.183Z"
   },
   {
    "duration": 9,
    "start_time": "2023-11-28T13:38:02.613Z"
   },
   {
    "duration": 9,
    "start_time": "2023-11-28T13:38:34.193Z"
   },
   {
    "duration": 6,
    "start_time": "2023-11-28T13:39:01.118Z"
   },
   {
    "duration": 135,
    "start_time": "2023-11-28T13:39:14.694Z"
   },
   {
    "duration": 127,
    "start_time": "2023-11-28T13:39:27.201Z"
   },
   {
    "duration": 119,
    "start_time": "2023-11-28T13:39:43.241Z"
   },
   {
    "duration": 123,
    "start_time": "2023-11-28T13:39:48.969Z"
   },
   {
    "duration": 85,
    "start_time": "2023-11-28T13:40:36.948Z"
   },
   {
    "duration": 11,
    "start_time": "2023-11-28T13:40:47.071Z"
   },
   {
    "duration": 11,
    "start_time": "2023-11-28T13:40:55.183Z"
   },
   {
    "duration": 12,
    "start_time": "2023-11-28T13:41:21.201Z"
   },
   {
    "duration": 104,
    "start_time": "2023-11-28T13:44:53.454Z"
   },
   {
    "duration": 122,
    "start_time": "2023-11-28T13:44:59.334Z"
   },
   {
    "duration": 113,
    "start_time": "2023-11-28T13:51:17.198Z"
   },
   {
    "duration": 180,
    "start_time": "2023-11-28T13:51:46.013Z"
   },
   {
    "duration": 99,
    "start_time": "2023-11-28T13:52:00.760Z"
   },
   {
    "duration": 100,
    "start_time": "2023-11-28T13:53:45.347Z"
   },
   {
    "duration": 93,
    "start_time": "2023-11-28T13:54:03.389Z"
   },
   {
    "duration": 86,
    "start_time": "2023-11-28T13:54:30.032Z"
   },
   {
    "duration": 132,
    "start_time": "2023-11-28T13:54:45.070Z"
   },
   {
    "duration": 84,
    "start_time": "2023-11-28T13:54:49.654Z"
   },
   {
    "duration": 114,
    "start_time": "2023-11-28T13:54:58.884Z"
   },
   {
    "duration": 113,
    "start_time": "2023-11-28T13:55:13.252Z"
   },
   {
    "duration": 128,
    "start_time": "2023-11-28T13:56:09.703Z"
   },
   {
    "duration": 107,
    "start_time": "2023-11-28T13:56:50.470Z"
   },
   {
    "duration": 132,
    "start_time": "2023-11-28T13:59:16.156Z"
   },
   {
    "duration": 83,
    "start_time": "2023-11-28T13:59:37.452Z"
   },
   {
    "duration": 125,
    "start_time": "2023-11-28T13:59:56.750Z"
   },
   {
    "duration": 140,
    "start_time": "2023-11-28T14:02:06.956Z"
   },
   {
    "duration": 133,
    "start_time": "2023-11-28T14:02:24.625Z"
   },
   {
    "duration": 16,
    "start_time": "2023-11-28T15:36:42.370Z"
   },
   {
    "duration": 8,
    "start_time": "2023-11-28T15:39:21.033Z"
   },
   {
    "duration": 6,
    "start_time": "2023-11-28T15:39:37.131Z"
   },
   {
    "duration": 5,
    "start_time": "2023-11-28T15:39:49.572Z"
   },
   {
    "duration": 14,
    "start_time": "2023-11-28T15:43:29.419Z"
   },
   {
    "duration": 14,
    "start_time": "2023-11-28T15:43:36.531Z"
   },
   {
    "duration": 103,
    "start_time": "2023-11-28T15:44:12.483Z"
   },
   {
    "duration": 8,
    "start_time": "2023-11-28T15:44:57.570Z"
   },
   {
    "duration": 187,
    "start_time": "2023-11-28T15:45:24.878Z"
   },
   {
    "duration": 7,
    "start_time": "2023-11-28T15:49:12.659Z"
   },
   {
    "duration": 7,
    "start_time": "2023-11-28T15:49:54.698Z"
   },
   {
    "duration": 8,
    "start_time": "2023-11-28T15:50:05.476Z"
   },
   {
    "duration": 6,
    "start_time": "2023-11-28T15:50:56.523Z"
   },
   {
    "duration": 5,
    "start_time": "2023-11-28T15:51:03.576Z"
   },
   {
    "duration": 5,
    "start_time": "2023-11-28T15:51:45.591Z"
   },
   {
    "duration": 5,
    "start_time": "2023-11-28T15:51:49.585Z"
   },
   {
    "duration": 6,
    "start_time": "2023-11-28T15:51:59.042Z"
   },
   {
    "duration": 6,
    "start_time": "2023-11-28T15:54:36.397Z"
   },
   {
    "duration": 5,
    "start_time": "2023-11-28T15:58:36.475Z"
   },
   {
    "duration": 8,
    "start_time": "2023-11-28T15:59:08.851Z"
   },
   {
    "duration": 5,
    "start_time": "2023-11-28T16:00:26.206Z"
   },
   {
    "duration": 5,
    "start_time": "2023-11-28T16:00:41.992Z"
   },
   {
    "duration": 10,
    "start_time": "2023-11-28T16:00:59.455Z"
   },
   {
    "duration": 7,
    "start_time": "2023-11-28T16:01:04.840Z"
   },
   {
    "duration": 4,
    "start_time": "2023-11-28T16:01:20.544Z"
   },
   {
    "duration": 5,
    "start_time": "2023-11-28T16:01:35.768Z"
   },
   {
    "duration": 11,
    "start_time": "2023-11-28T16:02:24.857Z"
   },
   {
    "duration": 6,
    "start_time": "2023-11-28T16:03:15.010Z"
   },
   {
    "duration": 265,
    "start_time": "2023-11-28T16:04:22.521Z"
   },
   {
    "duration": 261,
    "start_time": "2023-11-28T16:04:46.314Z"
   },
   {
    "duration": 254,
    "start_time": "2023-11-28T16:04:53.356Z"
   },
   {
    "duration": 260,
    "start_time": "2023-11-28T16:05:13.858Z"
   },
   {
    "duration": 261,
    "start_time": "2023-11-28T16:05:19.546Z"
   },
   {
    "duration": 8,
    "start_time": "2023-11-28T16:11:43.096Z"
   },
   {
    "duration": 193,
    "start_time": "2023-11-28T16:12:16.143Z"
   },
   {
    "duration": 217,
    "start_time": "2023-11-28T16:12:38.216Z"
   },
   {
    "duration": 350,
    "start_time": "2023-11-28T16:12:49.178Z"
   },
   {
    "duration": 729,
    "start_time": "2023-11-28T16:12:55.529Z"
   },
   {
    "duration": 232,
    "start_time": "2023-11-28T16:13:00.945Z"
   },
   {
    "duration": 295,
    "start_time": "2023-11-28T16:13:10.470Z"
   },
   {
    "duration": 232,
    "start_time": "2023-11-28T16:13:15.704Z"
   },
   {
    "duration": 306,
    "start_time": "2023-11-28T16:15:22.448Z"
   },
   {
    "duration": 389,
    "start_time": "2023-11-28T16:15:40.344Z"
   },
   {
    "duration": 273,
    "start_time": "2023-11-28T16:16:11.657Z"
   },
   {
    "duration": 8,
    "start_time": "2023-11-28T16:25:37.641Z"
   },
   {
    "duration": 311,
    "start_time": "2023-11-28T16:26:04.166Z"
   },
   {
    "duration": 8,
    "start_time": "2023-11-28T16:27:59.598Z"
   },
   {
    "duration": 9,
    "start_time": "2023-11-28T16:29:28.332Z"
   },
   {
    "duration": 8,
    "start_time": "2023-11-28T16:29:32.407Z"
   },
   {
    "duration": 5,
    "start_time": "2023-11-28T16:29:49.911Z"
   },
   {
    "duration": 13,
    "start_time": "2023-11-28T16:30:23.834Z"
   },
   {
    "duration": 9,
    "start_time": "2023-11-28T16:30:46.711Z"
   },
   {
    "duration": 6,
    "start_time": "2023-11-28T16:31:15.979Z"
   },
   {
    "duration": 9,
    "start_time": "2023-11-28T16:31:58.823Z"
   },
   {
    "duration": 4,
    "start_time": "2023-11-28T16:32:10.040Z"
   },
   {
    "duration": 5,
    "start_time": "2023-11-28T16:32:15.753Z"
   },
   {
    "duration": 5,
    "start_time": "2023-11-28T16:39:50.103Z"
   },
   {
    "duration": 10,
    "start_time": "2023-11-28T16:41:13.928Z"
   },
   {
    "duration": 10,
    "start_time": "2023-11-28T16:41:41.687Z"
   },
   {
    "duration": 11,
    "start_time": "2023-11-28T16:42:59.413Z"
   },
   {
    "duration": 22,
    "start_time": "2023-11-28T16:56:31.077Z"
   },
   {
    "duration": 7,
    "start_time": "2023-11-28T16:57:39.535Z"
   },
   {
    "duration": 20,
    "start_time": "2023-11-28T16:58:00.819Z"
   },
   {
    "duration": 18,
    "start_time": "2023-11-28T16:58:10.846Z"
   },
   {
    "duration": 21,
    "start_time": "2023-11-28T16:58:16.732Z"
   },
   {
    "duration": 79,
    "start_time": "2023-11-29T08:19:36.388Z"
   },
   {
    "duration": 11,
    "start_time": "2023-11-29T08:19:36.897Z"
   },
   {
    "duration": 8,
    "start_time": "2023-11-29T08:19:37.922Z"
   },
   {
    "duration": 3,
    "start_time": "2023-11-29T08:19:42.860Z"
   },
   {
    "duration": 66,
    "start_time": "2023-11-29T08:19:43.732Z"
   },
   {
    "duration": 9,
    "start_time": "2023-11-29T08:19:44.072Z"
   },
   {
    "duration": 9,
    "start_time": "2023-11-29T08:19:44.220Z"
   },
   {
    "duration": 9,
    "start_time": "2023-11-29T08:19:44.385Z"
   },
   {
    "duration": 10,
    "start_time": "2023-11-29T08:19:44.546Z"
   },
   {
    "duration": 6,
    "start_time": "2023-11-29T08:19:44.716Z"
   },
   {
    "duration": 9,
    "start_time": "2023-11-29T08:19:44.887Z"
   },
   {
    "duration": 7,
    "start_time": "2023-11-29T08:19:45.574Z"
   },
   {
    "duration": 5,
    "start_time": "2023-11-29T08:19:45.912Z"
   },
   {
    "duration": 6,
    "start_time": "2023-11-29T08:19:46.903Z"
   },
   {
    "duration": 17,
    "start_time": "2023-11-29T08:19:46.910Z"
   },
   {
    "duration": 5,
    "start_time": "2023-11-29T08:19:47.076Z"
   },
   {
    "duration": 8,
    "start_time": "2023-11-29T08:19:47.240Z"
   },
   {
    "duration": 5,
    "start_time": "2023-11-29T08:19:47.636Z"
   },
   {
    "duration": 4,
    "start_time": "2023-11-29T08:19:47.950Z"
   },
   {
    "duration": 4,
    "start_time": "2023-11-29T08:19:48.301Z"
   },
   {
    "duration": 13,
    "start_time": "2023-11-29T08:19:48.484Z"
   },
   {
    "duration": 3,
    "start_time": "2023-11-29T08:19:49.230Z"
   },
   {
    "duration": 5,
    "start_time": "2023-11-29T08:19:49.415Z"
   },
   {
    "duration": 136,
    "start_time": "2023-11-29T08:19:49.589Z"
   },
   {
    "duration": 6,
    "start_time": "2023-11-29T08:19:50.333Z"
   },
   {
    "duration": 5,
    "start_time": "2023-11-29T08:19:50.703Z"
   },
   {
    "duration": 7,
    "start_time": "2023-11-29T08:19:51.079Z"
   },
   {
    "duration": 94,
    "start_time": "2023-11-29T08:19:51.438Z"
   },
   {
    "duration": 6,
    "start_time": "2023-11-29T08:19:51.980Z"
   },
   {
    "duration": 241,
    "start_time": "2023-11-29T08:19:52.193Z"
   },
   {
    "duration": 8,
    "start_time": "2023-11-29T08:19:52.748Z"
   },
   {
    "duration": 313,
    "start_time": "2023-11-29T08:19:52.946Z"
   },
   {
    "duration": 7,
    "start_time": "2023-11-29T08:19:53.473Z"
   },
   {
    "duration": 370,
    "start_time": "2023-11-29T08:19:53.654Z"
   },
   {
    "duration": 13,
    "start_time": "2023-11-29T08:19:54.035Z"
   },
   {
    "duration": 6,
    "start_time": "2023-11-29T08:19:54.269Z"
   },
   {
    "duration": 17,
    "start_time": "2023-11-29T08:19:55.617Z"
   },
   {
    "duration": 22,
    "start_time": "2023-11-29T08:19:55.989Z"
   },
   {
    "duration": 90,
    "start_time": "2023-11-29T08:19:56.230Z"
   },
   {
    "duration": 8,
    "start_time": "2023-11-29T08:19:56.462Z"
   },
   {
    "duration": 7,
    "start_time": "2023-11-29T08:19:57.204Z"
   },
   {
    "duration": 7,
    "start_time": "2023-11-29T08:20:09.656Z"
   },
   {
    "duration": 9,
    "start_time": "2023-11-29T08:20:40.503Z"
   },
   {
    "duration": 6,
    "start_time": "2023-11-29T08:20:41.201Z"
   },
   {
    "duration": 8,
    "start_time": "2023-11-29T08:24:43.858Z"
   },
   {
    "duration": 20,
    "start_time": "2023-11-29T08:25:05.072Z"
   },
   {
    "duration": 14,
    "start_time": "2023-11-29T08:25:11.877Z"
   },
   {
    "duration": 5,
    "start_time": "2023-11-29T08:25:17.833Z"
   },
   {
    "duration": 7,
    "start_time": "2023-11-29T08:26:36.972Z"
   },
   {
    "duration": 277,
    "start_time": "2023-11-29T08:26:39.186Z"
   },
   {
    "duration": 8,
    "start_time": "2023-11-29T08:28:17.237Z"
   },
   {
    "duration": 271,
    "start_time": "2023-11-29T08:28:20.851Z"
   },
   {
    "duration": 13,
    "start_time": "2023-11-29T08:28:52.756Z"
   },
   {
    "duration": 16,
    "start_time": "2023-11-29T08:29:27.351Z"
   },
   {
    "duration": 20,
    "start_time": "2023-11-29T08:31:06.204Z"
   },
   {
    "duration": 20,
    "start_time": "2023-11-29T08:31:15.684Z"
   },
   {
    "duration": 268,
    "start_time": "2023-11-29T08:34:21.190Z"
   },
   {
    "duration": 270,
    "start_time": "2023-11-29T08:34:48.021Z"
   },
   {
    "duration": 371,
    "start_time": "2023-11-29T08:34:55.999Z"
   },
   {
    "duration": 279,
    "start_time": "2023-11-29T08:35:04.063Z"
   },
   {
    "duration": 276,
    "start_time": "2023-11-29T08:35:10.037Z"
   },
   {
    "duration": 8,
    "start_time": "2023-11-29T08:42:23.907Z"
   },
   {
    "duration": 269,
    "start_time": "2023-11-29T08:42:24.790Z"
   },
   {
    "duration": 9,
    "start_time": "2023-11-29T08:42:32.979Z"
   },
   {
    "duration": 271,
    "start_time": "2023-11-29T08:42:35.540Z"
   },
   {
    "duration": 278,
    "start_time": "2023-11-29T08:43:02.292Z"
   },
   {
    "duration": 410,
    "start_time": "2023-11-29T08:43:32.589Z"
   },
   {
    "duration": 320,
    "start_time": "2023-11-29T08:43:39.548Z"
   },
   {
    "duration": 283,
    "start_time": "2023-11-29T08:43:50.934Z"
   },
   {
    "duration": 285,
    "start_time": "2023-11-29T08:44:09.877Z"
   },
   {
    "duration": 4,
    "start_time": "2023-11-29T09:03:48.036Z"
   },
   {
    "duration": 5,
    "start_time": "2023-11-29T09:10:15.771Z"
   },
   {
    "duration": 17,
    "start_time": "2023-11-29T09:10:32.460Z"
   },
   {
    "duration": 4,
    "start_time": "2023-11-29T09:10:55.505Z"
   },
   {
    "duration": 16,
    "start_time": "2023-11-29T09:11:47.736Z"
   },
   {
    "duration": 1241,
    "start_time": "2023-11-29T09:12:59.244Z"
   },
   {
    "duration": 17,
    "start_time": "2023-11-29T09:14:47.284Z"
   },
   {
    "duration": 10,
    "start_time": "2023-11-29T09:15:15.293Z"
   },
   {
    "duration": 16,
    "start_time": "2023-11-29T09:15:35.508Z"
   },
   {
    "duration": 1571,
    "start_time": "2023-11-29T09:16:17.083Z"
   },
   {
    "duration": 14,
    "start_time": "2023-11-29T09:17:10.256Z"
   },
   {
    "duration": 11,
    "start_time": "2023-11-29T09:19:10.789Z"
   },
   {
    "duration": 10,
    "start_time": "2023-11-29T09:22:21.866Z"
   },
   {
    "duration": 8,
    "start_time": "2023-11-29T09:22:46.949Z"
   },
   {
    "duration": 9,
    "start_time": "2023-11-29T09:24:19.308Z"
   },
   {
    "duration": 7,
    "start_time": "2023-11-29T09:24:29.083Z"
   },
   {
    "duration": 19,
    "start_time": "2023-11-29T09:25:06.669Z"
   },
   {
    "duration": 6,
    "start_time": "2023-11-29T09:25:24.650Z"
   },
   {
    "duration": 10,
    "start_time": "2023-11-29T09:26:25.628Z"
   },
   {
    "duration": 10,
    "start_time": "2023-11-29T09:27:51.778Z"
   },
   {
    "duration": 359,
    "start_time": "2023-11-29T09:28:35.145Z"
   },
   {
    "duration": 76,
    "start_time": "2023-11-29T09:34:08.627Z"
   },
   {
    "duration": 14,
    "start_time": "2023-11-29T09:34:27.201Z"
   },
   {
    "duration": 20,
    "start_time": "2023-11-29T09:40:02.907Z"
   },
   {
    "duration": 16,
    "start_time": "2023-11-29T09:42:25.609Z"
   },
   {
    "duration": 18,
    "start_time": "2023-11-29T09:42:39.449Z"
   },
   {
    "duration": 10,
    "start_time": "2023-11-29T09:43:36.019Z"
   },
   {
    "duration": 22,
    "start_time": "2023-11-29T09:44:22.850Z"
   },
   {
    "duration": 3,
    "start_time": "2023-11-29T09:55:28.193Z"
   },
   {
    "duration": 67,
    "start_time": "2023-11-29T09:55:28.725Z"
   },
   {
    "duration": 10,
    "start_time": "2023-11-29T09:55:29.079Z"
   },
   {
    "duration": 10,
    "start_time": "2023-11-29T09:55:29.233Z"
   },
   {
    "duration": 9,
    "start_time": "2023-11-29T09:55:29.398Z"
   },
   {
    "duration": 11,
    "start_time": "2023-11-29T09:55:29.561Z"
   },
   {
    "duration": 8,
    "start_time": "2023-11-29T09:55:29.719Z"
   },
   {
    "duration": 10,
    "start_time": "2023-11-29T09:55:29.880Z"
   },
   {
    "duration": 7,
    "start_time": "2023-11-29T09:55:30.522Z"
   },
   {
    "duration": 5,
    "start_time": "2023-11-29T09:55:30.930Z"
   },
   {
    "duration": 5,
    "start_time": "2023-11-29T09:55:31.250Z"
   },
   {
    "duration": 6,
    "start_time": "2023-11-29T09:55:31.416Z"
   },
   {
    "duration": 5,
    "start_time": "2023-11-29T09:55:31.746Z"
   },
   {
    "duration": 8,
    "start_time": "2023-11-29T09:55:31.914Z"
   },
   {
    "duration": 6,
    "start_time": "2023-11-29T09:55:32.249Z"
   },
   {
    "duration": 5,
    "start_time": "2023-11-29T09:55:32.608Z"
   },
   {
    "duration": 4,
    "start_time": "2023-11-29T09:55:32.900Z"
   },
   {
    "duration": 10,
    "start_time": "2023-11-29T09:55:33.072Z"
   },
   {
    "duration": 4,
    "start_time": "2023-11-29T09:55:33.745Z"
   },
   {
    "duration": 6,
    "start_time": "2023-11-29T09:55:33.922Z"
   },
   {
    "duration": 125,
    "start_time": "2023-11-29T09:55:34.096Z"
   },
   {
    "duration": 7,
    "start_time": "2023-11-29T09:55:34.811Z"
   },
   {
    "duration": 5,
    "start_time": "2023-11-29T09:55:35.146Z"
   },
   {
    "duration": 9,
    "start_time": "2023-11-29T09:55:35.513Z"
   },
   {
    "duration": 224,
    "start_time": "2023-11-29T09:55:35.859Z"
   },
   {
    "duration": 5,
    "start_time": "2023-11-29T09:55:36.361Z"
   },
   {
    "duration": 252,
    "start_time": "2023-11-29T09:55:36.577Z"
   },
   {
    "duration": 8,
    "start_time": "2023-11-29T09:55:37.090Z"
   },
   {
    "duration": 293,
    "start_time": "2023-11-29T09:55:37.264Z"
   },
   {
    "duration": 8,
    "start_time": "2023-11-29T09:55:37.762Z"
   },
   {
    "duration": 319,
    "start_time": "2023-11-29T09:55:37.944Z"
   },
   {
    "duration": 13,
    "start_time": "2023-11-29T09:55:38.273Z"
   },
   {
    "duration": 5,
    "start_time": "2023-11-29T09:55:38.447Z"
   },
   {
    "duration": 17,
    "start_time": "2023-11-29T09:55:39.395Z"
   },
   {
    "duration": 22,
    "start_time": "2023-11-29T09:55:39.724Z"
   },
   {
    "duration": 15,
    "start_time": "2023-11-29T09:55:40.116Z"
   },
   {
    "duration": 15,
    "start_time": "2023-11-29T09:55:40.355Z"
   },
   {
    "duration": 7,
    "start_time": "2023-11-29T09:55:40.850Z"
   },
   {
    "duration": 299,
    "start_time": "2023-11-29T09:55:41.138Z"
   },
   {
    "duration": 8,
    "start_time": "2023-11-29T09:55:41.467Z"
   },
   {
    "duration": 287,
    "start_time": "2023-11-29T09:55:41.672Z"
   },
   {
    "duration": 8,
    "start_time": "2023-11-29T09:55:42.464Z"
   },
   {
    "duration": 391,
    "start_time": "2023-11-29T09:55:42.676Z"
   },
   {
    "duration": 8,
    "start_time": "2023-11-29T09:55:43.069Z"
   },
   {
    "duration": 274,
    "start_time": "2023-11-29T09:55:43.218Z"
   },
   {
    "duration": 4,
    "start_time": "2023-11-29T09:55:44.172Z"
   },
   {
    "duration": 9,
    "start_time": "2023-11-29T09:55:46.432Z"
   },
   {
    "duration": 9,
    "start_time": "2023-11-29T09:55:48.923Z"
   },
   {
    "duration": 17,
    "start_time": "2023-11-29T09:55:51.650Z"
   },
   {
    "duration": 9,
    "start_time": "2023-11-29T09:55:56.939Z"
   },
   {
    "duration": 22,
    "start_time": "2023-11-29T09:56:09.362Z"
   },
   {
    "duration": 25,
    "start_time": "2023-11-29T09:56:16.990Z"
   },
   {
    "duration": 77,
    "start_time": "2023-11-29T09:56:28.859Z"
   },
   {
    "duration": 14,
    "start_time": "2023-11-29T09:56:36.042Z"
   },
   {
    "duration": 14,
    "start_time": "2023-11-29T09:56:45.564Z"
   },
   {
    "duration": 19,
    "start_time": "2023-11-29T09:56:53.825Z"
   },
   {
    "duration": 9,
    "start_time": "2023-11-29T09:58:19.088Z"
   },
   {
    "duration": 10,
    "start_time": "2023-11-29T09:59:08.368Z"
   },
   {
    "duration": 17,
    "start_time": "2023-11-29T09:59:20.599Z"
   },
   {
    "duration": 13,
    "start_time": "2023-11-29T09:59:41.736Z"
   },
   {
    "duration": 13,
    "start_time": "2023-11-29T10:01:52.646Z"
   },
   {
    "duration": 16,
    "start_time": "2023-11-29T10:01:57.878Z"
   },
   {
    "duration": 13,
    "start_time": "2023-11-29T10:02:05.756Z"
   },
   {
    "duration": 14,
    "start_time": "2023-11-29T10:02:10.651Z"
   },
   {
    "duration": 16,
    "start_time": "2023-11-29T10:04:38.855Z"
   },
   {
    "duration": 20,
    "start_time": "2023-11-29T10:05:35.792Z"
   },
   {
    "duration": 15,
    "start_time": "2023-11-29T10:05:41.983Z"
   },
   {
    "duration": 11,
    "start_time": "2023-11-29T10:06:00.208Z"
   },
   {
    "duration": 13,
    "start_time": "2023-11-29T10:06:10.328Z"
   },
   {
    "duration": 15,
    "start_time": "2023-11-29T10:18:59.601Z"
   },
   {
    "duration": 12,
    "start_time": "2023-11-29T10:59:30.487Z"
   },
   {
    "duration": 32,
    "start_time": "2023-11-29T11:00:31.871Z"
   },
   {
    "duration": 30,
    "start_time": "2023-11-29T11:04:20.310Z"
   },
   {
    "duration": 34,
    "start_time": "2023-11-29T11:05:10.366Z"
   },
   {
    "duration": 3,
    "start_time": "2023-11-29T11:05:30.302Z"
   },
   {
    "duration": 76,
    "start_time": "2023-11-29T11:05:30.765Z"
   },
   {
    "duration": 10,
    "start_time": "2023-11-29T11:05:31.069Z"
   },
   {
    "duration": 11,
    "start_time": "2023-11-29T11:05:31.237Z"
   },
   {
    "duration": 9,
    "start_time": "2023-11-29T11:05:31.401Z"
   },
   {
    "duration": 11,
    "start_time": "2023-11-29T11:05:31.581Z"
   },
   {
    "duration": 9,
    "start_time": "2023-11-29T11:05:31.739Z"
   },
   {
    "duration": 11,
    "start_time": "2023-11-29T11:05:31.916Z"
   },
   {
    "duration": 7,
    "start_time": "2023-11-29T11:05:32.585Z"
   },
   {
    "duration": 5,
    "start_time": "2023-11-29T11:05:32.923Z"
   },
   {
    "duration": 6,
    "start_time": "2023-11-29T11:05:33.286Z"
   },
   {
    "duration": 6,
    "start_time": "2023-11-29T11:05:33.477Z"
   },
   {
    "duration": 6,
    "start_time": "2023-11-29T11:05:33.805Z"
   },
   {
    "duration": 8,
    "start_time": "2023-11-29T11:05:33.992Z"
   },
   {
    "duration": 5,
    "start_time": "2023-11-29T11:05:34.341Z"
   },
   {
    "duration": 4,
    "start_time": "2023-11-29T11:05:34.773Z"
   },
   {
    "duration": 4,
    "start_time": "2023-11-29T11:05:35.058Z"
   },
   {
    "duration": 10,
    "start_time": "2023-11-29T11:05:35.227Z"
   },
   {
    "duration": 3,
    "start_time": "2023-11-29T11:05:35.927Z"
   },
   {
    "duration": 6,
    "start_time": "2023-11-29T11:05:36.099Z"
   },
   {
    "duration": 151,
    "start_time": "2023-11-29T11:05:36.292Z"
   },
   {
    "duration": 8,
    "start_time": "2023-11-29T11:05:37.073Z"
   },
   {
    "duration": 8,
    "start_time": "2023-11-29T11:05:37.404Z"
   },
   {
    "duration": 7,
    "start_time": "2023-11-29T11:05:37.766Z"
   },
   {
    "duration": 104,
    "start_time": "2023-11-29T11:05:38.119Z"
   },
   {
    "duration": 6,
    "start_time": "2023-11-29T11:05:38.683Z"
   },
   {
    "duration": 267,
    "start_time": "2023-11-29T11:05:38.865Z"
   },
   {
    "duration": 10,
    "start_time": "2023-11-29T11:05:39.496Z"
   },
   {
    "duration": 293,
    "start_time": "2023-11-29T11:05:39.684Z"
   },
   {
    "duration": 9,
    "start_time": "2023-11-29T11:05:40.281Z"
   },
   {
    "duration": 403,
    "start_time": "2023-11-29T11:05:40.454Z"
   },
   {
    "duration": 12,
    "start_time": "2023-11-29T11:05:40.874Z"
   },
   {
    "duration": 6,
    "start_time": "2023-11-29T11:05:41.055Z"
   },
   {
    "duration": 18,
    "start_time": "2023-11-29T11:05:41.999Z"
   },
   {
    "duration": 21,
    "start_time": "2023-11-29T11:05:43.480Z"
   },
   {
    "duration": 24,
    "start_time": "2023-11-29T11:06:09.467Z"
   },
   {
    "duration": 15,
    "start_time": "2023-11-29T11:06:12.343Z"
   },
   {
    "duration": 6,
    "start_time": "2023-11-29T11:06:42.958Z"
   },
   {
    "duration": 7,
    "start_time": "2023-11-29T11:06:44.727Z"
   },
   {
    "duration": 6,
    "start_time": "2023-11-29T11:06:45.877Z"
   },
   {
    "duration": 8,
    "start_time": "2023-11-29T11:06:51.920Z"
   },
   {
    "duration": 289,
    "start_time": "2023-11-29T11:06:53.341Z"
   },
   {
    "duration": 7,
    "start_time": "2023-11-29T11:06:57.101Z"
   },
   {
    "duration": 278,
    "start_time": "2023-11-29T11:06:58.019Z"
   },
   {
    "duration": 8,
    "start_time": "2023-11-29T11:07:01.193Z"
   },
   {
    "duration": 313,
    "start_time": "2023-11-29T11:07:01.850Z"
   },
   {
    "duration": 8,
    "start_time": "2023-11-29T11:07:03.489Z"
   },
   {
    "duration": 308,
    "start_time": "2023-11-29T11:07:04.424Z"
   },
   {
    "duration": 3,
    "start_time": "2023-11-29T11:07:13.553Z"
   },
   {
    "duration": 9,
    "start_time": "2023-11-29T11:07:17.617Z"
   },
   {
    "duration": 10,
    "start_time": "2023-11-29T11:07:20.167Z"
   },
   {
    "duration": 16,
    "start_time": "2023-11-29T11:07:22.215Z"
   },
   {
    "duration": 14,
    "start_time": "2023-11-29T11:07:24.511Z"
   },
   {
    "duration": 8,
    "start_time": "2023-11-29T11:07:29.778Z"
   },
   {
    "duration": 34,
    "start_time": "2023-11-29T11:07:41.116Z"
   },
   {
    "duration": 15,
    "start_time": "2023-11-29T11:07:48.200Z"
   },
   {
    "duration": 12,
    "start_time": "2023-11-29T11:08:16.055Z"
   },
   {
    "duration": 13,
    "start_time": "2023-11-29T11:08:31.544Z"
   },
   {
    "duration": 13,
    "start_time": "2023-11-29T11:08:48.147Z"
   },
   {
    "duration": 14,
    "start_time": "2023-11-29T11:08:55.933Z"
   },
   {
    "duration": 1246,
    "start_time": "2023-11-29T11:13:13.656Z"
   },
   {
    "duration": 14,
    "start_time": "2023-11-29T11:14:06.658Z"
   },
   {
    "duration": 1355,
    "start_time": "2023-11-29T11:16:25.005Z"
   },
   {
    "duration": 12,
    "start_time": "2023-11-29T11:16:52.989Z"
   },
   {
    "duration": 1213,
    "start_time": "2023-11-29T11:17:42.552Z"
   },
   {
    "duration": 11,
    "start_time": "2023-11-29T11:18:38.040Z"
   },
   {
    "duration": 3,
    "start_time": "2023-11-29T11:19:21.180Z"
   },
   {
    "duration": 12,
    "start_time": "2023-11-29T11:19:25.893Z"
   },
   {
    "duration": 16,
    "start_time": "2023-11-29T11:19:26.765Z"
   },
   {
    "duration": 1291,
    "start_time": "2023-11-29T11:19:28.030Z"
   },
   {
    "duration": 3,
    "start_time": "2023-11-29T11:22:02.191Z"
   },
   {
    "duration": 3,
    "start_time": "2023-11-29T11:25:04.192Z"
   },
   {
    "duration": 65,
    "start_time": "2023-11-29T11:25:06.710Z"
   },
   {
    "duration": 9,
    "start_time": "2023-11-29T11:25:07.686Z"
   },
   {
    "duration": 9,
    "start_time": "2023-11-29T11:25:07.853Z"
   },
   {
    "duration": 10,
    "start_time": "2023-11-29T11:25:08.026Z"
   },
   {
    "duration": 12,
    "start_time": "2023-11-29T11:25:08.186Z"
   },
   {
    "duration": 6,
    "start_time": "2023-11-29T11:25:08.339Z"
   },
   {
    "duration": 10,
    "start_time": "2023-11-29T11:25:08.504Z"
   },
   {
    "duration": 7,
    "start_time": "2023-11-29T11:25:09.132Z"
   },
   {
    "duration": 5,
    "start_time": "2023-11-29T11:25:09.476Z"
   },
   {
    "duration": 6,
    "start_time": "2023-11-29T11:25:09.866Z"
   },
   {
    "duration": 6,
    "start_time": "2023-11-29T11:25:10.029Z"
   },
   {
    "duration": 6,
    "start_time": "2023-11-29T11:25:10.340Z"
   },
   {
    "duration": 8,
    "start_time": "2023-11-29T11:25:10.505Z"
   },
   {
    "duration": 5,
    "start_time": "2023-11-29T11:25:10.828Z"
   },
   {
    "duration": 4,
    "start_time": "2023-11-29T11:25:11.165Z"
   },
   {
    "duration": 5,
    "start_time": "2023-11-29T11:25:11.486Z"
   },
   {
    "duration": 10,
    "start_time": "2023-11-29T11:25:11.650Z"
   },
   {
    "duration": 3,
    "start_time": "2023-11-29T11:25:12.332Z"
   },
   {
    "duration": 6,
    "start_time": "2023-11-29T11:25:12.501Z"
   },
   {
    "duration": 139,
    "start_time": "2023-11-29T11:25:12.674Z"
   },
   {
    "duration": 6,
    "start_time": "2023-11-29T11:25:13.409Z"
   },
   {
    "duration": 5,
    "start_time": "2023-11-29T11:25:13.775Z"
   },
   {
    "duration": 7,
    "start_time": "2023-11-29T11:25:14.092Z"
   },
   {
    "duration": 102,
    "start_time": "2023-11-29T11:25:14.439Z"
   },
   {
    "duration": 5,
    "start_time": "2023-11-29T11:25:14.986Z"
   },
   {
    "duration": 360,
    "start_time": "2023-11-29T11:25:15.154Z"
   },
   {
    "duration": 8,
    "start_time": "2023-11-29T11:25:15.692Z"
   },
   {
    "duration": 303,
    "start_time": "2023-11-29T11:25:15.876Z"
   },
   {
    "duration": 8,
    "start_time": "2023-11-29T11:25:16.405Z"
   },
   {
    "duration": 289,
    "start_time": "2023-11-29T11:25:16.618Z"
   },
   {
    "duration": 13,
    "start_time": "2023-11-29T11:25:16.972Z"
   },
   {
    "duration": 6,
    "start_time": "2023-11-29T11:25:17.154Z"
   },
   {
    "duration": 17,
    "start_time": "2023-11-29T11:25:18.060Z"
   },
   {
    "duration": 23,
    "start_time": "2023-11-29T11:25:18.435Z"
   },
   {
    "duration": 7,
    "start_time": "2023-11-29T11:25:18.811Z"
   },
   {
    "duration": 6,
    "start_time": "2023-11-29T11:25:19.002Z"
   },
   {
    "duration": 8,
    "start_time": "2023-11-29T11:25:19.612Z"
   },
   {
    "duration": 272,
    "start_time": "2023-11-29T11:25:19.795Z"
   },
   {
    "duration": 9,
    "start_time": "2023-11-29T11:25:20.187Z"
   },
   {
    "duration": 289,
    "start_time": "2023-11-29T11:25:20.406Z"
   },
   {
    "duration": 9,
    "start_time": "2023-11-29T11:25:20.986Z"
   },
   {
    "duration": 370,
    "start_time": "2023-11-29T11:25:21.205Z"
   },
   {
    "duration": 9,
    "start_time": "2023-11-29T11:25:21.683Z"
   },
   {
    "duration": 276,
    "start_time": "2023-11-29T11:25:21.918Z"
   },
   {
    "duration": 4,
    "start_time": "2023-11-29T11:25:22.956Z"
   },
   {
    "duration": 10,
    "start_time": "2023-11-29T11:25:23.353Z"
   },
   {
    "duration": 11,
    "start_time": "2023-11-29T11:25:23.685Z"
   },
   {
    "duration": 16,
    "start_time": "2023-11-29T11:25:25.300Z"
   },
   {
    "duration": 15,
    "start_time": "2023-11-29T11:28:57.957Z"
   },
   {
    "duration": 13,
    "start_time": "2023-11-29T11:29:04.943Z"
   },
   {
    "duration": 13,
    "start_time": "2023-11-29T11:29:06.985Z"
   },
   {
    "duration": 14,
    "start_time": "2023-11-29T11:29:07.814Z"
   },
   {
    "duration": 4,
    "start_time": "2023-11-29T11:29:08.543Z"
   },
   {
    "duration": 1151,
    "start_time": "2023-11-29T11:29:09.408Z"
   },
   {
    "duration": 10,
    "start_time": "2023-11-29T11:31:45.773Z"
   },
   {
    "duration": 12,
    "start_time": "2023-11-29T11:31:53.614Z"
   },
   {
    "duration": 14,
    "start_time": "2023-11-29T11:32:00.156Z"
   },
   {
    "duration": 15,
    "start_time": "2023-11-29T11:32:02.377Z"
   },
   {
    "duration": 3,
    "start_time": "2023-11-29T11:32:03.845Z"
   },
   {
    "duration": 1314,
    "start_time": "2023-11-29T11:32:04.853Z"
   },
   {
    "duration": 2,
    "start_time": "2023-11-29T11:37:12.054Z"
   },
   {
    "duration": 71,
    "start_time": "2023-11-29T11:37:12.058Z"
   },
   {
    "duration": 9,
    "start_time": "2023-11-29T11:37:12.131Z"
   },
   {
    "duration": 15,
    "start_time": "2023-11-29T11:37:12.141Z"
   },
   {
    "duration": 25,
    "start_time": "2023-11-29T11:37:12.158Z"
   },
   {
    "duration": 21,
    "start_time": "2023-11-29T11:37:12.184Z"
   },
   {
    "duration": 7,
    "start_time": "2023-11-29T11:37:12.207Z"
   },
   {
    "duration": 24,
    "start_time": "2023-11-29T11:37:12.215Z"
   },
   {
    "duration": 29,
    "start_time": "2023-11-29T11:37:12.241Z"
   },
   {
    "duration": 18,
    "start_time": "2023-11-29T11:37:12.272Z"
   },
   {
    "duration": 7,
    "start_time": "2023-11-29T11:37:12.294Z"
   },
   {
    "duration": 18,
    "start_time": "2023-11-29T11:37:12.302Z"
   },
   {
    "duration": 15,
    "start_time": "2023-11-29T11:37:12.322Z"
   },
   {
    "duration": 12,
    "start_time": "2023-11-29T11:37:12.338Z"
   },
   {
    "duration": 13,
    "start_time": "2023-11-29T11:37:12.351Z"
   },
   {
    "duration": 16,
    "start_time": "2023-11-29T11:37:12.365Z"
   },
   {
    "duration": 22,
    "start_time": "2023-11-29T11:37:12.383Z"
   },
   {
    "duration": 13,
    "start_time": "2023-11-29T11:37:12.406Z"
   },
   {
    "duration": 32,
    "start_time": "2023-11-29T11:37:12.420Z"
   },
   {
    "duration": 29,
    "start_time": "2023-11-29T11:37:12.454Z"
   },
   {
    "duration": 153,
    "start_time": "2023-11-29T11:37:12.485Z"
   },
   {
    "duration": 5,
    "start_time": "2023-11-29T11:37:12.640Z"
   },
   {
    "duration": 17,
    "start_time": "2023-11-29T11:37:12.646Z"
   },
   {
    "duration": 35,
    "start_time": "2023-11-29T11:37:12.664Z"
   },
   {
    "duration": 121,
    "start_time": "2023-11-29T11:37:12.700Z"
   },
   {
    "duration": 5,
    "start_time": "2023-11-29T11:37:12.823Z"
   },
   {
    "duration": 291,
    "start_time": "2023-11-29T11:37:12.829Z"
   },
   {
    "duration": 8,
    "start_time": "2023-11-29T11:37:13.121Z"
   },
   {
    "duration": 296,
    "start_time": "2023-11-29T11:37:13.132Z"
   },
   {
    "duration": 8,
    "start_time": "2023-11-29T11:37:13.430Z"
   },
   {
    "duration": 304,
    "start_time": "2023-11-29T11:37:13.439Z"
   },
   {
    "duration": 17,
    "start_time": "2023-11-29T11:37:13.745Z"
   },
   {
    "duration": 5,
    "start_time": "2023-11-29T11:37:13.764Z"
   },
   {
    "duration": 27,
    "start_time": "2023-11-29T11:37:13.770Z"
   },
   {
    "duration": 19,
    "start_time": "2023-11-29T11:37:13.798Z"
   },
   {
    "duration": 7,
    "start_time": "2023-11-29T11:37:13.818Z"
   },
   {
    "duration": 12,
    "start_time": "2023-11-29T11:37:13.826Z"
   },
   {
    "duration": 16,
    "start_time": "2023-11-29T11:37:13.839Z"
   },
   {
    "duration": 378,
    "start_time": "2023-11-29T11:37:13.856Z"
   },
   {
    "duration": 7,
    "start_time": "2023-11-29T11:37:14.236Z"
   },
   {
    "duration": 305,
    "start_time": "2023-11-29T11:37:14.252Z"
   },
   {
    "duration": 8,
    "start_time": "2023-11-29T11:37:14.558Z"
   },
   {
    "duration": 299,
    "start_time": "2023-11-29T11:37:14.567Z"
   },
   {
    "duration": 8,
    "start_time": "2023-11-29T11:37:14.867Z"
   },
   {
    "duration": 294,
    "start_time": "2023-11-29T11:37:14.876Z"
   },
   {
    "duration": 3,
    "start_time": "2023-11-29T11:37:15.171Z"
   },
   {
    "duration": 10,
    "start_time": "2023-11-29T11:37:15.176Z"
   },
   {
    "duration": 12,
    "start_time": "2023-11-29T11:37:15.187Z"
   },
   {
    "duration": 12,
    "start_time": "2023-11-29T11:37:15.201Z"
   },
   {
    "duration": 12,
    "start_time": "2023-11-29T11:37:15.214Z"
   },
   {
    "duration": 11,
    "start_time": "2023-11-29T11:37:15.252Z"
   },
   {
    "duration": 13,
    "start_time": "2023-11-29T11:37:15.264Z"
   },
   {
    "duration": 3,
    "start_time": "2023-11-29T11:37:15.279Z"
   },
   {
    "duration": 5,
    "start_time": "2023-11-29T11:37:15.283Z"
   },
   {
    "duration": 0,
    "start_time": "2023-11-29T11:37:15.289Z"
   },
   {
    "duration": 0,
    "start_time": "2023-11-29T11:37:15.290Z"
   },
   {
    "duration": 0,
    "start_time": "2023-11-29T11:37:15.291Z"
   },
   {
    "duration": 0,
    "start_time": "2023-11-29T11:37:15.293Z"
   },
   {
    "duration": 11,
    "start_time": "2023-11-29T11:37:49.593Z"
   },
   {
    "duration": 1176,
    "start_time": "2023-11-29T11:37:54.517Z"
   },
   {
    "duration": 1183,
    "start_time": "2023-11-29T11:38:03.979Z"
   },
   {
    "duration": 2,
    "start_time": "2023-11-29T11:40:49.170Z"
   },
   {
    "duration": 3,
    "start_time": "2023-11-29T11:40:52.630Z"
   },
   {
    "duration": 68,
    "start_time": "2023-11-29T11:40:52.635Z"
   },
   {
    "duration": 8,
    "start_time": "2023-11-29T11:40:52.705Z"
   },
   {
    "duration": 11,
    "start_time": "2023-11-29T11:40:52.715Z"
   },
   {
    "duration": 9,
    "start_time": "2023-11-29T11:40:52.728Z"
   },
   {
    "duration": 10,
    "start_time": "2023-11-29T11:40:52.738Z"
   },
   {
    "duration": 23,
    "start_time": "2023-11-29T11:40:52.751Z"
   },
   {
    "duration": 22,
    "start_time": "2023-11-29T11:40:52.776Z"
   },
   {
    "duration": 16,
    "start_time": "2023-11-29T11:40:52.799Z"
   },
   {
    "duration": 6,
    "start_time": "2023-11-29T11:40:52.816Z"
   },
   {
    "duration": 9,
    "start_time": "2023-11-29T11:40:52.824Z"
   },
   {
    "duration": 34,
    "start_time": "2023-11-29T11:40:52.835Z"
   },
   {
    "duration": 21,
    "start_time": "2023-11-29T11:40:52.870Z"
   },
   {
    "duration": 23,
    "start_time": "2023-11-29T11:40:52.893Z"
   },
   {
    "duration": 14,
    "start_time": "2023-11-29T11:40:52.918Z"
   },
   {
    "duration": 7,
    "start_time": "2023-11-29T11:40:52.934Z"
   },
   {
    "duration": 27,
    "start_time": "2023-11-29T11:40:52.942Z"
   },
   {
    "duration": 23,
    "start_time": "2023-11-29T11:40:52.970Z"
   },
   {
    "duration": 16,
    "start_time": "2023-11-29T11:40:52.995Z"
   },
   {
    "duration": 12,
    "start_time": "2023-11-29T11:40:53.013Z"
   },
   {
    "duration": 160,
    "start_time": "2023-11-29T11:40:53.026Z"
   },
   {
    "duration": 6,
    "start_time": "2023-11-29T11:40:53.188Z"
   },
   {
    "duration": 6,
    "start_time": "2023-11-29T11:40:53.195Z"
   },
   {
    "duration": 7,
    "start_time": "2023-11-29T11:40:53.202Z"
   },
   {
    "duration": 135,
    "start_time": "2023-11-29T11:40:53.211Z"
   },
   {
    "duration": 6,
    "start_time": "2023-11-29T11:40:53.351Z"
   },
   {
    "duration": 355,
    "start_time": "2023-11-29T11:40:53.359Z"
   },
   {
    "duration": 8,
    "start_time": "2023-11-29T11:40:53.715Z"
   },
   {
    "duration": 292,
    "start_time": "2023-11-29T11:40:53.726Z"
   },
   {
    "duration": 8,
    "start_time": "2023-11-29T11:40:54.019Z"
   },
   {
    "duration": 318,
    "start_time": "2023-11-29T11:40:54.029Z"
   },
   {
    "duration": 13,
    "start_time": "2023-11-29T11:40:54.351Z"
   },
   {
    "duration": 7,
    "start_time": "2023-11-29T11:40:54.365Z"
   },
   {
    "duration": 19,
    "start_time": "2023-11-29T11:40:54.373Z"
   },
   {
    "duration": 18,
    "start_time": "2023-11-29T11:40:54.393Z"
   },
   {
    "duration": 7,
    "start_time": "2023-11-29T11:40:54.412Z"
   },
   {
    "duration": 19,
    "start_time": "2023-11-29T11:40:54.420Z"
   },
   {
    "duration": 18,
    "start_time": "2023-11-29T11:40:54.440Z"
   },
   {
    "duration": 290,
    "start_time": "2023-11-29T11:40:54.459Z"
   },
   {
    "duration": 8,
    "start_time": "2023-11-29T11:40:54.751Z"
   },
   {
    "duration": 309,
    "start_time": "2023-11-29T11:40:54.760Z"
   },
   {
    "duration": 9,
    "start_time": "2023-11-29T11:40:55.070Z"
   },
   {
    "duration": 306,
    "start_time": "2023-11-29T11:40:55.081Z"
   },
   {
    "duration": 8,
    "start_time": "2023-11-29T11:40:55.388Z"
   },
   {
    "duration": 418,
    "start_time": "2023-11-29T11:40:55.398Z"
   },
   {
    "duration": 4,
    "start_time": "2023-11-29T11:40:55.818Z"
   },
   {
    "duration": 11,
    "start_time": "2023-11-29T11:40:55.824Z"
   },
   {
    "duration": 24,
    "start_time": "2023-11-29T11:40:55.837Z"
   },
   {
    "duration": 14,
    "start_time": "2023-11-29T11:40:55.863Z"
   },
   {
    "duration": 13,
    "start_time": "2023-11-29T11:40:55.879Z"
   },
   {
    "duration": 11,
    "start_time": "2023-11-29T11:40:55.893Z"
   },
   {
    "duration": 47,
    "start_time": "2023-11-29T11:40:55.906Z"
   },
   {
    "duration": 4,
    "start_time": "2023-11-29T11:40:55.955Z"
   },
   {
    "duration": 1400,
    "start_time": "2023-11-29T11:40:55.960Z"
   },
   {
    "duration": 0,
    "start_time": "2023-11-29T11:40:57.361Z"
   },
   {
    "duration": 0,
    "start_time": "2023-11-29T11:40:57.362Z"
   },
   {
    "duration": 0,
    "start_time": "2023-11-29T11:40:57.364Z"
   },
   {
    "duration": 0,
    "start_time": "2023-11-29T11:40:57.364Z"
   },
   {
    "duration": 14,
    "start_time": "2023-11-29T11:41:49.268Z"
   },
   {
    "duration": 14,
    "start_time": "2023-11-29T11:42:16.103Z"
   },
   {
    "duration": 14,
    "start_time": "2023-11-29T11:43:12.961Z"
   },
   {
    "duration": 13,
    "start_time": "2023-11-29T11:43:18.127Z"
   },
   {
    "duration": 13,
    "start_time": "2023-11-29T11:43:36.900Z"
   },
   {
    "duration": 14,
    "start_time": "2023-11-29T11:43:42.511Z"
   },
   {
    "duration": 13,
    "start_time": "2023-11-29T11:43:44.574Z"
   },
   {
    "duration": 25,
    "start_time": "2023-11-29T11:43:45.766Z"
   },
   {
    "duration": 4,
    "start_time": "2023-11-29T11:43:46.437Z"
   },
   {
    "duration": 1243,
    "start_time": "2023-11-29T11:43:47.256Z"
   },
   {
    "duration": 1126,
    "start_time": "2023-11-29T11:43:49.869Z"
   },
   {
    "duration": 13,
    "start_time": "2023-11-29T11:43:51.501Z"
   },
   {
    "duration": 16,
    "start_time": "2023-11-29T11:46:52.378Z"
   },
   {
    "duration": 14,
    "start_time": "2023-11-29T11:49:46.532Z"
   },
   {
    "duration": 5,
    "start_time": "2023-11-29T11:50:25.310Z"
   },
   {
    "duration": 9,
    "start_time": "2023-11-29T11:50:40.826Z"
   },
   {
    "duration": 13,
    "start_time": "2023-11-29T11:51:27.484Z"
   },
   {
    "duration": 10,
    "start_time": "2023-11-29T11:56:52.771Z"
   },
   {
    "duration": 4,
    "start_time": "2023-11-29T12:14:45.281Z"
   },
   {
    "duration": 4,
    "start_time": "2023-11-29T12:14:51.153Z"
   },
   {
    "duration": 5,
    "start_time": "2023-11-29T12:15:32.023Z"
   },
   {
    "duration": 4,
    "start_time": "2023-11-29T12:15:53.462Z"
   },
   {
    "duration": 5,
    "start_time": "2023-11-29T12:21:39.085Z"
   },
   {
    "duration": 3,
    "start_time": "2023-11-29T12:22:21.454Z"
   },
   {
    "duration": 76,
    "start_time": "2023-11-29T12:22:21.459Z"
   },
   {
    "duration": 8,
    "start_time": "2023-11-29T12:22:21.537Z"
   },
   {
    "duration": 31,
    "start_time": "2023-11-29T12:22:21.547Z"
   },
   {
    "duration": 21,
    "start_time": "2023-11-29T12:22:21.580Z"
   },
   {
    "duration": 27,
    "start_time": "2023-11-29T12:22:21.602Z"
   },
   {
    "duration": 30,
    "start_time": "2023-11-29T12:22:21.630Z"
   },
   {
    "duration": 24,
    "start_time": "2023-11-29T12:22:21.661Z"
   },
   {
    "duration": 25,
    "start_time": "2023-11-29T12:22:21.687Z"
   },
   {
    "duration": 11,
    "start_time": "2023-11-29T12:22:21.714Z"
   },
   {
    "duration": 30,
    "start_time": "2023-11-29T12:22:21.726Z"
   },
   {
    "duration": 16,
    "start_time": "2023-11-29T12:22:21.758Z"
   },
   {
    "duration": 23,
    "start_time": "2023-11-29T12:22:21.776Z"
   },
   {
    "duration": 16,
    "start_time": "2023-11-29T12:22:21.800Z"
   },
   {
    "duration": 12,
    "start_time": "2023-11-29T12:22:21.817Z"
   },
   {
    "duration": 19,
    "start_time": "2023-11-29T12:22:21.830Z"
   },
   {
    "duration": 14,
    "start_time": "2023-11-29T12:22:21.851Z"
   },
   {
    "duration": 26,
    "start_time": "2023-11-29T12:22:21.867Z"
   },
   {
    "duration": 16,
    "start_time": "2023-11-29T12:22:21.894Z"
   },
   {
    "duration": 28,
    "start_time": "2023-11-29T12:22:21.911Z"
   },
   {
    "duration": 159,
    "start_time": "2023-11-29T12:22:21.940Z"
   },
   {
    "duration": 6,
    "start_time": "2023-11-29T12:22:22.101Z"
   },
   {
    "duration": 12,
    "start_time": "2023-11-29T12:22:22.108Z"
   },
   {
    "duration": 12,
    "start_time": "2023-11-29T12:22:22.125Z"
   },
   {
    "duration": 118,
    "start_time": "2023-11-29T12:22:22.152Z"
   },
   {
    "duration": 6,
    "start_time": "2023-11-29T12:22:22.272Z"
   },
   {
    "duration": 290,
    "start_time": "2023-11-29T12:22:22.280Z"
   },
   {
    "duration": 9,
    "start_time": "2023-11-29T12:22:22.571Z"
   },
   {
    "duration": 293,
    "start_time": "2023-11-29T12:22:22.581Z"
   },
   {
    "duration": 8,
    "start_time": "2023-11-29T12:22:22.876Z"
   },
   {
    "duration": 332,
    "start_time": "2023-11-29T12:22:22.885Z"
   },
   {
    "duration": 14,
    "start_time": "2023-11-29T12:22:23.218Z"
   },
   {
    "duration": 20,
    "start_time": "2023-11-29T12:22:23.233Z"
   },
   {
    "duration": 17,
    "start_time": "2023-11-29T12:22:23.254Z"
   },
   {
    "duration": 19,
    "start_time": "2023-11-29T12:22:23.272Z"
   },
   {
    "duration": 10,
    "start_time": "2023-11-29T12:22:23.293Z"
   },
   {
    "duration": 8,
    "start_time": "2023-11-29T12:22:23.304Z"
   },
   {
    "duration": 9,
    "start_time": "2023-11-29T12:22:23.313Z"
   },
   {
    "duration": 434,
    "start_time": "2023-11-29T12:22:23.323Z"
   },
   {
    "duration": 8,
    "start_time": "2023-11-29T12:22:23.759Z"
   },
   {
    "duration": 303,
    "start_time": "2023-11-29T12:22:23.768Z"
   },
   {
    "duration": 9,
    "start_time": "2023-11-29T12:22:24.073Z"
   },
   {
    "duration": 295,
    "start_time": "2023-11-29T12:22:24.084Z"
   },
   {
    "duration": 8,
    "start_time": "2023-11-29T12:22:24.381Z"
   },
   {
    "duration": 317,
    "start_time": "2023-11-29T12:22:24.390Z"
   },
   {
    "duration": 4,
    "start_time": "2023-11-29T12:22:24.708Z"
   },
   {
    "duration": 40,
    "start_time": "2023-11-29T12:22:24.713Z"
   },
   {
    "duration": 13,
    "start_time": "2023-11-29T12:22:24.755Z"
   },
   {
    "duration": 12,
    "start_time": "2023-11-29T12:22:24.770Z"
   },
   {
    "duration": 27,
    "start_time": "2023-11-29T12:22:24.784Z"
   },
   {
    "duration": 29,
    "start_time": "2023-11-29T12:22:24.813Z"
   },
   {
    "duration": 33,
    "start_time": "2023-11-29T12:22:24.844Z"
   },
   {
    "duration": 18,
    "start_time": "2023-11-29T12:22:24.878Z"
   },
   {
    "duration": 17,
    "start_time": "2023-11-29T12:22:24.897Z"
   },
   {
    "duration": 5,
    "start_time": "2023-11-29T12:22:24.915Z"
   },
   {
    "duration": 5,
    "start_time": "2023-11-29T12:22:24.921Z"
   },
   {
    "duration": 22,
    "start_time": "2023-11-29T12:22:24.927Z"
   },
   {
    "duration": 13,
    "start_time": "2023-11-29T12:22:24.950Z"
   },
   {
    "duration": 96,
    "start_time": "2023-11-29T12:22:24.965Z"
   },
   {
    "duration": 4,
    "start_time": "2023-11-29T12:26:30.491Z"
   },
   {
    "duration": 6,
    "start_time": "2023-11-29T12:31:17.192Z"
   },
   {
    "duration": 5,
    "start_time": "2023-11-29T12:31:46.012Z"
   },
   {
    "duration": 13,
    "start_time": "2023-11-29T12:36:48.910Z"
   },
   {
    "duration": 14,
    "start_time": "2023-11-29T12:37:27.646Z"
   },
   {
    "duration": 8,
    "start_time": "2023-11-29T12:37:43.356Z"
   },
   {
    "duration": 11,
    "start_time": "2023-11-29T12:38:41.585Z"
   },
   {
    "duration": 9,
    "start_time": "2023-11-29T12:45:04.026Z"
   },
   {
    "duration": 10,
    "start_time": "2023-11-29T12:45:39.441Z"
   },
   {
    "duration": 3,
    "start_time": "2023-11-29T12:53:13.686Z"
   },
   {
    "duration": 3,
    "start_time": "2023-11-29T13:23:28.772Z"
   },
   {
    "duration": 6,
    "start_time": "2023-11-29T13:32:28.545Z"
   },
   {
    "duration": 7,
    "start_time": "2023-11-29T13:32:55.698Z"
   },
   {
    "duration": 6,
    "start_time": "2023-11-29T13:33:01.643Z"
   },
   {
    "duration": 6,
    "start_time": "2023-11-29T13:36:23.543Z"
   },
   {
    "duration": 6,
    "start_time": "2023-11-29T13:36:40.221Z"
   },
   {
    "duration": 5,
    "start_time": "2023-11-29T13:43:09.857Z"
   },
   {
    "duration": 6,
    "start_time": "2023-11-29T13:43:22.127Z"
   },
   {
    "duration": 16,
    "start_time": "2023-11-29T13:51:38.980Z"
   },
   {
    "duration": 15,
    "start_time": "2023-11-29T13:56:17.529Z"
   },
   {
    "duration": 2,
    "start_time": "2023-11-29T13:56:20.347Z"
   },
   {
    "duration": 73,
    "start_time": "2023-11-29T13:56:20.355Z"
   },
   {
    "duration": 10,
    "start_time": "2023-11-29T13:56:20.430Z"
   },
   {
    "duration": 18,
    "start_time": "2023-11-29T13:56:20.442Z"
   },
   {
    "duration": 26,
    "start_time": "2023-11-29T13:56:20.462Z"
   },
   {
    "duration": 27,
    "start_time": "2023-11-29T13:56:20.491Z"
   },
   {
    "duration": 7,
    "start_time": "2023-11-29T13:56:20.520Z"
   },
   {
    "duration": 11,
    "start_time": "2023-11-29T13:56:20.528Z"
   },
   {
    "duration": 17,
    "start_time": "2023-11-29T13:56:20.540Z"
   },
   {
    "duration": 13,
    "start_time": "2023-11-29T13:56:20.559Z"
   },
   {
    "duration": 19,
    "start_time": "2023-11-29T13:56:20.574Z"
   },
   {
    "duration": 24,
    "start_time": "2023-11-29T13:56:20.595Z"
   },
   {
    "duration": 13,
    "start_time": "2023-11-29T13:56:20.620Z"
   },
   {
    "duration": 23,
    "start_time": "2023-11-29T13:56:20.635Z"
   },
   {
    "duration": 9,
    "start_time": "2023-11-29T13:56:20.661Z"
   },
   {
    "duration": 7,
    "start_time": "2023-11-29T13:56:20.671Z"
   },
   {
    "duration": 10,
    "start_time": "2023-11-29T13:56:20.679Z"
   },
   {
    "duration": 14,
    "start_time": "2023-11-29T13:56:20.690Z"
   },
   {
    "duration": 19,
    "start_time": "2023-11-29T13:56:20.705Z"
   },
   {
    "duration": 17,
    "start_time": "2023-11-29T13:56:20.725Z"
   },
   {
    "duration": 135,
    "start_time": "2023-11-29T13:56:20.743Z"
   },
   {
    "duration": 6,
    "start_time": "2023-11-29T13:56:20.879Z"
   },
   {
    "duration": 14,
    "start_time": "2023-11-29T13:56:20.886Z"
   },
   {
    "duration": 14,
    "start_time": "2023-11-29T13:56:20.901Z"
   },
   {
    "duration": 104,
    "start_time": "2023-11-29T13:56:20.916Z"
   },
   {
    "duration": 6,
    "start_time": "2023-11-29T13:56:21.021Z"
   },
   {
    "duration": 280,
    "start_time": "2023-11-29T13:56:21.029Z"
   },
   {
    "duration": 9,
    "start_time": "2023-11-29T13:56:21.311Z"
   },
   {
    "duration": 426,
    "start_time": "2023-11-29T13:56:21.322Z"
   },
   {
    "duration": 8,
    "start_time": "2023-11-29T13:56:21.752Z"
   },
   {
    "duration": 324,
    "start_time": "2023-11-29T13:56:21.762Z"
   },
   {
    "duration": 15,
    "start_time": "2023-11-29T13:56:22.088Z"
   },
   {
    "duration": 6,
    "start_time": "2023-11-29T13:56:22.106Z"
   },
   {
    "duration": 47,
    "start_time": "2023-11-29T13:56:22.114Z"
   },
   {
    "duration": 20,
    "start_time": "2023-11-29T13:56:22.162Z"
   },
   {
    "duration": 7,
    "start_time": "2023-11-29T13:56:22.183Z"
   },
   {
    "duration": 5,
    "start_time": "2023-11-29T13:56:22.191Z"
   },
   {
    "duration": 8,
    "start_time": "2023-11-29T13:56:22.197Z"
   },
   {
    "duration": 327,
    "start_time": "2023-11-29T13:56:22.207Z"
   },
   {
    "duration": 17,
    "start_time": "2023-11-29T13:56:22.535Z"
   },
   {
    "duration": 293,
    "start_time": "2023-11-29T13:56:22.554Z"
   },
   {
    "duration": 7,
    "start_time": "2023-11-29T13:56:22.851Z"
   },
   {
    "duration": 309,
    "start_time": "2023-11-29T13:56:22.860Z"
   },
   {
    "duration": 9,
    "start_time": "2023-11-29T13:56:23.171Z"
   },
   {
    "duration": 394,
    "start_time": "2023-11-29T13:56:23.182Z"
   },
   {
    "duration": 4,
    "start_time": "2023-11-29T13:56:23.578Z"
   },
   {
    "duration": 27,
    "start_time": "2023-11-29T13:56:23.583Z"
   },
   {
    "duration": 35,
    "start_time": "2023-11-29T13:56:23.611Z"
   },
   {
    "duration": 15,
    "start_time": "2023-11-29T13:56:23.647Z"
   },
   {
    "duration": 13,
    "start_time": "2023-11-29T13:56:23.663Z"
   },
   {
    "duration": 17,
    "start_time": "2023-11-29T13:56:23.677Z"
   },
   {
    "duration": 17,
    "start_time": "2023-11-29T13:56:23.696Z"
   },
   {
    "duration": 44,
    "start_time": "2023-11-29T13:56:23.715Z"
   },
   {
    "duration": 9,
    "start_time": "2023-11-29T13:56:23.761Z"
   },
   {
    "duration": 4,
    "start_time": "2023-11-29T13:56:23.771Z"
   },
   {
    "duration": 5,
    "start_time": "2023-11-29T13:56:23.777Z"
   },
   {
    "duration": 4,
    "start_time": "2023-11-29T13:56:23.783Z"
   },
   {
    "duration": 6,
    "start_time": "2023-11-29T13:56:23.789Z"
   },
   {
    "duration": 4,
    "start_time": "2023-11-29T13:56:23.796Z"
   },
   {
    "duration": 91,
    "start_time": "2023-11-29T13:56:23.802Z"
   },
   {
    "duration": 0,
    "start_time": "2023-11-29T13:56:23.894Z"
   },
   {
    "duration": 0,
    "start_time": "2023-11-29T13:56:23.896Z"
   },
   {
    "duration": 0,
    "start_time": "2023-11-29T13:56:23.897Z"
   },
   {
    "duration": 0,
    "start_time": "2023-11-29T13:56:23.897Z"
   },
   {
    "duration": 0,
    "start_time": "2023-11-29T13:56:23.899Z"
   },
   {
    "duration": 0,
    "start_time": "2023-11-29T13:56:23.900Z"
   },
   {
    "duration": 10,
    "start_time": "2023-11-29T13:57:26.847Z"
   },
   {
    "duration": 9,
    "start_time": "2023-11-29T13:58:11.512Z"
   },
   {
    "duration": 3,
    "start_time": "2023-11-29T13:58:23.530Z"
   },
   {
    "duration": 72,
    "start_time": "2023-11-29T13:58:23.535Z"
   },
   {
    "duration": 9,
    "start_time": "2023-11-29T13:58:23.609Z"
   },
   {
    "duration": 14,
    "start_time": "2023-11-29T13:58:23.620Z"
   },
   {
    "duration": 21,
    "start_time": "2023-11-29T13:58:23.636Z"
   },
   {
    "duration": 19,
    "start_time": "2023-11-29T13:58:23.659Z"
   },
   {
    "duration": 11,
    "start_time": "2023-11-29T13:58:23.680Z"
   },
   {
    "duration": 21,
    "start_time": "2023-11-29T13:58:23.693Z"
   },
   {
    "duration": 12,
    "start_time": "2023-11-29T13:58:23.715Z"
   },
   {
    "duration": 26,
    "start_time": "2023-11-29T13:58:23.728Z"
   },
   {
    "duration": 8,
    "start_time": "2023-11-29T13:58:23.756Z"
   },
   {
    "duration": 14,
    "start_time": "2023-11-29T13:58:23.766Z"
   },
   {
    "duration": 13,
    "start_time": "2023-11-29T13:58:23.782Z"
   },
   {
    "duration": 23,
    "start_time": "2023-11-29T13:58:23.799Z"
   },
   {
    "duration": 6,
    "start_time": "2023-11-29T13:58:23.824Z"
   },
   {
    "duration": 23,
    "start_time": "2023-11-29T13:58:23.832Z"
   },
   {
    "duration": 6,
    "start_time": "2023-11-29T13:58:23.857Z"
   },
   {
    "duration": 15,
    "start_time": "2023-11-29T13:58:23.865Z"
   },
   {
    "duration": 4,
    "start_time": "2023-11-29T13:58:23.882Z"
   },
   {
    "duration": 16,
    "start_time": "2023-11-29T13:58:23.888Z"
   },
   {
    "duration": 167,
    "start_time": "2023-11-29T13:58:23.906Z"
   },
   {
    "duration": 6,
    "start_time": "2023-11-29T13:58:24.074Z"
   },
   {
    "duration": 17,
    "start_time": "2023-11-29T13:58:24.081Z"
   },
   {
    "duration": 17,
    "start_time": "2023-11-29T13:58:24.099Z"
   },
   {
    "duration": 118,
    "start_time": "2023-11-29T13:58:24.117Z"
   },
   {
    "duration": 5,
    "start_time": "2023-11-29T13:58:24.236Z"
   },
   {
    "duration": 284,
    "start_time": "2023-11-29T13:58:24.251Z"
   },
   {
    "duration": 20,
    "start_time": "2023-11-29T13:58:24.536Z"
   },
   {
    "duration": 310,
    "start_time": "2023-11-29T13:58:24.558Z"
   },
   {
    "duration": 8,
    "start_time": "2023-11-29T13:58:24.870Z"
   },
   {
    "duration": 385,
    "start_time": "2023-11-29T13:58:24.879Z"
   },
   {
    "duration": 12,
    "start_time": "2023-11-29T13:58:25.266Z"
   },
   {
    "duration": 11,
    "start_time": "2023-11-29T13:58:25.280Z"
   },
   {
    "duration": 17,
    "start_time": "2023-11-29T13:58:25.293Z"
   },
   {
    "duration": 42,
    "start_time": "2023-11-29T13:58:25.311Z"
   },
   {
    "duration": 20,
    "start_time": "2023-11-29T13:58:25.354Z"
   },
   {
    "duration": 4,
    "start_time": "2023-11-29T13:58:25.376Z"
   },
   {
    "duration": 12,
    "start_time": "2023-11-29T13:58:25.382Z"
   },
   {
    "duration": 15,
    "start_time": "2023-11-29T13:58:25.395Z"
   },
   {
    "duration": 302,
    "start_time": "2023-11-29T13:58:25.412Z"
   },
   {
    "duration": 8,
    "start_time": "2023-11-29T13:58:25.718Z"
   },
   {
    "duration": 423,
    "start_time": "2023-11-29T13:58:25.727Z"
   },
   {
    "duration": 8,
    "start_time": "2023-11-29T13:58:26.152Z"
   },
   {
    "duration": 298,
    "start_time": "2023-11-29T13:58:26.162Z"
   },
   {
    "duration": 7,
    "start_time": "2023-11-29T13:58:26.462Z"
   },
   {
    "duration": 296,
    "start_time": "2023-11-29T13:58:26.471Z"
   },
   {
    "duration": 4,
    "start_time": "2023-11-29T13:58:26.769Z"
   },
   {
    "duration": 26,
    "start_time": "2023-11-29T13:58:26.774Z"
   },
   {
    "duration": 37,
    "start_time": "2023-11-29T13:58:26.802Z"
   },
   {
    "duration": 13,
    "start_time": "2023-11-29T13:58:26.841Z"
   },
   {
    "duration": 13,
    "start_time": "2023-11-29T13:58:26.855Z"
   },
   {
    "duration": 14,
    "start_time": "2023-11-29T13:58:26.869Z"
   },
   {
    "duration": 13,
    "start_time": "2023-11-29T13:58:26.885Z"
   },
   {
    "duration": 21,
    "start_time": "2023-11-29T13:58:26.900Z"
   },
   {
    "duration": 34,
    "start_time": "2023-11-29T13:58:26.922Z"
   },
   {
    "duration": 14,
    "start_time": "2023-11-29T13:58:26.958Z"
   },
   {
    "duration": 26,
    "start_time": "2023-11-29T13:58:26.974Z"
   },
   {
    "duration": 21,
    "start_time": "2023-11-29T13:58:27.002Z"
   },
   {
    "duration": 33,
    "start_time": "2023-11-29T13:58:27.025Z"
   },
   {
    "duration": 20,
    "start_time": "2023-11-29T13:58:27.059Z"
   },
   {
    "duration": 78,
    "start_time": "2023-11-29T13:58:27.080Z"
   },
   {
    "duration": 0,
    "start_time": "2023-11-29T13:58:27.160Z"
   },
   {
    "duration": 0,
    "start_time": "2023-11-29T13:58:27.161Z"
   },
   {
    "duration": 0,
    "start_time": "2023-11-29T13:58:27.162Z"
   },
   {
    "duration": 0,
    "start_time": "2023-11-29T13:58:27.164Z"
   },
   {
    "duration": 0,
    "start_time": "2023-11-29T13:58:27.165Z"
   },
   {
    "duration": 0,
    "start_time": "2023-11-29T13:58:27.167Z"
   },
   {
    "duration": 21,
    "start_time": "2023-11-29T13:59:27.365Z"
   },
   {
    "duration": 3,
    "start_time": "2023-11-29T14:01:37.435Z"
   },
   {
    "duration": 64,
    "start_time": "2023-11-29T14:01:37.442Z"
   },
   {
    "duration": 10,
    "start_time": "2023-11-29T14:01:37.508Z"
   },
   {
    "duration": 12,
    "start_time": "2023-11-29T14:01:37.519Z"
   },
   {
    "duration": 12,
    "start_time": "2023-11-29T14:01:37.533Z"
   },
   {
    "duration": 12,
    "start_time": "2023-11-29T14:01:37.547Z"
   },
   {
    "duration": 6,
    "start_time": "2023-11-29T14:01:37.561Z"
   },
   {
    "duration": 21,
    "start_time": "2023-11-29T14:01:37.568Z"
   },
   {
    "duration": 9,
    "start_time": "2023-11-29T14:01:37.590Z"
   },
   {
    "duration": 8,
    "start_time": "2023-11-29T14:01:37.600Z"
   },
   {
    "duration": 6,
    "start_time": "2023-11-29T14:01:37.654Z"
   },
   {
    "duration": 11,
    "start_time": "2023-11-29T14:01:37.661Z"
   },
   {
    "duration": 7,
    "start_time": "2023-11-29T14:01:37.674Z"
   },
   {
    "duration": 18,
    "start_time": "2023-11-29T14:01:37.682Z"
   },
   {
    "duration": 8,
    "start_time": "2023-11-29T14:01:37.702Z"
   },
   {
    "duration": 4,
    "start_time": "2023-11-29T14:01:37.712Z"
   },
   {
    "duration": 36,
    "start_time": "2023-11-29T14:01:37.718Z"
   },
   {
    "duration": 15,
    "start_time": "2023-11-29T14:01:37.756Z"
   },
   {
    "duration": 4,
    "start_time": "2023-11-29T14:01:37.773Z"
   },
   {
    "duration": 6,
    "start_time": "2023-11-29T14:01:37.778Z"
   },
   {
    "duration": 183,
    "start_time": "2023-11-29T14:01:37.786Z"
   },
   {
    "duration": 7,
    "start_time": "2023-11-29T14:01:37.971Z"
   },
   {
    "duration": 25,
    "start_time": "2023-11-29T14:01:37.979Z"
   },
   {
    "duration": 15,
    "start_time": "2023-11-29T14:01:38.006Z"
   },
   {
    "duration": 108,
    "start_time": "2023-11-29T14:01:38.023Z"
   },
   {
    "duration": 7,
    "start_time": "2023-11-29T14:01:38.132Z"
   },
   {
    "duration": 277,
    "start_time": "2023-11-29T14:01:38.140Z"
   },
   {
    "duration": 8,
    "start_time": "2023-11-29T14:01:38.419Z"
   },
   {
    "duration": 402,
    "start_time": "2023-11-29T14:01:38.431Z"
   },
   {
    "duration": 21,
    "start_time": "2023-11-29T14:01:38.835Z"
   },
   {
    "duration": 350,
    "start_time": "2023-11-29T14:01:38.858Z"
   },
   {
    "duration": 16,
    "start_time": "2023-11-29T14:01:39.210Z"
   },
   {
    "duration": 25,
    "start_time": "2023-11-29T14:01:39.228Z"
   },
   {
    "duration": 5,
    "start_time": "2023-11-29T14:01:39.254Z"
   },
   {
    "duration": 19,
    "start_time": "2023-11-29T14:01:39.260Z"
   },
   {
    "duration": 18,
    "start_time": "2023-11-29T14:01:39.281Z"
   },
   {
    "duration": 4,
    "start_time": "2023-11-29T14:01:39.301Z"
   },
   {
    "duration": 39,
    "start_time": "2023-11-29T14:01:39.306Z"
   },
   {
    "duration": 15,
    "start_time": "2023-11-29T14:01:39.347Z"
   },
   {
    "duration": 297,
    "start_time": "2023-11-29T14:01:39.364Z"
   },
   {
    "duration": 7,
    "start_time": "2023-11-29T14:01:39.662Z"
   },
   {
    "duration": 312,
    "start_time": "2023-11-29T14:01:39.670Z"
   },
   {
    "duration": 8,
    "start_time": "2023-11-29T14:01:39.984Z"
   },
   {
    "duration": 304,
    "start_time": "2023-11-29T14:01:39.993Z"
   },
   {
    "duration": 7,
    "start_time": "2023-11-29T14:01:40.299Z"
   },
   {
    "duration": 284,
    "start_time": "2023-11-29T14:01:40.307Z"
   },
   {
    "duration": 3,
    "start_time": "2023-11-29T14:01:40.593Z"
   },
   {
    "duration": 11,
    "start_time": "2023-11-29T14:01:40.598Z"
   },
   {
    "duration": 13,
    "start_time": "2023-11-29T14:01:40.610Z"
   },
   {
    "duration": 39,
    "start_time": "2023-11-29T14:01:40.624Z"
   },
   {
    "duration": 12,
    "start_time": "2023-11-29T14:01:40.664Z"
   },
   {
    "duration": 15,
    "start_time": "2023-11-29T14:01:40.678Z"
   },
   {
    "duration": 13,
    "start_time": "2023-11-29T14:01:40.695Z"
   },
   {
    "duration": 159,
    "start_time": "2023-11-29T14:01:40.709Z"
   },
   {
    "duration": 9,
    "start_time": "2023-11-29T14:01:40.870Z"
   },
   {
    "duration": 5,
    "start_time": "2023-11-29T14:01:40.881Z"
   },
   {
    "duration": 3,
    "start_time": "2023-11-29T14:01:40.888Z"
   },
   {
    "duration": 12,
    "start_time": "2023-11-29T14:01:40.892Z"
   },
   {
    "duration": 5,
    "start_time": "2023-11-29T14:01:40.906Z"
   },
   {
    "duration": 39,
    "start_time": "2023-11-29T14:01:40.913Z"
   },
   {
    "duration": 88,
    "start_time": "2023-11-29T14:01:40.954Z"
   },
   {
    "duration": 0,
    "start_time": "2023-11-29T14:01:41.044Z"
   },
   {
    "duration": 0,
    "start_time": "2023-11-29T14:01:41.045Z"
   },
   {
    "duration": 0,
    "start_time": "2023-11-29T14:01:41.046Z"
   },
   {
    "duration": 0,
    "start_time": "2023-11-29T14:01:41.048Z"
   },
   {
    "duration": 0,
    "start_time": "2023-11-29T14:01:41.049Z"
   },
   {
    "duration": 0,
    "start_time": "2023-11-29T14:01:41.050Z"
   },
   {
    "duration": 2,
    "start_time": "2023-11-29T14:02:42.898Z"
   },
   {
    "duration": 68,
    "start_time": "2023-11-29T14:02:42.902Z"
   },
   {
    "duration": 10,
    "start_time": "2023-11-29T14:02:42.972Z"
   },
   {
    "duration": 11,
    "start_time": "2023-11-29T14:02:42.984Z"
   },
   {
    "duration": 25,
    "start_time": "2023-11-29T14:02:42.997Z"
   },
   {
    "duration": 31,
    "start_time": "2023-11-29T14:02:43.024Z"
   },
   {
    "duration": 7,
    "start_time": "2023-11-29T14:02:43.057Z"
   },
   {
    "duration": 22,
    "start_time": "2023-11-29T14:02:43.066Z"
   },
   {
    "duration": 6,
    "start_time": "2023-11-29T14:02:43.090Z"
   },
   {
    "duration": 13,
    "start_time": "2023-11-29T14:02:43.097Z"
   },
   {
    "duration": 9,
    "start_time": "2023-11-29T14:02:43.113Z"
   },
   {
    "duration": 32,
    "start_time": "2023-11-29T14:02:43.124Z"
   },
   {
    "duration": 8,
    "start_time": "2023-11-29T14:02:43.158Z"
   },
   {
    "duration": 12,
    "start_time": "2023-11-29T14:02:43.168Z"
   },
   {
    "duration": 6,
    "start_time": "2023-11-29T14:02:43.182Z"
   },
   {
    "duration": 5,
    "start_time": "2023-11-29T14:02:43.189Z"
   },
   {
    "duration": 5,
    "start_time": "2023-11-29T14:02:43.196Z"
   },
   {
    "duration": 55,
    "start_time": "2023-11-29T14:02:43.204Z"
   },
   {
    "duration": 3,
    "start_time": "2023-11-29T14:02:43.261Z"
   },
   {
    "duration": 15,
    "start_time": "2023-11-29T14:02:43.266Z"
   },
   {
    "duration": 151,
    "start_time": "2023-11-29T14:02:43.283Z"
   },
   {
    "duration": 16,
    "start_time": "2023-11-29T14:02:43.436Z"
   },
   {
    "duration": 5,
    "start_time": "2023-11-29T14:02:43.454Z"
   },
   {
    "duration": 7,
    "start_time": "2023-11-29T14:02:43.460Z"
   },
   {
    "duration": 123,
    "start_time": "2023-11-29T14:02:43.469Z"
   },
   {
    "duration": 8,
    "start_time": "2023-11-29T14:02:43.594Z"
   },
   {
    "duration": 274,
    "start_time": "2023-11-29T14:02:43.604Z"
   },
   {
    "duration": 10,
    "start_time": "2023-11-29T14:02:43.880Z"
   },
   {
    "duration": 328,
    "start_time": "2023-11-29T14:02:43.895Z"
   },
   {
    "duration": 10,
    "start_time": "2023-11-29T14:02:44.225Z"
   },
   {
    "duration": 314,
    "start_time": "2023-11-29T14:02:44.251Z"
   },
   {
    "duration": 12,
    "start_time": "2023-11-29T14:02:44.567Z"
   },
   {
    "duration": 13,
    "start_time": "2023-11-29T14:02:44.581Z"
   },
   {
    "duration": 10,
    "start_time": "2023-11-29T14:02:44.595Z"
   },
   {
    "duration": 20,
    "start_time": "2023-11-29T14:02:44.606Z"
   },
   {
    "duration": 41,
    "start_time": "2023-11-29T14:02:44.627Z"
   },
   {
    "duration": 7,
    "start_time": "2023-11-29T14:02:44.669Z"
   },
   {
    "duration": 16,
    "start_time": "2023-11-29T14:02:44.677Z"
   },
   {
    "duration": 13,
    "start_time": "2023-11-29T14:02:44.694Z"
   },
   {
    "duration": 309,
    "start_time": "2023-11-29T14:02:44.709Z"
   },
   {
    "duration": 9,
    "start_time": "2023-11-29T14:02:45.019Z"
   },
   {
    "duration": 450,
    "start_time": "2023-11-29T14:02:45.030Z"
   },
   {
    "duration": 8,
    "start_time": "2023-11-29T14:02:45.481Z"
   },
   {
    "duration": 316,
    "start_time": "2023-11-29T14:02:45.490Z"
   },
   {
    "duration": 7,
    "start_time": "2023-11-29T14:02:45.808Z"
   },
   {
    "duration": 299,
    "start_time": "2023-11-29T14:02:45.816Z"
   },
   {
    "duration": 4,
    "start_time": "2023-11-29T14:02:46.116Z"
   },
   {
    "duration": 23,
    "start_time": "2023-11-29T14:02:46.121Z"
   },
   {
    "duration": 13,
    "start_time": "2023-11-29T14:02:46.152Z"
   },
   {
    "duration": 12,
    "start_time": "2023-11-29T14:02:46.167Z"
   },
   {
    "duration": 12,
    "start_time": "2023-11-29T14:02:46.181Z"
   },
   {
    "duration": 12,
    "start_time": "2023-11-29T14:02:46.195Z"
   },
   {
    "duration": 55,
    "start_time": "2023-11-29T14:02:46.208Z"
   },
   {
    "duration": 17,
    "start_time": "2023-11-29T14:02:46.264Z"
   },
   {
    "duration": 22,
    "start_time": "2023-11-29T14:02:46.283Z"
   },
   {
    "duration": 13,
    "start_time": "2023-11-29T14:02:46.306Z"
   },
   {
    "duration": 16,
    "start_time": "2023-11-29T14:02:46.320Z"
   },
   {
    "duration": 6,
    "start_time": "2023-11-29T14:02:46.337Z"
   },
   {
    "duration": 12,
    "start_time": "2023-11-29T14:02:46.345Z"
   },
   {
    "duration": 21,
    "start_time": "2023-11-29T14:02:46.359Z"
   },
   {
    "duration": 75,
    "start_time": "2023-11-29T14:02:46.382Z"
   },
   {
    "duration": 0,
    "start_time": "2023-11-29T14:02:46.458Z"
   },
   {
    "duration": 0,
    "start_time": "2023-11-29T14:02:46.460Z"
   },
   {
    "duration": 0,
    "start_time": "2023-11-29T14:02:46.461Z"
   },
   {
    "duration": 0,
    "start_time": "2023-11-29T14:02:46.461Z"
   },
   {
    "duration": 0,
    "start_time": "2023-11-29T14:02:46.462Z"
   },
   {
    "duration": 0,
    "start_time": "2023-11-29T14:02:46.463Z"
   },
   {
    "duration": 3,
    "start_time": "2023-11-29T14:03:11.309Z"
   },
   {
    "duration": 73,
    "start_time": "2023-11-29T14:03:11.314Z"
   },
   {
    "duration": 10,
    "start_time": "2023-11-29T14:03:11.389Z"
   },
   {
    "duration": 23,
    "start_time": "2023-11-29T14:03:11.402Z"
   },
   {
    "duration": 31,
    "start_time": "2023-11-29T14:03:11.428Z"
   },
   {
    "duration": 15,
    "start_time": "2023-11-29T14:03:11.461Z"
   },
   {
    "duration": 7,
    "start_time": "2023-11-29T14:03:11.478Z"
   },
   {
    "duration": 15,
    "start_time": "2023-11-29T14:03:11.487Z"
   },
   {
    "duration": 20,
    "start_time": "2023-11-29T14:03:11.505Z"
   },
   {
    "duration": 25,
    "start_time": "2023-11-29T14:03:11.527Z"
   },
   {
    "duration": 7,
    "start_time": "2023-11-29T14:03:11.555Z"
   },
   {
    "duration": 9,
    "start_time": "2023-11-29T14:03:11.563Z"
   },
   {
    "duration": 6,
    "start_time": "2023-11-29T14:03:11.574Z"
   },
   {
    "duration": 8,
    "start_time": "2023-11-29T14:03:11.581Z"
   },
   {
    "duration": 5,
    "start_time": "2023-11-29T14:03:11.591Z"
   },
   {
    "duration": 15,
    "start_time": "2023-11-29T14:03:11.597Z"
   },
   {
    "duration": 40,
    "start_time": "2023-11-29T14:03:11.613Z"
   },
   {
    "duration": 11,
    "start_time": "2023-11-29T14:03:11.655Z"
   },
   {
    "duration": 7,
    "start_time": "2023-11-29T14:03:11.667Z"
   },
   {
    "duration": 8,
    "start_time": "2023-11-29T14:03:11.675Z"
   },
   {
    "duration": 158,
    "start_time": "2023-11-29T14:03:11.685Z"
   },
   {
    "duration": 5,
    "start_time": "2023-11-29T14:03:11.851Z"
   },
   {
    "duration": 6,
    "start_time": "2023-11-29T14:03:11.858Z"
   },
   {
    "duration": 9,
    "start_time": "2023-11-29T14:03:11.867Z"
   },
   {
    "duration": 133,
    "start_time": "2023-11-29T14:03:11.877Z"
   },
   {
    "duration": 6,
    "start_time": "2023-11-29T14:03:12.011Z"
   },
   {
    "duration": 265,
    "start_time": "2023-11-29T14:03:12.019Z"
   },
   {
    "duration": 8,
    "start_time": "2023-11-29T14:03:12.285Z"
   },
   {
    "duration": 317,
    "start_time": "2023-11-29T14:03:12.294Z"
   },
   {
    "duration": 10,
    "start_time": "2023-11-29T14:03:12.613Z"
   },
   {
    "duration": 424,
    "start_time": "2023-11-29T14:03:12.624Z"
   },
   {
    "duration": 14,
    "start_time": "2023-11-29T14:03:13.051Z"
   },
   {
    "duration": 8,
    "start_time": "2023-11-29T14:03:13.067Z"
   },
   {
    "duration": 10,
    "start_time": "2023-11-29T14:03:13.076Z"
   },
   {
    "duration": 25,
    "start_time": "2023-11-29T14:03:13.087Z"
   },
   {
    "duration": 41,
    "start_time": "2023-11-29T14:03:13.113Z"
   },
   {
    "duration": 7,
    "start_time": "2023-11-29T14:03:13.156Z"
   },
   {
    "duration": 7,
    "start_time": "2023-11-29T14:03:13.164Z"
   },
   {
    "duration": 9,
    "start_time": "2023-11-29T14:03:13.173Z"
   },
   {
    "duration": 333,
    "start_time": "2023-11-29T14:03:13.184Z"
   },
   {
    "duration": 9,
    "start_time": "2023-11-29T14:03:13.519Z"
   },
   {
    "duration": 311,
    "start_time": "2023-11-29T14:03:13.529Z"
   },
   {
    "duration": 7,
    "start_time": "2023-11-29T14:03:13.851Z"
   },
   {
    "duration": 299,
    "start_time": "2023-11-29T14:03:13.860Z"
   },
   {
    "duration": 8,
    "start_time": "2023-11-29T14:03:14.160Z"
   },
   {
    "duration": 304,
    "start_time": "2023-11-29T14:03:14.169Z"
   },
   {
    "duration": 3,
    "start_time": "2023-11-29T14:03:14.475Z"
   },
   {
    "duration": 39,
    "start_time": "2023-11-29T14:03:14.480Z"
   },
   {
    "duration": 29,
    "start_time": "2023-11-29T14:03:14.521Z"
   },
   {
    "duration": 25,
    "start_time": "2023-11-29T14:03:14.551Z"
   },
   {
    "duration": 27,
    "start_time": "2023-11-29T14:03:14.577Z"
   },
   {
    "duration": 19,
    "start_time": "2023-11-29T14:03:14.605Z"
   },
   {
    "duration": 34,
    "start_time": "2023-11-29T14:03:14.625Z"
   },
   {
    "duration": 14,
    "start_time": "2023-11-29T14:03:14.661Z"
   },
   {
    "duration": 10,
    "start_time": "2023-11-29T14:03:14.676Z"
   },
   {
    "duration": 13,
    "start_time": "2023-11-29T14:03:14.688Z"
   },
   {
    "duration": 21,
    "start_time": "2023-11-29T14:03:14.702Z"
   },
   {
    "duration": 18,
    "start_time": "2023-11-29T14:03:14.725Z"
   },
   {
    "duration": 21,
    "start_time": "2023-11-29T14:03:14.744Z"
   },
   {
    "duration": 25,
    "start_time": "2023-11-29T14:03:14.767Z"
   },
   {
    "duration": 77,
    "start_time": "2023-11-29T14:03:14.794Z"
   },
   {
    "duration": 0,
    "start_time": "2023-11-29T14:03:14.873Z"
   },
   {
    "duration": 0,
    "start_time": "2023-11-29T14:03:14.875Z"
   },
   {
    "duration": 0,
    "start_time": "2023-11-29T14:03:14.876Z"
   },
   {
    "duration": 0,
    "start_time": "2023-11-29T14:03:14.877Z"
   },
   {
    "duration": 1,
    "start_time": "2023-11-29T14:03:14.878Z"
   },
   {
    "duration": 0,
    "start_time": "2023-11-29T14:03:14.879Z"
   },
   {
    "duration": 6,
    "start_time": "2023-11-29T14:06:00.398Z"
   },
   {
    "duration": 1203,
    "start_time": "2023-11-29T14:06:56.196Z"
   },
   {
    "duration": 1236,
    "start_time": "2023-11-29T14:07:27.182Z"
   },
   {
    "duration": 3,
    "start_time": "2023-11-29T14:07:37.763Z"
   },
   {
    "duration": 92,
    "start_time": "2023-11-29T14:07:37.768Z"
   },
   {
    "duration": 10,
    "start_time": "2023-11-29T14:07:37.862Z"
   },
   {
    "duration": 17,
    "start_time": "2023-11-29T14:07:37.874Z"
   },
   {
    "duration": 20,
    "start_time": "2023-11-29T14:07:37.893Z"
   },
   {
    "duration": 99,
    "start_time": "2023-11-29T14:07:37.914Z"
   },
   {
    "duration": 8,
    "start_time": "2023-11-29T14:07:38.015Z"
   },
   {
    "duration": 12,
    "start_time": "2023-11-29T14:07:38.024Z"
   },
   {
    "duration": 9,
    "start_time": "2023-11-29T14:07:38.037Z"
   },
   {
    "duration": 4,
    "start_time": "2023-11-29T14:07:38.048Z"
   },
   {
    "duration": 6,
    "start_time": "2023-11-29T14:07:38.055Z"
   },
   {
    "duration": 7,
    "start_time": "2023-11-29T14:07:38.062Z"
   },
   {
    "duration": 4,
    "start_time": "2023-11-29T14:07:38.071Z"
   },
   {
    "duration": 8,
    "start_time": "2023-11-29T14:07:38.076Z"
   },
   {
    "duration": 5,
    "start_time": "2023-11-29T14:07:38.086Z"
   },
   {
    "duration": 4,
    "start_time": "2023-11-29T14:07:38.093Z"
   },
   {
    "duration": 7,
    "start_time": "2023-11-29T14:07:38.098Z"
   },
   {
    "duration": 54,
    "start_time": "2023-11-29T14:07:38.106Z"
   },
   {
    "duration": 3,
    "start_time": "2023-11-29T14:07:38.162Z"
   },
   {
    "duration": 7,
    "start_time": "2023-11-29T14:07:38.167Z"
   },
   {
    "duration": 157,
    "start_time": "2023-11-29T14:07:38.175Z"
   },
   {
    "duration": 5,
    "start_time": "2023-11-29T14:07:38.334Z"
   },
   {
    "duration": 5,
    "start_time": "2023-11-29T14:07:38.352Z"
   },
   {
    "duration": 9,
    "start_time": "2023-11-29T14:07:38.359Z"
   },
   {
    "duration": 245,
    "start_time": "2023-11-29T14:07:38.370Z"
   },
   {
    "duration": 6,
    "start_time": "2023-11-29T14:07:38.617Z"
   },
   {
    "duration": 266,
    "start_time": "2023-11-29T14:07:38.624Z"
   },
   {
    "duration": 8,
    "start_time": "2023-11-29T14:07:38.892Z"
   },
   {
    "duration": 302,
    "start_time": "2023-11-29T14:07:38.904Z"
   },
   {
    "duration": 9,
    "start_time": "2023-11-29T14:07:39.208Z"
   },
   {
    "duration": 320,
    "start_time": "2023-11-29T14:07:39.218Z"
   },
   {
    "duration": 26,
    "start_time": "2023-11-29T14:07:39.540Z"
   },
   {
    "duration": 8,
    "start_time": "2023-11-29T14:07:39.568Z"
   },
   {
    "duration": 5,
    "start_time": "2023-11-29T14:07:39.578Z"
   },
   {
    "duration": 18,
    "start_time": "2023-11-29T14:07:39.585Z"
   },
   {
    "duration": 61,
    "start_time": "2023-11-29T14:07:39.604Z"
   },
   {
    "duration": 8,
    "start_time": "2023-11-29T14:07:39.667Z"
   },
   {
    "duration": 5,
    "start_time": "2023-11-29T14:07:39.677Z"
   },
   {
    "duration": 8,
    "start_time": "2023-11-29T14:07:39.684Z"
   },
   {
    "duration": 318,
    "start_time": "2023-11-29T14:07:39.694Z"
   },
   {
    "duration": 8,
    "start_time": "2023-11-29T14:07:40.013Z"
   },
   {
    "duration": 288,
    "start_time": "2023-11-29T14:07:40.022Z"
   },
   {
    "duration": 8,
    "start_time": "2023-11-29T14:07:40.312Z"
   },
   {
    "duration": 426,
    "start_time": "2023-11-29T14:07:40.321Z"
   },
   {
    "duration": 9,
    "start_time": "2023-11-29T14:07:40.751Z"
   },
   {
    "duration": 311,
    "start_time": "2023-11-29T14:07:40.761Z"
   },
   {
    "duration": 4,
    "start_time": "2023-11-29T14:07:41.073Z"
   },
   {
    "duration": 15,
    "start_time": "2023-11-29T14:07:41.078Z"
   },
   {
    "duration": 18,
    "start_time": "2023-11-29T14:07:41.094Z"
   },
   {
    "duration": 13,
    "start_time": "2023-11-29T14:07:41.114Z"
   },
   {
    "duration": 35,
    "start_time": "2023-11-29T14:07:41.129Z"
   },
   {
    "duration": 12,
    "start_time": "2023-11-29T14:07:41.166Z"
   },
   {
    "duration": 15,
    "start_time": "2023-11-29T14:07:41.180Z"
   },
   {
    "duration": 13,
    "start_time": "2023-11-29T14:07:41.196Z"
   },
   {
    "duration": 44,
    "start_time": "2023-11-29T14:07:41.211Z"
   },
   {
    "duration": 5,
    "start_time": "2023-11-29T14:07:41.257Z"
   },
   {
    "duration": 7,
    "start_time": "2023-11-29T14:07:41.263Z"
   },
   {
    "duration": 10,
    "start_time": "2023-11-29T14:07:41.271Z"
   },
   {
    "duration": 6,
    "start_time": "2023-11-29T14:07:41.282Z"
   },
   {
    "duration": 6,
    "start_time": "2023-11-29T14:07:41.289Z"
   },
   {
    "duration": 14,
    "start_time": "2023-11-29T14:07:41.296Z"
   },
   {
    "duration": 13,
    "start_time": "2023-11-29T14:07:41.351Z"
   },
   {
    "duration": 9,
    "start_time": "2023-11-29T14:07:41.368Z"
   },
   {
    "duration": 4,
    "start_time": "2023-11-29T14:07:41.378Z"
   },
   {
    "duration": 9,
    "start_time": "2023-11-29T14:07:41.383Z"
   },
   {
    "duration": 98,
    "start_time": "2023-11-29T14:07:41.393Z"
   },
   {
    "duration": 6,
    "start_time": "2023-11-29T14:09:20.419Z"
   },
   {
    "duration": 11,
    "start_time": "2023-11-29T14:10:29.821Z"
   },
   {
    "duration": 4,
    "start_time": "2023-11-29T14:11:25.230Z"
   },
   {
    "duration": 4,
    "start_time": "2023-11-29T14:11:34.353Z"
   },
   {
    "duration": 3,
    "start_time": "2023-11-29T14:11:51.310Z"
   },
   {
    "duration": 6,
    "start_time": "2023-11-29T14:14:19.692Z"
   },
   {
    "duration": 6,
    "start_time": "2023-11-29T14:15:00.197Z"
   },
   {
    "duration": 9,
    "start_time": "2023-11-29T14:59:22.880Z"
   },
   {
    "duration": 5,
    "start_time": "2023-11-29T14:59:36.906Z"
   },
   {
    "duration": 4,
    "start_time": "2023-11-29T15:09:56.761Z"
   },
   {
    "duration": 4,
    "start_time": "2023-11-29T15:10:06.825Z"
   },
   {
    "duration": 5,
    "start_time": "2023-11-29T15:18:31.731Z"
   },
   {
    "duration": 6,
    "start_time": "2023-11-29T15:18:56.155Z"
   },
   {
    "duration": 5,
    "start_time": "2023-11-29T15:20:00.939Z"
   },
   {
    "duration": 6,
    "start_time": "2023-11-29T15:20:08.368Z"
   },
   {
    "duration": 5,
    "start_time": "2023-11-29T15:20:17.868Z"
   },
   {
    "duration": 6,
    "start_time": "2023-11-29T15:20:23.693Z"
   },
   {
    "duration": 6,
    "start_time": "2023-11-29T15:20:29.667Z"
   },
   {
    "duration": 6,
    "start_time": "2023-11-29T15:32:05.856Z"
   },
   {
    "duration": 6,
    "start_time": "2023-11-29T15:32:45.738Z"
   },
   {
    "duration": 13,
    "start_time": "2023-11-29T15:34:19.058Z"
   },
   {
    "duration": 6,
    "start_time": "2023-11-29T15:34:49.075Z"
   },
   {
    "duration": 5,
    "start_time": "2023-11-29T15:40:13.901Z"
   },
   {
    "duration": 6,
    "start_time": "2023-11-29T15:40:20.434Z"
   },
   {
    "duration": 5,
    "start_time": "2023-11-29T15:40:25.782Z"
   },
   {
    "duration": 5,
    "start_time": "2023-11-29T15:40:31.344Z"
   },
   {
    "duration": 5,
    "start_time": "2023-11-29T15:40:36.710Z"
   },
   {
    "duration": 5,
    "start_time": "2023-11-29T15:40:43.333Z"
   },
   {
    "duration": 4,
    "start_time": "2023-11-29T15:44:31.144Z"
   },
   {
    "duration": 5,
    "start_time": "2023-11-29T15:45:04.562Z"
   },
   {
    "duration": 10,
    "start_time": "2023-11-29T15:45:59.858Z"
   },
   {
    "duration": 6,
    "start_time": "2023-11-29T15:46:33.499Z"
   },
   {
    "duration": 5,
    "start_time": "2023-11-29T15:46:56.625Z"
   },
   {
    "duration": 6,
    "start_time": "2023-11-29T15:48:02.152Z"
   },
   {
    "duration": 5,
    "start_time": "2023-11-29T15:48:10.116Z"
   },
   {
    "duration": 2,
    "start_time": "2023-11-29T15:48:29.362Z"
   },
   {
    "duration": 80,
    "start_time": "2023-11-29T15:48:29.366Z"
   },
   {
    "duration": 9,
    "start_time": "2023-11-29T15:48:29.448Z"
   },
   {
    "duration": 20,
    "start_time": "2023-11-29T15:48:29.459Z"
   },
   {
    "duration": 11,
    "start_time": "2023-11-29T15:48:29.481Z"
   },
   {
    "duration": 12,
    "start_time": "2023-11-29T15:48:29.494Z"
   },
   {
    "duration": 6,
    "start_time": "2023-11-29T15:48:29.508Z"
   },
   {
    "duration": 40,
    "start_time": "2023-11-29T15:48:29.516Z"
   },
   {
    "duration": 16,
    "start_time": "2023-11-29T15:48:29.559Z"
   },
   {
    "duration": 14,
    "start_time": "2023-11-29T15:48:29.577Z"
   },
   {
    "duration": 6,
    "start_time": "2023-11-29T15:48:29.592Z"
   },
   {
    "duration": 7,
    "start_time": "2023-11-29T15:48:29.599Z"
   },
   {
    "duration": 7,
    "start_time": "2023-11-29T15:48:29.607Z"
   },
   {
    "duration": 7,
    "start_time": "2023-11-29T15:48:29.616Z"
   },
   {
    "duration": 28,
    "start_time": "2023-11-29T15:48:29.624Z"
   },
   {
    "duration": 4,
    "start_time": "2023-11-29T15:48:29.654Z"
   },
   {
    "duration": 5,
    "start_time": "2023-11-29T15:48:29.660Z"
   },
   {
    "duration": 10,
    "start_time": "2023-11-29T15:48:29.667Z"
   },
   {
    "duration": 3,
    "start_time": "2023-11-29T15:48:29.679Z"
   },
   {
    "duration": 10,
    "start_time": "2023-11-29T15:48:29.683Z"
   },
   {
    "duration": 164,
    "start_time": "2023-11-29T15:48:29.694Z"
   },
   {
    "duration": 7,
    "start_time": "2023-11-29T15:48:29.860Z"
   },
   {
    "duration": 14,
    "start_time": "2023-11-29T15:48:29.869Z"
   },
   {
    "duration": 6,
    "start_time": "2023-11-29T15:48:29.887Z"
   },
   {
    "duration": 136,
    "start_time": "2023-11-29T15:48:29.894Z"
   },
   {
    "duration": 6,
    "start_time": "2023-11-29T15:48:30.032Z"
   },
   {
    "duration": 288,
    "start_time": "2023-11-29T15:48:30.040Z"
   },
   {
    "duration": 25,
    "start_time": "2023-11-29T15:48:30.330Z"
   },
   {
    "duration": 323,
    "start_time": "2023-11-29T15:48:30.357Z"
   },
   {
    "duration": 10,
    "start_time": "2023-11-29T15:48:30.682Z"
   },
   {
    "duration": 455,
    "start_time": "2023-11-29T15:48:30.694Z"
   },
   {
    "duration": 14,
    "start_time": "2023-11-29T15:48:31.152Z"
   },
   {
    "duration": 10,
    "start_time": "2023-11-29T15:48:31.167Z"
   },
   {
    "duration": 15,
    "start_time": "2023-11-29T15:48:31.179Z"
   },
   {
    "duration": 31,
    "start_time": "2023-11-29T15:48:31.196Z"
   },
   {
    "duration": 32,
    "start_time": "2023-11-29T15:48:31.229Z"
   },
   {
    "duration": 7,
    "start_time": "2023-11-29T15:48:31.262Z"
   },
   {
    "duration": 23,
    "start_time": "2023-11-29T15:48:31.270Z"
   },
   {
    "duration": 15,
    "start_time": "2023-11-29T15:48:31.294Z"
   },
   {
    "duration": 301,
    "start_time": "2023-11-29T15:48:31.310Z"
   },
   {
    "duration": 8,
    "start_time": "2023-11-29T15:48:31.612Z"
   },
   {
    "duration": 299,
    "start_time": "2023-11-29T15:48:31.621Z"
   },
   {
    "duration": 8,
    "start_time": "2023-11-29T15:48:31.922Z"
   },
   {
    "duration": 302,
    "start_time": "2023-11-29T15:48:31.931Z"
   },
   {
    "duration": 18,
    "start_time": "2023-11-29T15:48:32.234Z"
   },
   {
    "duration": 287,
    "start_time": "2023-11-29T15:48:32.254Z"
   },
   {
    "duration": 10,
    "start_time": "2023-11-29T15:48:32.543Z"
   },
   {
    "duration": 36,
    "start_time": "2023-11-29T15:48:32.555Z"
   },
   {
    "duration": 59,
    "start_time": "2023-11-29T15:48:32.593Z"
   },
   {
    "duration": 70,
    "start_time": "2023-11-29T15:48:32.654Z"
   },
   {
    "duration": 12,
    "start_time": "2023-11-29T15:48:32.726Z"
   },
   {
    "duration": 14,
    "start_time": "2023-11-29T15:48:32.740Z"
   },
   {
    "duration": 17,
    "start_time": "2023-11-29T15:48:32.756Z"
   },
   {
    "duration": 19,
    "start_time": "2023-11-29T15:48:32.775Z"
   },
   {
    "duration": 13,
    "start_time": "2023-11-29T15:48:32.796Z"
   },
   {
    "duration": 18,
    "start_time": "2023-11-29T15:48:32.810Z"
   },
   {
    "duration": 16,
    "start_time": "2023-11-29T15:48:32.829Z"
   },
   {
    "duration": 19,
    "start_time": "2023-11-29T15:48:32.847Z"
   },
   {
    "duration": 31,
    "start_time": "2023-11-29T15:48:32.868Z"
   },
   {
    "duration": 18,
    "start_time": "2023-11-29T15:48:32.900Z"
   },
   {
    "duration": 29,
    "start_time": "2023-11-29T15:48:32.920Z"
   },
   {
    "duration": 16,
    "start_time": "2023-11-29T15:48:32.951Z"
   },
   {
    "duration": 9,
    "start_time": "2023-11-29T15:48:32.969Z"
   },
   {
    "duration": 19,
    "start_time": "2023-11-29T15:48:32.979Z"
   },
   {
    "duration": 12,
    "start_time": "2023-11-29T15:48:33.000Z"
   },
   {
    "duration": 5,
    "start_time": "2023-11-29T15:48:33.013Z"
   },
   {
    "duration": 92,
    "start_time": "2023-11-29T15:48:33.019Z"
   },
   {
    "duration": 6,
    "start_time": "2023-11-29T16:17:42.018Z"
   },
   {
    "duration": 6,
    "start_time": "2023-11-29T16:17:51.963Z"
   },
   {
    "duration": 14,
    "start_time": "2023-11-29T16:59:28.593Z"
   },
   {
    "duration": 5,
    "start_time": "2023-11-29T17:15:21.075Z"
   },
   {
    "duration": 6,
    "start_time": "2023-11-29T17:15:31.627Z"
   },
   {
    "duration": 5,
    "start_time": "2023-11-29T17:15:42.741Z"
   },
   {
    "duration": 5,
    "start_time": "2023-11-29T17:25:56.435Z"
   },
   {
    "duration": 5,
    "start_time": "2023-11-29T17:26:54.013Z"
   },
   {
    "duration": 5,
    "start_time": "2023-11-29T17:35:13.550Z"
   },
   {
    "duration": 5,
    "start_time": "2023-11-29T17:35:48.246Z"
   },
   {
    "duration": 4,
    "start_time": "2023-11-29T17:35:55.394Z"
   },
   {
    "duration": 5,
    "start_time": "2023-11-29T17:37:42.627Z"
   },
   {
    "duration": 6,
    "start_time": "2023-11-29T17:46:59.610Z"
   },
   {
    "duration": 4,
    "start_time": "2023-11-29T17:47:06.613Z"
   },
   {
    "duration": 5,
    "start_time": "2023-11-29T17:55:50.976Z"
   },
   {
    "duration": 5,
    "start_time": "2023-11-29T17:55:56.110Z"
   },
   {
    "duration": 12,
    "start_time": "2023-11-29T17:57:07.115Z"
   },
   {
    "duration": 6,
    "start_time": "2023-11-30T09:04:12.146Z"
   },
   {
    "duration": 6,
    "start_time": "2023-11-30T09:36:53.683Z"
   },
   {
    "duration": 6,
    "start_time": "2023-11-30T09:36:57.932Z"
   },
   {
    "duration": 6,
    "start_time": "2023-11-30T09:37:04.066Z"
   },
   {
    "duration": 4,
    "start_time": "2023-11-30T10:24:31.576Z"
   },
   {
    "duration": 64,
    "start_time": "2023-11-30T10:25:32.105Z"
   },
   {
    "duration": 1409,
    "start_time": "2023-11-30T10:26:08.655Z"
   },
   {
    "duration": 806,
    "start_time": "2023-11-30T10:28:36.553Z"
   },
   {
    "duration": 5,
    "start_time": "2023-11-30T10:46:12.349Z"
   },
   {
    "duration": 4,
    "start_time": "2023-11-30T10:46:29.546Z"
   },
   {
    "duration": 113,
    "start_time": "2023-11-30T11:04:23.592Z"
   },
   {
    "duration": 824,
    "start_time": "2023-11-30T11:04:29.857Z"
   },
   {
    "duration": 46,
    "start_time": "2023-11-30T11:04:43.032Z"
   },
   {
    "duration": 1469,
    "start_time": "2023-11-30T11:04:49.299Z"
   },
   {
    "duration": 3,
    "start_time": "2023-11-30T11:14:05.767Z"
   },
   {
    "duration": 142,
    "start_time": "2023-11-30T11:14:05.771Z"
   },
   {
    "duration": 9,
    "start_time": "2023-11-30T11:14:05.915Z"
   },
   {
    "duration": 19,
    "start_time": "2023-11-30T11:14:05.925Z"
   },
   {
    "duration": 10,
    "start_time": "2023-11-30T11:14:05.946Z"
   },
   {
    "duration": 10,
    "start_time": "2023-11-30T11:14:05.958Z"
   },
   {
    "duration": 19,
    "start_time": "2023-11-30T11:14:05.969Z"
   },
   {
    "duration": 21,
    "start_time": "2023-11-30T11:14:05.990Z"
   },
   {
    "duration": 13,
    "start_time": "2023-11-30T11:14:06.013Z"
   },
   {
    "duration": 14,
    "start_time": "2023-11-30T11:14:06.027Z"
   },
   {
    "duration": 11,
    "start_time": "2023-11-30T11:14:06.044Z"
   },
   {
    "duration": 6,
    "start_time": "2023-11-30T11:14:06.057Z"
   },
   {
    "duration": 6,
    "start_time": "2023-11-30T11:14:06.065Z"
   },
   {
    "duration": 8,
    "start_time": "2023-11-30T11:14:06.072Z"
   },
   {
    "duration": 8,
    "start_time": "2023-11-30T11:14:06.081Z"
   },
   {
    "duration": 10,
    "start_time": "2023-11-30T11:14:06.090Z"
   },
   {
    "duration": 12,
    "start_time": "2023-11-30T11:14:06.101Z"
   },
   {
    "duration": 44,
    "start_time": "2023-11-30T11:14:06.114Z"
   },
   {
    "duration": 2,
    "start_time": "2023-11-30T11:14:06.160Z"
   },
   {
    "duration": 19,
    "start_time": "2023-11-30T11:14:06.164Z"
   },
   {
    "duration": 144,
    "start_time": "2023-11-30T11:14:06.184Z"
   },
   {
    "duration": 5,
    "start_time": "2023-11-30T11:14:06.330Z"
   },
   {
    "duration": 19,
    "start_time": "2023-11-30T11:14:06.336Z"
   },
   {
    "duration": 25,
    "start_time": "2023-11-30T11:14:06.356Z"
   },
   {
    "duration": 138,
    "start_time": "2023-11-30T11:14:06.383Z"
   },
   {
    "duration": 6,
    "start_time": "2023-11-30T11:14:06.522Z"
   },
   {
    "duration": 267,
    "start_time": "2023-11-30T11:14:06.529Z"
   },
   {
    "duration": 8,
    "start_time": "2023-11-30T11:14:06.797Z"
   },
   {
    "duration": 305,
    "start_time": "2023-11-30T11:14:06.809Z"
   },
   {
    "duration": 8,
    "start_time": "2023-11-30T11:14:07.115Z"
   },
   {
    "duration": 338,
    "start_time": "2023-11-30T11:14:07.124Z"
   },
   {
    "duration": 13,
    "start_time": "2023-11-30T11:14:07.464Z"
   },
   {
    "duration": 22,
    "start_time": "2023-11-30T11:14:07.479Z"
   },
   {
    "duration": 13,
    "start_time": "2023-11-30T11:14:07.502Z"
   },
   {
    "duration": 23,
    "start_time": "2023-11-30T11:14:07.516Z"
   },
   {
    "duration": 18,
    "start_time": "2023-11-30T11:14:07.541Z"
   },
   {
    "duration": 6,
    "start_time": "2023-11-30T11:14:07.561Z"
   },
   {
    "duration": 15,
    "start_time": "2023-11-30T11:14:07.568Z"
   },
   {
    "duration": 8,
    "start_time": "2023-11-30T11:14:07.584Z"
   },
   {
    "duration": 492,
    "start_time": "2023-11-30T11:14:07.594Z"
   },
   {
    "duration": 7,
    "start_time": "2023-11-30T11:14:08.088Z"
   },
   {
    "duration": 293,
    "start_time": "2023-11-30T11:14:08.097Z"
   },
   {
    "duration": 9,
    "start_time": "2023-11-30T11:14:08.391Z"
   },
   {
    "duration": 312,
    "start_time": "2023-11-30T11:14:08.401Z"
   },
   {
    "duration": 8,
    "start_time": "2023-11-30T11:14:08.714Z"
   },
   {
    "duration": 307,
    "start_time": "2023-11-30T11:14:08.724Z"
   },
   {
    "duration": 4,
    "start_time": "2023-11-30T11:14:09.033Z"
   },
   {
    "duration": 40,
    "start_time": "2023-11-30T11:14:09.039Z"
   },
   {
    "duration": 47,
    "start_time": "2023-11-30T11:14:09.081Z"
   },
   {
    "duration": 15,
    "start_time": "2023-11-30T11:14:09.130Z"
   },
   {
    "duration": 14,
    "start_time": "2023-11-30T11:14:09.147Z"
   },
   {
    "duration": 12,
    "start_time": "2023-11-30T11:14:09.163Z"
   },
   {
    "duration": 38,
    "start_time": "2023-11-30T11:14:09.177Z"
   },
   {
    "duration": 20,
    "start_time": "2023-11-30T11:14:09.216Z"
   },
   {
    "duration": 32,
    "start_time": "2023-11-30T11:14:09.237Z"
   },
   {
    "duration": 22,
    "start_time": "2023-11-30T11:14:09.270Z"
   },
   {
    "duration": 5,
    "start_time": "2023-11-30T11:14:09.294Z"
   },
   {
    "duration": 15,
    "start_time": "2023-11-30T11:14:09.300Z"
   },
   {
    "duration": 19,
    "start_time": "2023-11-30T11:14:09.316Z"
   },
   {
    "duration": 6,
    "start_time": "2023-11-30T11:14:09.336Z"
   },
   {
    "duration": 18,
    "start_time": "2023-11-30T11:14:09.343Z"
   },
   {
    "duration": 16,
    "start_time": "2023-11-30T11:14:09.362Z"
   },
   {
    "duration": 10,
    "start_time": "2023-11-30T11:14:09.379Z"
   },
   {
    "duration": 15,
    "start_time": "2023-11-30T11:14:09.390Z"
   },
   {
    "duration": 22,
    "start_time": "2023-11-30T11:14:09.406Z"
   },
   {
    "duration": 9,
    "start_time": "2023-11-30T11:14:09.430Z"
   },
   {
    "duration": 1523,
    "start_time": "2023-11-30T11:14:09.440Z"
   },
   {
    "duration": 5,
    "start_time": "2023-11-30T11:14:10.964Z"
   },
   {
    "duration": 94,
    "start_time": "2023-11-30T11:14:10.971Z"
   },
   {
    "duration": 63,
    "start_time": "2023-11-30T11:15:10.552Z"
   },
   {
    "duration": 5,
    "start_time": "2023-11-30T11:15:13.874Z"
   },
   {
    "duration": 56,
    "start_time": "2023-11-30T11:15:22.337Z"
   },
   {
    "duration": 5,
    "start_time": "2023-11-30T11:15:24.713Z"
   },
   {
    "duration": 6,
    "start_time": "2023-11-30T11:15:27.405Z"
   },
   {
    "duration": 56,
    "start_time": "2023-11-30T11:16:52.937Z"
   },
   {
    "duration": 4,
    "start_time": "2023-11-30T11:16:57.626Z"
   },
   {
    "duration": 66,
    "start_time": "2023-11-30T11:17:03.701Z"
   },
   {
    "duration": 6,
    "start_time": "2023-11-30T11:17:06.053Z"
   },
   {
    "duration": 46,
    "start_time": "2023-11-30T11:17:10.978Z"
   },
   {
    "duration": 5,
    "start_time": "2023-11-30T11:17:11.787Z"
   },
   {
    "duration": 5,
    "start_time": "2023-11-30T11:17:15.405Z"
   },
   {
    "duration": 43,
    "start_time": "2023-11-30T11:17:21.014Z"
   },
   {
    "duration": 5,
    "start_time": "2023-11-30T11:17:21.778Z"
   },
   {
    "duration": 49,
    "start_time": "2023-11-30T11:17:27.126Z"
   },
   {
    "duration": 5,
    "start_time": "2023-11-30T11:17:28.010Z"
   },
   {
    "duration": 43,
    "start_time": "2023-11-30T11:17:33.129Z"
   },
   {
    "duration": 6,
    "start_time": "2023-11-30T11:17:34.110Z"
   },
   {
    "duration": 38,
    "start_time": "2023-11-30T11:17:41.059Z"
   },
   {
    "duration": 5,
    "start_time": "2023-11-30T11:17:41.765Z"
   },
   {
    "duration": 40,
    "start_time": "2023-11-30T11:17:48.027Z"
   },
   {
    "duration": 5,
    "start_time": "2023-11-30T11:17:48.739Z"
   },
   {
    "duration": 37,
    "start_time": "2023-11-30T11:17:57.579Z"
   },
   {
    "duration": 5,
    "start_time": "2023-11-30T11:17:58.188Z"
   },
   {
    "duration": 40,
    "start_time": "2023-11-30T11:18:09.395Z"
   },
   {
    "duration": 5,
    "start_time": "2023-11-30T11:18:10.184Z"
   },
   {
    "duration": 40,
    "start_time": "2023-11-30T11:18:18.367Z"
   },
   {
    "duration": 5,
    "start_time": "2023-11-30T11:18:18.890Z"
   },
   {
    "duration": 3,
    "start_time": "2023-11-30T11:20:40.007Z"
   },
   {
    "duration": 1624,
    "start_time": "2023-11-30T11:21:02.075Z"
   },
   {
    "duration": 1528,
    "start_time": "2023-11-30T11:37:22.536Z"
   },
   {
    "duration": 1236,
    "start_time": "2023-11-30T11:37:47.830Z"
   },
   {
    "duration": 1840,
    "start_time": "2023-11-30T11:42:26.177Z"
   },
   {
    "duration": 1463,
    "start_time": "2023-11-30T11:43:57.911Z"
   },
   {
    "duration": 1959,
    "start_time": "2023-11-30T11:44:16.473Z"
   },
   {
    "duration": 1619,
    "start_time": "2023-11-30T11:50:36.967Z"
   },
   {
    "duration": 1786,
    "start_time": "2023-11-30T11:50:47.471Z"
   },
   {
    "duration": 1451,
    "start_time": "2023-11-30T11:50:52.778Z"
   },
   {
    "duration": 24,
    "start_time": "2023-11-30T11:52:02.285Z"
   },
   {
    "duration": 1935,
    "start_time": "2023-11-30T11:52:10.472Z"
   },
   {
    "duration": 39,
    "start_time": "2023-11-30T11:52:49.889Z"
   },
   {
    "duration": 40,
    "start_time": "2023-11-30T11:52:56.502Z"
   },
   {
    "duration": 1787,
    "start_time": "2023-11-30T11:53:04.217Z"
   },
   {
    "duration": 1287,
    "start_time": "2023-11-30T11:54:03.337Z"
   },
   {
    "duration": 38,
    "start_time": "2023-11-30T11:54:20.272Z"
   },
   {
    "duration": 42,
    "start_time": "2023-11-30T11:55:09.034Z"
   },
   {
    "duration": 1892,
    "start_time": "2023-11-30T11:55:31.033Z"
   },
   {
    "duration": 1827,
    "start_time": "2023-11-30T11:59:15.999Z"
   },
   {
    "duration": 1364,
    "start_time": "2023-11-30T11:59:28.168Z"
   },
   {
    "duration": 1889,
    "start_time": "2023-11-30T11:59:34.534Z"
   },
   {
    "duration": 1140,
    "start_time": "2023-11-30T12:14:30.694Z"
   },
   {
    "duration": 182,
    "start_time": "2023-11-30T12:14:31.835Z"
   },
   {
    "duration": 14,
    "start_time": "2023-11-30T12:14:32.019Z"
   },
   {
    "duration": 10,
    "start_time": "2023-11-30T12:14:32.036Z"
   },
   {
    "duration": 33,
    "start_time": "2023-11-30T12:14:32.047Z"
   },
   {
    "duration": 30,
    "start_time": "2023-11-30T12:14:32.082Z"
   },
   {
    "duration": 22,
    "start_time": "2023-11-30T12:14:32.114Z"
   },
   {
    "duration": 26,
    "start_time": "2023-11-30T12:14:32.138Z"
   },
   {
    "duration": 36,
    "start_time": "2023-11-30T12:14:32.166Z"
   },
   {
    "duration": 16,
    "start_time": "2023-11-30T12:14:32.206Z"
   },
   {
    "duration": 16,
    "start_time": "2023-11-30T12:14:32.224Z"
   },
   {
    "duration": 31,
    "start_time": "2023-11-30T12:14:32.242Z"
   },
   {
    "duration": 7,
    "start_time": "2023-11-30T12:14:32.276Z"
   },
   {
    "duration": 13,
    "start_time": "2023-11-30T12:14:32.285Z"
   },
   {
    "duration": 6,
    "start_time": "2023-11-30T12:14:32.299Z"
   },
   {
    "duration": 18,
    "start_time": "2023-11-30T12:14:32.307Z"
   },
   {
    "duration": 28,
    "start_time": "2023-11-30T12:14:32.327Z"
   },
   {
    "duration": 22,
    "start_time": "2023-11-30T12:14:32.357Z"
   },
   {
    "duration": 9,
    "start_time": "2023-11-30T12:14:32.381Z"
   },
   {
    "duration": 6,
    "start_time": "2023-11-30T12:14:32.391Z"
   },
   {
    "duration": 165,
    "start_time": "2023-11-30T12:14:32.399Z"
   },
   {
    "duration": 7,
    "start_time": "2023-11-30T12:14:32.565Z"
   },
   {
    "duration": 58,
    "start_time": "2023-11-30T12:14:32.573Z"
   },
   {
    "duration": 28,
    "start_time": "2023-11-30T12:14:32.633Z"
   },
   {
    "duration": 121,
    "start_time": "2023-11-30T12:14:32.663Z"
   },
   {
    "duration": 6,
    "start_time": "2023-11-30T12:14:32.786Z"
   },
   {
    "duration": 282,
    "start_time": "2023-11-30T12:14:32.793Z"
   },
   {
    "duration": 10,
    "start_time": "2023-11-30T12:14:33.081Z"
   },
   {
    "duration": 319,
    "start_time": "2023-11-30T12:14:33.092Z"
   },
   {
    "duration": 8,
    "start_time": "2023-11-30T12:14:33.413Z"
   },
   {
    "duration": 403,
    "start_time": "2023-11-30T12:14:33.423Z"
   },
   {
    "duration": 27,
    "start_time": "2023-11-30T12:14:33.828Z"
   },
   {
    "duration": 6,
    "start_time": "2023-11-30T12:14:33.857Z"
   },
   {
    "duration": 16,
    "start_time": "2023-11-30T12:14:33.865Z"
   },
   {
    "duration": 21,
    "start_time": "2023-11-30T12:14:33.883Z"
   },
   {
    "duration": 19,
    "start_time": "2023-11-30T12:14:33.906Z"
   },
   {
    "duration": 29,
    "start_time": "2023-11-30T12:14:33.927Z"
   },
   {
    "duration": 9,
    "start_time": "2023-11-30T12:14:33.957Z"
   },
   {
    "duration": 10,
    "start_time": "2023-11-30T12:14:33.968Z"
   },
   {
    "duration": 340,
    "start_time": "2023-11-30T12:14:33.980Z"
   },
   {
    "duration": 10,
    "start_time": "2023-11-30T12:14:34.322Z"
   },
   {
    "duration": 343,
    "start_time": "2023-11-30T12:14:34.334Z"
   },
   {
    "duration": 9,
    "start_time": "2023-11-30T12:14:34.678Z"
   },
   {
    "duration": 330,
    "start_time": "2023-11-30T12:14:34.689Z"
   },
   {
    "duration": 10,
    "start_time": "2023-11-30T12:14:35.021Z"
   },
   {
    "duration": 370,
    "start_time": "2023-11-30T12:14:35.032Z"
   },
   {
    "duration": 4,
    "start_time": "2023-11-30T12:14:35.403Z"
   },
   {
    "duration": 10,
    "start_time": "2023-11-30T12:14:35.409Z"
   },
   {
    "duration": 38,
    "start_time": "2023-11-30T12:14:35.420Z"
   },
   {
    "duration": 20,
    "start_time": "2023-11-30T12:14:35.460Z"
   },
   {
    "duration": 14,
    "start_time": "2023-11-30T12:14:35.481Z"
   },
   {
    "duration": 13,
    "start_time": "2023-11-30T12:14:35.496Z"
   },
   {
    "duration": 50,
    "start_time": "2023-11-30T12:14:35.510Z"
   },
   {
    "duration": 15,
    "start_time": "2023-11-30T12:14:35.562Z"
   },
   {
    "duration": 11,
    "start_time": "2023-11-30T12:14:35.579Z"
   },
   {
    "duration": 10,
    "start_time": "2023-11-30T12:14:35.591Z"
   },
   {
    "duration": 9,
    "start_time": "2023-11-30T12:14:35.603Z"
   },
   {
    "duration": 41,
    "start_time": "2023-11-30T12:14:35.614Z"
   },
   {
    "duration": 7,
    "start_time": "2023-11-30T12:14:35.657Z"
   },
   {
    "duration": 6,
    "start_time": "2023-11-30T12:14:35.666Z"
   },
   {
    "duration": 18,
    "start_time": "2023-11-30T12:14:35.674Z"
   },
   {
    "duration": 20,
    "start_time": "2023-11-30T12:14:35.694Z"
   },
   {
    "duration": 39,
    "start_time": "2023-11-30T12:14:35.716Z"
   },
   {
    "duration": 23,
    "start_time": "2023-11-30T12:14:35.757Z"
   },
   {
    "duration": 25,
    "start_time": "2023-11-30T12:14:35.781Z"
   },
   {
    "duration": 7,
    "start_time": "2023-11-30T12:14:35.808Z"
   },
   {
    "duration": 1561,
    "start_time": "2023-11-30T12:14:35.817Z"
   },
   {
    "duration": 1702,
    "start_time": "2023-11-30T12:14:37.381Z"
   },
   {
    "duration": 46,
    "start_time": "2023-11-30T12:17:58.229Z"
   },
   {
    "duration": 1206,
    "start_time": "2023-11-30T12:18:10.731Z"
   },
   {
    "duration": 186,
    "start_time": "2023-11-30T12:18:11.939Z"
   },
   {
    "duration": 13,
    "start_time": "2023-11-30T12:18:12.126Z"
   },
   {
    "duration": 10,
    "start_time": "2023-11-30T12:18:12.141Z"
   },
   {
    "duration": 31,
    "start_time": "2023-11-30T12:18:12.152Z"
   },
   {
    "duration": 13,
    "start_time": "2023-11-30T12:18:12.184Z"
   },
   {
    "duration": 6,
    "start_time": "2023-11-30T12:18:12.198Z"
   },
   {
    "duration": 9,
    "start_time": "2023-11-30T12:18:12.205Z"
   },
   {
    "duration": 7,
    "start_time": "2023-11-30T12:18:12.216Z"
   },
   {
    "duration": 5,
    "start_time": "2023-11-30T12:18:12.225Z"
   },
   {
    "duration": 6,
    "start_time": "2023-11-30T12:18:12.251Z"
   },
   {
    "duration": 7,
    "start_time": "2023-11-30T12:18:12.259Z"
   },
   {
    "duration": 7,
    "start_time": "2023-11-30T12:18:12.268Z"
   },
   {
    "duration": 7,
    "start_time": "2023-11-30T12:18:12.277Z"
   },
   {
    "duration": 6,
    "start_time": "2023-11-30T12:18:12.285Z"
   },
   {
    "duration": 16,
    "start_time": "2023-11-30T12:18:12.293Z"
   },
   {
    "duration": 4,
    "start_time": "2023-11-30T12:18:12.311Z"
   },
   {
    "duration": 43,
    "start_time": "2023-11-30T12:18:12.317Z"
   },
   {
    "duration": 9,
    "start_time": "2023-11-30T12:18:12.362Z"
   },
   {
    "duration": 6,
    "start_time": "2023-11-30T12:18:12.372Z"
   },
   {
    "duration": 178,
    "start_time": "2023-11-30T12:18:12.380Z"
   },
   {
    "duration": 8,
    "start_time": "2023-11-30T12:18:12.560Z"
   },
   {
    "duration": 49,
    "start_time": "2023-11-30T12:18:12.569Z"
   },
   {
    "duration": 8,
    "start_time": "2023-11-30T12:18:12.620Z"
   },
   {
    "duration": 104,
    "start_time": "2023-11-30T12:18:12.629Z"
   },
   {
    "duration": 17,
    "start_time": "2023-11-30T12:18:12.735Z"
   },
   {
    "duration": 277,
    "start_time": "2023-11-30T12:18:12.753Z"
   },
   {
    "duration": 20,
    "start_time": "2023-11-30T12:18:13.035Z"
   },
   {
    "duration": 316,
    "start_time": "2023-11-30T12:18:13.057Z"
   },
   {
    "duration": 9,
    "start_time": "2023-11-30T12:18:13.374Z"
   },
   {
    "duration": 371,
    "start_time": "2023-11-30T12:18:13.385Z"
   },
   {
    "duration": 14,
    "start_time": "2023-11-30T12:18:13.757Z"
   },
   {
    "duration": 16,
    "start_time": "2023-11-30T12:18:13.773Z"
   },
   {
    "duration": 5,
    "start_time": "2023-11-30T12:18:13.790Z"
   },
   {
    "duration": 32,
    "start_time": "2023-11-30T12:18:13.796Z"
   },
   {
    "duration": 30,
    "start_time": "2023-11-30T12:18:13.830Z"
   },
   {
    "duration": 7,
    "start_time": "2023-11-30T12:18:13.862Z"
   },
   {
    "duration": 7,
    "start_time": "2023-11-30T12:18:13.870Z"
   },
   {
    "duration": 8,
    "start_time": "2023-11-30T12:18:13.879Z"
   },
   {
    "duration": 321,
    "start_time": "2023-11-30T12:18:13.888Z"
   },
   {
    "duration": 8,
    "start_time": "2023-11-30T12:18:14.211Z"
   },
   {
    "duration": 297,
    "start_time": "2023-11-30T12:18:14.221Z"
   },
   {
    "duration": 8,
    "start_time": "2023-11-30T12:18:14.520Z"
   },
   {
    "duration": 303,
    "start_time": "2023-11-30T12:18:14.530Z"
   },
   {
    "duration": 19,
    "start_time": "2023-11-30T12:18:14.835Z"
   },
   {
    "duration": 318,
    "start_time": "2023-11-30T12:18:14.856Z"
   },
   {
    "duration": 4,
    "start_time": "2023-11-30T12:18:15.176Z"
   },
   {
    "duration": 10,
    "start_time": "2023-11-30T12:18:15.182Z"
   },
   {
    "duration": 14,
    "start_time": "2023-11-30T12:18:15.193Z"
   },
   {
    "duration": 47,
    "start_time": "2023-11-30T12:18:15.208Z"
   },
   {
    "duration": 16,
    "start_time": "2023-11-30T12:18:15.257Z"
   },
   {
    "duration": 16,
    "start_time": "2023-11-30T12:18:15.275Z"
   },
   {
    "duration": 17,
    "start_time": "2023-11-30T12:18:15.292Z"
   },
   {
    "duration": 43,
    "start_time": "2023-11-30T12:18:15.310Z"
   },
   {
    "duration": 10,
    "start_time": "2023-11-30T12:18:15.355Z"
   },
   {
    "duration": 6,
    "start_time": "2023-11-30T12:18:15.367Z"
   },
   {
    "duration": 12,
    "start_time": "2023-11-30T12:18:15.375Z"
   },
   {
    "duration": 6,
    "start_time": "2023-11-30T12:18:15.388Z"
   },
   {
    "duration": 5,
    "start_time": "2023-11-30T12:18:15.396Z"
   },
   {
    "duration": 18,
    "start_time": "2023-11-30T12:18:15.402Z"
   },
   {
    "duration": 12,
    "start_time": "2023-11-30T12:18:15.452Z"
   },
   {
    "duration": 6,
    "start_time": "2023-11-30T12:18:15.465Z"
   },
   {
    "duration": 6,
    "start_time": "2023-11-30T12:18:15.472Z"
   },
   {
    "duration": 16,
    "start_time": "2023-11-30T12:18:15.479Z"
   },
   {
    "duration": 11,
    "start_time": "2023-11-30T12:18:15.497Z"
   },
   {
    "duration": 7,
    "start_time": "2023-11-30T12:18:15.509Z"
   },
   {
    "duration": 1361,
    "start_time": "2023-11-30T12:18:15.551Z"
   },
   {
    "duration": 1554,
    "start_time": "2023-11-30T12:18:16.913Z"
   },
   {
    "duration": 48,
    "start_time": "2023-11-30T12:47:25.531Z"
   },
   {
    "duration": 1192,
    "start_time": "2023-11-30T12:47:32.818Z"
   },
   {
    "duration": 204,
    "start_time": "2023-11-30T12:47:34.011Z"
   },
   {
    "duration": 14,
    "start_time": "2023-11-30T12:47:34.217Z"
   },
   {
    "duration": 19,
    "start_time": "2023-11-30T12:47:34.233Z"
   },
   {
    "duration": 17,
    "start_time": "2023-11-30T12:47:34.253Z"
   },
   {
    "duration": 21,
    "start_time": "2023-11-30T12:47:34.272Z"
   },
   {
    "duration": 12,
    "start_time": "2023-11-30T12:47:34.295Z"
   },
   {
    "duration": 17,
    "start_time": "2023-11-30T12:47:34.309Z"
   },
   {
    "duration": 11,
    "start_time": "2023-11-30T12:47:34.328Z"
   },
   {
    "duration": 12,
    "start_time": "2023-11-30T12:47:34.341Z"
   },
   {
    "duration": 5,
    "start_time": "2023-11-30T12:47:34.354Z"
   },
   {
    "duration": 6,
    "start_time": "2023-11-30T12:47:34.360Z"
   },
   {
    "duration": 8,
    "start_time": "2023-11-30T12:47:34.367Z"
   },
   {
    "duration": 31,
    "start_time": "2023-11-30T12:47:34.376Z"
   },
   {
    "duration": 6,
    "start_time": "2023-11-30T12:47:34.409Z"
   },
   {
    "duration": 5,
    "start_time": "2023-11-30T12:47:34.417Z"
   },
   {
    "duration": 12,
    "start_time": "2023-11-30T12:47:34.424Z"
   },
   {
    "duration": 12,
    "start_time": "2023-11-30T12:47:34.451Z"
   },
   {
    "duration": 5,
    "start_time": "2023-11-30T12:47:34.465Z"
   },
   {
    "duration": 8,
    "start_time": "2023-11-30T12:47:34.472Z"
   },
   {
    "duration": 160,
    "start_time": "2023-11-30T12:47:34.482Z"
   },
   {
    "duration": 11,
    "start_time": "2023-11-30T12:47:34.644Z"
   },
   {
    "duration": 21,
    "start_time": "2023-11-30T12:47:34.657Z"
   },
   {
    "duration": 9,
    "start_time": "2023-11-30T12:47:34.679Z"
   },
   {
    "duration": 100,
    "start_time": "2023-11-30T12:47:34.689Z"
   },
   {
    "duration": 6,
    "start_time": "2023-11-30T12:47:34.790Z"
   },
   {
    "duration": 329,
    "start_time": "2023-11-30T12:47:34.797Z"
   },
   {
    "duration": 21,
    "start_time": "2023-11-30T12:47:35.132Z"
   },
   {
    "duration": 299,
    "start_time": "2023-11-30T12:47:35.155Z"
   },
   {
    "duration": 7,
    "start_time": "2023-11-30T12:47:35.456Z"
   },
   {
    "duration": 372,
    "start_time": "2023-11-30T12:47:35.465Z"
   },
   {
    "duration": 22,
    "start_time": "2023-11-30T12:47:35.838Z"
   },
   {
    "duration": 6,
    "start_time": "2023-11-30T12:47:35.862Z"
   },
   {
    "duration": 35,
    "start_time": "2023-11-30T12:47:35.869Z"
   },
   {
    "duration": 27,
    "start_time": "2023-11-30T12:47:35.905Z"
   },
   {
    "duration": 37,
    "start_time": "2023-11-30T12:47:35.934Z"
   },
   {
    "duration": 10,
    "start_time": "2023-11-30T12:47:35.974Z"
   },
   {
    "duration": 11,
    "start_time": "2023-11-30T12:47:35.986Z"
   },
   {
    "duration": 26,
    "start_time": "2023-11-30T12:47:35.998Z"
   },
   {
    "duration": 318,
    "start_time": "2023-11-30T12:47:36.026Z"
   },
   {
    "duration": 7,
    "start_time": "2023-11-30T12:47:36.351Z"
   },
   {
    "duration": 278,
    "start_time": "2023-11-30T12:47:36.359Z"
   },
   {
    "duration": 14,
    "start_time": "2023-11-30T12:47:36.639Z"
   },
   {
    "duration": 283,
    "start_time": "2023-11-30T12:47:36.654Z"
   },
   {
    "duration": 14,
    "start_time": "2023-11-30T12:47:36.939Z"
   },
   {
    "duration": 303,
    "start_time": "2023-11-30T12:47:36.954Z"
   },
   {
    "duration": 4,
    "start_time": "2023-11-30T12:47:37.260Z"
   },
   {
    "duration": 13,
    "start_time": "2023-11-30T12:47:37.266Z"
   },
   {
    "duration": 18,
    "start_time": "2023-11-30T12:47:37.281Z"
   },
   {
    "duration": 17,
    "start_time": "2023-11-30T12:47:37.301Z"
   },
   {
    "duration": 18,
    "start_time": "2023-11-30T12:47:37.352Z"
   },
   {
    "duration": 15,
    "start_time": "2023-11-30T12:47:37.372Z"
   },
   {
    "duration": 14,
    "start_time": "2023-11-30T12:47:37.388Z"
   },
   {
    "duration": 50,
    "start_time": "2023-11-30T12:47:37.403Z"
   },
   {
    "duration": 9,
    "start_time": "2023-11-30T12:47:37.455Z"
   },
   {
    "duration": 3,
    "start_time": "2023-11-30T12:47:37.466Z"
   },
   {
    "duration": 5,
    "start_time": "2023-11-30T12:47:37.471Z"
   },
   {
    "duration": 8,
    "start_time": "2023-11-30T12:47:37.477Z"
   },
   {
    "duration": 6,
    "start_time": "2023-11-30T12:47:37.486Z"
   },
   {
    "duration": 7,
    "start_time": "2023-11-30T12:47:37.493Z"
   },
   {
    "duration": 22,
    "start_time": "2023-11-30T12:47:37.502Z"
   },
   {
    "duration": 6,
    "start_time": "2023-11-30T12:47:37.552Z"
   },
   {
    "duration": 6,
    "start_time": "2023-11-30T12:47:37.560Z"
   },
   {
    "duration": 12,
    "start_time": "2023-11-30T12:47:37.567Z"
   },
   {
    "duration": 15,
    "start_time": "2023-11-30T12:47:37.580Z"
   },
   {
    "duration": 4,
    "start_time": "2023-11-30T12:47:37.597Z"
   },
   {
    "duration": 1357,
    "start_time": "2023-11-30T12:47:37.603Z"
   },
   {
    "duration": 1560,
    "start_time": "2023-11-30T12:47:38.961Z"
   },
   {
    "duration": 1307,
    "start_time": "2023-11-30T12:47:40.522Z"
   },
   {
    "duration": 47,
    "start_time": "2023-12-01T15:26:05.073Z"
   },
   {
    "duration": 1321,
    "start_time": "2023-12-01T15:26:12.399Z"
   },
   {
    "duration": 184,
    "start_time": "2023-12-01T15:26:13.722Z"
   },
   {
    "duration": 13,
    "start_time": "2023-12-01T15:26:13.908Z"
   },
   {
    "duration": 10,
    "start_time": "2023-12-01T15:26:13.923Z"
   },
   {
    "duration": 10,
    "start_time": "2023-12-01T15:26:13.934Z"
   },
   {
    "duration": 17,
    "start_time": "2023-12-01T15:26:13.946Z"
   },
   {
    "duration": 15,
    "start_time": "2023-12-01T15:26:13.965Z"
   },
   {
    "duration": 31,
    "start_time": "2023-12-01T15:26:13.981Z"
   },
   {
    "duration": 8,
    "start_time": "2023-12-01T15:26:14.013Z"
   },
   {
    "duration": 4,
    "start_time": "2023-12-01T15:26:14.025Z"
   },
   {
    "duration": 6,
    "start_time": "2023-12-01T15:26:14.030Z"
   },
   {
    "duration": 8,
    "start_time": "2023-12-01T15:26:14.037Z"
   },
   {
    "duration": 6,
    "start_time": "2023-12-01T15:26:14.047Z"
   },
   {
    "duration": 9,
    "start_time": "2023-12-01T15:26:14.054Z"
   },
   {
    "duration": 47,
    "start_time": "2023-12-01T15:26:14.064Z"
   },
   {
    "duration": 5,
    "start_time": "2023-12-01T15:26:14.113Z"
   },
   {
    "duration": 5,
    "start_time": "2023-12-01T15:26:14.120Z"
   },
   {
    "duration": 13,
    "start_time": "2023-12-01T15:26:14.126Z"
   },
   {
    "duration": 29,
    "start_time": "2023-12-01T15:26:14.140Z"
   },
   {
    "duration": 9,
    "start_time": "2023-12-01T15:26:14.171Z"
   },
   {
    "duration": 233,
    "start_time": "2023-12-01T15:26:14.182Z"
   },
   {
    "duration": 0,
    "start_time": "2023-12-01T15:26:14.419Z"
   },
   {
    "duration": 0,
    "start_time": "2023-12-01T15:26:14.421Z"
   },
   {
    "duration": 0,
    "start_time": "2023-12-01T15:26:14.422Z"
   },
   {
    "duration": 0,
    "start_time": "2023-12-01T15:26:14.424Z"
   },
   {
    "duration": 0,
    "start_time": "2023-12-01T15:26:14.425Z"
   },
   {
    "duration": 0,
    "start_time": "2023-12-01T15:26:14.426Z"
   },
   {
    "duration": 0,
    "start_time": "2023-12-01T15:26:14.428Z"
   },
   {
    "duration": 0,
    "start_time": "2023-12-01T15:26:14.429Z"
   },
   {
    "duration": 1,
    "start_time": "2023-12-01T15:26:14.429Z"
   },
   {
    "duration": 0,
    "start_time": "2023-12-01T15:26:14.430Z"
   },
   {
    "duration": 0,
    "start_time": "2023-12-01T15:26:14.431Z"
   },
   {
    "duration": 0,
    "start_time": "2023-12-01T15:26:14.433Z"
   },
   {
    "duration": 0,
    "start_time": "2023-12-01T15:26:14.434Z"
   },
   {
    "duration": 0,
    "start_time": "2023-12-01T15:26:14.435Z"
   },
   {
    "duration": 0,
    "start_time": "2023-12-01T15:26:14.436Z"
   },
   {
    "duration": 0,
    "start_time": "2023-12-01T15:26:14.437Z"
   },
   {
    "duration": 0,
    "start_time": "2023-12-01T15:26:14.438Z"
   },
   {
    "duration": 0,
    "start_time": "2023-12-01T15:26:14.439Z"
   },
   {
    "duration": 0,
    "start_time": "2023-12-01T15:26:14.440Z"
   },
   {
    "duration": 0,
    "start_time": "2023-12-01T15:26:14.441Z"
   },
   {
    "duration": 0,
    "start_time": "2023-12-01T15:26:14.442Z"
   },
   {
    "duration": 0,
    "start_time": "2023-12-01T15:26:14.443Z"
   },
   {
    "duration": 0,
    "start_time": "2023-12-01T15:26:14.444Z"
   },
   {
    "duration": 0,
    "start_time": "2023-12-01T15:26:14.445Z"
   },
   {
    "duration": 0,
    "start_time": "2023-12-01T15:26:14.446Z"
   },
   {
    "duration": 0,
    "start_time": "2023-12-01T15:26:14.447Z"
   },
   {
    "duration": 0,
    "start_time": "2023-12-01T15:26:14.448Z"
   },
   {
    "duration": 0,
    "start_time": "2023-12-01T15:26:14.449Z"
   },
   {
    "duration": 0,
    "start_time": "2023-12-01T15:26:14.450Z"
   },
   {
    "duration": 0,
    "start_time": "2023-12-01T15:26:14.451Z"
   },
   {
    "duration": 0,
    "start_time": "2023-12-01T15:26:14.452Z"
   },
   {
    "duration": 0,
    "start_time": "2023-12-01T15:26:14.512Z"
   },
   {
    "duration": 0,
    "start_time": "2023-12-01T15:26:14.513Z"
   },
   {
    "duration": 0,
    "start_time": "2023-12-01T15:26:14.514Z"
   },
   {
    "duration": 0,
    "start_time": "2023-12-01T15:26:14.515Z"
   },
   {
    "duration": 0,
    "start_time": "2023-12-01T15:26:14.516Z"
   },
   {
    "duration": 0,
    "start_time": "2023-12-01T15:26:14.517Z"
   },
   {
    "duration": 0,
    "start_time": "2023-12-01T15:26:14.518Z"
   },
   {
    "duration": 0,
    "start_time": "2023-12-01T15:26:14.519Z"
   },
   {
    "duration": 0,
    "start_time": "2023-12-01T15:26:14.520Z"
   },
   {
    "duration": 0,
    "start_time": "2023-12-01T15:26:14.521Z"
   },
   {
    "duration": 0,
    "start_time": "2023-12-01T15:26:14.522Z"
   },
   {
    "duration": 0,
    "start_time": "2023-12-01T15:26:14.523Z"
   },
   {
    "duration": 0,
    "start_time": "2023-12-01T15:26:14.524Z"
   },
   {
    "duration": 0,
    "start_time": "2023-12-01T15:26:14.525Z"
   },
   {
    "duration": 0,
    "start_time": "2023-12-01T15:26:14.526Z"
   },
   {
    "duration": 0,
    "start_time": "2023-12-01T15:26:14.527Z"
   },
   {
    "duration": 0,
    "start_time": "2023-12-01T15:26:14.528Z"
   },
   {
    "duration": 139,
    "start_time": "2023-12-01T15:28:46.541Z"
   },
   {
    "duration": 141,
    "start_time": "2023-12-01T15:34:54.831Z"
   },
   {
    "duration": 166,
    "start_time": "2023-12-01T15:35:03.489Z"
   },
   {
    "duration": 3,
    "start_time": "2023-12-01T15:35:25.719Z"
   },
   {
    "duration": 76,
    "start_time": "2023-12-01T15:35:25.724Z"
   },
   {
    "duration": 9,
    "start_time": "2023-12-01T15:35:25.802Z"
   },
   {
    "duration": 19,
    "start_time": "2023-12-01T15:35:25.812Z"
   },
   {
    "duration": 30,
    "start_time": "2023-12-01T15:35:25.833Z"
   },
   {
    "duration": 20,
    "start_time": "2023-12-01T15:35:25.864Z"
   },
   {
    "duration": 6,
    "start_time": "2023-12-01T15:35:25.886Z"
   },
   {
    "duration": 13,
    "start_time": "2023-12-01T15:35:25.893Z"
   },
   {
    "duration": 6,
    "start_time": "2023-12-01T15:35:25.911Z"
   },
   {
    "duration": 5,
    "start_time": "2023-12-01T15:35:25.918Z"
   },
   {
    "duration": 5,
    "start_time": "2023-12-01T15:35:25.924Z"
   },
   {
    "duration": 5,
    "start_time": "2023-12-01T15:35:25.931Z"
   },
   {
    "duration": 5,
    "start_time": "2023-12-01T15:35:25.937Z"
   },
   {
    "duration": 12,
    "start_time": "2023-12-01T15:35:25.945Z"
   },
   {
    "duration": 10,
    "start_time": "2023-12-01T15:35:25.959Z"
   },
   {
    "duration": 42,
    "start_time": "2023-12-01T15:35:25.970Z"
   },
   {
    "duration": 18,
    "start_time": "2023-12-01T15:35:26.014Z"
   },
   {
    "duration": 11,
    "start_time": "2023-12-01T15:35:26.033Z"
   },
   {
    "duration": 10,
    "start_time": "2023-12-01T15:35:26.045Z"
   },
   {
    "duration": 7,
    "start_time": "2023-12-01T15:35:26.057Z"
   },
   {
    "duration": 168,
    "start_time": "2023-12-01T15:35:26.066Z"
   },
   {
    "duration": 5,
    "start_time": "2023-12-01T15:35:26.236Z"
   },
   {
    "duration": 6,
    "start_time": "2023-12-01T15:35:26.243Z"
   },
   {
    "duration": 7,
    "start_time": "2023-12-01T15:35:26.250Z"
   },
   {
    "duration": 131,
    "start_time": "2023-12-01T15:35:26.259Z"
   },
   {
    "duration": 5,
    "start_time": "2023-12-01T15:35:26.392Z"
   },
   {
    "duration": 283,
    "start_time": "2023-12-01T15:35:26.398Z"
   },
   {
    "duration": 8,
    "start_time": "2023-12-01T15:35:26.683Z"
   },
   {
    "duration": 374,
    "start_time": "2023-12-01T15:35:26.692Z"
   },
   {
    "duration": 9,
    "start_time": "2023-12-01T15:35:27.067Z"
   },
   {
    "duration": 315,
    "start_time": "2023-12-01T15:35:27.077Z"
   },
   {
    "duration": 24,
    "start_time": "2023-12-01T15:35:27.394Z"
   },
   {
    "duration": 6,
    "start_time": "2023-12-01T15:35:27.419Z"
   },
   {
    "duration": 4,
    "start_time": "2023-12-01T15:35:27.426Z"
   },
   {
    "duration": 18,
    "start_time": "2023-12-01T15:35:27.432Z"
   },
   {
    "duration": 19,
    "start_time": "2023-12-01T15:35:27.451Z"
   },
   {
    "duration": 43,
    "start_time": "2023-12-01T15:35:27.472Z"
   },
   {
    "duration": 8,
    "start_time": "2023-12-01T15:35:27.516Z"
   },
   {
    "duration": 26,
    "start_time": "2023-12-01T15:35:27.525Z"
   },
   {
    "duration": 307,
    "start_time": "2023-12-01T15:35:27.553Z"
   },
   {
    "duration": 8,
    "start_time": "2023-12-01T15:35:27.864Z"
   },
   {
    "duration": 300,
    "start_time": "2023-12-01T15:35:27.873Z"
   },
   {
    "duration": 7,
    "start_time": "2023-12-01T15:35:28.174Z"
   },
   {
    "duration": 317,
    "start_time": "2023-12-01T15:35:28.183Z"
   },
   {
    "duration": 17,
    "start_time": "2023-12-01T15:35:28.501Z"
   },
   {
    "duration": 385,
    "start_time": "2023-12-01T15:35:28.520Z"
   },
   {
    "duration": 4,
    "start_time": "2023-12-01T15:35:28.907Z"
   },
   {
    "duration": 8,
    "start_time": "2023-12-01T15:35:28.913Z"
   },
   {
    "duration": 14,
    "start_time": "2023-12-01T15:35:28.923Z"
   },
   {
    "duration": 14,
    "start_time": "2023-12-01T15:35:28.938Z"
   },
   {
    "duration": 13,
    "start_time": "2023-12-01T15:35:28.954Z"
   },
   {
    "duration": 53,
    "start_time": "2023-12-01T15:35:28.969Z"
   },
   {
    "duration": 16,
    "start_time": "2023-12-01T15:35:29.023Z"
   },
   {
    "duration": 13,
    "start_time": "2023-12-01T15:35:29.041Z"
   },
   {
    "duration": 19,
    "start_time": "2023-12-01T15:35:29.055Z"
   },
   {
    "duration": 4,
    "start_time": "2023-12-01T15:35:29.076Z"
   },
   {
    "duration": 4,
    "start_time": "2023-12-01T15:35:29.111Z"
   },
   {
    "duration": 5,
    "start_time": "2023-12-01T15:35:29.116Z"
   },
   {
    "duration": 3,
    "start_time": "2023-12-01T15:35:29.123Z"
   },
   {
    "duration": 6,
    "start_time": "2023-12-01T15:35:29.127Z"
   },
   {
    "duration": 13,
    "start_time": "2023-12-01T15:35:29.134Z"
   },
   {
    "duration": 18,
    "start_time": "2023-12-01T15:35:29.149Z"
   },
   {
    "duration": 6,
    "start_time": "2023-12-01T15:35:29.168Z"
   },
   {
    "duration": 45,
    "start_time": "2023-12-01T15:35:29.175Z"
   },
   {
    "duration": 15,
    "start_time": "2023-12-01T15:35:29.221Z"
   },
   {
    "duration": 8,
    "start_time": "2023-12-01T15:35:29.238Z"
   },
   {
    "duration": 1354,
    "start_time": "2023-12-01T15:35:29.248Z"
   },
   {
    "duration": 1573,
    "start_time": "2023-12-01T15:35:30.604Z"
   },
   {
    "duration": 1337,
    "start_time": "2023-12-01T15:35:32.179Z"
   },
   {
    "duration": 10,
    "start_time": "2023-12-01T15:35:48.822Z"
   },
   {
    "duration": 100,
    "start_time": "2023-12-01T15:35:56.435Z"
   },
   {
    "duration": 108,
    "start_time": "2023-12-01T15:37:41.522Z"
   },
   {
    "duration": 108,
    "start_time": "2023-12-01T15:37:47.289Z"
   },
   {
    "duration": 262,
    "start_time": "2023-12-01T15:45:20.498Z"
   },
   {
    "duration": 294,
    "start_time": "2023-12-01T15:47:46.620Z"
   },
   {
    "duration": 5,
    "start_time": "2023-12-01T15:49:07.101Z"
   },
   {
    "duration": 429,
    "start_time": "2023-12-01T15:51:27.727Z"
   },
   {
    "duration": 323,
    "start_time": "2023-12-01T15:53:54.646Z"
   },
   {
    "duration": 79,
    "start_time": "2023-12-01T15:54:25.278Z"
   },
   {
    "duration": 312,
    "start_time": "2023-12-01T15:54:33.459Z"
   },
   {
    "duration": 296,
    "start_time": "2023-12-01T15:54:55.440Z"
   },
   {
    "duration": 306,
    "start_time": "2023-12-01T15:54:58.343Z"
   },
   {
    "duration": 10,
    "start_time": "2023-12-01T16:00:57.601Z"
   },
   {
    "duration": 3,
    "start_time": "2023-12-01T16:01:02.196Z"
   },
   {
    "duration": 53,
    "start_time": "2023-12-01T16:01:02.201Z"
   },
   {
    "duration": 0,
    "start_time": "2023-12-01T16:01:02.256Z"
   },
   {
    "duration": 0,
    "start_time": "2023-12-01T16:01:02.259Z"
   },
   {
    "duration": 0,
    "start_time": "2023-12-01T16:01:02.260Z"
   },
   {
    "duration": 0,
    "start_time": "2023-12-01T16:01:02.262Z"
   },
   {
    "duration": 0,
    "start_time": "2023-12-01T16:01:02.263Z"
   },
   {
    "duration": 0,
    "start_time": "2023-12-01T16:01:02.264Z"
   },
   {
    "duration": 0,
    "start_time": "2023-12-01T16:01:02.265Z"
   },
   {
    "duration": 0,
    "start_time": "2023-12-01T16:01:02.266Z"
   },
   {
    "duration": 0,
    "start_time": "2023-12-01T16:01:02.267Z"
   },
   {
    "duration": 0,
    "start_time": "2023-12-01T16:01:02.268Z"
   },
   {
    "duration": 0,
    "start_time": "2023-12-01T16:01:02.269Z"
   },
   {
    "duration": 0,
    "start_time": "2023-12-01T16:01:02.270Z"
   },
   {
    "duration": 0,
    "start_time": "2023-12-01T16:01:02.270Z"
   },
   {
    "duration": 0,
    "start_time": "2023-12-01T16:01:02.272Z"
   },
   {
    "duration": 0,
    "start_time": "2023-12-01T16:01:02.273Z"
   },
   {
    "duration": 0,
    "start_time": "2023-12-01T16:01:02.274Z"
   },
   {
    "duration": 0,
    "start_time": "2023-12-01T16:01:02.275Z"
   },
   {
    "duration": 0,
    "start_time": "2023-12-01T16:01:02.276Z"
   },
   {
    "duration": 0,
    "start_time": "2023-12-01T16:01:02.277Z"
   },
   {
    "duration": 0,
    "start_time": "2023-12-01T16:01:02.278Z"
   },
   {
    "duration": 0,
    "start_time": "2023-12-01T16:01:02.279Z"
   },
   {
    "duration": 0,
    "start_time": "2023-12-01T16:01:02.280Z"
   },
   {
    "duration": 0,
    "start_time": "2023-12-01T16:01:02.281Z"
   },
   {
    "duration": 0,
    "start_time": "2023-12-01T16:01:02.283Z"
   },
   {
    "duration": 0,
    "start_time": "2023-12-01T16:01:02.284Z"
   },
   {
    "duration": 31,
    "start_time": "2023-12-01T16:01:02.287Z"
   },
   {
    "duration": 556,
    "start_time": "2023-12-01T16:01:02.320Z"
   },
   {
    "duration": 9,
    "start_time": "2023-12-01T16:01:02.877Z"
   },
   {
    "duration": 326,
    "start_time": "2023-12-01T16:01:02.888Z"
   },
   {
    "duration": 8,
    "start_time": "2023-12-01T16:01:03.216Z"
   },
   {
    "duration": 8,
    "start_time": "2023-12-01T16:01:03.226Z"
   },
   {
    "duration": 6,
    "start_time": "2023-12-01T16:01:03.236Z"
   },
   {
    "duration": 22,
    "start_time": "2023-12-01T16:01:03.244Z"
   },
   {
    "duration": 57,
    "start_time": "2023-12-01T16:01:03.268Z"
   },
   {
    "duration": 6,
    "start_time": "2023-12-01T16:01:03.327Z"
   },
   {
    "duration": 6,
    "start_time": "2023-12-01T16:01:03.335Z"
   },
   {
    "duration": 21,
    "start_time": "2023-12-01T16:01:03.343Z"
   },
   {
    "duration": 328,
    "start_time": "2023-12-01T16:01:03.366Z"
   },
   {
    "duration": 17,
    "start_time": "2023-12-01T16:01:03.695Z"
   },
   {
    "duration": 322,
    "start_time": "2023-12-01T16:01:03.713Z"
   },
   {
    "duration": 10,
    "start_time": "2023-12-01T16:01:04.040Z"
   },
   {
    "duration": 323,
    "start_time": "2023-12-01T16:01:04.052Z"
   },
   {
    "duration": 9,
    "start_time": "2023-12-01T16:01:04.376Z"
   },
   {
    "duration": 325,
    "start_time": "2023-12-01T16:01:04.386Z"
   },
   {
    "duration": 4,
    "start_time": "2023-12-01T16:01:04.712Z"
   },
   {
    "duration": 15,
    "start_time": "2023-12-01T16:01:04.717Z"
   },
   {
    "duration": 13,
    "start_time": "2023-12-01T16:01:04.734Z"
   },
   {
    "duration": 21,
    "start_time": "2023-12-01T16:01:04.748Z"
   },
   {
    "duration": 46,
    "start_time": "2023-12-01T16:01:04.771Z"
   },
   {
    "duration": 12,
    "start_time": "2023-12-01T16:01:04.819Z"
   },
   {
    "duration": 20,
    "start_time": "2023-12-01T16:01:04.833Z"
   },
   {
    "duration": 179,
    "start_time": "2023-12-01T16:01:04.856Z"
   },
   {
    "duration": 12,
    "start_time": "2023-12-01T16:01:05.037Z"
   },
   {
    "duration": 4,
    "start_time": "2023-12-01T16:01:05.051Z"
   },
   {
    "duration": 4,
    "start_time": "2023-12-01T16:01:05.057Z"
   },
   {
    "duration": 7,
    "start_time": "2023-12-01T16:01:05.062Z"
   },
   {
    "duration": 5,
    "start_time": "2023-12-01T16:01:05.112Z"
   },
   {
    "duration": 6,
    "start_time": "2023-12-01T16:01:05.119Z"
   },
   {
    "duration": 12,
    "start_time": "2023-12-01T16:01:05.127Z"
   },
   {
    "duration": 9,
    "start_time": "2023-12-01T16:01:05.141Z"
   },
   {
    "duration": 8,
    "start_time": "2023-12-01T16:01:05.152Z"
   },
   {
    "duration": 50,
    "start_time": "2023-12-01T16:01:05.162Z"
   },
   {
    "duration": 12,
    "start_time": "2023-12-01T16:01:05.214Z"
   },
   {
    "duration": 13,
    "start_time": "2023-12-01T16:01:05.227Z"
   },
   {
    "duration": 1604,
    "start_time": "2023-12-01T16:01:05.242Z"
   },
   {
    "duration": 1569,
    "start_time": "2023-12-01T16:01:06.848Z"
   },
   {
    "duration": 1495,
    "start_time": "2023-12-01T16:01:08.419Z"
   },
   {
    "duration": 11,
    "start_time": "2023-12-01T16:01:56.184Z"
   },
   {
    "duration": 305,
    "start_time": "2023-12-01T16:01:56.690Z"
   },
   {
    "duration": 10,
    "start_time": "2023-12-01T16:01:58.969Z"
   },
   {
    "duration": 7,
    "start_time": "2023-12-01T16:02:00.700Z"
   },
   {
    "duration": 4,
    "start_time": "2023-12-01T16:02:22.016Z"
   },
   {
    "duration": 78,
    "start_time": "2023-12-01T16:02:22.022Z"
   },
   {
    "duration": 10,
    "start_time": "2023-12-01T16:02:22.101Z"
   },
   {
    "duration": 32,
    "start_time": "2023-12-01T16:02:22.113Z"
   },
   {
    "duration": 26,
    "start_time": "2023-12-01T16:02:22.147Z"
   },
   {
    "duration": 12,
    "start_time": "2023-12-01T16:02:22.174Z"
   },
   {
    "duration": 7,
    "start_time": "2023-12-01T16:02:22.188Z"
   },
   {
    "duration": 12,
    "start_time": "2023-12-01T16:02:22.210Z"
   },
   {
    "duration": 7,
    "start_time": "2023-12-01T16:02:22.225Z"
   },
   {
    "duration": 14,
    "start_time": "2023-12-01T16:02:22.233Z"
   },
   {
    "duration": 10,
    "start_time": "2023-12-01T16:02:22.248Z"
   },
   {
    "duration": 22,
    "start_time": "2023-12-01T16:02:22.259Z"
   },
   {
    "duration": 32,
    "start_time": "2023-12-01T16:02:22.283Z"
   },
   {
    "duration": 17,
    "start_time": "2023-12-01T16:02:22.317Z"
   },
   {
    "duration": 7,
    "start_time": "2023-12-01T16:02:22.335Z"
   },
   {
    "duration": 15,
    "start_time": "2023-12-01T16:02:22.343Z"
   },
   {
    "duration": 5,
    "start_time": "2023-12-01T16:02:22.360Z"
   },
   {
    "duration": 25,
    "start_time": "2023-12-01T16:02:22.366Z"
   },
   {
    "duration": 19,
    "start_time": "2023-12-01T16:02:22.392Z"
   },
   {
    "duration": 29,
    "start_time": "2023-12-01T16:02:22.413Z"
   },
   {
    "duration": 145,
    "start_time": "2023-12-01T16:02:22.444Z"
   },
   {
    "duration": 6,
    "start_time": "2023-12-01T16:02:22.591Z"
   },
   {
    "duration": 16,
    "start_time": "2023-12-01T16:02:22.598Z"
   },
   {
    "duration": 18,
    "start_time": "2023-12-01T16:02:22.618Z"
   },
   {
    "duration": 128,
    "start_time": "2023-12-01T16:02:22.638Z"
   },
   {
    "duration": 6,
    "start_time": "2023-12-01T16:02:22.767Z"
   },
   {
    "duration": 291,
    "start_time": "2023-12-01T16:02:22.775Z"
   },
   {
    "duration": 8,
    "start_time": "2023-12-01T16:02:23.068Z"
   },
   {
    "duration": 343,
    "start_time": "2023-12-01T16:02:23.078Z"
   },
   {
    "duration": 8,
    "start_time": "2023-12-01T16:02:23.423Z"
   },
   {
    "duration": 491,
    "start_time": "2023-12-01T16:02:23.433Z"
   },
   {
    "duration": 21,
    "start_time": "2023-12-01T16:02:23.926Z"
   },
   {
    "duration": 8,
    "start_time": "2023-12-01T16:02:23.949Z"
   },
   {
    "duration": 5,
    "start_time": "2023-12-01T16:02:23.959Z"
   },
   {
    "duration": 54,
    "start_time": "2023-12-01T16:02:23.966Z"
   },
   {
    "duration": 22,
    "start_time": "2023-12-01T16:02:24.021Z"
   },
   {
    "duration": 7,
    "start_time": "2023-12-01T16:02:24.044Z"
   },
   {
    "duration": 8,
    "start_time": "2023-12-01T16:02:24.052Z"
   },
   {
    "duration": 22,
    "start_time": "2023-12-01T16:02:24.061Z"
   },
   {
    "duration": 306,
    "start_time": "2023-12-01T16:02:24.085Z"
   },
   {
    "duration": 18,
    "start_time": "2023-12-01T16:02:24.393Z"
   },
   {
    "duration": 290,
    "start_time": "2023-12-01T16:02:24.413Z"
   },
   {
    "duration": 12,
    "start_time": "2023-12-01T16:02:24.705Z"
   },
   {
    "duration": 318,
    "start_time": "2023-12-01T16:02:24.719Z"
   },
   {
    "duration": 8,
    "start_time": "2023-12-01T16:02:25.039Z"
   },
   {
    "duration": 298,
    "start_time": "2023-12-01T16:02:25.048Z"
   },
   {
    "duration": 4,
    "start_time": "2023-12-01T16:02:25.347Z"
   },
   {
    "duration": 15,
    "start_time": "2023-12-01T16:02:25.352Z"
   },
   {
    "duration": 575,
    "start_time": "2023-12-01T16:02:25.368Z"
   },
   {
    "duration": 20,
    "start_time": "2023-12-01T16:02:25.946Z"
   },
   {
    "duration": 55,
    "start_time": "2023-12-01T16:02:25.968Z"
   },
   {
    "duration": 17,
    "start_time": "2023-12-01T16:02:26.024Z"
   },
   {
    "duration": 15,
    "start_time": "2023-12-01T16:02:26.042Z"
   },
   {
    "duration": 64,
    "start_time": "2023-12-01T16:02:26.058Z"
   },
   {
    "duration": 15,
    "start_time": "2023-12-01T16:02:26.123Z"
   },
   {
    "duration": 7,
    "start_time": "2023-12-01T16:02:26.139Z"
   },
   {
    "duration": 6,
    "start_time": "2023-12-01T16:02:26.147Z"
   },
   {
    "duration": 8,
    "start_time": "2023-12-01T16:02:26.154Z"
   },
   {
    "duration": 13,
    "start_time": "2023-12-01T16:02:26.163Z"
   },
   {
    "duration": 44,
    "start_time": "2023-12-01T16:02:26.178Z"
   },
   {
    "duration": 14,
    "start_time": "2023-12-01T16:02:26.224Z"
   },
   {
    "duration": 6,
    "start_time": "2023-12-01T16:02:26.240Z"
   },
   {
    "duration": 6,
    "start_time": "2023-12-01T16:02:26.247Z"
   },
   {
    "duration": 15,
    "start_time": "2023-12-01T16:02:26.255Z"
   },
   {
    "duration": 11,
    "start_time": "2023-12-01T16:02:26.272Z"
   },
   {
    "duration": 6,
    "start_time": "2023-12-01T16:02:26.312Z"
   },
   {
    "duration": 1392,
    "start_time": "2023-12-01T16:02:26.319Z"
   },
   {
    "duration": 1626,
    "start_time": "2023-12-01T16:02:27.713Z"
   },
   {
    "duration": 1419,
    "start_time": "2023-12-01T16:02:29.345Z"
   },
   {
    "duration": 3,
    "start_time": "2023-12-01T16:30:37.803Z"
   },
   {
    "duration": 67,
    "start_time": "2023-12-01T16:30:37.813Z"
   },
   {
    "duration": 9,
    "start_time": "2023-12-01T16:30:37.881Z"
   },
   {
    "duration": 11,
    "start_time": "2023-12-01T16:30:37.892Z"
   },
   {
    "duration": 19,
    "start_time": "2023-12-01T16:30:37.905Z"
   },
   {
    "duration": 15,
    "start_time": "2023-12-01T16:30:37.926Z"
   },
   {
    "duration": 7,
    "start_time": "2023-12-01T16:30:37.942Z"
   },
   {
    "duration": 14,
    "start_time": "2023-12-01T16:30:37.950Z"
   },
   {
    "duration": 8,
    "start_time": "2023-12-01T16:30:37.966Z"
   },
   {
    "duration": 12,
    "start_time": "2023-12-01T16:30:37.976Z"
   },
   {
    "duration": 7,
    "start_time": "2023-12-01T16:30:38.010Z"
   },
   {
    "duration": 9,
    "start_time": "2023-12-01T16:30:38.018Z"
   },
   {
    "duration": 6,
    "start_time": "2023-12-01T16:30:38.028Z"
   },
   {
    "duration": 9,
    "start_time": "2023-12-01T16:30:38.041Z"
   },
   {
    "duration": 7,
    "start_time": "2023-12-01T16:30:38.053Z"
   },
   {
    "duration": 18,
    "start_time": "2023-12-01T16:30:38.061Z"
   },
   {
    "duration": 34,
    "start_time": "2023-12-01T16:30:38.080Z"
   },
   {
    "duration": 15,
    "start_time": "2023-12-01T16:30:38.116Z"
   },
   {
    "duration": 8,
    "start_time": "2023-12-01T16:30:38.133Z"
   },
   {
    "duration": 12,
    "start_time": "2023-12-01T16:30:38.143Z"
   },
   {
    "duration": 167,
    "start_time": "2023-12-01T16:30:38.156Z"
   },
   {
    "duration": 6,
    "start_time": "2023-12-01T16:30:38.325Z"
   },
   {
    "duration": 9,
    "start_time": "2023-12-01T16:30:38.333Z"
   },
   {
    "duration": 8,
    "start_time": "2023-12-01T16:30:38.344Z"
   },
   {
    "duration": 149,
    "start_time": "2023-12-01T16:30:38.354Z"
   },
   {
    "duration": 7,
    "start_time": "2023-12-01T16:30:38.511Z"
   },
   {
    "duration": 294,
    "start_time": "2023-12-01T16:30:38.519Z"
   },
   {
    "duration": 8,
    "start_time": "2023-12-01T16:30:38.815Z"
   },
   {
    "duration": 351,
    "start_time": "2023-12-01T16:30:38.825Z"
   },
   {
    "duration": 9,
    "start_time": "2023-12-01T16:30:39.178Z"
   },
   {
    "duration": 337,
    "start_time": "2023-12-01T16:30:39.188Z"
   },
   {
    "duration": 20,
    "start_time": "2023-12-01T16:30:39.529Z"
   },
   {
    "duration": 7,
    "start_time": "2023-12-01T16:30:39.550Z"
   },
   {
    "duration": 108,
    "start_time": "2023-12-01T16:30:39.558Z"
   },
   {
    "duration": 0,
    "start_time": "2023-12-01T16:30:39.668Z"
   },
   {
    "duration": 0,
    "start_time": "2023-12-01T16:30:39.669Z"
   },
   {
    "duration": 0,
    "start_time": "2023-12-01T16:30:39.670Z"
   },
   {
    "duration": 0,
    "start_time": "2023-12-01T16:30:39.671Z"
   },
   {
    "duration": 0,
    "start_time": "2023-12-01T16:30:39.672Z"
   },
   {
    "duration": 0,
    "start_time": "2023-12-01T16:30:39.674Z"
   },
   {
    "duration": 0,
    "start_time": "2023-12-01T16:30:39.675Z"
   },
   {
    "duration": 0,
    "start_time": "2023-12-01T16:30:39.675Z"
   },
   {
    "duration": 0,
    "start_time": "2023-12-01T16:30:39.676Z"
   },
   {
    "duration": 0,
    "start_time": "2023-12-01T16:30:39.677Z"
   },
   {
    "duration": 0,
    "start_time": "2023-12-01T16:30:39.678Z"
   },
   {
    "duration": 0,
    "start_time": "2023-12-01T16:30:39.680Z"
   },
   {
    "duration": 0,
    "start_time": "2023-12-01T16:30:39.681Z"
   },
   {
    "duration": 0,
    "start_time": "2023-12-01T16:30:39.682Z"
   },
   {
    "duration": 0,
    "start_time": "2023-12-01T16:30:39.682Z"
   },
   {
    "duration": 0,
    "start_time": "2023-12-01T16:30:39.684Z"
   },
   {
    "duration": 0,
    "start_time": "2023-12-01T16:30:39.685Z"
   },
   {
    "duration": 0,
    "start_time": "2023-12-01T16:30:39.686Z"
   },
   {
    "duration": 0,
    "start_time": "2023-12-01T16:30:39.687Z"
   },
   {
    "duration": 0,
    "start_time": "2023-12-01T16:30:39.688Z"
   },
   {
    "duration": 0,
    "start_time": "2023-12-01T16:30:39.689Z"
   },
   {
    "duration": 0,
    "start_time": "2023-12-01T16:30:39.690Z"
   },
   {
    "duration": 0,
    "start_time": "2023-12-01T16:30:39.691Z"
   },
   {
    "duration": 0,
    "start_time": "2023-12-01T16:30:39.692Z"
   },
   {
    "duration": 0,
    "start_time": "2023-12-01T16:30:39.693Z"
   },
   {
    "duration": 0,
    "start_time": "2023-12-01T16:30:39.694Z"
   },
   {
    "duration": 0,
    "start_time": "2023-12-01T16:30:39.695Z"
   },
   {
    "duration": 0,
    "start_time": "2023-12-01T16:30:39.696Z"
   },
   {
    "duration": 0,
    "start_time": "2023-12-01T16:30:39.697Z"
   },
   {
    "duration": 0,
    "start_time": "2023-12-01T16:30:39.698Z"
   },
   {
    "duration": 0,
    "start_time": "2023-12-01T16:30:39.698Z"
   },
   {
    "duration": 0,
    "start_time": "2023-12-01T16:30:39.699Z"
   },
   {
    "duration": 0,
    "start_time": "2023-12-01T16:30:39.700Z"
   },
   {
    "duration": 0,
    "start_time": "2023-12-01T16:30:39.701Z"
   },
   {
    "duration": 0,
    "start_time": "2023-12-01T16:30:39.702Z"
   },
   {
    "duration": 0,
    "start_time": "2023-12-01T16:30:39.703Z"
   },
   {
    "duration": 0,
    "start_time": "2023-12-01T16:30:39.704Z"
   },
   {
    "duration": 4,
    "start_time": "2023-12-01T16:32:59.816Z"
   },
   {
    "duration": 15,
    "start_time": "2023-12-01T16:33:03.372Z"
   },
   {
    "duration": 4,
    "start_time": "2023-12-01T16:33:04.479Z"
   },
   {
    "duration": 6,
    "start_time": "2023-12-01T16:35:57.923Z"
   },
   {
    "duration": 7,
    "start_time": "2023-12-01T16:36:17.479Z"
   },
   {
    "duration": 34,
    "start_time": "2023-12-01T16:36:31.714Z"
   },
   {
    "duration": 11,
    "start_time": "2023-12-01T16:37:51.717Z"
   },
   {
    "duration": 3,
    "start_time": "2023-12-01T16:38:07.814Z"
   },
   {
    "duration": 73,
    "start_time": "2023-12-01T16:38:07.818Z"
   },
   {
    "duration": 10,
    "start_time": "2023-12-01T16:38:07.892Z"
   },
   {
    "duration": 13,
    "start_time": "2023-12-01T16:38:07.903Z"
   },
   {
    "duration": 11,
    "start_time": "2023-12-01T16:38:07.918Z"
   },
   {
    "duration": 13,
    "start_time": "2023-12-01T16:38:07.931Z"
   },
   {
    "duration": 8,
    "start_time": "2023-12-01T16:38:07.946Z"
   },
   {
    "duration": 62,
    "start_time": "2023-12-01T16:38:07.956Z"
   },
   {
    "duration": 10,
    "start_time": "2023-12-01T16:38:08.020Z"
   },
   {
    "duration": 6,
    "start_time": "2023-12-01T16:38:08.032Z"
   },
   {
    "duration": 7,
    "start_time": "2023-12-01T16:38:08.041Z"
   },
   {
    "duration": 8,
    "start_time": "2023-12-01T16:38:08.049Z"
   },
   {
    "duration": 54,
    "start_time": "2023-12-01T16:38:08.058Z"
   },
   {
    "duration": 11,
    "start_time": "2023-12-01T16:38:08.114Z"
   },
   {
    "duration": 7,
    "start_time": "2023-12-01T16:38:08.126Z"
   },
   {
    "duration": 5,
    "start_time": "2023-12-01T16:38:08.135Z"
   },
   {
    "duration": 6,
    "start_time": "2023-12-01T16:38:08.141Z"
   },
   {
    "duration": 15,
    "start_time": "2023-12-01T16:38:08.149Z"
   },
   {
    "duration": 4,
    "start_time": "2023-12-01T16:38:08.212Z"
   },
   {
    "duration": 17,
    "start_time": "2023-12-01T16:38:08.217Z"
   },
   {
    "duration": 164,
    "start_time": "2023-12-01T16:38:08.235Z"
   },
   {
    "duration": 6,
    "start_time": "2023-12-01T16:38:08.401Z"
   },
   {
    "duration": 5,
    "start_time": "2023-12-01T16:38:08.412Z"
   },
   {
    "duration": 6,
    "start_time": "2023-12-01T16:38:08.419Z"
   },
   {
    "duration": 339,
    "start_time": "2023-12-01T16:38:08.427Z"
   },
   {
    "duration": 5,
    "start_time": "2023-12-01T16:38:08.768Z"
   },
   {
    "duration": 295,
    "start_time": "2023-12-01T16:38:08.775Z"
   },
   {
    "duration": 8,
    "start_time": "2023-12-01T16:38:09.072Z"
   },
   {
    "duration": 362,
    "start_time": "2023-12-01T16:38:09.083Z"
   },
   {
    "duration": 9,
    "start_time": "2023-12-01T16:38:09.447Z"
   },
   {
    "duration": 339,
    "start_time": "2023-12-01T16:38:09.458Z"
   },
   {
    "duration": 32,
    "start_time": "2023-12-01T16:38:09.798Z"
   },
   {
    "duration": 10,
    "start_time": "2023-12-01T16:38:09.832Z"
   },
   {
    "duration": 4,
    "start_time": "2023-12-01T16:38:09.843Z"
   },
   {
    "duration": 22,
    "start_time": "2023-12-01T16:38:09.849Z"
   },
   {
    "duration": 32,
    "start_time": "2023-12-01T16:38:09.872Z"
   },
   {
    "duration": 10,
    "start_time": "2023-12-01T16:38:09.905Z"
   },
   {
    "duration": 21,
    "start_time": "2023-12-01T16:38:09.917Z"
   },
   {
    "duration": 18,
    "start_time": "2023-12-01T16:38:09.939Z"
   },
   {
    "duration": 62,
    "start_time": "2023-12-01T16:38:09.959Z"
   },
   {
    "duration": 8,
    "start_time": "2023-12-01T16:38:10.023Z"
   },
   {
    "duration": 10,
    "start_time": "2023-12-01T16:38:10.033Z"
   },
   {
    "duration": 13,
    "start_time": "2023-12-01T16:38:10.045Z"
   },
   {
    "duration": 322,
    "start_time": "2023-12-01T16:38:10.059Z"
   },
   {
    "duration": 11,
    "start_time": "2023-12-01T16:38:10.383Z"
   },
   {
    "duration": 310,
    "start_time": "2023-12-01T16:38:10.396Z"
   },
   {
    "duration": 10,
    "start_time": "2023-12-01T16:38:10.710Z"
   },
   {
    "duration": 404,
    "start_time": "2023-12-01T16:38:10.722Z"
   },
   {
    "duration": 10,
    "start_time": "2023-12-01T16:38:11.129Z"
   },
   {
    "duration": 307,
    "start_time": "2023-12-01T16:38:11.141Z"
   },
   {
    "duration": 4,
    "start_time": "2023-12-01T16:38:11.449Z"
   },
   {
    "duration": 12,
    "start_time": "2023-12-01T16:38:11.454Z"
   },
   {
    "duration": 615,
    "start_time": "2023-12-01T16:38:11.468Z"
   },
   {
    "duration": 36,
    "start_time": "2023-12-01T16:38:12.085Z"
   },
   {
    "duration": 19,
    "start_time": "2023-12-01T16:38:12.123Z"
   },
   {
    "duration": 69,
    "start_time": "2023-12-01T16:38:12.144Z"
   },
   {
    "duration": 22,
    "start_time": "2023-12-01T16:38:12.216Z"
   },
   {
    "duration": 13,
    "start_time": "2023-12-01T16:38:12.240Z"
   },
   {
    "duration": 57,
    "start_time": "2023-12-01T16:38:12.255Z"
   },
   {
    "duration": 5,
    "start_time": "2023-12-01T16:38:12.314Z"
   },
   {
    "duration": 5,
    "start_time": "2023-12-01T16:38:12.321Z"
   },
   {
    "duration": 6,
    "start_time": "2023-12-01T16:38:12.328Z"
   },
   {
    "duration": 4,
    "start_time": "2023-12-01T16:38:12.336Z"
   },
   {
    "duration": 5,
    "start_time": "2023-12-01T16:38:12.341Z"
   },
   {
    "duration": 64,
    "start_time": "2023-12-01T16:38:12.348Z"
   },
   {
    "duration": 7,
    "start_time": "2023-12-01T16:38:12.414Z"
   },
   {
    "duration": 9,
    "start_time": "2023-12-01T16:38:12.423Z"
   },
   {
    "duration": 12,
    "start_time": "2023-12-01T16:38:12.433Z"
   },
   {
    "duration": 14,
    "start_time": "2023-12-01T16:38:12.447Z"
   },
   {
    "duration": 51,
    "start_time": "2023-12-01T16:38:12.463Z"
   },
   {
    "duration": 1427,
    "start_time": "2023-12-01T16:38:12.516Z"
   },
   {
    "duration": 1658,
    "start_time": "2023-12-01T16:38:13.944Z"
   },
   {
    "duration": 1466,
    "start_time": "2023-12-01T16:38:15.612Z"
   },
   {
    "duration": 5,
    "start_time": "2023-12-01T16:38:26.161Z"
   },
   {
    "duration": 17,
    "start_time": "2023-12-01T16:38:26.973Z"
   },
   {
    "duration": 12,
    "start_time": "2023-12-01T16:38:28.782Z"
   },
   {
    "duration": 5,
    "start_time": "2023-12-01T16:39:21.942Z"
   },
   {
    "duration": 12,
    "start_time": "2023-12-01T16:39:22.474Z"
   },
   {
    "duration": 12,
    "start_time": "2023-12-01T16:39:23.239Z"
   },
   {
    "duration": 5,
    "start_time": "2023-12-01T16:40:42.228Z"
   },
   {
    "duration": 13,
    "start_time": "2023-12-01T16:40:43.185Z"
   },
   {
    "duration": 14,
    "start_time": "2023-12-01T16:40:43.977Z"
   },
   {
    "duration": 6,
    "start_time": "2023-12-01T16:40:53.410Z"
   },
   {
    "duration": 35,
    "start_time": "2023-12-01T16:40:54.536Z"
   },
   {
    "duration": 34,
    "start_time": "2023-12-01T16:41:22.783Z"
   },
   {
    "duration": 8,
    "start_time": "2023-12-01T16:41:25.198Z"
   },
   {
    "duration": 271,
    "start_time": "2023-12-01T16:43:34.751Z"
   },
   {
    "duration": 438,
    "start_time": "2023-12-01T16:43:56.895Z"
   },
   {
    "duration": 265,
    "start_time": "2023-12-01T16:44:06.952Z"
   },
   {
    "duration": 11,
    "start_time": "2023-12-01T16:47:25.442Z"
   },
   {
    "duration": 3,
    "start_time": "2023-12-01T16:49:40.234Z"
   },
   {
    "duration": 65,
    "start_time": "2023-12-01T16:49:40.278Z"
   },
   {
    "duration": 13,
    "start_time": "2023-12-01T16:49:40.346Z"
   },
   {
    "duration": 14,
    "start_time": "2023-12-01T16:49:40.361Z"
   },
   {
    "duration": 13,
    "start_time": "2023-12-01T16:49:40.377Z"
   },
   {
    "duration": 18,
    "start_time": "2023-12-01T16:49:40.402Z"
   },
   {
    "duration": 8,
    "start_time": "2023-12-01T16:49:40.422Z"
   },
   {
    "duration": 55,
    "start_time": "2023-12-01T16:49:40.432Z"
   },
   {
    "duration": 18,
    "start_time": "2023-12-01T16:49:40.490Z"
   },
   {
    "duration": 11,
    "start_time": "2023-12-01T16:49:40.510Z"
   },
   {
    "duration": 20,
    "start_time": "2023-12-01T16:49:40.523Z"
   },
   {
    "duration": 23,
    "start_time": "2023-12-01T16:49:40.544Z"
   },
   {
    "duration": 7,
    "start_time": "2023-12-01T16:49:40.570Z"
   },
   {
    "duration": 10,
    "start_time": "2023-12-01T16:49:40.579Z"
   },
   {
    "duration": 6,
    "start_time": "2023-12-01T16:49:40.590Z"
   },
   {
    "duration": 17,
    "start_time": "2023-12-01T16:49:40.598Z"
   },
   {
    "duration": 25,
    "start_time": "2023-12-01T16:49:40.617Z"
   },
   {
    "duration": 14,
    "start_time": "2023-12-01T16:49:40.644Z"
   },
   {
    "duration": 12,
    "start_time": "2023-12-01T16:49:40.660Z"
   },
   {
    "duration": 7,
    "start_time": "2023-12-01T16:49:40.674Z"
   },
   {
    "duration": 155,
    "start_time": "2023-12-01T16:49:40.683Z"
   },
   {
    "duration": 7,
    "start_time": "2023-12-01T16:49:40.841Z"
   },
   {
    "duration": 7,
    "start_time": "2023-12-01T16:49:40.850Z"
   },
   {
    "duration": 9,
    "start_time": "2023-12-01T16:49:40.859Z"
   },
   {
    "duration": 162,
    "start_time": "2023-12-01T16:49:40.870Z"
   },
   {
    "duration": 6,
    "start_time": "2023-12-01T16:49:41.034Z"
   },
   {
    "duration": 301,
    "start_time": "2023-12-01T16:49:41.042Z"
   },
   {
    "duration": 8,
    "start_time": "2023-12-01T16:49:41.345Z"
   },
   {
    "duration": 320,
    "start_time": "2023-12-01T16:49:41.355Z"
   },
   {
    "duration": 9,
    "start_time": "2023-12-01T16:49:41.679Z"
   },
   {
    "duration": 301,
    "start_time": "2023-12-01T16:49:41.689Z"
   },
   {
    "duration": 33,
    "start_time": "2023-12-01T16:49:41.992Z"
   },
   {
    "duration": 6,
    "start_time": "2023-12-01T16:49:42.027Z"
   },
   {
    "duration": 5,
    "start_time": "2023-12-01T16:49:42.034Z"
   },
   {
    "duration": 19,
    "start_time": "2023-12-01T16:49:42.040Z"
   },
   {
    "duration": 16,
    "start_time": "2023-12-01T16:49:42.060Z"
   },
   {
    "duration": 64,
    "start_time": "2023-12-01T16:49:42.078Z"
   },
   {
    "duration": 18,
    "start_time": "2023-12-01T16:49:42.144Z"
   },
   {
    "duration": 148,
    "start_time": "2023-12-01T16:49:42.164Z"
   },
   {
    "duration": 7,
    "start_time": "2023-12-01T16:49:42.313Z"
   },
   {
    "duration": 11,
    "start_time": "2023-12-01T16:49:42.321Z"
   },
   {
    "duration": 8,
    "start_time": "2023-12-01T16:49:42.333Z"
   },
   {
    "duration": 340,
    "start_time": "2023-12-01T16:49:42.343Z"
   },
   {
    "duration": 7,
    "start_time": "2023-12-01T16:49:42.685Z"
   },
   {
    "duration": 308,
    "start_time": "2023-12-01T16:49:42.694Z"
   },
   {
    "duration": 8,
    "start_time": "2023-12-01T16:49:43.011Z"
   },
   {
    "duration": 328,
    "start_time": "2023-12-01T16:49:43.020Z"
   },
   {
    "duration": 7,
    "start_time": "2023-12-01T16:49:43.350Z"
   },
   {
    "duration": 314,
    "start_time": "2023-12-01T16:49:43.359Z"
   },
   {
    "duration": 4,
    "start_time": "2023-12-01T16:49:43.675Z"
   },
   {
    "duration": 14,
    "start_time": "2023-12-01T16:49:43.684Z"
   },
   {
    "duration": 561,
    "start_time": "2023-12-01T16:49:43.711Z"
   },
   {
    "duration": 15,
    "start_time": "2023-12-01T16:49:44.274Z"
   },
   {
    "duration": 33,
    "start_time": "2023-12-01T16:49:44.290Z"
   },
   {
    "duration": 12,
    "start_time": "2023-12-01T16:49:44.324Z"
   },
   {
    "duration": 16,
    "start_time": "2023-12-01T16:49:44.337Z"
   },
   {
    "duration": 66,
    "start_time": "2023-12-01T16:49:44.354Z"
   },
   {
    "duration": 9,
    "start_time": "2023-12-01T16:49:44.421Z"
   },
   {
    "duration": 6,
    "start_time": "2023-12-01T16:49:44.432Z"
   },
   {
    "duration": 6,
    "start_time": "2023-12-01T16:49:44.439Z"
   },
   {
    "duration": 10,
    "start_time": "2023-12-01T16:49:44.446Z"
   },
   {
    "duration": 8,
    "start_time": "2023-12-01T16:49:44.457Z"
   },
   {
    "duration": 44,
    "start_time": "2023-12-01T16:49:44.467Z"
   },
   {
    "duration": 14,
    "start_time": "2023-12-01T16:49:44.513Z"
   },
   {
    "duration": 20,
    "start_time": "2023-12-01T16:49:44.529Z"
   },
   {
    "duration": 8,
    "start_time": "2023-12-01T16:49:44.551Z"
   },
   {
    "duration": 23,
    "start_time": "2023-12-01T16:49:44.561Z"
   },
   {
    "duration": 36,
    "start_time": "2023-12-01T16:49:44.585Z"
   },
   {
    "duration": 6,
    "start_time": "2023-12-01T16:49:44.623Z"
   },
   {
    "duration": 1428,
    "start_time": "2023-12-01T16:49:44.630Z"
   },
   {
    "duration": 1538,
    "start_time": "2023-12-01T16:49:46.060Z"
   },
   {
    "duration": 1534,
    "start_time": "2023-12-01T16:49:47.600Z"
   },
   {
    "duration": 13,
    "start_time": "2023-12-01T16:50:55.643Z"
   },
   {
    "duration": 267,
    "start_time": "2023-12-01T16:52:07.817Z"
   },
   {
    "duration": 3,
    "start_time": "2023-12-01T16:56:24.354Z"
   },
   {
    "duration": 67,
    "start_time": "2023-12-01T16:56:24.359Z"
   },
   {
    "duration": 9,
    "start_time": "2023-12-01T16:56:24.428Z"
   },
   {
    "duration": 10,
    "start_time": "2023-12-01T16:56:24.439Z"
   },
   {
    "duration": 15,
    "start_time": "2023-12-01T16:56:24.451Z"
   },
   {
    "duration": 17,
    "start_time": "2023-12-01T16:56:24.467Z"
   },
   {
    "duration": 26,
    "start_time": "2023-12-01T16:56:24.486Z"
   },
   {
    "duration": 9,
    "start_time": "2023-12-01T16:56:24.514Z"
   },
   {
    "duration": 15,
    "start_time": "2023-12-01T16:56:24.525Z"
   },
   {
    "duration": 7,
    "start_time": "2023-12-01T16:56:24.541Z"
   },
   {
    "duration": 6,
    "start_time": "2023-12-01T16:56:24.550Z"
   },
   {
    "duration": 6,
    "start_time": "2023-12-01T16:56:24.557Z"
   },
   {
    "duration": 7,
    "start_time": "2023-12-01T16:56:24.565Z"
   },
   {
    "duration": 8,
    "start_time": "2023-12-01T16:56:24.611Z"
   },
   {
    "duration": 5,
    "start_time": "2023-12-01T16:56:24.621Z"
   },
   {
    "duration": 4,
    "start_time": "2023-12-01T16:56:24.628Z"
   },
   {
    "duration": 4,
    "start_time": "2023-12-01T16:56:24.633Z"
   },
   {
    "duration": 12,
    "start_time": "2023-12-01T16:56:24.639Z"
   },
   {
    "duration": 5,
    "start_time": "2023-12-01T16:56:24.652Z"
   },
   {
    "duration": 53,
    "start_time": "2023-12-01T16:56:24.659Z"
   },
   {
    "duration": 156,
    "start_time": "2023-12-01T16:56:24.713Z"
   },
   {
    "duration": 6,
    "start_time": "2023-12-01T16:56:24.871Z"
   },
   {
    "duration": 11,
    "start_time": "2023-12-01T16:56:24.879Z"
   },
   {
    "duration": 6,
    "start_time": "2023-12-01T16:56:24.911Z"
   },
   {
    "duration": 141,
    "start_time": "2023-12-01T16:56:24.919Z"
   },
   {
    "duration": 6,
    "start_time": "2023-12-01T16:56:25.062Z"
   },
   {
    "duration": 289,
    "start_time": "2023-12-01T16:56:25.069Z"
   },
   {
    "duration": 8,
    "start_time": "2023-12-01T16:56:25.360Z"
   },
   {
    "duration": 281,
    "start_time": "2023-12-01T16:56:25.371Z"
   },
   {
    "duration": 8,
    "start_time": "2023-12-01T16:56:25.654Z"
   },
   {
    "duration": 295,
    "start_time": "2023-12-01T16:56:25.664Z"
   },
   {
    "duration": 20,
    "start_time": "2023-12-01T16:56:25.961Z"
   },
   {
    "duration": 5,
    "start_time": "2023-12-01T16:56:25.982Z"
   },
   {
    "duration": 24,
    "start_time": "2023-12-01T16:56:25.988Z"
   },
   {
    "duration": 13,
    "start_time": "2023-12-01T16:56:26.013Z"
   },
   {
    "duration": 9,
    "start_time": "2023-12-01T16:56:26.028Z"
   },
   {
    "duration": 34,
    "start_time": "2023-12-01T16:56:26.039Z"
   },
   {
    "duration": 452,
    "start_time": "2023-12-01T16:56:26.075Z"
   },
   {
    "duration": 18,
    "start_time": "2023-12-01T16:56:26.528Z"
   },
   {
    "duration": 22,
    "start_time": "2023-12-01T16:56:26.547Z"
   },
   {
    "duration": 42,
    "start_time": "2023-12-01T16:56:26.570Z"
   },
   {
    "duration": 7,
    "start_time": "2023-12-01T16:56:26.614Z"
   },
   {
    "duration": 6,
    "start_time": "2023-12-01T16:56:26.622Z"
   },
   {
    "duration": 8,
    "start_time": "2023-12-01T16:56:26.629Z"
   },
   {
    "duration": 312,
    "start_time": "2023-12-01T16:56:26.639Z"
   },
   {
    "duration": 8,
    "start_time": "2023-12-01T16:56:26.953Z"
   },
   {
    "duration": 314,
    "start_time": "2023-12-01T16:56:26.962Z"
   },
   {
    "duration": 8,
    "start_time": "2023-12-01T16:56:27.278Z"
   },
   {
    "duration": 302,
    "start_time": "2023-12-01T16:56:27.287Z"
   },
   {
    "duration": 7,
    "start_time": "2023-12-01T16:56:27.591Z"
   },
   {
    "duration": 296,
    "start_time": "2023-12-01T16:56:27.600Z"
   },
   {
    "duration": 4,
    "start_time": "2023-12-01T16:56:27.897Z"
   },
   {
    "duration": 17,
    "start_time": "2023-12-01T16:56:27.902Z"
   },
   {
    "duration": 17,
    "start_time": "2023-12-01T16:56:27.921Z"
   },
   {
    "duration": 14,
    "start_time": "2023-12-01T16:56:27.939Z"
   },
   {
    "duration": 13,
    "start_time": "2023-12-01T16:56:27.954Z"
   },
   {
    "duration": 48,
    "start_time": "2023-12-01T16:56:27.969Z"
   },
   {
    "duration": 20,
    "start_time": "2023-12-01T16:56:28.019Z"
   },
   {
    "duration": 18,
    "start_time": "2023-12-01T16:56:28.041Z"
   },
   {
    "duration": 14,
    "start_time": "2023-12-01T16:56:28.061Z"
   },
   {
    "duration": 37,
    "start_time": "2023-12-01T16:56:28.077Z"
   },
   {
    "duration": 6,
    "start_time": "2023-12-01T16:56:28.116Z"
   },
   {
    "duration": 6,
    "start_time": "2023-12-01T16:56:28.124Z"
   },
   {
    "duration": 4,
    "start_time": "2023-12-01T16:56:28.132Z"
   },
   {
    "duration": 7,
    "start_time": "2023-12-01T16:56:28.138Z"
   },
   {
    "duration": 14,
    "start_time": "2023-12-01T16:56:28.146Z"
   },
   {
    "duration": 57,
    "start_time": "2023-12-01T16:56:28.161Z"
   },
   {
    "duration": 8,
    "start_time": "2023-12-01T16:56:28.219Z"
   },
   {
    "duration": 14,
    "start_time": "2023-12-01T16:56:28.229Z"
   },
   {
    "duration": 14,
    "start_time": "2023-12-01T16:56:28.245Z"
   },
   {
    "duration": 6,
    "start_time": "2023-12-01T16:56:28.260Z"
   },
   {
    "duration": 1462,
    "start_time": "2023-12-01T16:56:28.268Z"
   },
   {
    "duration": 1636,
    "start_time": "2023-12-01T16:56:29.731Z"
   },
   {
    "duration": 1444,
    "start_time": "2023-12-01T16:56:31.369Z"
   },
   {
    "duration": 10,
    "start_time": "2023-12-01T16:59:00.054Z"
   },
   {
    "duration": 12,
    "start_time": "2023-12-01T17:04:35.062Z"
   },
   {
    "duration": 486,
    "start_time": "2023-12-01T17:07:35.492Z"
   },
   {
    "duration": 491,
    "start_time": "2023-12-01T17:08:18.728Z"
   },
   {
    "duration": 613,
    "start_time": "2023-12-01T17:08:25.889Z"
   },
   {
    "duration": 497,
    "start_time": "2023-12-01T17:08:45.801Z"
   },
   {
    "duration": 501,
    "start_time": "2023-12-01T17:11:26.157Z"
   },
   {
    "duration": 636,
    "start_time": "2023-12-01T17:12:41.743Z"
   },
   {
    "duration": 494,
    "start_time": "2023-12-01T17:13:40.472Z"
   },
   {
    "duration": 628,
    "start_time": "2023-12-01T17:13:46.312Z"
   },
   {
    "duration": 513,
    "start_time": "2023-12-01T17:13:56.869Z"
   },
   {
    "duration": 481,
    "start_time": "2023-12-01T17:16:52.743Z"
   },
   {
    "duration": 656,
    "start_time": "2023-12-01T17:17:01.413Z"
   },
   {
    "duration": 526,
    "start_time": "2023-12-01T17:17:06.866Z"
   },
   {
    "duration": 518,
    "start_time": "2023-12-01T17:17:20.321Z"
   },
   {
    "duration": 630,
    "start_time": "2023-12-01T17:22:46.122Z"
   },
   {
    "duration": 110,
    "start_time": "2023-12-01T17:26:27.185Z"
   },
   {
    "duration": 570,
    "start_time": "2023-12-01T17:26:36.686Z"
   },
   {
    "duration": 502,
    "start_time": "2023-12-01T17:27:26.632Z"
   },
   {
    "duration": 627,
    "start_time": "2023-12-01T17:27:34.879Z"
   },
   {
    "duration": 312,
    "start_time": "2023-12-01T17:29:33.839Z"
   },
   {
    "duration": 523,
    "start_time": "2023-12-01T17:29:41.540Z"
   },
   {
    "duration": 623,
    "start_time": "2023-12-01T17:33:41.066Z"
   },
   {
    "duration": 511,
    "start_time": "2023-12-01T17:33:45.795Z"
   },
   {
    "duration": 478,
    "start_time": "2023-12-01T17:33:50.515Z"
   },
   {
    "duration": 448,
    "start_time": "2023-12-01T17:34:15.620Z"
   },
   {
    "duration": 377,
    "start_time": "2023-12-01T17:34:58.340Z"
   },
   {
    "duration": 308,
    "start_time": "2023-12-01T17:37:33.927Z"
   },
   {
    "duration": 337,
    "start_time": "2023-12-01T17:37:36.203Z"
   },
   {
    "duration": 308,
    "start_time": "2023-12-01T17:38:08.010Z"
   },
   {
    "duration": 633,
    "start_time": "2023-12-01T17:38:43.443Z"
   },
   {
    "duration": 546,
    "start_time": "2023-12-01T17:39:17.304Z"
   },
   {
    "duration": 501,
    "start_time": "2023-12-01T17:39:31.036Z"
   },
   {
    "duration": 70,
    "start_time": "2023-12-01T17:42:22.588Z"
   },
   {
    "duration": 10,
    "start_time": "2023-12-01T17:42:22.749Z"
   },
   {
    "duration": 631,
    "start_time": "2023-12-01T17:45:30.458Z"
   },
   {
    "duration": 1268,
    "start_time": "2023-12-02T17:13:36.656Z"
   },
   {
    "duration": 316,
    "start_time": "2023-12-02T17:13:37.925Z"
   },
   {
    "duration": 13,
    "start_time": "2023-12-02T17:13:38.243Z"
   },
   {
    "duration": 10,
    "start_time": "2023-12-02T17:13:38.257Z"
   },
   {
    "duration": 21,
    "start_time": "2023-12-02T17:13:38.269Z"
   },
   {
    "duration": 29,
    "start_time": "2023-12-02T17:13:38.292Z"
   },
   {
    "duration": 7,
    "start_time": "2023-12-02T17:13:38.323Z"
   },
   {
    "duration": 10,
    "start_time": "2023-12-02T17:13:38.331Z"
   },
   {
    "duration": 7,
    "start_time": "2023-12-02T17:13:38.342Z"
   },
   {
    "duration": 4,
    "start_time": "2023-12-02T17:13:38.351Z"
   },
   {
    "duration": 6,
    "start_time": "2023-12-02T17:13:38.356Z"
   },
   {
    "duration": 6,
    "start_time": "2023-12-02T17:13:38.363Z"
   },
   {
    "duration": 45,
    "start_time": "2023-12-02T17:13:38.371Z"
   },
   {
    "duration": 7,
    "start_time": "2023-12-02T17:13:38.419Z"
   },
   {
    "duration": 12,
    "start_time": "2023-12-02T17:13:38.428Z"
   },
   {
    "duration": 4,
    "start_time": "2023-12-02T17:13:38.441Z"
   },
   {
    "duration": 5,
    "start_time": "2023-12-02T17:13:38.446Z"
   },
   {
    "duration": 10,
    "start_time": "2023-12-02T17:13:38.452Z"
   },
   {
    "duration": 18,
    "start_time": "2023-12-02T17:13:38.464Z"
   },
   {
    "duration": 10,
    "start_time": "2023-12-02T17:13:38.483Z"
   },
   {
    "duration": 160,
    "start_time": "2023-12-02T17:13:38.514Z"
   },
   {
    "duration": 5,
    "start_time": "2023-12-02T17:13:38.676Z"
   },
   {
    "duration": 7,
    "start_time": "2023-12-02T17:13:38.683Z"
   },
   {
    "duration": 6,
    "start_time": "2023-12-02T17:13:38.691Z"
   },
   {
    "duration": 124,
    "start_time": "2023-12-02T17:13:38.713Z"
   },
   {
    "duration": 5,
    "start_time": "2023-12-02T17:13:38.838Z"
   },
   {
    "duration": 279,
    "start_time": "2023-12-02T17:13:38.845Z"
   },
   {
    "duration": 9,
    "start_time": "2023-12-02T17:13:39.125Z"
   },
   {
    "duration": 286,
    "start_time": "2023-12-02T17:13:39.135Z"
   },
   {
    "duration": 7,
    "start_time": "2023-12-02T17:13:39.423Z"
   },
   {
    "duration": 288,
    "start_time": "2023-12-02T17:13:39.431Z"
   },
   {
    "duration": 22,
    "start_time": "2023-12-02T17:13:39.721Z"
   },
   {
    "duration": 6,
    "start_time": "2023-12-02T17:13:39.744Z"
   },
   {
    "duration": 5,
    "start_time": "2023-12-02T17:13:39.751Z"
   },
   {
    "duration": 12,
    "start_time": "2023-12-02T17:13:39.758Z"
   },
   {
    "duration": 42,
    "start_time": "2023-12-02T17:13:39.772Z"
   },
   {
    "duration": 109,
    "start_time": "2023-12-02T17:13:39.815Z"
   },
   {
    "duration": 280,
    "start_time": "2023-12-02T17:13:39.926Z"
   },
   {
    "duration": 20,
    "start_time": "2023-12-02T17:13:40.208Z"
   },
   {
    "duration": 21,
    "start_time": "2023-12-02T17:13:40.229Z"
   },
   {
    "duration": 16,
    "start_time": "2023-12-02T17:13:40.254Z"
   },
   {
    "duration": 42,
    "start_time": "2023-12-02T17:13:40.272Z"
   },
   {
    "duration": 9,
    "start_time": "2023-12-02T17:13:40.316Z"
   },
   {
    "duration": 13,
    "start_time": "2023-12-02T17:13:40.327Z"
   },
   {
    "duration": 21,
    "start_time": "2023-12-02T17:13:40.341Z"
   },
   {
    "duration": 8,
    "start_time": "2023-12-02T17:13:40.364Z"
   },
   {
    "duration": 517,
    "start_time": "2023-12-02T17:13:40.374Z"
   },
   {
    "duration": 22,
    "start_time": "2023-12-02T17:13:40.893Z"
   },
   {
    "duration": 8,
    "start_time": "2023-12-02T17:13:40.917Z"
   },
   {
    "duration": 507,
    "start_time": "2023-12-02T17:13:40.927Z"
   },
   {
    "duration": 4,
    "start_time": "2023-12-02T17:13:41.436Z"
   },
   {
    "duration": 13,
    "start_time": "2023-12-02T17:13:41.442Z"
   },
   {
    "duration": 14,
    "start_time": "2023-12-02T17:13:41.457Z"
   },
   {
    "duration": 41,
    "start_time": "2023-12-02T17:13:41.473Z"
   },
   {
    "duration": 14,
    "start_time": "2023-12-02T17:13:41.515Z"
   },
   {
    "duration": 12,
    "start_time": "2023-12-02T17:13:41.530Z"
   },
   {
    "duration": 15,
    "start_time": "2023-12-02T17:13:41.543Z"
   },
   {
    "duration": 12,
    "start_time": "2023-12-02T17:13:41.559Z"
   },
   {
    "duration": 47,
    "start_time": "2023-12-02T17:13:41.572Z"
   },
   {
    "duration": 4,
    "start_time": "2023-12-02T17:13:41.620Z"
   },
   {
    "duration": 5,
    "start_time": "2023-12-02T17:13:41.625Z"
   },
   {
    "duration": 15,
    "start_time": "2023-12-02T17:13:41.631Z"
   },
   {
    "duration": 5,
    "start_time": "2023-12-02T17:13:41.647Z"
   },
   {
    "duration": 6,
    "start_time": "2023-12-02T17:13:41.653Z"
   },
   {
    "duration": 13,
    "start_time": "2023-12-02T17:13:41.660Z"
   },
   {
    "duration": 11,
    "start_time": "2023-12-02T17:13:41.674Z"
   },
   {
    "duration": 6,
    "start_time": "2023-12-02T17:13:41.714Z"
   },
   {
    "duration": 18,
    "start_time": "2023-12-02T17:13:41.722Z"
   },
   {
    "duration": 12,
    "start_time": "2023-12-02T17:13:41.741Z"
   },
   {
    "duration": 5,
    "start_time": "2023-12-02T17:13:41.755Z"
   },
   {
    "duration": 1700,
    "start_time": "2023-12-02T17:13:41.761Z"
   },
   {
    "duration": 1671,
    "start_time": "2023-12-02T17:13:43.514Z"
   },
   {
    "duration": 1405,
    "start_time": "2023-12-02T17:13:45.187Z"
   },
   {
    "duration": 3,
    "start_time": "2023-12-02T17:14:19.976Z"
   },
   {
    "duration": 68,
    "start_time": "2023-12-02T17:14:19.981Z"
   },
   {
    "duration": 9,
    "start_time": "2023-12-02T17:14:20.051Z"
   },
   {
    "duration": 16,
    "start_time": "2023-12-02T17:14:20.061Z"
   },
   {
    "duration": 13,
    "start_time": "2023-12-02T17:14:20.079Z"
   },
   {
    "duration": 22,
    "start_time": "2023-12-02T17:14:20.093Z"
   },
   {
    "duration": 7,
    "start_time": "2023-12-02T17:14:20.116Z"
   },
   {
    "duration": 10,
    "start_time": "2023-12-02T17:14:20.124Z"
   },
   {
    "duration": 8,
    "start_time": "2023-12-02T17:14:20.135Z"
   },
   {
    "duration": 17,
    "start_time": "2023-12-02T17:14:20.144Z"
   },
   {
    "duration": 5,
    "start_time": "2023-12-02T17:14:20.164Z"
   },
   {
    "duration": 9,
    "start_time": "2023-12-02T17:14:20.171Z"
   },
   {
    "duration": 6,
    "start_time": "2023-12-02T17:14:20.213Z"
   },
   {
    "duration": 27,
    "start_time": "2023-12-02T17:14:20.220Z"
   },
   {
    "duration": 4,
    "start_time": "2023-12-02T17:14:20.249Z"
   },
   {
    "duration": 7,
    "start_time": "2023-12-02T17:14:20.255Z"
   },
   {
    "duration": 9,
    "start_time": "2023-12-02T17:14:20.263Z"
   },
   {
    "duration": 13,
    "start_time": "2023-12-02T17:14:20.273Z"
   },
   {
    "duration": 35,
    "start_time": "2023-12-02T17:14:20.287Z"
   },
   {
    "duration": 11,
    "start_time": "2023-12-02T17:14:20.324Z"
   },
   {
    "duration": 152,
    "start_time": "2023-12-02T17:14:20.337Z"
   },
   {
    "duration": 6,
    "start_time": "2023-12-02T17:14:20.490Z"
   },
   {
    "duration": 6,
    "start_time": "2023-12-02T17:14:20.513Z"
   },
   {
    "duration": 8,
    "start_time": "2023-12-02T17:14:20.521Z"
   },
   {
    "duration": 135,
    "start_time": "2023-12-02T17:14:20.530Z"
   },
   {
    "duration": 5,
    "start_time": "2023-12-02T17:14:20.667Z"
   },
   {
    "duration": 275,
    "start_time": "2023-12-02T17:14:20.673Z"
   },
   {
    "duration": 8,
    "start_time": "2023-12-02T17:14:20.949Z"
   },
   {
    "duration": 263,
    "start_time": "2023-12-02T17:14:20.961Z"
   },
   {
    "duration": 8,
    "start_time": "2023-12-02T17:14:21.225Z"
   },
   {
    "duration": 285,
    "start_time": "2023-12-02T17:14:21.234Z"
   },
   {
    "duration": 22,
    "start_time": "2023-12-02T17:14:21.521Z"
   },
   {
    "duration": 6,
    "start_time": "2023-12-02T17:14:21.545Z"
   },
   {
    "duration": 8,
    "start_time": "2023-12-02T17:14:21.553Z"
   },
   {
    "duration": 24,
    "start_time": "2023-12-02T17:14:21.563Z"
   },
   {
    "duration": 25,
    "start_time": "2023-12-02T17:14:21.588Z"
   },
   {
    "duration": 37,
    "start_time": "2023-12-02T17:14:21.615Z"
   },
   {
    "duration": 411,
    "start_time": "2023-12-02T17:14:21.654Z"
   },
   {
    "duration": 16,
    "start_time": "2023-12-02T17:14:22.067Z"
   },
   {
    "duration": 36,
    "start_time": "2023-12-02T17:14:22.085Z"
   },
   {
    "duration": 13,
    "start_time": "2023-12-02T17:14:22.123Z"
   },
   {
    "duration": 9,
    "start_time": "2023-12-02T17:14:22.137Z"
   },
   {
    "duration": 10,
    "start_time": "2023-12-02T17:14:22.147Z"
   },
   {
    "duration": 25,
    "start_time": "2023-12-02T17:14:22.159Z"
   },
   {
    "duration": 9,
    "start_time": "2023-12-02T17:14:22.185Z"
   },
   {
    "duration": 21,
    "start_time": "2023-12-02T17:14:22.196Z"
   },
   {
    "duration": 496,
    "start_time": "2023-12-02T17:14:22.218Z"
   },
   {
    "duration": 7,
    "start_time": "2023-12-02T17:14:22.715Z"
   },
   {
    "duration": 6,
    "start_time": "2023-12-02T17:14:22.724Z"
   },
   {
    "duration": 477,
    "start_time": "2023-12-02T17:14:22.731Z"
   },
   {
    "duration": 4,
    "start_time": "2023-12-02T17:14:23.210Z"
   },
   {
    "duration": 17,
    "start_time": "2023-12-02T17:14:23.216Z"
   },
   {
    "duration": 14,
    "start_time": "2023-12-02T17:14:23.234Z"
   },
   {
    "duration": 16,
    "start_time": "2023-12-02T17:14:23.249Z"
   },
   {
    "duration": 48,
    "start_time": "2023-12-02T17:14:23.266Z"
   },
   {
    "duration": 13,
    "start_time": "2023-12-02T17:14:23.316Z"
   },
   {
    "duration": 20,
    "start_time": "2023-12-02T17:14:23.331Z"
   },
   {
    "duration": 13,
    "start_time": "2023-12-02T17:14:23.353Z"
   },
   {
    "duration": 10,
    "start_time": "2023-12-02T17:14:23.367Z"
   },
   {
    "duration": 4,
    "start_time": "2023-12-02T17:14:23.413Z"
   },
   {
    "duration": 4,
    "start_time": "2023-12-02T17:14:23.419Z"
   },
   {
    "duration": 5,
    "start_time": "2023-12-02T17:14:23.425Z"
   },
   {
    "duration": 4,
    "start_time": "2023-12-02T17:14:23.431Z"
   },
   {
    "duration": 5,
    "start_time": "2023-12-02T17:14:23.436Z"
   },
   {
    "duration": 10,
    "start_time": "2023-12-02T17:14:23.443Z"
   },
   {
    "duration": 6,
    "start_time": "2023-12-02T17:14:23.454Z"
   },
   {
    "duration": 5,
    "start_time": "2023-12-02T17:14:23.462Z"
   },
   {
    "duration": 12,
    "start_time": "2023-12-02T17:14:23.512Z"
   },
   {
    "duration": 12,
    "start_time": "2023-12-02T17:14:23.525Z"
   },
   {
    "duration": 7,
    "start_time": "2023-12-02T17:14:23.538Z"
   },
   {
    "duration": 1358,
    "start_time": "2023-12-02T17:14:23.547Z"
   },
   {
    "duration": 1558,
    "start_time": "2023-12-02T17:14:24.907Z"
   },
   {
    "duration": 1487,
    "start_time": "2023-12-02T17:14:26.466Z"
   },
   {
    "duration": 5,
    "start_time": "2023-12-02T17:15:43.716Z"
   },
   {
    "duration": 6,
    "start_time": "2023-12-02T17:18:14.352Z"
   },
   {
    "duration": 6,
    "start_time": "2023-12-02T17:18:15.956Z"
   },
   {
    "duration": 296,
    "start_time": "2023-12-02T17:40:52.504Z"
   },
   {
    "duration": 242,
    "start_time": "2023-12-02T17:42:25.744Z"
   },
   {
    "duration": 242,
    "start_time": "2023-12-02T17:42:35.574Z"
   },
   {
    "duration": 236,
    "start_time": "2023-12-02T17:42:40.970Z"
   },
   {
    "duration": 237,
    "start_time": "2023-12-02T17:42:54.346Z"
   },
   {
    "duration": 445,
    "start_time": "2023-12-02T17:43:01.496Z"
   },
   {
    "duration": 838,
    "start_time": "2023-12-02T17:56:00.153Z"
   },
   {
    "duration": 2783,
    "start_time": "2023-12-02T17:58:25.569Z"
   },
   {
    "duration": 805,
    "start_time": "2023-12-02T17:58:46.179Z"
   },
   {
    "duration": 806,
    "start_time": "2023-12-02T18:00:22.160Z"
   },
   {
    "duration": 4,
    "start_time": "2023-12-02T18:08:57.597Z"
   },
   {
    "duration": 68,
    "start_time": "2023-12-02T18:08:57.603Z"
   },
   {
    "duration": 9,
    "start_time": "2023-12-02T18:08:57.673Z"
   },
   {
    "duration": 22,
    "start_time": "2023-12-02T18:08:57.683Z"
   },
   {
    "duration": 21,
    "start_time": "2023-12-02T18:08:57.707Z"
   },
   {
    "duration": 17,
    "start_time": "2023-12-02T18:08:57.730Z"
   },
   {
    "duration": 11,
    "start_time": "2023-12-02T18:08:57.748Z"
   },
   {
    "duration": 10,
    "start_time": "2023-12-02T18:08:57.760Z"
   },
   {
    "duration": 7,
    "start_time": "2023-12-02T18:08:57.771Z"
   },
   {
    "duration": 4,
    "start_time": "2023-12-02T18:08:57.779Z"
   },
   {
    "duration": 31,
    "start_time": "2023-12-02T18:08:57.786Z"
   },
   {
    "duration": 10,
    "start_time": "2023-12-02T18:08:57.818Z"
   },
   {
    "duration": 6,
    "start_time": "2023-12-02T18:08:57.830Z"
   },
   {
    "duration": 11,
    "start_time": "2023-12-02T18:08:57.838Z"
   },
   {
    "duration": 14,
    "start_time": "2023-12-02T18:08:57.851Z"
   },
   {
    "duration": 16,
    "start_time": "2023-12-02T18:08:57.867Z"
   },
   {
    "duration": 28,
    "start_time": "2023-12-02T18:08:57.885Z"
   },
   {
    "duration": 10,
    "start_time": "2023-12-02T18:08:57.915Z"
   },
   {
    "duration": 4,
    "start_time": "2023-12-02T18:08:57.926Z"
   },
   {
    "duration": 15,
    "start_time": "2023-12-02T18:08:57.932Z"
   },
   {
    "duration": 154,
    "start_time": "2023-12-02T18:08:57.949Z"
   },
   {
    "duration": 6,
    "start_time": "2023-12-02T18:08:58.112Z"
   },
   {
    "duration": 21,
    "start_time": "2023-12-02T18:08:58.119Z"
   },
   {
    "duration": 22,
    "start_time": "2023-12-02T18:08:58.142Z"
   },
   {
    "duration": 115,
    "start_time": "2023-12-02T18:08:58.165Z"
   },
   {
    "duration": 5,
    "start_time": "2023-12-02T18:08:58.282Z"
   },
   {
    "duration": 284,
    "start_time": "2023-12-02T18:08:58.288Z"
   },
   {
    "duration": 8,
    "start_time": "2023-12-02T18:08:58.573Z"
   },
   {
    "duration": 370,
    "start_time": "2023-12-02T18:08:58.585Z"
   },
   {
    "duration": 8,
    "start_time": "2023-12-02T18:08:58.956Z"
   },
   {
    "duration": 276,
    "start_time": "2023-12-02T18:08:58.966Z"
   },
   {
    "duration": 20,
    "start_time": "2023-12-02T18:08:59.244Z"
   },
   {
    "duration": 36,
    "start_time": "2023-12-02T18:08:59.266Z"
   },
   {
    "duration": 33,
    "start_time": "2023-12-02T18:08:59.304Z"
   },
   {
    "duration": 25,
    "start_time": "2023-12-02T18:08:59.339Z"
   },
   {
    "duration": 10,
    "start_time": "2023-12-02T18:08:59.365Z"
   },
   {
    "duration": 39,
    "start_time": "2023-12-02T18:08:59.377Z"
   },
   {
    "duration": 262,
    "start_time": "2023-12-02T18:08:59.417Z"
   },
   {
    "duration": 17,
    "start_time": "2023-12-02T18:08:59.680Z"
   },
   {
    "duration": 30,
    "start_time": "2023-12-02T18:08:59.698Z"
   },
   {
    "duration": 15,
    "start_time": "2023-12-02T18:08:59.729Z"
   },
   {
    "duration": 12,
    "start_time": "2023-12-02T18:08:59.745Z"
   },
   {
    "duration": 11,
    "start_time": "2023-12-02T18:08:59.758Z"
   },
   {
    "duration": 16,
    "start_time": "2023-12-02T18:08:59.770Z"
   },
   {
    "duration": 9,
    "start_time": "2023-12-02T18:08:59.812Z"
   },
   {
    "duration": 8,
    "start_time": "2023-12-02T18:08:59.822Z"
   },
   {
    "duration": 510,
    "start_time": "2023-12-02T18:08:59.831Z"
   },
   {
    "duration": 8,
    "start_time": "2023-12-02T18:09:00.342Z"
   },
   {
    "duration": 46,
    "start_time": "2023-12-02T18:09:00.352Z"
   },
   {
    "duration": 654,
    "start_time": "2023-12-02T18:09:00.400Z"
   },
   {
    "duration": 4,
    "start_time": "2023-12-02T18:09:01.055Z"
   },
   {
    "duration": 32,
    "start_time": "2023-12-02T18:09:01.060Z"
   },
   {
    "duration": 53,
    "start_time": "2023-12-02T18:09:01.093Z"
   },
   {
    "duration": 73,
    "start_time": "2023-12-02T18:09:01.148Z"
   },
   {
    "duration": 49,
    "start_time": "2023-12-02T18:09:01.222Z"
   },
   {
    "duration": 44,
    "start_time": "2023-12-02T18:09:01.273Z"
   },
   {
    "duration": 39,
    "start_time": "2023-12-02T18:09:01.318Z"
   },
   {
    "duration": 23,
    "start_time": "2023-12-02T18:09:01.359Z"
   },
   {
    "duration": 30,
    "start_time": "2023-12-02T18:09:01.384Z"
   },
   {
    "duration": 54,
    "start_time": "2023-12-02T18:09:01.416Z"
   },
   {
    "duration": 33,
    "start_time": "2023-12-02T18:09:01.472Z"
   },
   {
    "duration": 43,
    "start_time": "2023-12-02T18:09:01.506Z"
   },
   {
    "duration": 31,
    "start_time": "2023-12-02T18:09:01.550Z"
   },
   {
    "duration": 26,
    "start_time": "2023-12-02T18:09:01.583Z"
   },
   {
    "duration": 29,
    "start_time": "2023-12-02T18:09:01.610Z"
   },
   {
    "duration": 29,
    "start_time": "2023-12-02T18:09:01.640Z"
   },
   {
    "duration": 115,
    "start_time": "2023-12-02T18:09:01.671Z"
   },
   {
    "duration": 47,
    "start_time": "2023-12-02T18:09:01.788Z"
   },
   {
    "duration": 38,
    "start_time": "2023-12-02T18:09:01.836Z"
   },
   {
    "duration": 34,
    "start_time": "2023-12-02T18:09:01.876Z"
   },
   {
    "duration": 262,
    "start_time": "2023-12-02T18:09:01.911Z"
   },
   {
    "duration": 707,
    "start_time": "2023-12-02T18:09:02.174Z"
   }
  ],
  "kernelspec": {
   "display_name": "Python 3 (ipykernel)",
   "language": "python",
   "name": "python3"
  },
  "language_info": {
   "codemirror_mode": {
    "name": "ipython",
    "version": 3
   },
   "file_extension": ".py",
   "mimetype": "text/x-python",
   "name": "python",
   "nbconvert_exporter": "python",
   "pygments_lexer": "ipython3",
   "version": "3.12.0"
  },
  "toc": {
   "base_numbering": 1,
   "nav_menu": {},
   "number_sections": true,
   "sideBar": true,
   "skip_h1_title": true,
   "title_cell": "Table of Contents",
   "title_sidebar": "Contents",
   "toc_cell": false,
   "toc_position": {},
   "toc_section_display": true,
   "toc_window_display": false
  }
 },
 "nbformat": 4,
 "nbformat_minor": 5
}
