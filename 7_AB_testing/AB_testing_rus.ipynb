{
 "cells": [
  {
   "cell_type": "markdown",
   "metadata": {},
   "source": [
    "# Исследование об увеличении выручки интернет-магазина"
   ]
  },
  {
   "cell_type": "markdown",
   "metadata": {},
   "source": [
    "Сотрудники интернет-магазина подготовили список гипотез для увеличения выручки. Целью данного исследования являются приоритезация гипотез, а также проведение анализа результатов А/В-теста для оценки эффективности изменений на веб-платформе/в бизнес-процессах. \n",
    "\n",
    "В рамках анализа будут изучены основные метрики, такие как средний чек, количество заказов и выручка, которые помогут определить влияние внедренных изменений на поведение пользователей. Для этого будет проведен сравнительный анализ двух групп - контрольной (группы А) и тестовой (группы В). Планируется изучение того как запланированные изменения могут повлиять на ключевые метрики, в результате чего будет сделано заключение о целесообразности дальнейшего проведения А/В-теста, а также внедрения планируемых изменений на постоянной основе. "
   ]
  },
  {
   "cell_type": "markdown",
   "metadata": {},
   "source": [
    "**Цель исследования:** проанализировать результаты А/В-теста и дать оценку эффективности изменений на веб-платформе/в бизнес-процессах."
   ]
  },
  {
   "cell_type": "markdown",
   "metadata": {},
   "source": [
    "**Задачи исследования:** \n",
    "\n",
    "- определить пригодность исходных данных для дальнейшего анализа, провести предобработку данных;\n",
    "- применить фреймворки ICE и RICE для приоритезации гипотез, сравнить полученные результаты;\n",
    "- определить кумулятивные выручку, количество заказов и средний чек по группам А/В-теста по имеющимся данным;\n",
    "- определить наличие аномалий в данных, определить границы аномалий;\n",
    "- провести рассчет статистической значимости различий в среднем количестве заказов на посетителя и среднем чеке по исходным и очищенным от аномалий данным;\n",
    "- принять решение об успешности А/В-теста, необходимости его завершения либо продолжения. "
   ]
  },
  {
   "cell_type": "markdown",
   "metadata": {},
   "source": [
    "## Краткие выводы по результатам анализа"
   ]
  },
  {
   "cell_type": "markdown",
   "metadata": {},
   "source": [
    "После удаления аномальных значений в исходных датафремах и по результатам теста Манна-Уитни можно сделать следующий вывод: \n",
    "- между группами А и В есть статистически значимая разница по среднему количеству заказов, но нет разницы в размере среднего чека. \n",
    "\n",
    "Пользователи группы В стали делать практически на 20% больше заказов по сравнению с пользователями группы А, однако к концу проведения теста их средний чек упал ниже среднего чека группы А.\n",
    "\n",
    "В случае продолжения тестирования:\n",
    "- при сохранении или увеличении размера среднего чека победителем окажется группа В, \n",
    "- в случае уменьшения среднего чека в группе В относительно группы А результаты могут сравняться либо группа А выйдет на первое место. "
   ]
  },
  {
   "cell_type": "markdown",
   "metadata": {},
   "source": [
    "## Обзор данных"
   ]
  },
  {
   "cell_type": "markdown",
   "metadata": {},
   "source": [
    "Импортируем необходимые для проведения анализа данных библиотеки:"
   ]
  },
  {
   "cell_type": "code",
   "execution_count": 1,
   "metadata": {},
   "outputs": [],
   "source": [
    "import pandas as pd\n",
    "import datetime as dt\n",
    "import numpy as np\n",
    "import matplotlib.pyplot as plt\n",
    "import scipy.stats as stats\n",
    "import json"
   ]
  },
  {
   "cell_type": "markdown",
   "metadata": {},
   "source": [
    "Прочитаем файлы `hypothesis.csv`, `orders.csv`, `visitors.csv` с данными (путь к данным храниться в файле формата json) и сохраним их в соответствующих переменных:"
   ]
  },
  {
   "cell_type": "code",
   "execution_count": 4,
   "metadata": {},
   "outputs": [],
   "source": [
    "# Чтение JSON файла\n",
    "with open('config.json', 'r', encoding='utf-8') as f:\n",
    "    config = json.load(f)\n",
    " \n",
    "# Чтение CSV файла с использованием пути из JSON\n",
    "dataset_path_hypothesis = config['dataset_path_AB_hypothesis']\n",
    "dataset_path_orders = config['dataset_path_AB_orders']\n",
    "dataset_path_visitors = config['dataset_path_AB_visitors']\n",
    "hypothesis = pd.read_csv(dataset_path_hypothesis)\n",
    "orders = pd.read_csv(dataset_path_orders)\n",
    "visitors = pd.read_csv(dataset_path_visitors)"
   ]
  },
  {
   "cell_type": "markdown",
   "metadata": {},
   "source": [
    "Уберем ограничения при отображении количества столбцов, строк, ширины столбцов."
   ]
  },
  {
   "cell_type": "code",
   "execution_count": 5,
   "metadata": {},
   "outputs": [],
   "source": [
    "pd.set_option('display.max_rows', None)\n",
    "pd.set_option('display.max_columns', None)\n",
    "pd.set_option('display.max_colwidth', None)"
   ]
  },
  {
   "cell_type": "markdown",
   "metadata": {},
   "source": [
    "Выведем первые строки каждого набора данных и общую информацию о каждом датафрейме."
   ]
  },
  {
   "cell_type": "code",
   "execution_count": 7,
   "metadata": {},
   "outputs": [
    {
     "name": "stdout",
     "output_type": "stream",
     "text": [
      "Первые 5 строк датафрейма hypothesis:\n",
      "\n",
      "                                                                                                     Hypothesis  \\\n",
      "0            Добавить два новых канала привлечения трафика, что позволит привлекать на 30% больше пользователей   \n",
      "1                                     Запустить собственную службу доставки, что сократит срок доставки заказов   \n",
      "2  Добавить блоки рекомендаций товаров на сайт интернет магазина, чтобы повысить конверсию и средний чек заказа   \n",
      "3           Изменить структура категорий, что увеличит конверсию, т.к. пользователи быстрее найдут нужный товар   \n",
      "4                              Изменить цвет фона главной страницы, чтобы увеличить вовлеченность пользователей   \n",
      "\n",
      "   Reach  Impact  Confidence  Efforts  \n",
      "0      3      10           8        6  \n",
      "1      2       5           4       10  \n",
      "2      8       3           7        3  \n",
      "3      8       3           3        8  \n",
      "4      3       1           1        1  \n",
      "\n",
      "Информация о датафрейме:\n",
      "\n",
      "<class 'pandas.core.frame.DataFrame'>\n",
      "RangeIndex: 9 entries, 0 to 8\n",
      "Data columns (total 5 columns):\n",
      " #   Column      Non-Null Count  Dtype \n",
      "---  ------      --------------  ----- \n",
      " 0   Hypothesis  9 non-null      object\n",
      " 1   Reach       9 non-null      int64 \n",
      " 2   Impact      9 non-null      int64 \n",
      " 3   Confidence  9 non-null      int64 \n",
      " 4   Efforts     9 non-null      int64 \n",
      "dtypes: int64(4), object(1)\n",
      "memory usage: 492.0+ bytes\n",
      "None\n",
      "\n",
      "================================================================================\n",
      "\n",
      "Первые 5 строк датафрейма orders:\n",
      "\n",
      "   transactionId   visitorId        date  revenue group\n",
      "0     3667963787  3312258926  2019-08-15     1650     B\n",
      "1     2804400009  3642806036  2019-08-15      730     B\n",
      "2     2961555356  4069496402  2019-08-15      400     A\n",
      "3     3797467345  1196621759  2019-08-15     9759     B\n",
      "4     2282983706  2322279887  2019-08-15     2308     B\n",
      "\n",
      "Информация о датафрейме:\n",
      "\n",
      "<class 'pandas.core.frame.DataFrame'>\n",
      "RangeIndex: 1197 entries, 0 to 1196\n",
      "Data columns (total 5 columns):\n",
      " #   Column         Non-Null Count  Dtype \n",
      "---  ------         --------------  ----- \n",
      " 0   transactionId  1197 non-null   int64 \n",
      " 1   visitorId      1197 non-null   int64 \n",
      " 2   date           1197 non-null   object\n",
      " 3   revenue        1197 non-null   int64 \n",
      " 4   group          1197 non-null   object\n",
      "dtypes: int64(3), object(2)\n",
      "memory usage: 46.9+ KB\n",
      "None\n",
      "\n",
      "================================================================================\n",
      "\n",
      "Первые 5 строк датафрейма visitors:\n",
      "\n",
      "         date group  visitors\n",
      "0  2019-08-01     A       719\n",
      "1  2019-08-02     A       619\n",
      "2  2019-08-03     A       507\n",
      "3  2019-08-04     A       717\n",
      "4  2019-08-05     A       756\n",
      "\n",
      "Информация о датафрейме:\n",
      "\n",
      "<class 'pandas.core.frame.DataFrame'>\n",
      "RangeIndex: 62 entries, 0 to 61\n",
      "Data columns (total 3 columns):\n",
      " #   Column    Non-Null Count  Dtype \n",
      "---  ------    --------------  ----- \n",
      " 0   date      62 non-null     object\n",
      " 1   group     62 non-null     object\n",
      " 2   visitors  62 non-null     int64 \n",
      "dtypes: int64(1), object(2)\n",
      "memory usage: 1.6+ KB\n",
      "None\n",
      "\n",
      "================================================================================\n",
      "\n"
     ]
    }
   ],
   "source": [
    "# Функция для вывода первых 5 строк и информации о датафрейме\n",
    "def display_data(df, df_name):\n",
    "    print(f\"Первые 5 строк датафрейма {df_name}:\\n\")\n",
    "    print(df.head(5))\n",
    "    print(\"\\nИнформация о датафрейме:\\n\")\n",
    "    print(df.info())\n",
    "    print(\"\\n\" + \"=\"*80 + \"\\n\")\n",
    "\n",
    "# Основная функция для вывода данных для 'users', 'subscriptions' и 'rides'\n",
    "def main():\n",
    "    display_data(hypothesis, 'hypothesis')\n",
    "    display_data(orders, 'orders')\n",
    "    display_data(visitors, 'visitors')\n",
    "\n",
    "# Запускаем основную функцию\n",
    "main()"
   ]
  },
  {
   "cell_type": "markdown",
   "metadata": {},
   "source": [
    "По начальным строкам каждого из датафреймов можно сделать вывод о том, что они содержат релевантные данные. Во всех датафреймах отсутствуют пропущенные значения. "
   ]
  },
  {
   "cell_type": "markdown",
   "metadata": {},
   "source": [
    "## Предобработка данных"
   ]
  },
  {
   "cell_type": "markdown",
   "metadata": {},
   "source": [
    "Для дальнейшей работы приведем наименования столбцов в датафреймах к нижнему регистру, а также добавим нижнее подчеркивание между словами в названиях столбцов:"
   ]
  },
  {
   "cell_type": "code",
   "execution_count": 8,
   "metadata": {},
   "outputs": [],
   "source": [
    "# Приведение к нижнему регистру:\n",
    "hypothesis.columns = hypothesis.columns.str.lower()\n",
    "orders.columns = orders.columns.str.lower()\n",
    "\n",
    "# Добавление нижнего подчеркивания:\n",
    "orders.columns = ['transaction_id', 'visitor_id', 'date', 'revenue', 'group']"
   ]
  },
  {
   "cell_type": "markdown",
   "metadata": {},
   "source": [
    "Столбцы датафреймов `orders` и  `visitors`, содержащие даты, имеют формат `object` и будут приведены к формату `datetime` в одной из дальнейших частей исследования. "
   ]
  },
  {
   "cell_type": "markdown",
   "metadata": {},
   "source": [
    "Проверим наличие явных дубликатов в датафреймах:"
   ]
  },
  {
   "cell_type": "code",
   "execution_count": 9,
   "metadata": {},
   "outputs": [
    {
     "data": {
      "text/plain": [
       "0"
      ]
     },
     "execution_count": 9,
     "metadata": {},
     "output_type": "execute_result"
    }
   ],
   "source": [
    "hypothesis.duplicated().sum()"
   ]
  },
  {
   "cell_type": "code",
   "execution_count": 10,
   "metadata": {},
   "outputs": [
    {
     "data": {
      "text/plain": [
       "0"
      ]
     },
     "execution_count": 10,
     "metadata": {},
     "output_type": "execute_result"
    }
   ],
   "source": [
    "orders.duplicated().sum()"
   ]
  },
  {
   "cell_type": "code",
   "execution_count": 11,
   "metadata": {},
   "outputs": [
    {
     "data": {
      "text/plain": [
       "0"
      ]
     },
     "execution_count": 11,
     "metadata": {},
     "output_type": "execute_result"
    }
   ],
   "source": [
    "visitors.duplicated().sum()"
   ]
  },
  {
   "cell_type": "markdown",
   "metadata": {},
   "source": [
    "Явные пропуски и дубликаты в исходных данных не обнаружены, наименования столбцов датафреймов скорректированы. Отмечено  наличие различий в типе данных и их фактическом содержании в столбцах `date` датафреймов `orders` и `visitors`. Переходим к следующему этапу исследования. "
   ]
  },
  {
   "cell_type": "markdown",
   "metadata": {},
   "source": [
    "## Исследовательский анализ данных"
   ]
  },
  {
   "cell_type": "markdown",
   "metadata": {},
   "source": [
    "### Приоритезация гипотез"
   ]
  },
  {
   "cell_type": "markdown",
   "metadata": {},
   "source": [
    "В файле /datasets/hypothesis.csv 9 гипотез по увеличению выручки интернет-магазина с указанными параметрами Reach, Impact, Confidence, Effort. Применим фреймворк ICE для приоритезации гипотез, отсортируем их по убыванию приоритета:"
   ]
  },
  {
   "cell_type": "code",
   "execution_count": 12,
   "metadata": {
    "scrolled": true
   },
   "outputs": [
    {
     "data": {
      "text/html": [
       "<div>\n",
       "<style scoped>\n",
       "    .dataframe tbody tr th:only-of-type {\n",
       "        vertical-align: middle;\n",
       "    }\n",
       "\n",
       "    .dataframe tbody tr th {\n",
       "        vertical-align: top;\n",
       "    }\n",
       "\n",
       "    .dataframe thead th {\n",
       "        text-align: right;\n",
       "    }\n",
       "</style>\n",
       "<table border=\"1\" class=\"dataframe\">\n",
       "  <thead>\n",
       "    <tr style=\"text-align: right;\">\n",
       "      <th></th>\n",
       "      <th>hypothesis</th>\n",
       "      <th>reach</th>\n",
       "      <th>impact</th>\n",
       "      <th>confidence</th>\n",
       "      <th>efforts</th>\n",
       "      <th>ICE</th>\n",
       "    </tr>\n",
       "  </thead>\n",
       "  <tbody>\n",
       "    <tr>\n",
       "      <th>8</th>\n",
       "      <td>Запустить акцию, дающую скидку на товар в день рождения</td>\n",
       "      <td>1</td>\n",
       "      <td>9</td>\n",
       "      <td>9</td>\n",
       "      <td>5</td>\n",
       "      <td>16.20</td>\n",
       "    </tr>\n",
       "    <tr>\n",
       "      <th>0</th>\n",
       "      <td>Добавить два новых канала привлечения трафика, что позволит привлекать на 30% больше пользователей</td>\n",
       "      <td>3</td>\n",
       "      <td>10</td>\n",
       "      <td>8</td>\n",
       "      <td>6</td>\n",
       "      <td>13.33</td>\n",
       "    </tr>\n",
       "    <tr>\n",
       "      <th>7</th>\n",
       "      <td>Добавить форму подписки на все основные страницы, чтобы собрать базу клиентов для email-рассылок</td>\n",
       "      <td>10</td>\n",
       "      <td>7</td>\n",
       "      <td>8</td>\n",
       "      <td>5</td>\n",
       "      <td>11.20</td>\n",
       "    </tr>\n",
       "    <tr>\n",
       "      <th>6</th>\n",
       "      <td>Показать на главной странице баннеры с актуальными акциями и распродажами, чтобы увеличить конверсию</td>\n",
       "      <td>5</td>\n",
       "      <td>3</td>\n",
       "      <td>8</td>\n",
       "      <td>3</td>\n",
       "      <td>8.00</td>\n",
       "    </tr>\n",
       "    <tr>\n",
       "      <th>2</th>\n",
       "      <td>Добавить блоки рекомендаций товаров на сайт интернет магазина, чтобы повысить конверсию и средний чек заказа</td>\n",
       "      <td>8</td>\n",
       "      <td>3</td>\n",
       "      <td>7</td>\n",
       "      <td>3</td>\n",
       "      <td>7.00</td>\n",
       "    </tr>\n",
       "    <tr>\n",
       "      <th>1</th>\n",
       "      <td>Запустить собственную службу доставки, что сократит срок доставки заказов</td>\n",
       "      <td>2</td>\n",
       "      <td>5</td>\n",
       "      <td>4</td>\n",
       "      <td>10</td>\n",
       "      <td>2.00</td>\n",
       "    </tr>\n",
       "    <tr>\n",
       "      <th>5</th>\n",
       "      <td>Добавить страницу отзывов клиентов о магазине, что позволит увеличить количество заказов</td>\n",
       "      <td>3</td>\n",
       "      <td>2</td>\n",
       "      <td>2</td>\n",
       "      <td>3</td>\n",
       "      <td>1.33</td>\n",
       "    </tr>\n",
       "    <tr>\n",
       "      <th>3</th>\n",
       "      <td>Изменить структура категорий, что увеличит конверсию, т.к. пользователи быстрее найдут нужный товар</td>\n",
       "      <td>8</td>\n",
       "      <td>3</td>\n",
       "      <td>3</td>\n",
       "      <td>8</td>\n",
       "      <td>1.12</td>\n",
       "    </tr>\n",
       "    <tr>\n",
       "      <th>4</th>\n",
       "      <td>Изменить цвет фона главной страницы, чтобы увеличить вовлеченность пользователей</td>\n",
       "      <td>3</td>\n",
       "      <td>1</td>\n",
       "      <td>1</td>\n",
       "      <td>1</td>\n",
       "      <td>1.00</td>\n",
       "    </tr>\n",
       "  </tbody>\n",
       "</table>\n",
       "</div>"
      ],
      "text/plain": [
       "                                                                                                     hypothesis  \\\n",
       "8                                                       Запустить акцию, дающую скидку на товар в день рождения   \n",
       "0            Добавить два новых канала привлечения трафика, что позволит привлекать на 30% больше пользователей   \n",
       "7              Добавить форму подписки на все основные страницы, чтобы собрать базу клиентов для email-рассылок   \n",
       "6          Показать на главной странице баннеры с актуальными акциями и распродажами, чтобы увеличить конверсию   \n",
       "2  Добавить блоки рекомендаций товаров на сайт интернет магазина, чтобы повысить конверсию и средний чек заказа   \n",
       "1                                     Запустить собственную службу доставки, что сократит срок доставки заказов   \n",
       "5                      Добавить страницу отзывов клиентов о магазине, что позволит увеличить количество заказов   \n",
       "3           Изменить структура категорий, что увеличит конверсию, т.к. пользователи быстрее найдут нужный товар   \n",
       "4                              Изменить цвет фона главной страницы, чтобы увеличить вовлеченность пользователей   \n",
       "\n",
       "   reach  impact  confidence  efforts    ICE  \n",
       "8      1       9           9        5  16.20  \n",
       "0      3      10           8        6  13.33  \n",
       "7     10       7           8        5  11.20  \n",
       "6      5       3           8        3   8.00  \n",
       "2      8       3           7        3   7.00  \n",
       "1      2       5           4       10   2.00  \n",
       "5      3       2           2        3   1.33  \n",
       "3      8       3           3        8   1.12  \n",
       "4      3       1           1        1   1.00  "
      ]
     },
     "execution_count": 12,
     "metadata": {},
     "output_type": "execute_result"
    }
   ],
   "source": [
    "hypothesis['ICE'] = (hypothesis['impact'] * hypothesis['confidence']) / hypothesis['efforts']\n",
    "hypothesis['ICE'] = hypothesis['ICE'].round(2)\n",
    "hypothesis.sort_values(by = 'ICE', ascending = False)"
   ]
  },
  {
   "cell_type": "markdown",
   "metadata": {},
   "source": [
    "Теперь применим фреймворк RICE для приоритезации гипотез и также отсортируем их по убыванию приоритета:"
   ]
  },
  {
   "cell_type": "code",
   "execution_count": 13,
   "metadata": {},
   "outputs": [
    {
     "data": {
      "text/html": [
       "<div>\n",
       "<style scoped>\n",
       "    .dataframe tbody tr th:only-of-type {\n",
       "        vertical-align: middle;\n",
       "    }\n",
       "\n",
       "    .dataframe tbody tr th {\n",
       "        vertical-align: top;\n",
       "    }\n",
       "\n",
       "    .dataframe thead th {\n",
       "        text-align: right;\n",
       "    }\n",
       "</style>\n",
       "<table border=\"1\" class=\"dataframe\">\n",
       "  <thead>\n",
       "    <tr style=\"text-align: right;\">\n",
       "      <th></th>\n",
       "      <th>hypothesis</th>\n",
       "      <th>reach</th>\n",
       "      <th>impact</th>\n",
       "      <th>confidence</th>\n",
       "      <th>efforts</th>\n",
       "      <th>ICE</th>\n",
       "      <th>RICE</th>\n",
       "    </tr>\n",
       "  </thead>\n",
       "  <tbody>\n",
       "    <tr>\n",
       "      <th>7</th>\n",
       "      <td>Добавить форму подписки на все основные страницы, чтобы собрать базу клиентов для email-рассылок</td>\n",
       "      <td>10</td>\n",
       "      <td>7</td>\n",
       "      <td>8</td>\n",
       "      <td>5</td>\n",
       "      <td>11.20</td>\n",
       "      <td>112.0</td>\n",
       "    </tr>\n",
       "    <tr>\n",
       "      <th>2</th>\n",
       "      <td>Добавить блоки рекомендаций товаров на сайт интернет магазина, чтобы повысить конверсию и средний чек заказа</td>\n",
       "      <td>8</td>\n",
       "      <td>3</td>\n",
       "      <td>7</td>\n",
       "      <td>3</td>\n",
       "      <td>7.00</td>\n",
       "      <td>56.0</td>\n",
       "    </tr>\n",
       "    <tr>\n",
       "      <th>0</th>\n",
       "      <td>Добавить два новых канала привлечения трафика, что позволит привлекать на 30% больше пользователей</td>\n",
       "      <td>3</td>\n",
       "      <td>10</td>\n",
       "      <td>8</td>\n",
       "      <td>6</td>\n",
       "      <td>13.33</td>\n",
       "      <td>40.0</td>\n",
       "    </tr>\n",
       "    <tr>\n",
       "      <th>6</th>\n",
       "      <td>Показать на главной странице баннеры с актуальными акциями и распродажами, чтобы увеличить конверсию</td>\n",
       "      <td>5</td>\n",
       "      <td>3</td>\n",
       "      <td>8</td>\n",
       "      <td>3</td>\n",
       "      <td>8.00</td>\n",
       "      <td>40.0</td>\n",
       "    </tr>\n",
       "    <tr>\n",
       "      <th>8</th>\n",
       "      <td>Запустить акцию, дающую скидку на товар в день рождения</td>\n",
       "      <td>1</td>\n",
       "      <td>9</td>\n",
       "      <td>9</td>\n",
       "      <td>5</td>\n",
       "      <td>16.20</td>\n",
       "      <td>16.2</td>\n",
       "    </tr>\n",
       "    <tr>\n",
       "      <th>3</th>\n",
       "      <td>Изменить структура категорий, что увеличит конверсию, т.к. пользователи быстрее найдут нужный товар</td>\n",
       "      <td>8</td>\n",
       "      <td>3</td>\n",
       "      <td>3</td>\n",
       "      <td>8</td>\n",
       "      <td>1.12</td>\n",
       "      <td>9.0</td>\n",
       "    </tr>\n",
       "    <tr>\n",
       "      <th>1</th>\n",
       "      <td>Запустить собственную службу доставки, что сократит срок доставки заказов</td>\n",
       "      <td>2</td>\n",
       "      <td>5</td>\n",
       "      <td>4</td>\n",
       "      <td>10</td>\n",
       "      <td>2.00</td>\n",
       "      <td>4.0</td>\n",
       "    </tr>\n",
       "    <tr>\n",
       "      <th>5</th>\n",
       "      <td>Добавить страницу отзывов клиентов о магазине, что позволит увеличить количество заказов</td>\n",
       "      <td>3</td>\n",
       "      <td>2</td>\n",
       "      <td>2</td>\n",
       "      <td>3</td>\n",
       "      <td>1.33</td>\n",
       "      <td>4.0</td>\n",
       "    </tr>\n",
       "    <tr>\n",
       "      <th>4</th>\n",
       "      <td>Изменить цвет фона главной страницы, чтобы увеличить вовлеченность пользователей</td>\n",
       "      <td>3</td>\n",
       "      <td>1</td>\n",
       "      <td>1</td>\n",
       "      <td>1</td>\n",
       "      <td>1.00</td>\n",
       "      <td>3.0</td>\n",
       "    </tr>\n",
       "  </tbody>\n",
       "</table>\n",
       "</div>"
      ],
      "text/plain": [
       "                                                                                                     hypothesis  \\\n",
       "7              Добавить форму подписки на все основные страницы, чтобы собрать базу клиентов для email-рассылок   \n",
       "2  Добавить блоки рекомендаций товаров на сайт интернет магазина, чтобы повысить конверсию и средний чек заказа   \n",
       "0            Добавить два новых канала привлечения трафика, что позволит привлекать на 30% больше пользователей   \n",
       "6          Показать на главной странице баннеры с актуальными акциями и распродажами, чтобы увеличить конверсию   \n",
       "8                                                       Запустить акцию, дающую скидку на товар в день рождения   \n",
       "3           Изменить структура категорий, что увеличит конверсию, т.к. пользователи быстрее найдут нужный товар   \n",
       "1                                     Запустить собственную службу доставки, что сократит срок доставки заказов   \n",
       "5                      Добавить страницу отзывов клиентов о магазине, что позволит увеличить количество заказов   \n",
       "4                              Изменить цвет фона главной страницы, чтобы увеличить вовлеченность пользователей   \n",
       "\n",
       "   reach  impact  confidence  efforts    ICE   RICE  \n",
       "7     10       7           8        5  11.20  112.0  \n",
       "2      8       3           7        3   7.00   56.0  \n",
       "0      3      10           8        6  13.33   40.0  \n",
       "6      5       3           8        3   8.00   40.0  \n",
       "8      1       9           9        5  16.20   16.2  \n",
       "3      8       3           3        8   1.12    9.0  \n",
       "1      2       5           4       10   2.00    4.0  \n",
       "5      3       2           2        3   1.33    4.0  \n",
       "4      3       1           1        1   1.00    3.0  "
      ]
     },
     "execution_count": 13,
     "metadata": {},
     "output_type": "execute_result"
    }
   ],
   "source": [
    "hypothesis['RICE'] = ((hypothesis['reach'] * hypothesis['impact'] * hypothesis['confidence']) / hypothesis['efforts'])\n",
    "hypothesis.sort_values(by='RICE', ascending=False)"
   ]
  },
  {
   "cell_type": "markdown",
   "metadata": {},
   "source": [
    "При применении фреймфорка ICE как наиболее перспективные отражаются гипотезы 8 \"Запустить акцию, дающую скидку на товар в день рождения\", 0 \"Добавить два новых канала привлечения трафика, что позволит привлекать на 30% больше пользователей\" и 7 \"Добавить форму подписки на все основные страницы, чтобы собрать базу клиентов для email-рассылок\". Однако поскольку гипотеза 8 обладает минимальным охватом целевой аудитории при применении фреймворка RICE она выбывает из топ-3, в то время как добавляется гипотеза 2 с высоким показателем Reach. При применении обоих методов приоретизации гипотезы 7 и 0 - наиболее перспективны. "
   ]
  },
  {
   "cell_type": "markdown",
   "metadata": {},
   "source": [
    "### Анализ A/B-теста"
   ]
  },
  {
   "cell_type": "markdown",
   "metadata": {},
   "source": [
    "Результаты A/B-теста содержатся в файлах /datasets/orders.csv и /datasets/visitors.csv. Проведем их детальный анализ."
   ]
  },
  {
   "cell_type": "markdown",
   "metadata": {},
   "source": [
    "#### График кумулятивной выручки по группам"
   ]
  },
  {
   "cell_type": "code",
   "execution_count": 14,
   "metadata": {},
   "outputs": [],
   "source": [
    "# Приведем тип данных в столбцах date к datetime\n",
    "orders['date'] = orders['date'].map(\n",
    "    lambda x: dt.datetime.strptime(x, '%Y-%m-%d')\n",
    ")\n",
    "\n",
    "visitors['date'] = visitors['date'].map(\n",
    "    lambda x: dt.datetime.strptime(x, '%Y-%m-%d')\n",
    ")"
   ]
  },
  {
   "cell_type": "code",
   "execution_count": 15,
   "metadata": {},
   "outputs": [
    {
     "data": {
      "image/png": "[encoded data removed]",
      "text/plain": [
       "<Figure size 640x480 with 1 Axes>"
      ]
     },
     "metadata": {},
     "output_type": "display_data"
    }
   ],
   "source": [
    "# Cоздаем массив уникальных пар значений дат и групп теста\n",
    "datesGroups = orders[['date','group']].drop_duplicates()\n",
    "\n",
    "# Получаем агрегированные кумулятивные по дням данные о заказах \n",
    "ordersAggregated = datesGroups.apply(\n",
    "    lambda x: orders[\n",
    "        np.logical_and(\n",
    "            orders['date'] <= x['date'], orders['group'] == x['group']\n",
    "        )\n",
    "    ].agg(\n",
    "        {\n",
    "            'date': 'max',\n",
    "            'group': 'max',\n",
    "            'transaction_id': 'nunique',\n",
    "            'visitor_id': 'nunique',\n",
    "            'revenue': 'sum',\n",
    "        }\n",
    "    ),\n",
    "    axis=1,\n",
    ").sort_values(by=['date', 'group'])\n",
    "\n",
    "\n",
    "# Получаем агрегированные кумулятивные по дням данные о посетителях интернет-магазина \n",
    "visitorsAggregated = datesGroups.apply(\n",
    "    lambda x: visitors[\n",
    "        np.logical_and(\n",
    "            visitors['date'] <= x['date'], visitors['group'] == x['group']\n",
    "        )\n",
    "    ].agg({'date': 'max', 'group': 'max', 'visitors': 'sum'}),\n",
    "    axis=1,\n",
    ").sort_values(by=['date', 'group'])\n",
    "\n",
    "# Объединяем кумулятивные данные в одной таблице и присваиваем ее столбцам понятные названия\n",
    "cumulativeData = ordersAggregated.merge(visitorsAggregated, left_on=['date', 'group'], right_on=['date', 'group'])\n",
    "cumulativeData.columns = ['date', 'group', 'orders', 'buyers', 'revenue', 'visitors']\n",
    "\n",
    "# Датафрейм с кумулятивным количеством заказов и кумулятивной выручкой по дням в группе А\n",
    "cumulativeRevenueA = cumulativeData[cumulativeData['group']=='A'][['date','revenue', 'orders']]\n",
    "\n",
    "# Датафрейм с кумулятивным количеством заказов и кумулятивной выручкой по дням в группе B\n",
    "cumulativeRevenueB = cumulativeData[cumulativeData['group']=='B'][['date','revenue', 'orders']]\n",
    "\n",
    "# Строим график выручки группы А\n",
    "plt.plot(cumulativeRevenueA['date'], cumulativeRevenueA['revenue'], label='A')\n",
    "\n",
    "# Строим график выручки группы B\n",
    "plt.plot(cumulativeRevenueB['date'], cumulativeRevenueB['revenue'], label='B')\n",
    "\n",
    "# Поворот подписей по оси x\n",
    "plt.xticks(rotation=45)\n",
    "\n",
    "# Добавляем заголовок графика\n",
    "plt.title('Кумулятивная выручка по группам')\n",
    "\n",
    "# Добавляем подписи осей\n",
    "plt.xlabel('Дата проведения теста')\n",
    "plt.ylabel('Размер выручки')\n",
    "\n",
    "plt.legend();"
   ]
  },
  {
   "cell_type": "markdown",
   "metadata": {},
   "source": [
    "На протяжении всего времени проведения A/B-тестирования кумулятивная выручка группы B была выше, чем у группы А. Однако график выручки группы В резко растет в промежутке 18-19 августа 2019 г. Это может сигнализировать о наличии выбросов значений - всплеске числа заказов, либо о появлении очень дорогих заказов в выборке - которые могут существенно исказить результаты. "
   ]
  },
  {
   "cell_type": "markdown",
   "metadata": {},
   "source": [
    "#### График кумулятивного среднего чека по группам"
   ]
  },
  {
   "cell_type": "code",
   "execution_count": 16,
   "metadata": {},
   "outputs": [
    {
     "data": {
      "image/png": "[encoded data removed]",
      "text/plain": [
       "<Figure size 640x480 with 1 Axes>"
      ]
     },
     "metadata": {},
     "output_type": "display_data"
    }
   ],
   "source": [
    "# Разделим кумулятивную выручку на кумулятивное число заказов\n",
    "plt.plot(cumulativeRevenueA['date'], cumulativeRevenueA['revenue']/cumulativeRevenueA['orders'], label='A')\n",
    "plt.plot(cumulativeRevenueB['date'], cumulativeRevenueB['revenue']/cumulativeRevenueB['orders'], label='B')\n",
    "\n",
    "# Поворот подписей по оси x\n",
    "plt.xticks(rotation=45)\n",
    "\n",
    "# Добавляем заголовок графика\n",
    "plt.title('Кумулятивный средний чек по группам')\n",
    "\n",
    "# Добавляем подписи осей\n",
    "plt.xlabel('Дата проведения теста')\n",
    "plt.ylabel('Размер кумулятивного среднего чека')\n",
    "\n",
    "\n",
    "plt.legend();"
   ]
  },
  {
   "cell_type": "markdown",
   "metadata": {},
   "source": [
    "Средний чек группы В практически на всем протяжении теста выше, чем у группы А, однако в промежутке 18-19 августа 2019 г. (аналогично кумулятивной выручке) наблюдается колоссальный всплеск размера среднего чека. При этом если средний чек группы А становится практически равномерным начиная приблизительно с 14.08.2019, у группы В после всплеска наблюдается стабильный спад значения, вплоть до конца проведения эксперимента. "
   ]
  },
  {
   "cell_type": "markdown",
   "metadata": {},
   "source": [
    "#### График относительного изменения кумулятивного среднего чека группы B к группе A"
   ]
  },
  {
   "cell_type": "code",
   "execution_count": 17,
   "metadata": {},
   "outputs": [
    {
     "data": {
      "image/png": "[encoded data removed]",
      "text/plain": [
       "<Figure size 640x480 with 1 Axes>"
      ]
     },
     "metadata": {},
     "output_type": "display_data"
    }
   ],
   "source": [
    "# Собираем данные в одном датафрейме\n",
    "mergedCumulativeRevenue = cumulativeRevenueA.merge(\n",
    "                            cumulativeRevenueB, \n",
    "                            left_on='date', \n",
    "                            right_on='date', \n",
    "                            how='left', \n",
    "                            suffixes=['A', 'B'])\n",
    "\n",
    "# Строим отношение средних чеков\n",
    "plt.plot(mergedCumulativeRevenue['date'], (mergedCumulativeRevenue['revenueB']/mergedCumulativeRevenue['ordersB'])/\n",
    "         (mergedCumulativeRevenue['revenueA']/mergedCumulativeRevenue['ordersA'])-1)\n",
    "\n",
    "# добавляем ось X\n",
    "plt.axhline(y=0, color='black', linestyle='--')\n",
    "\n",
    "# Поворот подписей по оси x\n",
    "plt.xticks(rotation=45)\n",
    "\n",
    "# Добавляем подписи осей\n",
    "plt.xlabel('Дата проведения теста')\n",
    "plt.ylabel('Относительное изменение \\n кумулятивного среднего чека')\n",
    "\n",
    "# Добавляем заголовок графика\n",
    "plt.title('Относительное изменение кумулятивного среднего чека группы B к группе A');"
   ]
  },
  {
   "cell_type": "markdown",
   "metadata": {},
   "source": [
    "На графике видны резкие колебания значений группы В относительно группы А. Поначалу результаты группы В росли относительно результатов группы А, однако с 09.08.2019 ситуация изменилась. Резкий рост также в интервале 18-19 августа 2019 г., как на предыдущих графиках, может свидетельствовать о наличии выбросов значений. "
   ]
  },
  {
   "cell_type": "markdown",
   "metadata": {},
   "source": [
    "#### График кумулятивного среднего количества заказов на посетителя по группам"
   ]
  },
  {
   "cell_type": "code",
   "execution_count": 18,
   "metadata": {},
   "outputs": [
    {
     "data": {
      "image/png": "[encoded data removed]",
      "text/plain": [
       "<Figure size 640x480 with 1 Axes>"
      ]
     },
     "metadata": {},
     "output_type": "display_data"
    }
   ],
   "source": [
    "# Считаем среднее количество заказов на посетителя\n",
    "cumulativeData['conversion'] = cumulativeData['orders']/cumulativeData['visitors']\n",
    "\n",
    "# Отделяем данные по группе A\n",
    "cumulativeDataA = cumulativeData[cumulativeData['group']=='A']\n",
    "\n",
    "# Отделяем данные по группе B\n",
    "cumulativeDataB = cumulativeData[cumulativeData['group']=='B']\n",
    "\n",
    "# Строим графики\n",
    "plt.plot(cumulativeDataA['date'], cumulativeDataA['conversion'], label='A')\n",
    "plt.plot(cumulativeDataB['date'], cumulativeDataB['conversion'], label='B')\n",
    "plt.legend()\n",
    "\n",
    "# Задаем масштаб осей\n",
    "plt.axis([dt.datetime(2019, 8, 1), dt.datetime(2019, 9, 1), 0.028, 0.038])\n",
    "\n",
    "# Поворот подписей по оси x\n",
    "plt.xticks(rotation=45)\n",
    "\n",
    "# Добавляем подписи осей\n",
    "plt.xlabel('Дата проведения теста')\n",
    "plt.ylabel('Кумулятивное среднее количество \\n заказов на посетителя')\n",
    "\n",
    "# Добавляем заголовок графика\n",
    "plt.title('Кумулятивное среднее количество заказов на посетителя по группам');"
   ]
  },
  {
   "cell_type": "markdown",
   "metadata": {},
   "source": [
    "В начале теста сегмент A на протяжении недолгого времени имел большее кумулятивное среднее количество заказов, но постепенно сегмент B выровнялся и зафиксировался примерно около одного значения, больше значения сегмента A."
   ]
  },
  {
   "cell_type": "markdown",
   "metadata": {},
   "source": [
    "#### График относительного изменения кумулятивного среднего количества заказов на посетителя группы B к группе A"
   ]
  },
  {
   "cell_type": "code",
   "execution_count": 20,
   "metadata": {},
   "outputs": [
    {
     "data": {
      "image/png": "[encoded data removed]",
      "text/plain": [
       "<Figure size 640x480 with 1 Axes>"
      ]
     },
     "metadata": {},
     "output_type": "display_data"
    }
   ],
   "source": [
    "# Объединяем таблицы cumulativeDataA и cumulativeDataB\n",
    "mergedCumulativeConversions = cumulativeDataA[['date','conversion']].merge(\n",
    "                              cumulativeDataB[['date','conversion']], \n",
    "                              left_on='date', \n",
    "                              right_on='date', \n",
    "                              how='left', \n",
    "                              suffixes=['A', 'B'])\n",
    "\n",
    "# Строим график\n",
    "plt.plot(mergedCumulativeConversions['date'], mergedCumulativeConversions['conversionB']/\n",
    "         mergedCumulativeConversions['conversionA']-1)\n",
    "\n",
    "\n",
    "plt.axhline(y=0, color='black', linestyle='--')\n",
    "plt.axhline(y=0.15, color='grey', linestyle='--')\n",
    "\n",
    "# Задаем масштаб осей\n",
    "plt.axis([dt.datetime(2019, 8, 1), dt.datetime(2019, 9, 1), -0.25, 0.25])\n",
    "\n",
    "# Поворот подписей по оси x\n",
    "plt.xticks(rotation=45)\n",
    "\n",
    "# Добавляем подписи осей\n",
    "plt.xlabel('Дата проведения теста')\n",
    "plt.ylabel('Относительное изменение \\n кумулятивного среднего количества \\n заказов на посетителя')\n",
    "\n",
    "# Добавляем заголовок графика\n",
    "plt.title('Относительное изменение кумулятивного среднего количества заказов  \\n на посетителя группы B относительно группы A');"
   ]
  },
  {
   "cell_type": "markdown",
   "metadata": {},
   "source": [
    "В начале теста группа B проигрывала группе А, однако затем вырвалась вперед. Начиная с 09.08.2019 среднее количество заказов на посетителя для группы B выровнялось и приблизительно на 15% выше аналогичного показателя группы А."
   ]
  },
  {
   "cell_type": "markdown",
   "metadata": {},
   "source": [
    "#### Точечный график количества заказов по пользователям"
   ]
  },
  {
   "cell_type": "code",
   "execution_count": 21,
   "metadata": {},
   "outputs": [
    {
     "data": {
      "image/png": "[encoded data removed]",
      "text/plain": [
       "<Figure size 640x480 with 1 Axes>"
      ]
     },
     "metadata": {},
     "output_type": "display_data"
    }
   ],
   "source": [
    "# Рассчитаем количество заказов для каждого пользователя \n",
    "ordersByUsers = (\n",
    "    orders.groupby('visitor_id', as_index=False)\n",
    "    .agg({'transaction_id': 'nunique'})\n",
    ")\n",
    "\n",
    "# Переименуем колонки получившегося датафрейма\n",
    "ordersByUsers.columns = ['visitor_id', 'orders']\n",
    "\n",
    "# Серия из чисел от 0 до количества наблюдений в ordersByUsers\n",
    "x_values = pd.Series(range(0, len(ordersByUsers)))\n",
    "\n",
    "# Построим точечный график\n",
    "plt.scatter(x_values, ordersByUsers['orders']) \n",
    "\n",
    "# Добавляем подписи осей\n",
    "plt.xlabel('Идентификатор пользователя')\n",
    "plt.ylabel('Количество заказов')\n",
    "\n",
    "# Добавляем заголовок графика\n",
    "plt.title('Количество заказов по пользователям');"
   ]
  },
  {
   "cell_type": "markdown",
   "metadata": {},
   "source": [
    "Пользователей, сделавших более двух заказов, относительно мало. Для определения того, какое число заказов является выбросом для данной выборки, далее рассчитаем перцентили количества заказов на пользователя. "
   ]
  },
  {
   "cell_type": "markdown",
   "metadata": {},
   "source": [
    "#### Расчет перцентилей количества заказов на пользователя"
   ]
  },
  {
   "cell_type": "code",
   "execution_count": 22,
   "metadata": {},
   "outputs": [
    {
     "data": {
      "text/plain": [
       "array([1., 2., 4.])"
      ]
     },
     "execution_count": 22,
     "metadata": {},
     "output_type": "execute_result"
    }
   ],
   "source": [
    "np.percentile(ordersByUsers['orders'], [90, 95, 99])"
   ]
  },
  {
   "cell_type": "markdown",
   "metadata": {},
   "source": [
    "Только 1% посетителей делают 4 и более заказов и только 5% - 2 и более. Установим границу для определения аномальных пользователей по количеству заказов в районе более 2 заказов (>2). "
   ]
  },
  {
   "cell_type": "markdown",
   "metadata": {},
   "source": [
    "#### Точечный график стоимостей заказов"
   ]
  },
  {
   "cell_type": "code",
   "execution_count": 23,
   "metadata": {},
   "outputs": [
    {
     "data": {
      "image/png": "[encoded data removed]",
      "text/plain": [
       "<Figure size 640x480 with 1 Axes>"
      ]
     },
     "metadata": {},
     "output_type": "display_data"
    }
   ],
   "source": [
    "# Серия из чисел от 0 до количества наблюдений в orders['revenue']\n",
    "x_values = pd.Series(range(0, len(orders['revenue'])))\n",
    "\n",
    "# Построим точечный график\n",
    "plt.scatter(x_values, orders['revenue'])\n",
    "\n",
    "# Добавляем подписи осей\n",
    "plt.xlabel('Идентификатор заказа')\n",
    "plt.ylabel('Стоимость заказа')\n",
    "\n",
    "\n",
    "# Добавляем заголовок графика\n",
    "plt.title('Распределение стоимости заказов');"
   ]
  },
  {
   "cell_type": "markdown",
   "metadata": {},
   "source": [
    "Согласно построенному графику встречаются только два аномальных значения стоимости заказов - один на сумму более 200 000 и один на сумму более миллиона. Такие значения определенно являются выбросами с учетом того, что стоимость оставшейся массы заказов не превышает 90 000. "
   ]
  },
  {
   "cell_type": "markdown",
   "metadata": {},
   "source": [
    "#### Расчет перцентилей стоимости заказов"
   ]
  },
  {
   "cell_type": "code",
   "execution_count": 24,
   "metadata": {},
   "outputs": [
    {
     "data": {
      "text/plain": [
       "array([18168. , 28000. , 58233.2])"
      ]
     },
     "execution_count": 24,
     "metadata": {},
     "output_type": "execute_result"
    }
   ],
   "source": [
    "np.percentile(orders['revenue'], [90, 95, 99])"
   ]
  },
  {
   "cell_type": "markdown",
   "metadata": {},
   "source": [
    "Стоимость заказа 5% пользователей не превышает 28 000, а 1% - не более порядка 58 000. Поскольку аномальных значений, сильно выбивающихся из общего массива, всего два, установим границу для определения аномальных пользователей по стоимости заказа на уровне 60 000. Так мы отсечем менее 1% от всех пользователей. "
   ]
  },
  {
   "cell_type": "markdown",
   "metadata": {},
   "source": [
    "#### Расчет статистической значимости различий в среднем количестве заказов на посетителя между группами по «сырым» данным"
   ]
  },
  {
   "cell_type": "markdown",
   "metadata": {},
   "source": [
    "Сформулируем гипотезы. \n",
    "\n",
    "Нулевая: различий в среднем количестве заказов на посетителя между группами нет. \n",
    "\n",
    "Альтернативная: различия в среднем между группами есть."
   ]
  },
  {
   "cell_type": "code",
   "execution_count": 25,
   "metadata": {},
   "outputs": [
    {
     "name": "stdout",
     "output_type": "stream",
     "text": [
      "Статистическая значимость различия среднего количества заказов по результатам А/В-теста: 0.01679\n",
      "Относительное различие в среднем между группами: 0.13808\n"
     ]
    }
   ],
   "source": [
    "# Рассчитаем ежедневное количество посетителей группы А \n",
    "visitorsADaily = visitors[visitors['group'] == 'A'][['date', 'visitors']]\n",
    "visitorsADaily.columns = ['date', 'visitorsPerDateA']\n",
    "\n",
    "# Вычислим количество посетителей группы А в день накопленным итогом\n",
    "visitorsACummulative = visitorsADaily.apply(\n",
    "    lambda x: visitorsADaily[visitorsADaily['date'] <= x['date']].agg(\n",
    "        {'date': 'max', 'visitorsPerDateA': 'sum'}\n",
    "    ),\n",
    "    axis=1,\n",
    ")\n",
    "\n",
    "# Переименуем столбцы датафрейма\n",
    "visitorsACummulative.columns = ['date', 'visitorsCummulativeA']\n",
    "\n",
    "# Выполним аналогичные действия по группе В\n",
    "visitorsBDaily = visitors[visitors['group'] == 'B'][['date', 'visitors']]\n",
    "visitorsBDaily.columns = ['date', 'visitorsPerDateB']\n",
    "\n",
    "visitorsBCummulative = visitorsBDaily.apply(\n",
    "    lambda x: visitorsBDaily[visitorsBDaily['date'] <= x['date']].agg(\n",
    "        {'date': 'max', 'visitorsPerDateB': 'sum'}\n",
    "    ),\n",
    "    axis=1,\n",
    ")\n",
    "visitorsBCummulative.columns = ['date', 'visitorsCummulativeB']\n",
    "\n",
    "# Рассчитаем ежедневное количество заказов пользователей группы А \n",
    "ordersADaily = (\n",
    "    orders[orders['group'] == 'A'][['date', 'transaction_id', 'visitor_id', 'revenue']]\n",
    "    .groupby('date', as_index=False)\n",
    "    .agg({'transaction_id': pd.Series.nunique, 'revenue': 'sum'})\n",
    ")\n",
    "\n",
    "# Переименуем столбцы датафрейма\n",
    "ordersADaily.columns = ['date', 'ordersPerDateA', 'revenuePerDateA']\n",
    "\n",
    "# Вычислим количество заказов пользователей группы А в день накопленным итогом\n",
    "ordersACummulative = ordersADaily.apply(\n",
    "    lambda x: ordersADaily[ordersADaily['date'] <= x['date']].agg(\n",
    "        {'date': 'max', 'ordersPerDateA': 'sum', 'revenuePerDateA': 'sum'}\n",
    "    ),\n",
    "    axis=1,\n",
    ").sort_values(by=['date'])\n",
    "\n",
    "# Переименуем столбцы датафрейма\n",
    "ordersACummulative.columns = [\n",
    "    'date',\n",
    "    'ordersCummulativeA',\n",
    "    'revenueCummulativeA',\n",
    "]\n",
    "\n",
    "# Выполним аналогичные действия по группе В\n",
    "ordersBDaily = (\n",
    "    orders[orders['group'] == 'B'][['date', 'transaction_id', 'visitor_id', 'revenue']]\n",
    "    .groupby('date', as_index=False)\n",
    "    .agg({'transaction_id': pd.Series.nunique, 'revenue': 'sum'})\n",
    ")\n",
    "ordersBDaily.columns = ['date', 'ordersPerDateB', 'revenuePerDateB']\n",
    "\n",
    "ordersBCummulative = ordersBDaily.apply(\n",
    "    lambda x: ordersBDaily[ordersBDaily['date'] <= x['date']].agg(\n",
    "        {'date': 'max', 'ordersPerDateB': 'sum', 'revenuePerDateB': 'sum'}\n",
    "    ),\n",
    "    axis=1,\n",
    ").sort_values(by=['date'])\n",
    "ordersBCummulative.columns = [\n",
    "    'date',\n",
    "    'ordersCummulativeB',\n",
    "    'revenueCummulativeB',\n",
    "]\n",
    "\n",
    "# Объединим датафреймы\n",
    "data = (\n",
    "    ordersADaily.merge(\n",
    "        ordersBDaily, left_on='date', right_on='date', how='left'\n",
    "    )\n",
    "    .merge(ordersACummulative, left_on='date', right_on='date', how='left')\n",
    "    .merge(ordersBCummulative, left_on='date', right_on='date', how='left')\n",
    "    .merge(visitorsADaily, left_on='date', right_on='date', how='left')\n",
    "    .merge(visitorsBDaily, left_on='date', right_on='date', how='left')\n",
    "    .merge(visitorsACummulative, left_on='date', right_on='date', how='left')\n",
    "    .merge(visitorsBCummulative, left_on='date', right_on='date', how='left')\n",
    ")\n",
    "\n",
    "# Определим количество заказов каждого пользователя из группы А\n",
    "ordersByUsersA = (\n",
    "    orders[orders['group'] == 'A']\n",
    "    .groupby('visitor_id', as_index=False)\n",
    "    .agg({'transaction_id': pd.Series.nunique})\n",
    ")\n",
    "\n",
    "# Переименуем столбцы датафрейма\n",
    "ordersByUsersA.columns = ['userId', 'orders']\n",
    "\n",
    "# Выполним аналогичные действия по группе В\n",
    "ordersByUsersB = (\n",
    "    orders[orders['group'] == 'B']\n",
    "    .groupby('visitor_id', as_index=False)\n",
    "    .agg({'transaction_id': pd.Series.nunique})\n",
    ")\n",
    "ordersByUsersB.columns = ['userId', 'orders'] \n",
    "\n",
    "# Объявим переменную sampleA, в которой пользователям из группы А будет соответствовать количество их заказов. \n",
    "# (Тем, кто ничего не заказал, будут соответствовать нули.) \n",
    "sampleA = pd.concat(\n",
    "    [\n",
    "        ordersByUsersA['orders'],\n",
    "        pd.Series(\n",
    "            0,\n",
    "            index=np.arange(\n",
    "                data['visitorsPerDateA'].sum() - len(ordersByUsersA['orders'])\n",
    "            ),\n",
    "            name='orders',\n",
    "        ),\n",
    "    ],\n",
    "    axis=0,\n",
    ")\n",
    "\n",
    "# Объявим аналогичную переменную sampleB для пользователей группы В\n",
    "sampleB = pd.concat(\n",
    "    [\n",
    "        ordersByUsersB['orders'],\n",
    "        pd.Series(\n",
    "            0,\n",
    "            index=np.arange(\n",
    "                data['visitorsPerDateB'].sum() - len(ordersByUsersB['orders'])\n",
    "            ),\n",
    "            name='orders',\n",
    "        ),\n",
    "    ],\n",
    "    axis=0,\n",
    ")\n",
    "\n",
    "# Посчитаем статистическую значимость различия среднего количества заказов по результатам А/В-теста, \n",
    "# применив тест Манна-Уитни\n",
    "print(\"Статистическая значимость различия среднего количества заказов по результатам А/В-теста:\", \n",
    "      \"{0:.5f}\".format(stats.mannwhitneyu(sampleA, sampleB)[1]))\n",
    "\n",
    "# Вычислим и выведим относительное различие в среднем между группами. \n",
    "print(\"Относительное различие в среднем между группами:\", \n",
    "      \"{0:.5f}\".format(sampleB.mean() / sampleA.mean() - 1))"
   ]
  },
  {
   "cell_type": "markdown",
   "metadata": {},
   "source": [
    "По результатам проведения теста Манна-Уитни значение p-value составило около 0.017, что меньше 0.05, значит мы отвергаем нулевую гипотезу об отсутствии различий в среднем количестве заказов на посетителя между группами. \n",
    "\n",
    "Относительный прирост среднего группы B по отношению к показателю группы A равен 13.8%."
   ]
  },
  {
   "cell_type": "markdown",
   "metadata": {},
   "source": [
    "#### Расчет статистической значимости различий в среднем чеке заказа между группами по «сырым» данными"
   ]
  },
  {
   "cell_type": "markdown",
   "metadata": {},
   "source": [
    "Проверим статистическую значимость различий в среднем чеке между сегментами. \n",
    "\n",
    "Нулевая гипотеза: различий в среднем чеке между группами нет. \n",
    "\n",
    "Альтернативная гипотеза: различия в среднем чеке между группами есть. "
   ]
  },
  {
   "cell_type": "code",
   "execution_count": 38,
   "metadata": {},
   "outputs": [
    {
     "name": "stdout",
     "output_type": "stream",
     "text": [
      "Статистическая значимость различий в среднем чеке заказа между группами: 0.72929\n",
      "Относительный прирост среднего чека группы B: 0.25871\n"
     ]
    }
   ],
   "source": [
    "# Посчитаем статистическую значимость различий в среднем чеке заказа между группами\n",
    "print(\"Статистическая значимость различий в среднем чеке заказа между группами:\", \n",
    "      '{0:.5f}'.format(stats.mannwhitneyu(orders[orders['group']=='A']['revenue'], \n",
    "                                          orders[orders['group']=='B']['revenue'])[1]))\n",
    "\n",
    "# Выведим относительный прирост среднего чека группы B \n",
    "print(\"Относительный прирост среднего чека группы B:\", \n",
    "      '{0:.5f}'.format(orders[orders['group']=='B']['revenue'].mean()/\n",
    "                       orders[orders['group']=='A']['revenue'].mean()-1))"
   ]
  },
  {
   "cell_type": "markdown",
   "metadata": {},
   "source": [
    "P-value составило около 0.73, что больше 0.05 — значит мы не отвергаем нулевую гипотезу и статистически значимых отличий в среднем чеке между группами нет. \n",
    "\n",
    "Однако относительное различие среднего чека между сегментами составило около 26%."
   ]
  },
  {
   "cell_type": "markdown",
   "metadata": {},
   "source": [
    "#### Расчет статистической значимости различий в среднем количестве заказов на посетителя между группами по «очищенным» данным"
   ]
  },
  {
   "cell_type": "markdown",
   "metadata": {},
   "source": [
    "Ранее в качестве аномальных значений мы признали данные пользователей, которые сделали более двух заказов, а также тех, стоимость чьих заказов превысила 60 000.\n",
    "Узнаем, сколько всего данных пользователей можно отнести к аномальным:"
   ]
  },
  {
   "cell_type": "code",
   "execution_count": 27,
   "metadata": {},
   "outputs": [
    {
     "name": "stdout",
     "output_type": "stream",
     "text": [
      "30\n"
     ]
    }
   ],
   "source": [
    "# Создаем датафрейм с информацией о пользователях, сделавших более 2 заказов\n",
    "usersWithManyOrders = pd.concat(\n",
    "    [\n",
    "        ordersByUsersA[ordersByUsersA['orders'] > 2]['userId'],\n",
    "        ordersByUsersB[ordersByUsersB['orders'] > 2]['userId'],\n",
    "    ],\n",
    "    axis=0,\n",
    ")\n",
    "\n",
    "# Создаем датафрейм с информацией о пользователях, стоимость заказов которых превысила 60 000\n",
    "usersWithExpensiveOrders = orders[orders['revenue'] > 60000]['visitor_id']\n",
    "abnormalUsers = (\n",
    "    pd.concat([usersWithManyOrders, usersWithExpensiveOrders], axis=0)\n",
    "    .drop_duplicates()\n",
    "    .sort_values()\n",
    ")\n",
    "\n",
    "print(abnormalUsers.shape[0]) "
   ]
  },
  {
   "cell_type": "markdown",
   "metadata": {},
   "source": [
    "Всего 30 аномальных пользователей. \n",
    "Узнаем, как их действия повлияли на результаты теста. Посчитаем статистическую значимость различий в среднем количестве заказов между группами теста по очищенным данным. \n",
    "\n",
    "Нулевая: различий в среднем количестве заказов на посетителя между группами нет. \n",
    "\n",
    "Альтернативная: различия в среднем между группами есть."
   ]
  },
  {
   "cell_type": "code",
   "execution_count": 28,
   "metadata": {},
   "outputs": [
    {
     "name": "stdout",
     "output_type": "stream",
     "text": [
      "Статистическая значимость различия среднего количества заказов по результатам А/В-теста: 0.00926\n",
      "Относительное различие в среднем между группами: 0.17625\n"
     ]
    }
   ],
   "source": [
    "# Подготовим выборки количества заказов по пользователям по группам теста\n",
    "sampleAFiltered = pd.concat(\n",
    "    [\n",
    "        ordersByUsersA[\n",
    "            np.logical_not(ordersByUsersA['userId'].isin(abnormalUsers))\n",
    "        ]['orders'],\n",
    "        pd.Series(\n",
    "            0,\n",
    "            index=np.arange(\n",
    "                data['visitorsPerDateA'].sum() - len(ordersByUsersA['orders'])\n",
    "            ),\n",
    "            name='orders',\n",
    "        ),\n",
    "    ],\n",
    "    axis=0,\n",
    ")\n",
    "\n",
    "sampleBFiltered = pd.concat(\n",
    "    [\n",
    "        ordersByUsersB[\n",
    "            np.logical_not(ordersByUsersB['userId'].isin(abnormalUsers))\n",
    "        ]['orders'],\n",
    "        pd.Series(\n",
    "            0,\n",
    "            index=np.arange(\n",
    "                data['visitorsPerDateB'].sum() - len(ordersByUsersB['orders'])\n",
    "            ),\n",
    "            name='orders',\n",
    "        ),\n",
    "    ],\n",
    "    axis=0,\n",
    ") \n",
    "\n",
    "# Применим статистический критерий Манна-Уитни к полученным выборкам\n",
    "print(\"Статистическая значимость различия среднего количества заказов по результатам А/В-теста:\", \n",
    "      '{0:.5f}'.format(stats.mannwhitneyu(sampleAFiltered, sampleBFiltered)[1]))\n",
    "print(\"Относительное различие в среднем между группами:\",\n",
    "      '{0:.5f}'.format(sampleBFiltered.mean()/sampleAFiltered.mean()-1)) "
   ]
  },
  {
   "cell_type": "markdown",
   "metadata": {},
   "source": [
    "Статистическая значимость различия среднего количества заказов по результатам А/В-теста по очищенным данным составила 0.009, что значительно меньше 0.05, значит мы снова (как и в случае с неочищенными данными) отвергаем нулевую гипотезу об отсутствии различий в среднем количестве заказов на посетителя между группами.\n",
    "\n",
    "Относительное различие в среднем между группами по очищенным данным возросло до 17,6%.\n",
    "\n",
    "Можно сделать вывод о том, что выбросы не меняют принципиально результата анализа двух массивов данных и результаты группы В в части среднего количества заказов статистически значимо выше результатов группы А."
   ]
  },
  {
   "cell_type": "markdown",
   "metadata": {},
   "source": [
    "#### Расчет статистической значимости различий в среднем чеке заказа между группами по «очищенным» данным"
   ]
  },
  {
   "cell_type": "markdown",
   "metadata": {},
   "source": [
    "Нулевая гипотеза: различий в среднем чеке между группами нет. \n",
    "\n",
    "Альтернативная гипотеза: различия в среднем чеке между группами есть. "
   ]
  },
  {
   "cell_type": "code",
   "execution_count": 29,
   "metadata": {},
   "outputs": [
    {
     "name": "stdout",
     "output_type": "stream",
     "text": [
      "Статистическая значимость различий в среднем чеке заказа между группами: 0.83546\n",
      "Относительный прирост среднего чека группы B: -0.00643\n"
     ]
    }
   ],
   "source": [
    "# Посчитаем статистическую значимость различий в среднем чеке заказа между группами\n",
    "print(\"Статистическая значимость различий в среднем чеке заказа между группами:\", \n",
    "    '{0:.5f}'.format(\n",
    "        stats.mannwhitneyu(\n",
    "            orders[\n",
    "                np.logical_and(\n",
    "                    orders['group'] == 'A',\n",
    "                    np.logical_not(orders['visitor_id'].isin(abnormalUsers)),\n",
    "                )\n",
    "            ]['revenue'],\n",
    "            orders[\n",
    "                np.logical_and(\n",
    "                    orders['group'] == 'B',\n",
    "                    np.logical_not(orders['visitor_id'].isin(abnormalUsers)),\n",
    "                )\n",
    "            ]['revenue'],\n",
    "        )[1]\n",
    "    )\n",
    ")\n",
    "\n",
    "# Выведим относительный прирост среднего чека группы B \n",
    "print(\"Относительный прирост среднего чека группы B:\", \n",
    "    \"{0:.5f}\".format(\n",
    "        orders[\n",
    "            np.logical_and(\n",
    "                orders['group'] == 'B',\n",
    "                np.logical_not(orders['visitor_id'].isin(abnormalUsers)),\n",
    "            )\n",
    "        ]['revenue'].mean()\n",
    "        / orders[\n",
    "            np.logical_and(\n",
    "                orders['group'] == 'A',\n",
    "                np.logical_not(orders['visitor_id'].isin(abnormalUsers)),\n",
    "            )\n",
    "        ]['revenue'].mean()\n",
    "        - 1\n",
    "    )\n",
    ") "
   ]
  },
  {
   "cell_type": "markdown",
   "metadata": {},
   "source": [
    "Поскольку p-value равен 0.84, мы не может отвергнуть нулевую гипотезу, то есть признаем отсутствие статически значимых различий в среднем чеке между группами. \n",
    "\n",
    "Относительный прирост среднего чека при анализе очищенных данных оказался крайне малым и отрицательным - всего -0.6%."
   ]
  },
  {
   "cell_type": "markdown",
   "metadata": {},
   "source": [
    "#### Принятие решения по результатам теста"
   ]
  },
  {
   "cell_type": "markdown",
   "metadata": {},
   "source": [
    "Имеющиеся факты:\n",
    "\n",
    "По среднему количеству заказов между группами и по «сырым» данным, и по данным после фильтрации аномалий статистически значимое различие присутствует.\n",
    "\n",
    "По среднему чеку между группами нет статистически значимого различия ни по «сырым» данным, ни по данным после фильтрации аномалий.\n",
    "\n",
    "График различия среднего количества заказов между группами сообщает, что результаты группы B были хуже группы А только в самом начале теста и на протяжении почти всего теста их превосходили стабильно и без колебаний. \n",
    "\n",
    "При этом график различия среднего чека не отражает такого стабильного результата и подвержен значительным колебаниям: за месяц наблюдений результат группы В в начале уступал результату группы А, затем показатели группы В росли до 09.08.2019, после чего начался резкий спад, когда результаты группы А превзошли результаты группы В, ситуацию для группы В в значительной степени исправили крупные заказы, постипившие 18-19 августа 2019 г., и представляющие из себя аномалии, с этого времени и до конца теста значения группы В неуклонно снижаются. \n",
    "\n",
    "Поскольку полученные результаты анализа А/В-теста противоречивы, рекомендуется продолжить его проведение. "
   ]
  },
  {
   "cell_type": "markdown",
   "metadata": {},
   "source": [
    "#### Повторное построение графиков по обработанным данным без аномалий"
   ]
  },
  {
   "cell_type": "markdown",
   "metadata": {},
   "source": [
    "Для лучшего понимания результатов анализа уберем аномальные значения из исходного датафрейма и заново построим соответствующие графики:"
   ]
  },
  {
   "cell_type": "code",
   "execution_count": 30,
   "metadata": {},
   "outputs": [],
   "source": [
    "orders2 = orders[np.logical_not(orders['visitor_id'].isin(abnormalUsers))]"
   ]
  },
  {
   "cell_type": "markdown",
   "metadata": {},
   "source": [
    "**График кумулятивной выручки по группам**"
   ]
  },
  {
   "cell_type": "code",
   "execution_count": 31,
   "metadata": {},
   "outputs": [
    {
     "data": {
      "image/png": "[encoded data removed]",
      "text/plain": [
       "<Figure size 640x480 with 1 Axes>"
      ]
     },
     "metadata": {},
     "output_type": "display_data"
    }
   ],
   "source": [
    "# Cоздаем массив уникальных пар значений дат и групп теста\n",
    "datesGroups2 = orders2[['date','group']].drop_duplicates()\n",
    "\n",
    "# Получаем агрегированные кумулятивные по дням данные о заказах \n",
    "ordersAggregated2 = datesGroups2.apply(\n",
    "    lambda x: orders2[\n",
    "        np.logical_and(\n",
    "            orders2['date'] <= x['date'], orders2['group'] == x['group']\n",
    "        )\n",
    "    ].agg(\n",
    "        {\n",
    "            'date': 'max',\n",
    "            'group': 'max',\n",
    "            'transaction_id': 'nunique',\n",
    "            'visitor_id': 'nunique',\n",
    "            'revenue': 'sum',\n",
    "        }\n",
    "    ),\n",
    "    axis=1,\n",
    ").sort_values(by=['date', 'group'])\n",
    "\n",
    "\n",
    "# Получаем агрегированные кумулятивные по дням данные о посетителях интернет-магазина \n",
    "visitorsAggregated2 = datesGroups2.apply(\n",
    "    lambda x: visitors[\n",
    "        np.logical_and(\n",
    "            visitors['date'] <= x['date'], visitors['group'] == x['group']\n",
    "        )\n",
    "    ].agg({'date': 'max', 'group': 'max', 'visitors': 'sum'}),\n",
    "    axis=1,\n",
    ").sort_values(by=['date', 'group'])\n",
    "\n",
    "# Объединяем кумулятивные данные в одной таблице и присваиваем ее столбцам понятные названия\n",
    "cumulativeData2 = ordersAggregated2.merge(visitorsAggregated, left_on=['date', 'group'], right_on=['date', 'group'])\n",
    "cumulativeData2.columns = ['date', 'group', 'orders', 'buyers', 'revenue', 'visitors']\n",
    "\n",
    "# Датафрейм с кумулятивным количеством заказов и кумулятивной выручкой по дням в группе А\n",
    "cumulativeRevenueA2 = cumulativeData2[cumulativeData2['group']=='A'][['date','revenue', 'orders']]\n",
    "\n",
    "# Датафрейм с кумулятивным количеством заказов и кумулятивной выручкой по дням в группе B\n",
    "cumulativeRevenueB2 = cumulativeData2[cumulativeData2['group']=='B'][['date','revenue', 'orders']]\n",
    "\n",
    "# Строим график выручки группы А\n",
    "plt.plot(cumulativeRevenueA2['date'], cumulativeRevenueA2['revenue'], label='A')\n",
    "\n",
    "# Строим график выручки группы B\n",
    "plt.plot(cumulativeRevenueB2['date'], cumulativeRevenueB2['revenue'], label='B')\n",
    "\n",
    "# Поворот подписей по оси x\n",
    "plt.xticks(rotation=45)\n",
    "\n",
    "# Добавляем заголовок графика\n",
    "plt.title('Кумулятивная выручка по группам (без аномальных значений)')\n",
    "\n",
    "# Добавляем подписи осей\n",
    "plt.xlabel('Дата проведения теста')\n",
    "plt.ylabel('Размер выручки')\n",
    "\n",
    "plt.legend();"
   ]
  },
  {
   "cell_type": "markdown",
   "metadata": {},
   "source": [
    "**График кумулятивного среднего чека по группам**"
   ]
  },
  {
   "cell_type": "code",
   "execution_count": 32,
   "metadata": {},
   "outputs": [
    {
     "data": {
      "image/png": "[encoded data removed]",
      "text/plain": [
       "<Figure size 640x480 with 1 Axes>"
      ]
     },
     "metadata": {},
     "output_type": "display_data"
    }
   ],
   "source": [
    "# Разделим кумулятивную выручку на кумулятивное число заказов\n",
    "plt.plot(cumulativeRevenueA2['date'], cumulativeRevenueA2['revenue']/cumulativeRevenueA2['orders'], label='A')\n",
    "plt.plot(cumulativeRevenueB2['date'], cumulativeRevenueB2['revenue']/cumulativeRevenueB2['orders'], label='B')\n",
    "\n",
    "# Поворот подписей по оси x\n",
    "plt.xticks(rotation=45)\n",
    "\n",
    "# Добавляем заголовок графика\n",
    "plt.title('Кумулятивный средний чек по группам (без аномальных значений)')\n",
    "\n",
    "# Добавляем подписи осей\n",
    "plt.xlabel('Дата проведения теста')\n",
    "plt.ylabel('Размер кумулятивного среднего чека')\n",
    "\n",
    "plt.legend();"
   ]
  },
  {
   "cell_type": "markdown",
   "metadata": {},
   "source": [
    "**График относительного изменения кумулятивного среднего чека группы B к группе A**"
   ]
  },
  {
   "cell_type": "code",
   "execution_count": 37,
   "metadata": {},
   "outputs": [
    {
     "data": {
      "image/png": "[encoded data removed]",
      "text/plain": [
       "<Figure size 640x480 with 1 Axes>"
      ]
     },
     "metadata": {},
     "output_type": "display_data"
    }
   ],
   "source": [
    "# Собираем данные в одном датафрейме\n",
    "mergedCumulativeRevenue2 = cumulativeRevenueA2.merge(\n",
    "                            cumulativeRevenueB2, \n",
    "                            left_on='date', \n",
    "                            right_on='date', \n",
    "                            how='left', \n",
    "                            suffixes=['A', 'B'])\n",
    "\n",
    "# Строим отношение средних чеков\n",
    "plt.plot(mergedCumulativeRevenue2['date'], (mergedCumulativeRevenue2['revenueB']/mergedCumulativeRevenue2['ordersB'])/\n",
    "         (mergedCumulativeRevenue2['revenueA']/mergedCumulativeRevenue2['ordersA'])-1)\n",
    "\n",
    "# добавляем ось X\n",
    "plt.axhline(y=0, color='black', linestyle='--')\n",
    "\n",
    "# Поворот подписей по оси x\n",
    "plt.xticks(rotation=45)\n",
    "\n",
    "# Добавляем подписи осей\n",
    "plt.xlabel('Дата проведения теста')\n",
    "plt.ylabel('Относительное изменение \\n кумулятивного среднего чека')\n",
    "\n",
    "# Добавляем заголовок графика\n",
    "plt.title('Относительное изменение кумулятивного среднего чека группы B к группе A \\n (без аномальных значений)');"
   ]
  },
  {
   "cell_type": "markdown",
   "metadata": {},
   "source": [
    "**График кумулятивного среднего количества заказов на посетителя по группам**"
   ]
  },
  {
   "cell_type": "code",
   "execution_count": 34,
   "metadata": {},
   "outputs": [
    {
     "data": {
      "image/png": "[encoded data removed]",
      "text/plain": [
       "<Figure size 640x480 with 1 Axes>"
      ]
     },
     "metadata": {},
     "output_type": "display_data"
    }
   ],
   "source": [
    "# Считаем среднее количество заказов на посетителя\n",
    "cumulativeData2['conversion'] = cumulativeData2['orders']/cumulativeData2['visitors']\n",
    "\n",
    "# Отделяем данные по группе A\n",
    "cumulativeDataA2 = cumulativeData2[cumulativeData2['group']=='A']\n",
    "\n",
    "# Отделяем данные по группе B\n",
    "cumulativeDataB2 = cumulativeData2[cumulativeData2['group']=='B']\n",
    "\n",
    "# Строим графики\n",
    "plt.plot(cumulativeDataA2['date'], cumulativeDataA2['conversion'], label='A')\n",
    "plt.plot(cumulativeDataB2['date'], cumulativeDataB2['conversion'], label='B')\n",
    "plt.legend()\n",
    "\n",
    "# Задаем масштаб осей\n",
    "plt.axis([dt.datetime(2019, 8, 1), dt.datetime(2019, 9, 1), 0.024, 0.035])\n",
    "\n",
    "# Поворот подписей по оси x\n",
    "plt.xticks(rotation=45)\n",
    "\n",
    "# Добавляем подписи осей\n",
    "plt.xlabel('Дата проведения теста')\n",
    "plt.ylabel('Кумулятивное среднее количество \\n заказов на посетителя')\n",
    "\n",
    "# Добавляем заголовок графика\n",
    "plt.title('Кумулятивное среднее количество заказов на посетителя по группам (без аномальных значений)');"
   ]
  },
  {
   "cell_type": "markdown",
   "metadata": {},
   "source": [
    "**График относительного изменения кумулятивного среднего количества заказов на посетителя группы B к группе A**"
   ]
  },
  {
   "cell_type": "code",
   "execution_count": 36,
   "metadata": {},
   "outputs": [
    {
     "data": {
      "image/png": "[encoded data removed]",
      "text/plain": [
       "<Figure size 640x480 with 1 Axes>"
      ]
     },
     "metadata": {},
     "output_type": "display_data"
    }
   ],
   "source": [
    "# Объединяем таблицы cumulativeDataA и cumulativeDataB\n",
    "mergedCumulativeConversions2 = cumulativeDataA2[['date','conversion']].merge(\n",
    "                              cumulativeDataB2[['date','conversion']], \n",
    "                              left_on='date', \n",
    "                              right_on='date', \n",
    "                              how='left', \n",
    "                              suffixes=['A', 'B'])\n",
    "\n",
    "# Строим график\n",
    "plt.plot(mergedCumulativeConversions2['date'], mergedCumulativeConversions2['conversionB']/\n",
    "         mergedCumulativeConversions2['conversionA']-1)\n",
    "\n",
    "\n",
    "plt.axhline(y=0, color='black', linestyle='--')\n",
    "plt.axhline(y=0.18, color='grey', linestyle='--')\n",
    "\n",
    "# Задаем масштаб осей\n",
    "plt.axis([dt.datetime(2019, 8, 1), dt.datetime(2019, 9, 1), -0.05, 0.3])\n",
    "\n",
    "# Поворот подписей по оси x\n",
    "plt.xticks(rotation=45)\n",
    "\n",
    "# Добавляем подписи осей\n",
    "plt.xlabel('Дата проведения теста')\n",
    "plt.ylabel('Относительное изменение \\n кумулятивного среднего количества \\n заказов на посетителя')\n",
    "\n",
    "# Добавляем заголовок графика\n",
    "plt.title('Относительное изменение кумулятивного среднего количества заказов \\n на посетителя группы B относительно группы A (без аномальных значений)');"
   ]
  },
  {
   "cell_type": "markdown",
   "metadata": {},
   "source": [
    "Можно сделать вывод о том, что, без учета аномальных данных, результаты А/В-теста показали: среднее количество заказов пользователей из группы В увеличилось практически на 20% по сравнению с группой А, однако кумулятивный средний чек группы В к концу теста упал ниже значения группы А. (При этом кумулятивный средний чек группы А имеет четкую тенденцию к стабильному росту, в то время как этот показатель группы В еще не стабилизировался.) \n",
    "За счет большего количества заказов и высокого среднего чека в начале тестирования группа В к концу наблюдений накопила большую кумулятивную выручку, чем группа А, однако разрыв не столь большой и если средний чек группы В продолжит падать относительно группы А, в дальнейшем показатели выручки могут сравняться и стать статистически не значимыми. "
   ]
  },
  {
   "cell_type": "markdown",
   "metadata": {},
   "source": [
    "##  Общий вывод"
   ]
  },
  {
   "cell_type": "markdown",
   "metadata": {},
   "source": [
    "В целом по результатам исследования можно сказать, что исходные датафреймы отличаются полнотой и отсутствием явных дубликатов. \n",
    "\n",
    "При приоритезации гипотез путем применения фреймворков ICE и RICE получаются сходные результаты, однако при применении RICE наверх выходят гипотезы с высокой долей охвата аудитории/пользователей, что стоит учесть при выборе метода приоритезации. При применении обоих методов приоретизации наиболее перспективны гипотезы 7 \"Добавить форму подписки на все основные страницы, чтобы собрать базу клиентов для email-рассылок\" и 0 \"Добавить два новых канала привлечения трафика, что позволит привлекать на 30% больше пользователей\".\n",
    "\n",
    "После определения и удаления аномальных значений в исходных датафремах, содержащих результаты А/В-теста, применения статистического критерия Манна-Уитни к полученным выборкам, можно сделать вывод о наличии статистически значимых различий между группами А и В по среднему количеству заказов и отсутствию статистически значимой разницы в размере среднего чека. \n",
    "\n",
    "Пользователи группы В стали делать практически на 20% больше заказов по сравнению с пользователями группы А, однако к концу проведения теста их средний чек упал ниже среднего чека группы А.\n",
    "\n",
    "В случае продолжения тестирования, сохранения разницы в количестве заказов между группами:\n",
    "- при сохранении или увеличении размера среднего чека однозначным победителем окажется группа В, \n",
    "- в случае уменьшения среднего чека в группе В относительно группы А результаты групп могут сравняться либо группа А выйдет на первое место. "
   ]
  }
 ],
 "metadata": {
  "ExecuteTimeLog": [
   {
    "duration": 3,
    "start_time": "2024-02-29T07:23:10.441Z"
   },
   {
    "duration": 2,
    "start_time": "2024-02-29T07:26:49.204Z"
   },
   {
    "duration": 1200,
    "start_time": "2024-02-29T07:29:02.363Z"
   },
   {
    "duration": 101,
    "start_time": "2024-02-29T07:32:04.782Z"
   },
   {
    "duration": 175,
    "start_time": "2024-02-29T07:32:05.175Z"
   },
   {
    "duration": 10,
    "start_time": "2024-02-29T07:41:26.569Z"
   },
   {
    "duration": 6,
    "start_time": "2024-02-29T07:41:41.752Z"
   },
   {
    "duration": 8,
    "start_time": "2024-02-29T07:42:18.442Z"
   },
   {
    "duration": 9,
    "start_time": "2024-02-29T07:43:12.995Z"
   },
   {
    "duration": 6,
    "start_time": "2024-02-29T07:43:25.541Z"
   },
   {
    "duration": 8,
    "start_time": "2024-02-29T07:43:33.635Z"
   },
   {
    "duration": 6,
    "start_time": "2024-02-29T07:43:51.678Z"
   },
   {
    "duration": 6,
    "start_time": "2024-02-29T07:44:13.714Z"
   },
   {
    "duration": 7,
    "start_time": "2024-02-29T07:44:20.620Z"
   },
   {
    "duration": 3,
    "start_time": "2024-02-29T07:47:04.074Z"
   },
   {
    "duration": 6,
    "start_time": "2024-02-29T07:47:23.634Z"
   },
   {
    "duration": 3,
    "start_time": "2024-02-29T07:49:51.782Z"
   },
   {
    "duration": 7,
    "start_time": "2024-02-29T07:55:58.113Z"
   },
   {
    "duration": 3,
    "start_time": "2024-02-29T07:57:39.789Z"
   },
   {
    "duration": 7,
    "start_time": "2024-02-29T07:57:40.350Z"
   },
   {
    "duration": 1257,
    "start_time": "2024-02-29T08:00:28.354Z"
   },
   {
    "duration": 1297,
    "start_time": "2024-02-29T08:01:09.746Z"
   },
   {
    "duration": 7,
    "start_time": "2024-02-29T08:03:31.253Z"
   },
   {
    "duration": 1261,
    "start_time": "2024-02-29T08:05:05.195Z"
   },
   {
    "duration": 1199,
    "start_time": "2024-02-29T08:06:01.541Z"
   },
   {
    "duration": 2,
    "start_time": "2024-02-29T08:06:29.371Z"
   },
   {
    "duration": 5,
    "start_time": "2024-02-29T08:07:42.526Z"
   },
   {
    "duration": 5,
    "start_time": "2024-02-29T08:07:49.130Z"
   },
   {
    "duration": 4,
    "start_time": "2024-02-29T08:07:58.204Z"
   },
   {
    "duration": 7,
    "start_time": "2024-02-29T08:19:52.852Z"
   },
   {
    "duration": 5,
    "start_time": "2024-02-29T08:20:08.898Z"
   },
   {
    "duration": 8,
    "start_time": "2024-02-29T08:20:19.414Z"
   },
   {
    "duration": 7,
    "start_time": "2024-02-29T08:20:29.402Z"
   },
   {
    "duration": 9,
    "start_time": "2024-02-29T08:20:32.964Z"
   },
   {
    "duration": 8,
    "start_time": "2024-02-29T08:20:40.296Z"
   },
   {
    "duration": 10,
    "start_time": "2024-02-29T08:21:49.694Z"
   },
   {
    "duration": 8,
    "start_time": "2024-02-29T08:22:10.790Z"
   },
   {
    "duration": 9,
    "start_time": "2024-02-29T08:22:19.010Z"
   },
   {
    "duration": 10,
    "start_time": "2024-02-29T08:25:55.890Z"
   },
   {
    "duration": 4,
    "start_time": "2024-02-29T08:40:42.032Z"
   },
   {
    "duration": 94,
    "start_time": "2024-02-29T08:40:42.039Z"
   },
   {
    "duration": 8,
    "start_time": "2024-02-29T08:40:42.135Z"
   },
   {
    "duration": 34,
    "start_time": "2024-02-29T08:40:42.145Z"
   },
   {
    "duration": 15,
    "start_time": "2024-02-29T08:40:42.181Z"
   },
   {
    "duration": 15,
    "start_time": "2024-02-29T08:40:42.198Z"
   },
   {
    "duration": 18,
    "start_time": "2024-02-29T08:40:42.215Z"
   },
   {
    "duration": 28,
    "start_time": "2024-02-29T08:40:42.235Z"
   },
   {
    "duration": 25,
    "start_time": "2024-02-29T08:40:42.264Z"
   },
   {
    "duration": 13,
    "start_time": "2024-02-29T08:40:42.291Z"
   },
   {
    "duration": 3,
    "start_time": "2024-02-29T08:40:42.306Z"
   },
   {
    "duration": 43,
    "start_time": "2024-02-29T08:40:42.310Z"
   },
   {
    "duration": 40,
    "start_time": "2024-02-29T08:40:42.354Z"
   },
   {
    "duration": 16,
    "start_time": "2024-02-29T08:40:42.395Z"
   },
   {
    "duration": 22,
    "start_time": "2024-02-29T08:40:42.412Z"
   },
   {
    "duration": 18,
    "start_time": "2024-02-29T08:40:42.435Z"
   },
   {
    "duration": 1328,
    "start_time": "2024-03-01T06:28:20.742Z"
   },
   {
    "duration": 198,
    "start_time": "2024-03-01T06:28:22.072Z"
   },
   {
    "duration": 16,
    "start_time": "2024-03-01T06:28:22.272Z"
   },
   {
    "duration": 29,
    "start_time": "2024-03-01T06:28:22.290Z"
   },
   {
    "duration": 16,
    "start_time": "2024-03-01T06:28:22.321Z"
   },
   {
    "duration": 24,
    "start_time": "2024-03-01T06:28:22.338Z"
   },
   {
    "duration": 15,
    "start_time": "2024-03-01T06:28:22.364Z"
   },
   {
    "duration": 27,
    "start_time": "2024-03-01T06:28:22.381Z"
   },
   {
    "duration": 14,
    "start_time": "2024-03-01T06:28:22.410Z"
   },
   {
    "duration": 22,
    "start_time": "2024-03-01T06:28:22.426Z"
   },
   {
    "duration": 41,
    "start_time": "2024-03-01T06:28:22.450Z"
   },
   {
    "duration": 26,
    "start_time": "2024-03-01T06:28:22.492Z"
   },
   {
    "duration": 31,
    "start_time": "2024-03-01T06:28:22.519Z"
   },
   {
    "duration": 15,
    "start_time": "2024-03-01T06:28:22.552Z"
   },
   {
    "duration": 23,
    "start_time": "2024-03-01T06:28:22.568Z"
   },
   {
    "duration": 28,
    "start_time": "2024-03-01T06:28:22.593Z"
   },
   {
    "duration": 1240,
    "start_time": "2024-03-01T06:28:22.622Z"
   },
   {
    "duration": 1119,
    "start_time": "2024-03-01T06:29:08.411Z"
   },
   {
    "duration": 1280,
    "start_time": "2024-03-01T06:30:49.378Z"
   },
   {
    "duration": 3,
    "start_time": "2024-03-01T06:32:18.867Z"
   },
   {
    "duration": 83,
    "start_time": "2024-03-01T06:32:18.872Z"
   },
   {
    "duration": 7,
    "start_time": "2024-03-01T06:32:18.957Z"
   },
   {
    "duration": 15,
    "start_time": "2024-03-01T06:32:18.966Z"
   },
   {
    "duration": 10,
    "start_time": "2024-03-01T06:32:18.983Z"
   },
   {
    "duration": 14,
    "start_time": "2024-03-01T06:32:18.994Z"
   },
   {
    "duration": 11,
    "start_time": "2024-03-01T06:32:19.009Z"
   },
   {
    "duration": 15,
    "start_time": "2024-03-01T06:32:19.022Z"
   },
   {
    "duration": 9,
    "start_time": "2024-03-01T06:32:19.038Z"
   },
   {
    "duration": 12,
    "start_time": "2024-03-01T06:32:19.049Z"
   },
   {
    "duration": 19,
    "start_time": "2024-03-01T06:32:19.066Z"
   },
   {
    "duration": 0,
    "start_time": "2024-03-01T06:32:19.087Z"
   },
   {
    "duration": 0,
    "start_time": "2024-03-01T06:32:19.088Z"
   },
   {
    "duration": 0,
    "start_time": "2024-03-01T06:32:19.089Z"
   },
   {
    "duration": 0,
    "start_time": "2024-03-01T06:32:19.090Z"
   },
   {
    "duration": 0,
    "start_time": "2024-03-01T06:32:19.091Z"
   },
   {
    "duration": 0,
    "start_time": "2024-03-01T06:32:19.092Z"
   },
   {
    "duration": 3,
    "start_time": "2024-03-01T06:32:44.110Z"
   },
   {
    "duration": 97,
    "start_time": "2024-03-01T06:32:44.115Z"
   },
   {
    "duration": 7,
    "start_time": "2024-03-01T06:32:44.214Z"
   },
   {
    "duration": 17,
    "start_time": "2024-03-01T06:32:44.223Z"
   },
   {
    "duration": 15,
    "start_time": "2024-03-01T06:32:44.242Z"
   },
   {
    "duration": 21,
    "start_time": "2024-03-01T06:32:44.259Z"
   },
   {
    "duration": 18,
    "start_time": "2024-03-01T06:32:44.282Z"
   },
   {
    "duration": 18,
    "start_time": "2024-03-01T06:32:44.302Z"
   },
   {
    "duration": 14,
    "start_time": "2024-03-01T06:32:44.322Z"
   },
   {
    "duration": 13,
    "start_time": "2024-03-01T06:32:44.337Z"
   },
   {
    "duration": 7,
    "start_time": "2024-03-01T06:32:44.352Z"
   },
   {
    "duration": 31,
    "start_time": "2024-03-01T06:32:44.360Z"
   },
   {
    "duration": 24,
    "start_time": "2024-03-01T06:32:44.393Z"
   },
   {
    "duration": 12,
    "start_time": "2024-03-01T06:32:44.418Z"
   },
   {
    "duration": 21,
    "start_time": "2024-03-01T06:32:44.432Z"
   },
   {
    "duration": 27,
    "start_time": "2024-03-01T06:32:44.455Z"
   },
   {
    "duration": 308,
    "start_time": "2024-03-01T06:32:44.484Z"
   },
   {
    "duration": 3,
    "start_time": "2024-03-01T06:33:45.147Z"
   },
   {
    "duration": 110,
    "start_time": "2024-03-01T06:33:45.152Z"
   },
   {
    "duration": 7,
    "start_time": "2024-03-01T06:33:45.264Z"
   },
   {
    "duration": 38,
    "start_time": "2024-03-01T06:33:45.272Z"
   },
   {
    "duration": 30,
    "start_time": "2024-03-01T06:33:45.312Z"
   },
   {
    "duration": 46,
    "start_time": "2024-03-01T06:33:45.343Z"
   },
   {
    "duration": 31,
    "start_time": "2024-03-01T06:33:45.391Z"
   },
   {
    "duration": 25,
    "start_time": "2024-03-01T06:33:45.423Z"
   },
   {
    "duration": 42,
    "start_time": "2024-03-01T06:33:45.449Z"
   },
   {
    "duration": 54,
    "start_time": "2024-03-01T06:33:45.493Z"
   },
   {
    "duration": 24,
    "start_time": "2024-03-01T06:33:45.548Z"
   },
   {
    "duration": 40,
    "start_time": "2024-03-01T06:33:45.573Z"
   },
   {
    "duration": 18,
    "start_time": "2024-03-01T06:33:45.616Z"
   },
   {
    "duration": 13,
    "start_time": "2024-03-01T06:33:45.636Z"
   },
   {
    "duration": 27,
    "start_time": "2024-03-01T06:33:45.650Z"
   },
   {
    "duration": 29,
    "start_time": "2024-03-01T06:33:45.678Z"
   },
   {
    "duration": 318,
    "start_time": "2024-03-01T06:33:45.709Z"
   },
   {
    "duration": 357,
    "start_time": "2024-03-01T06:34:52.378Z"
   },
   {
    "duration": 639,
    "start_time": "2024-03-01T06:35:25.945Z"
   },
   {
    "duration": 79,
    "start_time": "2024-03-01T06:35:26.586Z"
   },
   {
    "duration": 11,
    "start_time": "2024-03-01T06:35:26.666Z"
   },
   {
    "duration": 18,
    "start_time": "2024-03-01T06:35:26.679Z"
   },
   {
    "duration": 21,
    "start_time": "2024-03-01T06:35:26.699Z"
   },
   {
    "duration": 25,
    "start_time": "2024-03-01T06:35:26.721Z"
   },
   {
    "duration": 13,
    "start_time": "2024-03-01T06:35:26.747Z"
   },
   {
    "duration": 34,
    "start_time": "2024-03-01T06:35:26.762Z"
   },
   {
    "duration": 29,
    "start_time": "2024-03-01T06:35:26.798Z"
   },
   {
    "duration": 35,
    "start_time": "2024-03-01T06:35:26.829Z"
   },
   {
    "duration": 37,
    "start_time": "2024-03-01T06:35:26.866Z"
   },
   {
    "duration": 17,
    "start_time": "2024-03-01T06:35:26.904Z"
   },
   {
    "duration": 18,
    "start_time": "2024-03-01T06:35:26.922Z"
   },
   {
    "duration": 7,
    "start_time": "2024-03-01T06:35:26.942Z"
   },
   {
    "duration": 17,
    "start_time": "2024-03-01T06:35:26.951Z"
   },
   {
    "duration": 11,
    "start_time": "2024-03-01T06:35:26.970Z"
   },
   {
    "duration": 38,
    "start_time": "2024-03-01T06:35:26.983Z"
   },
   {
    "duration": 395,
    "start_time": "2024-03-01T06:42:00.018Z"
   },
   {
    "duration": 632,
    "start_time": "2024-03-01T06:42:14.313Z"
   },
   {
    "duration": 78,
    "start_time": "2024-03-01T06:42:14.947Z"
   },
   {
    "duration": 11,
    "start_time": "2024-03-01T06:42:15.027Z"
   },
   {
    "duration": 106,
    "start_time": "2024-03-01T06:42:15.039Z"
   },
   {
    "duration": 66,
    "start_time": "2024-03-01T06:42:15.147Z"
   },
   {
    "duration": 59,
    "start_time": "2024-03-01T06:42:15.215Z"
   },
   {
    "duration": 44,
    "start_time": "2024-03-01T06:42:15.276Z"
   },
   {
    "duration": 85,
    "start_time": "2024-03-01T06:42:15.322Z"
   },
   {
    "duration": 31,
    "start_time": "2024-03-01T06:42:15.408Z"
   },
   {
    "duration": 89,
    "start_time": "2024-03-01T06:42:15.441Z"
   },
   {
    "duration": 59,
    "start_time": "2024-03-01T06:42:15.531Z"
   },
   {
    "duration": 38,
    "start_time": "2024-03-01T06:42:15.591Z"
   },
   {
    "duration": 45,
    "start_time": "2024-03-01T06:42:15.631Z"
   },
   {
    "duration": 28,
    "start_time": "2024-03-01T06:42:15.679Z"
   },
   {
    "duration": 126,
    "start_time": "2024-03-01T06:42:15.709Z"
   },
   {
    "duration": 352,
    "start_time": "2024-03-01T06:42:39.775Z"
   },
   {
    "duration": 3,
    "start_time": "2024-03-01T07:02:29.495Z"
   },
   {
    "duration": 99,
    "start_time": "2024-03-01T07:02:29.500Z"
   },
   {
    "duration": 7,
    "start_time": "2024-03-01T07:02:29.601Z"
   },
   {
    "duration": 23,
    "start_time": "2024-03-01T07:02:29.610Z"
   },
   {
    "duration": 23,
    "start_time": "2024-03-01T07:02:29.634Z"
   },
   {
    "duration": 13,
    "start_time": "2024-03-01T07:02:29.658Z"
   },
   {
    "duration": 17,
    "start_time": "2024-03-01T07:02:29.673Z"
   },
   {
    "duration": 21,
    "start_time": "2024-03-01T07:02:29.691Z"
   },
   {
    "duration": 21,
    "start_time": "2024-03-01T07:02:29.714Z"
   },
   {
    "duration": 14,
    "start_time": "2024-03-01T07:02:29.737Z"
   },
   {
    "duration": 18,
    "start_time": "2024-03-01T07:02:29.752Z"
   },
   {
    "duration": 10,
    "start_time": "2024-03-01T07:02:29.772Z"
   },
   {
    "duration": 12,
    "start_time": "2024-03-01T07:02:29.783Z"
   },
   {
    "duration": 14,
    "start_time": "2024-03-01T07:02:29.797Z"
   },
   {
    "duration": 31,
    "start_time": "2024-03-01T07:02:29.813Z"
   },
   {
    "duration": 582,
    "start_time": "2024-03-01T07:02:29.846Z"
   },
   {
    "duration": 0,
    "start_time": "2024-03-01T07:02:30.430Z"
   },
   {
    "duration": 24,
    "start_time": "2024-03-01T07:02:47.858Z"
   },
   {
    "duration": 7,
    "start_time": "2024-03-01T07:03:18.634Z"
   },
   {
    "duration": 24,
    "start_time": "2024-03-01T07:03:48.981Z"
   },
   {
    "duration": 8,
    "start_time": "2024-03-01T07:04:24.761Z"
   },
   {
    "duration": 179,
    "start_time": "2024-03-01T07:05:06.155Z"
   },
   {
    "duration": 7,
    "start_time": "2024-03-01T07:05:19.246Z"
   },
   {
    "duration": 299,
    "start_time": "2024-03-01T07:05:46.743Z"
   },
   {
    "duration": 283,
    "start_time": "2024-03-01T07:06:12.898Z"
   },
   {
    "duration": 503,
    "start_time": "2024-03-01T07:08:27.221Z"
   },
   {
    "duration": 425,
    "start_time": "2024-03-01T07:08:35.335Z"
   },
   {
    "duration": 470,
    "start_time": "2024-03-01T07:09:26.787Z"
   },
   {
    "duration": 438,
    "start_time": "2024-03-01T07:10:39.396Z"
   },
   {
    "duration": 423,
    "start_time": "2024-03-01T07:12:04.923Z"
   },
   {
    "duration": 441,
    "start_time": "2024-03-01T07:12:13.988Z"
   },
   {
    "duration": 426,
    "start_time": "2024-03-01T07:12:19.183Z"
   },
   {
    "duration": 5,
    "start_time": "2024-03-01T07:22:49.511Z"
   },
   {
    "duration": 5,
    "start_time": "2024-03-01T07:22:59.476Z"
   },
   {
    "duration": 4,
    "start_time": "2024-03-01T07:23:16.820Z"
   },
   {
    "duration": 5,
    "start_time": "2024-03-01T07:23:25.128Z"
   },
   {
    "duration": 6,
    "start_time": "2024-03-01T07:23:35.768Z"
   },
   {
    "duration": 5,
    "start_time": "2024-03-01T07:23:44.627Z"
   },
   {
    "duration": 487,
    "start_time": "2024-03-01T07:25:40.321Z"
   },
   {
    "duration": 462,
    "start_time": "2024-03-01T07:25:47.097Z"
   },
   {
    "duration": 79,
    "start_time": "2024-03-01T07:27:20.022Z"
   },
   {
    "duration": 179,
    "start_time": "2024-03-01T07:28:17.016Z"
   },
   {
    "duration": 192,
    "start_time": "2024-03-01T07:28:22.602Z"
   },
   {
    "duration": 179,
    "start_time": "2024-03-01T07:28:49.190Z"
   },
   {
    "duration": 189,
    "start_time": "2024-03-01T07:29:09.792Z"
   },
   {
    "duration": 101,
    "start_time": "2024-03-01T07:35:45.416Z"
   },
   {
    "duration": 342,
    "start_time": "2024-03-01T07:37:17.899Z"
   },
   {
    "duration": 280,
    "start_time": "2024-03-01T08:12:59.414Z"
   },
   {
    "duration": 297,
    "start_time": "2024-03-01T08:13:12.950Z"
   },
   {
    "duration": 259,
    "start_time": "2024-03-01T08:13:27.709Z"
   },
   {
    "duration": 291,
    "start_time": "2024-03-01T08:13:56.583Z"
   },
   {
    "duration": 299,
    "start_time": "2024-03-01T08:14:10.377Z"
   },
   {
    "duration": 264,
    "start_time": "2024-03-01T08:14:14.905Z"
   },
   {
    "duration": 257,
    "start_time": "2024-03-01T08:16:21.122Z"
   },
   {
    "duration": 199,
    "start_time": "2024-03-01T08:30:13.992Z"
   },
   {
    "duration": 197,
    "start_time": "2024-03-01T08:33:11.486Z"
   },
   {
    "duration": 190,
    "start_time": "2024-03-01T08:35:19.780Z"
   },
   {
    "duration": 260,
    "start_time": "2024-03-01T08:35:39.398Z"
   },
   {
    "duration": 632,
    "start_time": "2024-03-01T08:37:45.173Z"
   },
   {
    "duration": 79,
    "start_time": "2024-03-01T08:37:45.807Z"
   },
   {
    "duration": 15,
    "start_time": "2024-03-01T08:37:45.888Z"
   },
   {
    "duration": 21,
    "start_time": "2024-03-01T08:37:45.904Z"
   },
   {
    "duration": 29,
    "start_time": "2024-03-01T08:37:45.928Z"
   },
   {
    "duration": 23,
    "start_time": "2024-03-01T08:37:45.959Z"
   },
   {
    "duration": 11,
    "start_time": "2024-03-01T08:37:45.983Z"
   },
   {
    "duration": 33,
    "start_time": "2024-03-01T08:37:45.996Z"
   },
   {
    "duration": 11,
    "start_time": "2024-03-01T08:37:46.030Z"
   },
   {
    "duration": 15,
    "start_time": "2024-03-01T08:37:46.042Z"
   },
   {
    "duration": 17,
    "start_time": "2024-03-01T08:37:46.058Z"
   },
   {
    "duration": 19,
    "start_time": "2024-03-01T08:37:46.077Z"
   },
   {
    "duration": 21,
    "start_time": "2024-03-01T08:37:46.097Z"
   },
   {
    "duration": 23,
    "start_time": "2024-03-01T08:37:46.121Z"
   },
   {
    "duration": 13,
    "start_time": "2024-03-01T08:37:46.146Z"
   },
   {
    "duration": 13,
    "start_time": "2024-03-01T08:37:46.160Z"
   },
   {
    "duration": 544,
    "start_time": "2024-03-01T08:37:46.175Z"
   },
   {
    "duration": 174,
    "start_time": "2024-03-01T08:37:46.721Z"
   },
   {
    "duration": 272,
    "start_time": "2024-03-01T08:37:46.897Z"
   },
   {
    "duration": 312,
    "start_time": "2024-03-01T08:37:47.170Z"
   },
   {
    "duration": 174,
    "start_time": "2024-03-01T08:39:59.474Z"
   },
   {
    "duration": 177,
    "start_time": "2024-03-01T08:40:08.190Z"
   },
   {
    "duration": 170,
    "start_time": "2024-03-01T08:40:19.566Z"
   },
   {
    "duration": 184,
    "start_time": "2024-03-01T08:40:23.075Z"
   },
   {
    "duration": 189,
    "start_time": "2024-03-01T08:42:17.348Z"
   },
   {
    "duration": 299,
    "start_time": "2024-03-01T08:49:45.977Z"
   },
   {
    "duration": 300,
    "start_time": "2024-03-01T08:51:39.168Z"
   },
   {
    "duration": 265,
    "start_time": "2024-03-01T08:51:55.326Z"
   },
   {
    "duration": 304,
    "start_time": "2024-03-01T08:53:14.253Z"
   },
   {
    "duration": 286,
    "start_time": "2024-03-01T08:53:24.820Z"
   },
   {
    "duration": 399,
    "start_time": "2024-03-01T08:53:59.478Z"
   },
   {
    "duration": 294,
    "start_time": "2024-03-01T08:54:10.773Z"
   },
   {
    "duration": 282,
    "start_time": "2024-03-01T08:54:37.285Z"
   },
   {
    "duration": 74,
    "start_time": "2024-03-01T08:54:50.678Z"
   },
   {
    "duration": 250,
    "start_time": "2024-03-01T08:55:03.001Z"
   },
   {
    "duration": 257,
    "start_time": "2024-03-01T08:59:04.898Z"
   },
   {
    "duration": 8,
    "start_time": "2024-03-01T09:03:39.198Z"
   },
   {
    "duration": 108,
    "start_time": "2024-03-01T09:05:56.440Z"
   },
   {
    "duration": 112,
    "start_time": "2024-03-01T09:06:36.434Z"
   },
   {
    "duration": 7,
    "start_time": "2024-03-01T09:10:56.065Z"
   },
   {
    "duration": 9,
    "start_time": "2024-03-01T09:29:00.670Z"
   },
   {
    "duration": 144,
    "start_time": "2024-03-01T09:29:26.652Z"
   },
   {
    "duration": 128,
    "start_time": "2024-03-01T09:33:26.170Z"
   },
   {
    "duration": 17,
    "start_time": "2024-03-01T09:36:55.595Z"
   },
   {
    "duration": 8,
    "start_time": "2024-03-01T09:37:09.941Z"
   },
   {
    "duration": 9,
    "start_time": "2024-03-01T09:39:20.490Z"
   },
   {
    "duration": 9,
    "start_time": "2024-03-01T09:39:28.247Z"
   },
   {
    "duration": 8,
    "start_time": "2024-03-01T09:39:31.808Z"
   },
   {
    "duration": 8,
    "start_time": "2024-03-01T09:39:34.731Z"
   },
   {
    "duration": 9,
    "start_time": "2024-03-01T09:39:39.010Z"
   },
   {
    "duration": 9,
    "start_time": "2024-03-01T09:39:45.399Z"
   },
   {
    "duration": 9,
    "start_time": "2024-03-01T09:39:51.206Z"
   },
   {
    "duration": 5,
    "start_time": "2024-03-01T09:42:53.618Z"
   },
   {
    "duration": 9,
    "start_time": "2024-03-01T11:26:09.738Z"
   },
   {
    "duration": 56,
    "start_time": "2024-03-01T11:32:56.825Z"
   },
   {
    "duration": 86,
    "start_time": "2024-03-01T11:33:40.196Z"
   },
   {
    "duration": 8,
    "start_time": "2024-03-01T11:35:29.686Z"
   },
   {
    "duration": 98,
    "start_time": "2024-03-01T11:36:32.702Z"
   },
   {
    "duration": 147,
    "start_time": "2024-03-01T11:37:49.161Z"
   },
   {
    "duration": 189,
    "start_time": "2024-03-01T11:38:44.742Z"
   },
   {
    "duration": 211,
    "start_time": "2024-03-01T11:39:16.093Z"
   },
   {
    "duration": 330,
    "start_time": "2024-03-01T11:40:45.722Z"
   },
   {
    "duration": 341,
    "start_time": "2024-03-01T11:41:33.748Z"
   },
   {
    "duration": 327,
    "start_time": "2024-03-01T11:45:49.888Z"
   },
   {
    "duration": 419,
    "start_time": "2024-03-01T11:49:05.808Z"
   },
   {
    "duration": 329,
    "start_time": "2024-03-01T11:52:37.168Z"
   },
   {
    "duration": 413,
    "start_time": "2024-03-01T11:52:58.555Z"
   },
   {
    "duration": 77,
    "start_time": "2024-03-01T11:52:58.970Z"
   },
   {
    "duration": 8,
    "start_time": "2024-03-01T11:52:59.049Z"
   },
   {
    "duration": 22,
    "start_time": "2024-03-01T11:52:59.059Z"
   },
   {
    "duration": 21,
    "start_time": "2024-03-01T11:52:59.083Z"
   },
   {
    "duration": 39,
    "start_time": "2024-03-01T11:52:59.106Z"
   },
   {
    "duration": 26,
    "start_time": "2024-03-01T11:52:59.147Z"
   },
   {
    "duration": 23,
    "start_time": "2024-03-01T11:52:59.175Z"
   },
   {
    "duration": 17,
    "start_time": "2024-03-01T11:52:59.200Z"
   },
   {
    "duration": 33,
    "start_time": "2024-03-01T11:52:59.219Z"
   },
   {
    "duration": 15,
    "start_time": "2024-03-01T11:52:59.253Z"
   },
   {
    "duration": 15,
    "start_time": "2024-03-01T11:52:59.269Z"
   },
   {
    "duration": 24,
    "start_time": "2024-03-01T11:52:59.285Z"
   },
   {
    "duration": 41,
    "start_time": "2024-03-01T11:52:59.313Z"
   },
   {
    "duration": 37,
    "start_time": "2024-03-01T11:52:59.356Z"
   },
   {
    "duration": 31,
    "start_time": "2024-03-01T11:52:59.395Z"
   },
   {
    "duration": 438,
    "start_time": "2024-03-01T11:52:59.427Z"
   },
   {
    "duration": 185,
    "start_time": "2024-03-01T11:52:59.867Z"
   },
   {
    "duration": 323,
    "start_time": "2024-03-01T11:53:00.054Z"
   },
   {
    "duration": 197,
    "start_time": "2024-03-01T11:53:00.379Z"
   },
   {
    "duration": 477,
    "start_time": "2024-03-01T11:53:00.578Z"
   },
   {
    "duration": 228,
    "start_time": "2024-03-01T11:53:01.057Z"
   },
   {
    "duration": 70,
    "start_time": "2024-03-01T11:53:01.287Z"
   },
   {
    "duration": 257,
    "start_time": "2024-03-01T11:53:01.359Z"
   },
   {
    "duration": 82,
    "start_time": "2024-03-01T11:53:01.619Z"
   },
   {
    "duration": 402,
    "start_time": "2024-03-01T11:53:01.703Z"
   },
   {
    "duration": 7,
    "start_time": "2024-03-01T11:53:02.107Z"
   },
   {
    "duration": 103,
    "start_time": "2024-03-01T11:53:02.115Z"
   },
   {
    "duration": 340,
    "start_time": "2024-03-01T11:55:44.154Z"
   },
   {
    "duration": 391,
    "start_time": "2024-03-01T11:57:15.561Z"
   },
   {
    "duration": 11,
    "start_time": "2024-03-01T12:18:46.546Z"
   },
   {
    "duration": 6,
    "start_time": "2024-03-01T12:29:49.066Z"
   },
   {
    "duration": 1306,
    "start_time": "2024-03-01T12:30:23.805Z"
   },
   {
    "duration": 8,
    "start_time": "2024-03-01T12:30:37.003Z"
   },
   {
    "duration": 7,
    "start_time": "2024-03-01T12:30:47.303Z"
   },
   {
    "duration": 8,
    "start_time": "2024-03-01T12:31:01.632Z"
   },
   {
    "duration": 1337,
    "start_time": "2024-03-02T16:11:38.627Z"
   },
   {
    "duration": 193,
    "start_time": "2024-03-02T16:11:39.967Z"
   },
   {
    "duration": 12,
    "start_time": "2024-03-02T16:11:40.162Z"
   },
   {
    "duration": 12,
    "start_time": "2024-03-02T16:11:40.175Z"
   },
   {
    "duration": 8,
    "start_time": "2024-03-02T16:11:40.189Z"
   },
   {
    "duration": 23,
    "start_time": "2024-03-02T16:11:40.199Z"
   },
   {
    "duration": 21,
    "start_time": "2024-03-02T16:11:40.224Z"
   },
   {
    "duration": 11,
    "start_time": "2024-03-02T16:11:40.247Z"
   },
   {
    "duration": 6,
    "start_time": "2024-03-02T16:11:40.260Z"
   },
   {
    "duration": 4,
    "start_time": "2024-03-02T16:11:40.267Z"
   },
   {
    "duration": 16,
    "start_time": "2024-03-02T16:11:40.273Z"
   },
   {
    "duration": 8,
    "start_time": "2024-03-02T16:11:40.291Z"
   },
   {
    "duration": 11,
    "start_time": "2024-03-02T16:11:40.301Z"
   },
   {
    "duration": 13,
    "start_time": "2024-03-02T16:11:40.316Z"
   },
   {
    "duration": 17,
    "start_time": "2024-03-02T16:11:40.331Z"
   },
   {
    "duration": 41,
    "start_time": "2024-03-02T16:11:40.350Z"
   },
   {
    "duration": 597,
    "start_time": "2024-03-02T16:11:40.393Z"
   },
   {
    "duration": 207,
    "start_time": "2024-03-02T16:11:40.992Z"
   },
   {
    "duration": 384,
    "start_time": "2024-03-02T16:11:41.201Z"
   },
   {
    "duration": 215,
    "start_time": "2024-03-02T16:11:41.588Z"
   },
   {
    "duration": 308,
    "start_time": "2024-03-02T16:11:41.805Z"
   },
   {
    "duration": 127,
    "start_time": "2024-03-02T16:11:42.114Z"
   },
   {
    "duration": 5,
    "start_time": "2024-03-02T16:11:42.243Z"
   },
   {
    "duration": 150,
    "start_time": "2024-03-02T16:11:42.249Z"
   },
   {
    "duration": 5,
    "start_time": "2024-03-02T16:11:42.400Z"
   },
   {
    "duration": 390,
    "start_time": "2024-03-02T16:11:42.406Z"
   },
   {
    "duration": 12,
    "start_time": "2024-03-02T16:11:42.797Z"
   },
   {
    "duration": 11,
    "start_time": "2024-03-02T16:11:42.811Z"
   },
   {
    "duration": 1681,
    "start_time": "2024-03-02T16:11:42.824Z"
   },
   {
    "duration": 0,
    "start_time": "2024-03-02T16:11:44.507Z"
   },
   {
    "duration": 9,
    "start_time": "2024-03-02T16:22:29.667Z"
   },
   {
    "duration": 8,
    "start_time": "2024-03-02T16:25:12.045Z"
   },
   {
    "duration": 31,
    "start_time": "2024-03-02T16:26:51.607Z"
   },
   {
    "duration": 1690,
    "start_time": "2024-03-02T16:39:43.796Z"
   },
   {
    "duration": 3,
    "start_time": "2024-03-02T16:40:18.307Z"
   },
   {
    "duration": 76,
    "start_time": "2024-03-02T16:40:18.312Z"
   },
   {
    "duration": 9,
    "start_time": "2024-03-02T16:40:18.390Z"
   },
   {
    "duration": 13,
    "start_time": "2024-03-02T16:40:18.400Z"
   },
   {
    "duration": 9,
    "start_time": "2024-03-02T16:40:18.415Z"
   },
   {
    "duration": 10,
    "start_time": "2024-03-02T16:40:18.426Z"
   },
   {
    "duration": 10,
    "start_time": "2024-03-02T16:40:18.438Z"
   },
   {
    "duration": 39,
    "start_time": "2024-03-02T16:40:18.449Z"
   },
   {
    "duration": 10,
    "start_time": "2024-03-02T16:40:18.490Z"
   },
   {
    "duration": 9,
    "start_time": "2024-03-02T16:40:18.502Z"
   },
   {
    "duration": 7,
    "start_time": "2024-03-02T16:40:18.514Z"
   },
   {
    "duration": 25,
    "start_time": "2024-03-02T16:40:18.522Z"
   },
   {
    "duration": 7,
    "start_time": "2024-03-02T16:40:18.549Z"
   },
   {
    "duration": 13,
    "start_time": "2024-03-02T16:40:18.557Z"
   },
   {
    "duration": 24,
    "start_time": "2024-03-02T16:40:18.571Z"
   },
   {
    "duration": 14,
    "start_time": "2024-03-02T16:40:18.597Z"
   },
   {
    "duration": 564,
    "start_time": "2024-03-02T16:40:18.613Z"
   },
   {
    "duration": 213,
    "start_time": "2024-03-02T16:40:19.179Z"
   },
   {
    "duration": 312,
    "start_time": "2024-03-02T16:40:19.394Z"
   },
   {
    "duration": 221,
    "start_time": "2024-03-02T16:40:19.708Z"
   },
   {
    "duration": 283,
    "start_time": "2024-03-02T16:40:19.931Z"
   },
   {
    "duration": 129,
    "start_time": "2024-03-02T16:40:20.216Z"
   },
   {
    "duration": 5,
    "start_time": "2024-03-02T16:40:20.346Z"
   },
   {
    "duration": 148,
    "start_time": "2024-03-02T16:40:20.352Z"
   },
   {
    "duration": 5,
    "start_time": "2024-03-02T16:40:20.502Z"
   },
   {
    "duration": 394,
    "start_time": "2024-03-02T16:40:20.508Z"
   },
   {
    "duration": 11,
    "start_time": "2024-03-02T16:40:20.904Z"
   },
   {
    "duration": 14,
    "start_time": "2024-03-02T16:40:20.916Z"
   },
   {
    "duration": 31,
    "start_time": "2024-03-02T16:40:20.934Z"
   },
   {
    "duration": 1566,
    "start_time": "2024-03-02T16:40:20.988Z"
   },
   {
    "duration": 15,
    "start_time": "2024-03-02T16:41:09.376Z"
   },
   {
    "duration": 149,
    "start_time": "2024-03-02T16:50:14.205Z"
   },
   {
    "duration": 3,
    "start_time": "2024-03-02T17:16:28.322Z"
   },
   {
    "duration": 80,
    "start_time": "2024-03-02T17:16:28.327Z"
   },
   {
    "duration": 9,
    "start_time": "2024-03-02T17:16:28.409Z"
   },
   {
    "duration": 15,
    "start_time": "2024-03-02T17:16:28.419Z"
   },
   {
    "duration": 12,
    "start_time": "2024-03-02T17:16:28.436Z"
   },
   {
    "duration": 15,
    "start_time": "2024-03-02T17:16:28.450Z"
   },
   {
    "duration": 8,
    "start_time": "2024-03-02T17:16:28.466Z"
   },
   {
    "duration": 16,
    "start_time": "2024-03-02T17:16:28.476Z"
   },
   {
    "duration": 5,
    "start_time": "2024-03-02T17:16:28.493Z"
   },
   {
    "duration": 4,
    "start_time": "2024-03-02T17:16:28.499Z"
   },
   {
    "duration": 8,
    "start_time": "2024-03-02T17:16:28.505Z"
   },
   {
    "duration": 7,
    "start_time": "2024-03-02T17:16:28.514Z"
   },
   {
    "duration": 6,
    "start_time": "2024-03-02T17:16:28.522Z"
   },
   {
    "duration": 11,
    "start_time": "2024-03-02T17:16:28.529Z"
   },
   {
    "duration": 50,
    "start_time": "2024-03-02T17:16:28.542Z"
   },
   {
    "duration": 16,
    "start_time": "2024-03-02T17:16:28.593Z"
   },
   {
    "duration": 471,
    "start_time": "2024-03-02T17:16:28.611Z"
   },
   {
    "duration": 200,
    "start_time": "2024-03-02T17:16:29.087Z"
   },
   {
    "duration": 324,
    "start_time": "2024-03-02T17:16:29.289Z"
   },
   {
    "duration": 315,
    "start_time": "2024-03-02T17:16:29.614Z"
   },
   {
    "duration": 293,
    "start_time": "2024-03-02T17:16:29.931Z"
   },
   {
    "duration": 133,
    "start_time": "2024-03-02T17:16:30.226Z"
   },
   {
    "duration": 6,
    "start_time": "2024-03-02T17:16:30.360Z"
   },
   {
    "duration": 205,
    "start_time": "2024-03-02T17:16:30.367Z"
   },
   {
    "duration": 27,
    "start_time": "2024-03-02T17:16:30.574Z"
   },
   {
    "duration": 488,
    "start_time": "2024-03-02T17:16:30.603Z"
   },
   {
    "duration": 12,
    "start_time": "2024-03-02T17:16:31.093Z"
   },
   {
    "duration": 110,
    "start_time": "2024-03-02T17:16:31.106Z"
   },
   {
    "duration": 120,
    "start_time": "2024-03-02T17:16:31.221Z"
   },
   {
    "duration": 28,
    "start_time": "2024-03-02T17:16:31.343Z"
   },
   {
    "duration": 3,
    "start_time": "2024-03-02T17:17:01.730Z"
   },
   {
    "duration": 293,
    "start_time": "2024-03-02T17:17:01.735Z"
   },
   {
    "duration": 93,
    "start_time": "2024-03-02T17:17:02.030Z"
   },
   {
    "duration": 52,
    "start_time": "2024-03-02T17:17:02.125Z"
   },
   {
    "duration": 82,
    "start_time": "2024-03-02T17:17:02.179Z"
   },
   {
    "duration": 272,
    "start_time": "2024-03-02T17:17:02.262Z"
   },
   {
    "duration": 67,
    "start_time": "2024-03-02T17:17:02.536Z"
   },
   {
    "duration": 140,
    "start_time": "2024-03-02T17:17:02.605Z"
   },
   {
    "duration": 43,
    "start_time": "2024-03-02T17:17:02.747Z"
   },
   {
    "duration": 109,
    "start_time": "2024-03-02T17:17:02.792Z"
   },
   {
    "duration": 71,
    "start_time": "2024-03-02T17:17:02.904Z"
   },
   {
    "duration": 78,
    "start_time": "2024-03-02T17:17:02.977Z"
   },
   {
    "duration": 20,
    "start_time": "2024-03-02T17:17:03.057Z"
   },
   {
    "duration": 34,
    "start_time": "2024-03-02T17:17:03.079Z"
   },
   {
    "duration": 22,
    "start_time": "2024-03-02T17:17:03.115Z"
   },
   {
    "duration": 35,
    "start_time": "2024-03-02T17:17:03.139Z"
   },
   {
    "duration": 478,
    "start_time": "2024-03-02T17:17:03.176Z"
   },
   {
    "duration": 199,
    "start_time": "2024-03-02T17:17:03.656Z"
   },
   {
    "duration": 332,
    "start_time": "2024-03-02T17:17:03.857Z"
   },
   {
    "duration": 217,
    "start_time": "2024-03-02T17:17:04.191Z"
   },
   {
    "duration": 299,
    "start_time": "2024-03-02T17:17:04.409Z"
   },
   {
    "duration": 131,
    "start_time": "2024-03-02T17:17:04.710Z"
   },
   {
    "duration": 5,
    "start_time": "2024-03-02T17:17:04.843Z"
   },
   {
    "duration": 153,
    "start_time": "2024-03-02T17:17:04.849Z"
   },
   {
    "duration": 5,
    "start_time": "2024-03-02T17:17:05.003Z"
   },
   {
    "duration": 452,
    "start_time": "2024-03-02T17:17:05.010Z"
   },
   {
    "duration": 11,
    "start_time": "2024-03-02T17:17:05.464Z"
   },
   {
    "duration": 12,
    "start_time": "2024-03-02T17:17:05.488Z"
   },
   {
    "duration": 30,
    "start_time": "2024-03-02T17:17:05.503Z"
   },
   {
    "duration": 14,
    "start_time": "2024-03-02T17:17:05.535Z"
   },
   {
    "duration": 5,
    "start_time": "2024-03-02T17:41:48.115Z"
   },
   {
    "duration": 295,
    "start_time": "2024-03-02T17:43:19.964Z"
   },
   {
    "duration": 450,
    "start_time": "2024-03-02T17:43:30.659Z"
   },
   {
    "duration": 472,
    "start_time": "2024-03-02T17:44:11.957Z"
   },
   {
    "duration": 195,
    "start_time": "2024-03-02T17:44:58.966Z"
   },
   {
    "duration": 337,
    "start_time": "2024-03-02T17:46:48.966Z"
   },
   {
    "duration": 202,
    "start_time": "2024-03-02T17:53:01.527Z"
   },
   {
    "duration": 333,
    "start_time": "2024-03-02T17:54:04.087Z"
   },
   {
    "duration": 8,
    "start_time": "2024-03-02T17:58:25.128Z"
   },
   {
    "duration": 8,
    "start_time": "2024-03-02T18:04:50.311Z"
   },
   {
    "duration": 10,
    "start_time": "2024-03-02T18:05:46.815Z"
   },
   {
    "duration": 4,
    "start_time": "2024-03-02T18:06:28.687Z"
   },
   {
    "duration": 92,
    "start_time": "2024-03-02T18:06:28.693Z"
   },
   {
    "duration": 10,
    "start_time": "2024-03-02T18:06:28.786Z"
   },
   {
    "duration": 31,
    "start_time": "2024-03-02T18:06:28.798Z"
   },
   {
    "duration": 18,
    "start_time": "2024-03-02T18:06:28.832Z"
   },
   {
    "duration": 23,
    "start_time": "2024-03-02T18:06:28.852Z"
   },
   {
    "duration": 24,
    "start_time": "2024-03-02T18:06:28.877Z"
   },
   {
    "duration": 20,
    "start_time": "2024-03-02T18:06:28.904Z"
   },
   {
    "duration": 26,
    "start_time": "2024-03-02T18:06:28.927Z"
   },
   {
    "duration": 10,
    "start_time": "2024-03-02T18:06:28.957Z"
   },
   {
    "duration": 10,
    "start_time": "2024-03-02T18:06:28.969Z"
   },
   {
    "duration": 9,
    "start_time": "2024-03-02T18:06:28.981Z"
   },
   {
    "duration": 11,
    "start_time": "2024-03-02T18:06:28.992Z"
   },
   {
    "duration": 13,
    "start_time": "2024-03-02T18:06:29.005Z"
   },
   {
    "duration": 14,
    "start_time": "2024-03-02T18:06:29.020Z"
   },
   {
    "duration": 21,
    "start_time": "2024-03-02T18:06:29.036Z"
   },
   {
    "duration": 503,
    "start_time": "2024-03-02T18:06:29.060Z"
   },
   {
    "duration": 203,
    "start_time": "2024-03-02T18:06:29.564Z"
   },
   {
    "duration": 328,
    "start_time": "2024-03-02T18:06:29.768Z"
   },
   {
    "duration": 222,
    "start_time": "2024-03-02T18:06:30.098Z"
   },
   {
    "duration": 386,
    "start_time": "2024-03-02T18:06:30.322Z"
   },
   {
    "duration": 136,
    "start_time": "2024-03-02T18:06:30.710Z"
   },
   {
    "duration": 5,
    "start_time": "2024-03-02T18:06:30.848Z"
   },
   {
    "duration": 184,
    "start_time": "2024-03-02T18:06:30.855Z"
   },
   {
    "duration": 6,
    "start_time": "2024-03-02T18:06:31.040Z"
   },
   {
    "duration": 486,
    "start_time": "2024-03-02T18:06:31.047Z"
   },
   {
    "duration": 36,
    "start_time": "2024-03-02T18:06:31.535Z"
   },
   {
    "duration": 165,
    "start_time": "2024-03-02T18:06:31.574Z"
   },
   {
    "duration": 104,
    "start_time": "2024-03-02T18:06:31.741Z"
   },
   {
    "duration": 158,
    "start_time": "2024-03-02T18:06:31.847Z"
   },
   {
    "duration": 58,
    "start_time": "2024-03-02T18:06:32.006Z"
   },
   {
    "duration": 58,
    "start_time": "2024-03-02T18:06:32.065Z"
   },
   {
    "duration": 515,
    "start_time": "2024-03-02T18:06:32.125Z"
   },
   {
    "duration": 209,
    "start_time": "2024-03-02T18:06:32.642Z"
   },
   {
    "duration": 336,
    "start_time": "2024-03-02T18:06:32.853Z"
   },
   {
    "duration": 213,
    "start_time": "2024-03-02T18:06:33.192Z"
   },
   {
    "duration": 313,
    "start_time": "2024-03-02T18:06:33.407Z"
   },
   {
    "duration": 8,
    "start_time": "2024-03-02T18:07:46.951Z"
   },
   {
    "duration": 4,
    "start_time": "2024-03-02T18:10:30.708Z"
   },
   {
    "duration": 137,
    "start_time": "2024-03-02T18:10:30.714Z"
   },
   {
    "duration": 9,
    "start_time": "2024-03-02T18:10:30.853Z"
   },
   {
    "duration": 61,
    "start_time": "2024-03-02T18:10:30.864Z"
   },
   {
    "duration": 44,
    "start_time": "2024-03-02T18:10:30.927Z"
   },
   {
    "duration": 52,
    "start_time": "2024-03-02T18:10:30.973Z"
   },
   {
    "duration": 42,
    "start_time": "2024-03-02T18:10:31.027Z"
   },
   {
    "duration": 47,
    "start_time": "2024-03-02T18:10:31.071Z"
   },
   {
    "duration": 50,
    "start_time": "2024-03-02T18:10:31.120Z"
   },
   {
    "duration": 45,
    "start_time": "2024-03-02T18:10:31.172Z"
   },
   {
    "duration": 77,
    "start_time": "2024-03-02T18:10:31.220Z"
   },
   {
    "duration": 80,
    "start_time": "2024-03-02T18:10:31.299Z"
   },
   {
    "duration": 74,
    "start_time": "2024-03-02T18:10:31.381Z"
   },
   {
    "duration": 107,
    "start_time": "2024-03-02T18:10:31.456Z"
   },
   {
    "duration": 79,
    "start_time": "2024-03-02T18:10:31.565Z"
   },
   {
    "duration": 110,
    "start_time": "2024-03-02T18:10:31.645Z"
   },
   {
    "duration": 562,
    "start_time": "2024-03-02T18:10:31.757Z"
   },
   {
    "duration": 207,
    "start_time": "2024-03-02T18:10:32.322Z"
   },
   {
    "duration": 374,
    "start_time": "2024-03-02T18:10:32.530Z"
   },
   {
    "duration": 208,
    "start_time": "2024-03-02T18:10:32.905Z"
   },
   {
    "duration": 296,
    "start_time": "2024-03-02T18:10:33.115Z"
   },
   {
    "duration": 138,
    "start_time": "2024-03-02T18:10:33.413Z"
   },
   {
    "duration": 6,
    "start_time": "2024-03-02T18:10:33.553Z"
   },
   {
    "duration": 156,
    "start_time": "2024-03-02T18:10:33.561Z"
   },
   {
    "duration": 5,
    "start_time": "2024-03-02T18:10:33.719Z"
   },
   {
    "duration": 398,
    "start_time": "2024-03-02T18:10:33.726Z"
   },
   {
    "duration": 12,
    "start_time": "2024-03-02T18:10:34.125Z"
   },
   {
    "duration": 11,
    "start_time": "2024-03-02T18:10:34.139Z"
   },
   {
    "duration": 56,
    "start_time": "2024-03-02T18:10:34.153Z"
   },
   {
    "duration": 15,
    "start_time": "2024-03-02T18:10:34.211Z"
   },
   {
    "duration": 9,
    "start_time": "2024-03-02T18:10:34.228Z"
   },
   {
    "duration": 11,
    "start_time": "2024-03-02T18:10:34.239Z"
   },
   {
    "duration": 7,
    "start_time": "2024-03-02T18:10:34.252Z"
   },
   {
    "duration": 33,
    "start_time": "2024-03-02T18:10:34.261Z"
   },
   {
    "duration": 0,
    "start_time": "2024-03-02T18:10:34.296Z"
   },
   {
    "duration": 0,
    "start_time": "2024-03-02T18:10:34.297Z"
   },
   {
    "duration": 0,
    "start_time": "2024-03-02T18:10:34.298Z"
   },
   {
    "duration": 0,
    "start_time": "2024-03-02T18:10:34.299Z"
   },
   {
    "duration": 0,
    "start_time": "2024-03-02T18:10:34.300Z"
   },
   {
    "duration": 4,
    "start_time": "2024-03-02T18:11:57.887Z"
   },
   {
    "duration": 540,
    "start_time": "2024-03-02T18:12:39.516Z"
   },
   {
    "duration": 217,
    "start_time": "2024-03-02T18:12:45.345Z"
   },
   {
    "duration": 308,
    "start_time": "2024-03-02T18:12:59.482Z"
   },
   {
    "duration": 209,
    "start_time": "2024-03-02T18:13:08.013Z"
   },
   {
    "duration": 291,
    "start_time": "2024-03-02T18:13:13.209Z"
   },
   {
    "duration": 282,
    "start_time": "2024-03-02T18:14:51.842Z"
   },
   {
    "duration": 290,
    "start_time": "2024-03-02T18:15:51.989Z"
   },
   {
    "duration": 211,
    "start_time": "2024-03-02T18:16:04.935Z"
   },
   {
    "duration": 223,
    "start_time": "2024-03-02T18:17:29.541Z"
   },
   {
    "duration": 102,
    "start_time": "2024-03-02T18:17:52.701Z"
   },
   {
    "duration": 322,
    "start_time": "2024-03-02T18:17:58.814Z"
   },
   {
    "duration": 336,
    "start_time": "2024-03-02T18:18:20.486Z"
   },
   {
    "duration": 326,
    "start_time": "2024-03-02T18:18:59.808Z"
   },
   {
    "duration": 340,
    "start_time": "2024-03-02T18:19:07.443Z"
   },
   {
    "duration": 4,
    "start_time": "2024-03-02T19:19:50.044Z"
   },
   {
    "duration": 79,
    "start_time": "2024-03-02T19:19:50.050Z"
   },
   {
    "duration": 9,
    "start_time": "2024-03-02T19:19:50.131Z"
   },
   {
    "duration": 19,
    "start_time": "2024-03-02T19:19:50.142Z"
   },
   {
    "duration": 10,
    "start_time": "2024-03-02T19:19:50.163Z"
   },
   {
    "duration": 14,
    "start_time": "2024-03-02T19:19:50.175Z"
   },
   {
    "duration": 19,
    "start_time": "2024-03-02T19:19:50.191Z"
   },
   {
    "duration": 13,
    "start_time": "2024-03-02T19:19:50.212Z"
   },
   {
    "duration": 13,
    "start_time": "2024-03-02T19:19:50.227Z"
   },
   {
    "duration": 15,
    "start_time": "2024-03-02T19:19:50.241Z"
   },
   {
    "duration": 9,
    "start_time": "2024-03-02T19:19:50.257Z"
   },
   {
    "duration": 11,
    "start_time": "2024-03-02T19:19:50.268Z"
   },
   {
    "duration": 12,
    "start_time": "2024-03-02T19:19:50.287Z"
   },
   {
    "duration": 23,
    "start_time": "2024-03-02T19:19:50.300Z"
   },
   {
    "duration": 19,
    "start_time": "2024-03-02T19:19:50.325Z"
   },
   {
    "duration": 482,
    "start_time": "2024-03-02T19:19:50.346Z"
   },
   {
    "duration": 198,
    "start_time": "2024-03-02T19:19:50.830Z"
   },
   {
    "duration": 290,
    "start_time": "2024-03-02T19:19:51.029Z"
   },
   {
    "duration": 207,
    "start_time": "2024-03-02T19:19:51.321Z"
   },
   {
    "duration": 380,
    "start_time": "2024-03-02T19:19:51.530Z"
   },
   {
    "duration": 132,
    "start_time": "2024-03-02T19:19:51.912Z"
   },
   {
    "duration": 5,
    "start_time": "2024-03-02T19:19:52.046Z"
   },
   {
    "duration": 151,
    "start_time": "2024-03-02T19:19:52.053Z"
   },
   {
    "duration": 5,
    "start_time": "2024-03-02T19:19:52.206Z"
   },
   {
    "duration": 373,
    "start_time": "2024-03-02T19:19:52.212Z"
   },
   {
    "duration": 12,
    "start_time": "2024-03-02T19:19:52.587Z"
   },
   {
    "duration": 13,
    "start_time": "2024-03-02T19:19:52.600Z"
   },
   {
    "duration": 34,
    "start_time": "2024-03-02T19:19:52.614Z"
   },
   {
    "duration": 38,
    "start_time": "2024-03-02T19:19:52.650Z"
   },
   {
    "duration": 4,
    "start_time": "2024-03-02T19:19:52.690Z"
   },
   {
    "duration": 496,
    "start_time": "2024-03-02T19:19:52.695Z"
   },
   {
    "duration": 213,
    "start_time": "2024-03-02T19:19:53.192Z"
   },
   {
    "duration": 298,
    "start_time": "2024-03-02T19:19:53.406Z"
   },
   {
    "duration": 217,
    "start_time": "2024-03-02T19:19:53.705Z"
   },
   {
    "duration": 307,
    "start_time": "2024-03-02T19:19:53.924Z"
   },
   {
    "duration": 57,
    "start_time": "2024-03-04T07:16:27.219Z"
   },
   {
    "duration": 1547,
    "start_time": "2024-03-04T07:16:37.469Z"
   },
   {
    "duration": 193,
    "start_time": "2024-03-04T07:16:39.018Z"
   },
   {
    "duration": 13,
    "start_time": "2024-03-04T07:16:39.213Z"
   },
   {
    "duration": 16,
    "start_time": "2024-03-04T07:16:39.228Z"
   },
   {
    "duration": 15,
    "start_time": "2024-03-04T07:16:39.246Z"
   },
   {
    "duration": 19,
    "start_time": "2024-03-04T07:16:39.263Z"
   },
   {
    "duration": 29,
    "start_time": "2024-03-04T07:16:39.284Z"
   },
   {
    "duration": 12,
    "start_time": "2024-03-04T07:16:39.314Z"
   },
   {
    "duration": 4,
    "start_time": "2024-03-04T07:16:39.328Z"
   },
   {
    "duration": 5,
    "start_time": "2024-03-04T07:16:39.334Z"
   },
   {
    "duration": 9,
    "start_time": "2024-03-04T07:16:39.341Z"
   },
   {
    "duration": 9,
    "start_time": "2024-03-04T07:16:39.352Z"
   },
   {
    "duration": 28,
    "start_time": "2024-03-04T07:16:39.362Z"
   },
   {
    "duration": 14,
    "start_time": "2024-03-04T07:16:39.392Z"
   },
   {
    "duration": 57,
    "start_time": "2024-03-04T07:16:39.408Z"
   },
   {
    "duration": 573,
    "start_time": "2024-03-04T07:16:39.467Z"
   },
   {
    "duration": 192,
    "start_time": "2024-03-04T07:16:40.042Z"
   },
   {
    "duration": 406,
    "start_time": "2024-03-04T07:16:40.236Z"
   },
   {
    "duration": 215,
    "start_time": "2024-03-04T07:16:40.644Z"
   },
   {
    "duration": 325,
    "start_time": "2024-03-04T07:16:40.861Z"
   },
   {
    "duration": 133,
    "start_time": "2024-03-04T07:16:41.188Z"
   },
   {
    "duration": 5,
    "start_time": "2024-03-04T07:16:41.322Z"
   },
   {
    "duration": 152,
    "start_time": "2024-03-04T07:16:41.328Z"
   },
   {
    "duration": 6,
    "start_time": "2024-03-04T07:16:41.482Z"
   },
   {
    "duration": 401,
    "start_time": "2024-03-04T07:16:41.490Z"
   },
   {
    "duration": 11,
    "start_time": "2024-03-04T07:16:41.893Z"
   },
   {
    "duration": 23,
    "start_time": "2024-03-04T07:16:41.906Z"
   },
   {
    "duration": 33,
    "start_time": "2024-03-04T07:16:41.932Z"
   },
   {
    "duration": 17,
    "start_time": "2024-03-04T07:16:41.979Z"
   },
   {
    "duration": 5,
    "start_time": "2024-03-04T07:16:41.998Z"
   },
   {
    "duration": 601,
    "start_time": "2024-03-04T07:16:42.005Z"
   },
   {
    "duration": 207,
    "start_time": "2024-03-04T07:16:42.608Z"
   },
   {
    "duration": 296,
    "start_time": "2024-03-04T07:16:42.817Z"
   },
   {
    "duration": 221,
    "start_time": "2024-03-04T07:16:43.115Z"
   },
   {
    "duration": 406,
    "start_time": "2024-03-04T07:16:43.338Z"
   },
   {
    "duration": 3,
    "start_time": "2024-03-04T07:17:46.952Z"
   },
   {
    "duration": 79,
    "start_time": "2024-03-04T07:17:46.960Z"
   },
   {
    "duration": 8,
    "start_time": "2024-03-04T07:17:47.043Z"
   },
   {
    "duration": 12,
    "start_time": "2024-03-04T07:17:47.054Z"
   },
   {
    "duration": 14,
    "start_time": "2024-03-04T07:17:47.068Z"
   },
   {
    "duration": 35,
    "start_time": "2024-03-04T07:17:47.085Z"
   },
   {
    "duration": 13,
    "start_time": "2024-03-04T07:17:47.123Z"
   },
   {
    "duration": 16,
    "start_time": "2024-03-04T07:17:47.138Z"
   },
   {
    "duration": 25,
    "start_time": "2024-03-04T07:17:47.156Z"
   },
   {
    "duration": 13,
    "start_time": "2024-03-04T07:17:47.183Z"
   },
   {
    "duration": 28,
    "start_time": "2024-03-04T07:17:47.198Z"
   },
   {
    "duration": 14,
    "start_time": "2024-03-04T07:17:47.228Z"
   },
   {
    "duration": 15,
    "start_time": "2024-03-04T07:17:47.244Z"
   },
   {
    "duration": 32,
    "start_time": "2024-03-04T07:17:47.261Z"
   },
   {
    "duration": 14,
    "start_time": "2024-03-04T07:17:47.297Z"
   },
   {
    "duration": 500,
    "start_time": "2024-03-04T07:17:47.313Z"
   },
   {
    "duration": 204,
    "start_time": "2024-03-04T07:17:47.815Z"
   },
   {
    "duration": 304,
    "start_time": "2024-03-04T07:17:48.021Z"
   },
   {
    "duration": 216,
    "start_time": "2024-03-04T07:17:48.327Z"
   },
   {
    "duration": 376,
    "start_time": "2024-03-04T07:17:48.545Z"
   },
   {
    "duration": 131,
    "start_time": "2024-03-04T07:17:48.923Z"
   },
   {
    "duration": 4,
    "start_time": "2024-03-04T07:17:49.056Z"
   },
   {
    "duration": 233,
    "start_time": "2024-03-04T07:17:49.062Z"
   },
   {
    "duration": 5,
    "start_time": "2024-03-04T07:17:49.297Z"
   },
   {
    "duration": 392,
    "start_time": "2024-03-04T07:17:49.303Z"
   },
   {
    "duration": 12,
    "start_time": "2024-03-04T07:17:49.696Z"
   },
   {
    "duration": 9,
    "start_time": "2024-03-04T07:17:49.709Z"
   },
   {
    "duration": 32,
    "start_time": "2024-03-04T07:17:49.720Z"
   },
   {
    "duration": 41,
    "start_time": "2024-03-04T07:17:49.754Z"
   },
   {
    "duration": 5,
    "start_time": "2024-03-04T07:17:49.797Z"
   },
   {
    "duration": 528,
    "start_time": "2024-03-04T07:17:49.803Z"
   },
   {
    "duration": 219,
    "start_time": "2024-03-04T07:17:50.333Z"
   },
   {
    "duration": 363,
    "start_time": "2024-03-04T07:17:50.553Z"
   },
   {
    "duration": 225,
    "start_time": "2024-03-04T07:17:50.917Z"
   },
   {
    "duration": 379,
    "start_time": "2024-03-04T07:17:51.144Z"
   },
   {
    "duration": 20,
    "start_time": "2024-03-04T07:18:44.642Z"
   },
   {
    "duration": 1196,
    "start_time": "2024-03-04T07:18:58.066Z"
   },
   {
    "duration": 77,
    "start_time": "2024-03-04T07:18:59.264Z"
   },
   {
    "duration": 12,
    "start_time": "2024-03-04T07:18:59.342Z"
   },
   {
    "duration": 11,
    "start_time": "2024-03-04T07:18:59.356Z"
   },
   {
    "duration": 16,
    "start_time": "2024-03-04T07:18:59.368Z"
   },
   {
    "duration": 15,
    "start_time": "2024-03-04T07:18:59.385Z"
   },
   {
    "duration": 9,
    "start_time": "2024-03-04T07:18:59.401Z"
   },
   {
    "duration": 21,
    "start_time": "2024-03-04T07:18:59.411Z"
   },
   {
    "duration": 10,
    "start_time": "2024-03-04T07:18:59.433Z"
   },
   {
    "duration": 10,
    "start_time": "2024-03-04T07:18:59.445Z"
   },
   {
    "duration": 24,
    "start_time": "2024-03-04T07:18:59.457Z"
   },
   {
    "duration": 6,
    "start_time": "2024-03-04T07:18:59.482Z"
   },
   {
    "duration": 27,
    "start_time": "2024-03-04T07:18:59.490Z"
   },
   {
    "duration": 15,
    "start_time": "2024-03-04T07:18:59.519Z"
   },
   {
    "duration": 17,
    "start_time": "2024-03-04T07:18:59.535Z"
   },
   {
    "duration": 600,
    "start_time": "2024-03-04T07:18:59.553Z"
   },
   {
    "duration": 201,
    "start_time": "2024-03-04T07:19:00.155Z"
   },
   {
    "duration": 339,
    "start_time": "2024-03-04T07:19:00.357Z"
   },
   {
    "duration": 212,
    "start_time": "2024-03-04T07:19:00.698Z"
   },
   {
    "duration": 302,
    "start_time": "2024-03-04T07:19:00.912Z"
   },
   {
    "duration": 142,
    "start_time": "2024-03-04T07:19:01.217Z"
   },
   {
    "duration": 18,
    "start_time": "2024-03-04T07:19:01.361Z"
   },
   {
    "duration": 279,
    "start_time": "2024-03-04T07:19:01.381Z"
   },
   {
    "duration": 5,
    "start_time": "2024-03-04T07:19:01.662Z"
   },
   {
    "duration": 426,
    "start_time": "2024-03-04T07:19:01.668Z"
   },
   {
    "duration": 74,
    "start_time": "2024-03-04T07:19:02.096Z"
   },
   {
    "duration": 89,
    "start_time": "2024-03-04T07:19:02.171Z"
   },
   {
    "duration": 216,
    "start_time": "2024-03-04T07:19:02.263Z"
   },
   {
    "duration": 457,
    "start_time": "2024-03-04T07:19:02.481Z"
   },
   {
    "duration": 55,
    "start_time": "2024-03-04T07:19:02.940Z"
   },
   {
    "duration": 556,
    "start_time": "2024-03-04T07:19:02.996Z"
   },
   {
    "duration": 207,
    "start_time": "2024-03-04T07:19:03.554Z"
   },
   {
    "duration": 329,
    "start_time": "2024-03-04T07:19:03.763Z"
   },
   {
    "duration": 228,
    "start_time": "2024-03-04T07:19:04.094Z"
   },
   {
    "duration": 311,
    "start_time": "2024-03-04T07:19:04.324Z"
   },
   {
    "duration": 15,
    "start_time": "2024-03-04T07:21:06.175Z"
   },
   {
    "duration": 13,
    "start_time": "2024-03-04T07:22:25.138Z"
   },
   {
    "duration": 13,
    "start_time": "2024-03-04T07:22:50.805Z"
   },
   {
    "duration": 3,
    "start_time": "2024-03-04T07:23:09.057Z"
   },
   {
    "duration": 76,
    "start_time": "2024-03-04T07:23:09.062Z"
   },
   {
    "duration": 8,
    "start_time": "2024-03-04T07:23:09.139Z"
   },
   {
    "duration": 12,
    "start_time": "2024-03-04T07:23:09.149Z"
   },
   {
    "duration": 9,
    "start_time": "2024-03-04T07:23:09.163Z"
   },
   {
    "duration": 15,
    "start_time": "2024-03-04T07:23:09.174Z"
   },
   {
    "duration": 8,
    "start_time": "2024-03-04T07:23:09.190Z"
   },
   {
    "duration": 13,
    "start_time": "2024-03-04T07:23:09.201Z"
   },
   {
    "duration": 5,
    "start_time": "2024-03-04T07:23:09.217Z"
   },
   {
    "duration": 22,
    "start_time": "2024-03-04T07:23:09.224Z"
   },
   {
    "duration": 9,
    "start_time": "2024-03-04T07:23:09.248Z"
   },
   {
    "duration": 5,
    "start_time": "2024-03-04T07:23:09.258Z"
   },
   {
    "duration": 12,
    "start_time": "2024-03-04T07:23:09.281Z"
   },
   {
    "duration": 20,
    "start_time": "2024-03-04T07:23:09.295Z"
   },
   {
    "duration": 15,
    "start_time": "2024-03-04T07:23:09.317Z"
   },
   {
    "duration": 510,
    "start_time": "2024-03-04T07:23:09.333Z"
   },
   {
    "duration": 208,
    "start_time": "2024-03-04T07:23:09.845Z"
   },
   {
    "duration": 344,
    "start_time": "2024-03-04T07:23:10.054Z"
   },
   {
    "duration": 233,
    "start_time": "2024-03-04T07:23:10.399Z"
   },
   {
    "duration": 305,
    "start_time": "2024-03-04T07:23:10.634Z"
   },
   {
    "duration": 139,
    "start_time": "2024-03-04T07:23:10.941Z"
   },
   {
    "duration": 5,
    "start_time": "2024-03-04T07:23:11.081Z"
   },
   {
    "duration": 230,
    "start_time": "2024-03-04T07:23:11.088Z"
   },
   {
    "duration": 4,
    "start_time": "2024-03-04T07:23:11.322Z"
   },
   {
    "duration": 386,
    "start_time": "2024-03-04T07:23:11.328Z"
   },
   {
    "duration": 11,
    "start_time": "2024-03-04T07:23:11.715Z"
   },
   {
    "duration": 12,
    "start_time": "2024-03-04T07:23:11.728Z"
   },
   {
    "duration": 77,
    "start_time": "2024-03-04T07:23:11.742Z"
   },
   {
    "duration": 15,
    "start_time": "2024-03-04T07:23:11.821Z"
   },
   {
    "duration": 6,
    "start_time": "2024-03-04T07:23:11.838Z"
   },
   {
    "duration": 540,
    "start_time": "2024-03-04T07:23:11.847Z"
   },
   {
    "duration": 243,
    "start_time": "2024-03-04T07:23:12.390Z"
   },
   {
    "duration": 294,
    "start_time": "2024-03-04T07:23:12.635Z"
   },
   {
    "duration": 221,
    "start_time": "2024-03-04T07:23:12.930Z"
   },
   {
    "duration": 352,
    "start_time": "2024-03-04T07:23:13.153Z"
   },
   {
    "duration": 14,
    "start_time": "2024-03-04T07:24:52.015Z"
   },
   {
    "duration": 487,
    "start_time": "2024-03-04T07:33:45.769Z"
   },
   {
    "duration": 537,
    "start_time": "2024-03-04T07:34:10.511Z"
   },
   {
    "duration": 500,
    "start_time": "2024-03-04T07:35:09.495Z"
   },
   {
    "duration": 217,
    "start_time": "2024-03-04T07:35:23.087Z"
   },
   {
    "duration": 400,
    "start_time": "2024-03-04T08:03:38.311Z"
   },
   {
    "duration": 292,
    "start_time": "2024-03-04T08:04:02.424Z"
   },
   {
    "duration": 332,
    "start_time": "2024-03-04T08:04:08.086Z"
   },
   {
    "duration": 286,
    "start_time": "2024-03-04T08:05:03.422Z"
   },
   {
    "duration": 203,
    "start_time": "2024-03-04T08:06:13.768Z"
   },
   {
    "duration": 229,
    "start_time": "2024-03-04T08:06:48.926Z"
   },
   {
    "duration": 329,
    "start_time": "2024-03-04T08:07:39.437Z"
   },
   {
    "duration": 333,
    "start_time": "2024-03-04T08:08:08.173Z"
   },
   {
    "duration": 330,
    "start_time": "2024-03-04T08:09:54.277Z"
   },
   {
    "duration": 133,
    "start_time": "2024-03-04T08:11:19.261Z"
   },
   {
    "duration": 497,
    "start_time": "2024-03-04T08:12:22.840Z"
   },
   {
    "duration": 302,
    "start_time": "2024-03-04T08:13:08.502Z"
   },
   {
    "duration": 218,
    "start_time": "2024-03-04T08:13:58.215Z"
   },
   {
    "duration": 226,
    "start_time": "2024-03-04T08:14:24.114Z"
   },
   {
    "duration": 319,
    "start_time": "2024-03-04T08:14:59.491Z"
   },
   {
    "duration": 216,
    "start_time": "2024-03-04T08:15:46.813Z"
   },
   {
    "duration": 243,
    "start_time": "2024-03-04T08:16:02.539Z"
   },
   {
    "duration": 213,
    "start_time": "2024-03-04T08:16:29.198Z"
   },
   {
    "duration": 149,
    "start_time": "2024-03-04T08:17:23.469Z"
   },
   {
    "duration": 3,
    "start_time": "2024-03-04T08:17:31.375Z"
   },
   {
    "duration": 119,
    "start_time": "2024-03-04T08:17:31.380Z"
   },
   {
    "duration": 9,
    "start_time": "2024-03-04T08:17:31.500Z"
   },
   {
    "duration": 65,
    "start_time": "2024-03-04T08:17:31.511Z"
   },
   {
    "duration": 47,
    "start_time": "2024-03-04T08:17:31.578Z"
   },
   {
    "duration": 48,
    "start_time": "2024-03-04T08:17:31.627Z"
   },
   {
    "duration": 51,
    "start_time": "2024-03-04T08:17:31.677Z"
   },
   {
    "duration": 46,
    "start_time": "2024-03-04T08:17:31.730Z"
   },
   {
    "duration": 26,
    "start_time": "2024-03-04T08:17:31.780Z"
   },
   {
    "duration": 13,
    "start_time": "2024-03-04T08:17:31.808Z"
   },
   {
    "duration": 49,
    "start_time": "2024-03-04T08:17:31.823Z"
   },
   {
    "duration": 44,
    "start_time": "2024-03-04T08:17:31.874Z"
   },
   {
    "duration": 45,
    "start_time": "2024-03-04T08:17:31.920Z"
   },
   {
    "duration": 39,
    "start_time": "2024-03-04T08:17:31.967Z"
   },
   {
    "duration": 29,
    "start_time": "2024-03-04T08:17:32.008Z"
   },
   {
    "duration": 518,
    "start_time": "2024-03-04T08:17:32.039Z"
   },
   {
    "duration": 228,
    "start_time": "2024-03-04T08:17:32.559Z"
   },
   {
    "duration": 415,
    "start_time": "2024-03-04T08:17:32.789Z"
   },
   {
    "duration": 229,
    "start_time": "2024-03-04T08:17:33.206Z"
   },
   {
    "duration": 321,
    "start_time": "2024-03-04T08:17:33.437Z"
   },
   {
    "duration": 141,
    "start_time": "2024-03-04T08:17:33.760Z"
   },
   {
    "duration": 5,
    "start_time": "2024-03-04T08:17:33.902Z"
   },
   {
    "duration": 163,
    "start_time": "2024-03-04T08:17:33.909Z"
   },
   {
    "duration": 5,
    "start_time": "2024-03-04T08:17:34.079Z"
   },
   {
    "duration": 387,
    "start_time": "2024-03-04T08:17:34.086Z"
   },
   {
    "duration": 16,
    "start_time": "2024-03-04T08:17:34.475Z"
   },
   {
    "duration": 24,
    "start_time": "2024-03-04T08:17:34.493Z"
   },
   {
    "duration": 36,
    "start_time": "2024-03-04T08:17:34.519Z"
   },
   {
    "duration": 30,
    "start_time": "2024-03-04T08:17:34.556Z"
   },
   {
    "duration": 5,
    "start_time": "2024-03-04T08:17:34.588Z"
   },
   {
    "duration": 529,
    "start_time": "2024-03-04T08:17:34.595Z"
   },
   {
    "duration": 219,
    "start_time": "2024-03-04T08:17:35.125Z"
   },
   {
    "duration": 365,
    "start_time": "2024-03-04T08:17:35.345Z"
   },
   {
    "duration": 230,
    "start_time": "2024-03-04T08:17:35.712Z"
   },
   {
    "duration": 362,
    "start_time": "2024-03-04T08:17:35.943Z"
   },
   {
    "duration": 370,
    "start_time": "2024-03-04T08:18:28.648Z"
   },
   {
    "duration": 3,
    "start_time": "2024-03-04T08:18:57.106Z"
   },
   {
    "duration": 84,
    "start_time": "2024-03-04T08:18:57.112Z"
   },
   {
    "duration": 9,
    "start_time": "2024-03-04T08:18:57.197Z"
   },
   {
    "duration": 12,
    "start_time": "2024-03-04T08:18:57.209Z"
   },
   {
    "duration": 13,
    "start_time": "2024-03-04T08:18:57.223Z"
   },
   {
    "duration": 16,
    "start_time": "2024-03-04T08:18:57.238Z"
   },
   {
    "duration": 30,
    "start_time": "2024-03-04T08:18:57.256Z"
   },
   {
    "duration": 16,
    "start_time": "2024-03-04T08:18:57.289Z"
   },
   {
    "duration": 5,
    "start_time": "2024-03-04T08:18:57.307Z"
   },
   {
    "duration": 9,
    "start_time": "2024-03-04T08:18:57.313Z"
   },
   {
    "duration": 102,
    "start_time": "2024-03-04T08:18:57.323Z"
   },
   {
    "duration": 5,
    "start_time": "2024-03-04T08:18:57.426Z"
   },
   {
    "duration": 12,
    "start_time": "2024-03-04T08:18:57.433Z"
   },
   {
    "duration": 37,
    "start_time": "2024-03-04T08:18:57.446Z"
   },
   {
    "duration": 14,
    "start_time": "2024-03-04T08:18:57.485Z"
   },
   {
    "duration": 491,
    "start_time": "2024-03-04T08:18:57.501Z"
   },
   {
    "duration": 224,
    "start_time": "2024-03-04T08:18:57.994Z"
   },
   {
    "duration": 301,
    "start_time": "2024-03-04T08:18:58.220Z"
   },
   {
    "duration": 234,
    "start_time": "2024-03-04T08:18:58.524Z"
   },
   {
    "duration": 345,
    "start_time": "2024-03-04T08:18:58.760Z"
   },
   {
    "duration": 140,
    "start_time": "2024-03-04T08:18:59.107Z"
   },
   {
    "duration": 4,
    "start_time": "2024-03-04T08:18:59.249Z"
   },
   {
    "duration": 154,
    "start_time": "2024-03-04T08:18:59.255Z"
   },
   {
    "duration": 5,
    "start_time": "2024-03-04T08:18:59.412Z"
   },
   {
    "duration": 395,
    "start_time": "2024-03-04T08:18:59.419Z"
   },
   {
    "duration": 13,
    "start_time": "2024-03-04T08:18:59.816Z"
   },
   {
    "duration": 15,
    "start_time": "2024-03-04T08:18:59.831Z"
   },
   {
    "duration": 46,
    "start_time": "2024-03-04T08:18:59.847Z"
   },
   {
    "duration": 15,
    "start_time": "2024-03-04T08:18:59.895Z"
   },
   {
    "duration": 6,
    "start_time": "2024-03-04T08:18:59.912Z"
   },
   {
    "duration": 508,
    "start_time": "2024-03-04T08:18:59.920Z"
   },
   {
    "duration": 246,
    "start_time": "2024-03-04T08:19:00.430Z"
   },
   {
    "duration": 339,
    "start_time": "2024-03-04T08:19:00.680Z"
   },
   {
    "duration": 344,
    "start_time": "2024-03-04T08:19:01.021Z"
   },
   {
    "duration": 387,
    "start_time": "2024-03-04T08:19:01.367Z"
   },
   {
    "duration": 51,
    "start_time": "2024-03-08T07:52:15.723Z"
   },
   {
    "duration": 1158,
    "start_time": "2024-03-08T07:52:27.653Z"
   },
   {
    "duration": 185,
    "start_time": "2024-03-08T07:52:28.814Z"
   },
   {
    "duration": 12,
    "start_time": "2024-03-08T07:52:29.001Z"
   },
   {
    "duration": 12,
    "start_time": "2024-03-08T07:52:29.015Z"
   },
   {
    "duration": 9,
    "start_time": "2024-03-08T07:52:29.029Z"
   },
   {
    "duration": 12,
    "start_time": "2024-03-08T07:52:29.040Z"
   },
   {
    "duration": 10,
    "start_time": "2024-03-08T07:52:29.054Z"
   },
   {
    "duration": 13,
    "start_time": "2024-03-08T07:52:29.066Z"
   },
   {
    "duration": 7,
    "start_time": "2024-03-08T07:52:29.081Z"
   },
   {
    "duration": 6,
    "start_time": "2024-03-08T07:52:29.122Z"
   },
   {
    "duration": 13,
    "start_time": "2024-03-08T07:52:29.130Z"
   },
   {
    "duration": 6,
    "start_time": "2024-03-08T07:52:29.145Z"
   },
   {
    "duration": 14,
    "start_time": "2024-03-08T07:52:29.152Z"
   },
   {
    "duration": 20,
    "start_time": "2024-03-08T07:52:29.167Z"
   },
   {
    "duration": 44,
    "start_time": "2024-03-08T07:52:29.189Z"
   },
   {
    "duration": 628,
    "start_time": "2024-03-08T07:52:29.235Z"
   },
   {
    "duration": 222,
    "start_time": "2024-03-08T07:52:29.865Z"
   },
   {
    "duration": 362,
    "start_time": "2024-03-08T07:52:30.089Z"
   },
   {
    "duration": 234,
    "start_time": "2024-03-08T07:52:30.453Z"
   },
   {
    "duration": 372,
    "start_time": "2024-03-08T07:52:30.689Z"
   },
   {
    "duration": 153,
    "start_time": "2024-03-08T07:52:31.063Z"
   },
   {
    "duration": 5,
    "start_time": "2024-03-08T07:52:31.223Z"
   },
   {
    "duration": 206,
    "start_time": "2024-03-08T07:52:31.230Z"
   },
   {
    "duration": 5,
    "start_time": "2024-03-08T07:52:31.438Z"
   },
   {
    "duration": 432,
    "start_time": "2024-03-08T07:52:31.445Z"
   },
   {
    "duration": 12,
    "start_time": "2024-03-08T07:52:31.879Z"
   },
   {
    "duration": 26,
    "start_time": "2024-03-08T07:52:31.893Z"
   },
   {
    "duration": 39,
    "start_time": "2024-03-08T07:52:31.923Z"
   },
   {
    "duration": 25,
    "start_time": "2024-03-08T07:52:31.963Z"
   },
   {
    "duration": 52,
    "start_time": "2024-03-08T07:52:31.990Z"
   },
   {
    "duration": 609,
    "start_time": "2024-03-08T07:52:32.044Z"
   },
   {
    "duration": 229,
    "start_time": "2024-03-08T07:52:32.655Z"
   },
   {
    "duration": 358,
    "start_time": "2024-03-08T07:52:32.886Z"
   },
   {
    "duration": 242,
    "start_time": "2024-03-08T07:52:33.245Z"
   },
   {
    "duration": 405,
    "start_time": "2024-03-08T07:52:33.489Z"
   },
   {
    "duration": 5,
    "start_time": "2024-03-08T07:53:22.129Z"
   }
  ],
  "kernelspec": {
   "display_name": "Python 3 (ipykernel)",
   "language": "python",
   "name": "python3"
  },
  "language_info": {
   "codemirror_mode": {
    "name": "ipython",
    "version": 3
   },
   "file_extension": ".py",
   "mimetype": "text/x-python",
   "name": "python",
   "nbconvert_exporter": "python",
   "pygments_lexer": "ipython3",
   "version": "3.12.0"
  },
  "toc": {
   "base_numbering": 1,
   "nav_menu": {},
   "number_sections": true,
   "sideBar": true,
   "skip_h1_title": true,
   "title_cell": "Table of Contents",
   "title_sidebar": "Contents",
   "toc_cell": false,
   "toc_position": {},
   "toc_section_display": true,
   "toc_window_display": false
  }
 },
 "nbformat": 4,
 "nbformat_minor": 4
}
