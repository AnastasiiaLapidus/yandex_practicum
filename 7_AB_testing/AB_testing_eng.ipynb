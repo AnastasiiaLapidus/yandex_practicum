{
 "cells": [
  {
   "cell_type": "markdown",
   "metadata": {},
   "source": [
    "# Study on Increasing Revenue for an Online Store"
   ]
  },
  {
   "cell_type": "markdown",
   "metadata": {},
   "source": [
    "Employees of the online store have prepared a list of hypotheses to increase revenue. The purpose of this study is to prioritize the hypotheses and analyze the results of an A/B test to evaluate the effectiveness of changes on the web platform/business processes.\n",
    "\n",
    "The analysis will focus on key metrics such as average order value, number of orders, and revenue to determine the impact of the implemented changes on user behavior. A comparative analysis of two groups - the control group (Group A) and the test group (Group B) - will be conducted. The study will examine how the planned changes may affect the key metrics, leading to a conclusion about the feasibility of further A/B testing and the permanent implementation of the planned changes."
   ]
  },
  {
   "cell_type": "markdown",
   "metadata": {},
   "source": [
    "**Research Objective:**  analyze the results of an A/B test to evaluate the effectiveness of changes on the web platform/business processes."
   ]
  },
  {
   "cell_type": "markdown",
   "metadata": {},
   "source": [
    "**Research Tasks:**\n",
    "\n",
    "- Assess the suitability of the initial data for further analysis and conduct data preprocessing.\n",
    "- Apply ICE and RICE frameworks to prioritize hypotheses and compare the results.\r",
    "- \n",
    "Determine cumulative revenue, number of orders, and average order value for the A/B test groups based on available dat.;- \r\n",
    "Identify anomalies in the data and establish anomaly boundari.s- ;\r\n",
    "Calculate the statistical significance of differences in average number of orders per visitor and average order value using the initial and anomaly-free d.t- a;\r\n",
    "Decide on the success of the A/B test and whether to conclude or continue it."
   ]
  },
  {
   "cell_type": "markdown",
   "metadata": {},
   "source": [
    "## Summary of the Analysis Results"
   ]
  },
  {
   "cell_type": "markdown",
   "metadata": {},
   "source": [
    "After removing outliers in the original data frames and based on the results of the Mann-Whitney test, the following conclusion can be drawn:\n",
    "\n",
    "- There is a statistically significant difference in the average number of orders between groups A and B, but no difference in the average order value.\n",
    "\n",
    "Users in group B placed almost 20% more orders compared to users in group A; however, by the end of the test, their average order value fell below that of group A.\n",
    "\n",
    "If testing continues:\n",
    "\n",
    "- If the average order value remains the same or increases, group B will emerge as the winner.\n",
    "- If the average order value in group B decreases relative to group A, the results may equalize or group A may take the lead."
   ]
  },
  {
   "cell_type": "markdown",
   "metadata": {},
   "source": [
    "## Data Overview "
   ]
  },
  {
   "cell_type": "markdown",
   "metadata": {},
   "source": [
    "Importing the necessary libraries for data analysis:"
   ]
  },
  {
   "cell_type": "code",
   "execution_count": 1,
   "metadata": {},
   "outputs": [],
   "source": [
    "import pandas as pd\n",
    "import datetime as dt\n",
    "import numpy as np\n",
    "import matplotlib.pyplot as plt\n",
    "import scipy.stats as stats\n",
    "import json"
   ]
  },
  {
   "cell_type": "markdown",
   "metadata": {},
   "source": [
    "Прочитаем файлы `hypothesis.csv`, `orders.csv`, `visitors.csv` с данными (путь к данным храниться в файле формата json) и сохраним их в соответствующих переменных:\n",
    "\n",
    "Reading the files `hypothesis.csv`, `orders.csv`, and `visitors.csv` with the data (the path to the data is stored in a JSON file) and saving them in the variables `hypothesis`, `orders`, `visitors`:"
   ]
  },
  {
   "cell_type": "code",
   "execution_count": 2,
   "metadata": {},
   "outputs": [],
   "source": [
    "# Reading of JSON file\n",
    "with open('config.json', 'r', encoding='utf-8') as f:\n",
    "    config = json.load(f)\n",
    " \n",
    "# Reading the CSV file using the path from the JSON file\n",
    "dataset_path_hypothesis = config['dataset_path_AB_hypothesis']\n",
    "dataset_path_orders = config['dataset_path_AB_orders']\n",
    "dataset_path_visitors = config['dataset_path_AB_visitors']\n",
    "hypothesis = pd.read_csv(dataset_path_hypothesis)\n",
    "orders = pd.read_csv(dataset_path_orders)\n",
    "visitors = pd.read_csv(dataset_path_visitors)"
   ]
  },
  {
   "cell_type": "markdown",
   "metadata": {},
   "source": [
    "Removing the restrictions on displaying the number of columns, rows, and column width."
   ]
  },
  {
   "cell_type": "code",
   "execution_count": 3,
   "metadata": {},
   "outputs": [],
   "source": [
    "pd.set_option('display.max_rows', None)\n",
    "pd.set_option('display.max_columns', None)\n",
    "pd.set_option('display.max_colwidth', None)"
   ]
  },
  {
   "cell_type": "markdown",
   "metadata": {},
   "source": [
    "Let's display the first few rows of the datasets and the overall information about the dataframes."
   ]
  },
  {
   "cell_type": "code",
   "execution_count": 4,
   "metadata": {},
   "outputs": [
    {
     "name": "stdout",
     "output_type": "stream",
     "text": [
      "Первые 5 строк датафрейма hypothesis:\n",
      "\n",
      "                                                                                                     Hypothesis  \\\n",
      "0            Добавить два новых канала привлечения трафика, что позволит привлекать на 30% больше пользователей   \n",
      "1                                     Запустить собственную службу доставки, что сократит срок доставки заказов   \n",
      "2  Добавить блоки рекомендаций товаров на сайт интернет магазина, чтобы повысить конверсию и средний чек заказа   \n",
      "3           Изменить структура категорий, что увеличит конверсию, т.к. пользователи быстрее найдут нужный товар   \n",
      "4                              Изменить цвет фона главной страницы, чтобы увеличить вовлеченность пользователей   \n",
      "\n",
      "   Reach  Impact  Confidence  Efforts  \n",
      "0      3      10           8        6  \n",
      "1      2       5           4       10  \n",
      "2      8       3           7        3  \n",
      "3      8       3           3        8  \n",
      "4      3       1           1        1  \n",
      "\n",
      "Информация о датафрейме:\n",
      "\n",
      "<class 'pandas.core.frame.DataFrame'>\n",
      "RangeIndex: 9 entries, 0 to 8\n",
      "Data columns (total 5 columns):\n",
      " #   Column      Non-Null Count  Dtype \n",
      "---  ------      --------------  ----- \n",
      " 0   Hypothesis  9 non-null      object\n",
      " 1   Reach       9 non-null      int64 \n",
      " 2   Impact      9 non-null      int64 \n",
      " 3   Confidence  9 non-null      int64 \n",
      " 4   Efforts     9 non-null      int64 \n",
      "dtypes: int64(4), object(1)\n",
      "memory usage: 492.0+ bytes\n",
      "None\n",
      "\n",
      "================================================================================\n",
      "\n",
      "Первые 5 строк датафрейма orders:\n",
      "\n",
      "   transactionId   visitorId        date  revenue group\n",
      "0     3667963787  3312258926  2019-08-15     1650     B\n",
      "1     2804400009  3642806036  2019-08-15      730     B\n",
      "2     2961555356  4069496402  2019-08-15      400     A\n",
      "3     3797467345  1196621759  2019-08-15     9759     B\n",
      "4     2282983706  2322279887  2019-08-15     2308     B\n",
      "\n",
      "Информация о датафрейме:\n",
      "\n",
      "<class 'pandas.core.frame.DataFrame'>\n",
      "RangeIndex: 1197 entries, 0 to 1196\n",
      "Data columns (total 5 columns):\n",
      " #   Column         Non-Null Count  Dtype \n",
      "---  ------         --------------  ----- \n",
      " 0   transactionId  1197 non-null   int64 \n",
      " 1   visitorId      1197 non-null   int64 \n",
      " 2   date           1197 non-null   object\n",
      " 3   revenue        1197 non-null   int64 \n",
      " 4   group          1197 non-null   object\n",
      "dtypes: int64(3), object(2)\n",
      "memory usage: 46.9+ KB\n",
      "None\n",
      "\n",
      "================================================================================\n",
      "\n",
      "Первые 5 строк датафрейма visitors:\n",
      "\n",
      "         date group  visitors\n",
      "0  2019-08-01     A       719\n",
      "1  2019-08-02     A       619\n",
      "2  2019-08-03     A       507\n",
      "3  2019-08-04     A       717\n",
      "4  2019-08-05     A       756\n",
      "\n",
      "Информация о датафрейме:\n",
      "\n",
      "<class 'pandas.core.frame.DataFrame'>\n",
      "RangeIndex: 62 entries, 0 to 61\n",
      "Data columns (total 3 columns):\n",
      " #   Column    Non-Null Count  Dtype \n",
      "---  ------    --------------  ----- \n",
      " 0   date      62 non-null     object\n",
      " 1   group     62 non-null     object\n",
      " 2   visitors  62 non-null     int64 \n",
      "dtypes: int64(1), object(2)\n",
      "memory usage: 1.6+ KB\n",
      "None\n",
      "\n",
      "================================================================================\n",
      "\n"
     ]
    }
   ],
   "source": [
    "# Function to display the first 5 rows and information of a dataframe\n",
    "def display_data(df, df_name):\n",
    "    print(f\"Первые 5 строк датафрейма {df_name}:\\n\")\n",
    "    print(df.head(5))\n",
    "    print(\"\\nИнформация о датафрейме:\\n\")\n",
    "    print(df.info())\n",
    "    print(\"\\n\" + \"=\"*80 + \"\\n\")\n",
    "\n",
    "# Main function to display data\n",
    "def main():\n",
    "    display_data(hypothesis, 'hypothesis')\n",
    "    display_data(orders, 'orders')\n",
    "    display_data(visitors, 'visitors')\n",
    "\n",
    "# Running the main function\n",
    "main()"
   ]
  },
  {
   "cell_type": "markdown",
   "metadata": {},
   "source": [
    "From the initial rows of each data frame, it can be concluded that they contain relevant data. There are no missing values in any of the data frames."
   ]
  },
  {
   "cell_type": "markdown",
   "metadata": {},
   "source": [
    "## Data Processing"
   ]
  },
  {
   "cell_type": "markdown",
   "metadata": {},
   "source": [
    "To proceed, we'll convert the column names in the data frames to lowercase and add underscores between words in the column names:"
   ]
  },
  {
   "cell_type": "code",
   "execution_count": 5,
   "metadata": {},
   "outputs": [],
   "source": [
    "# Converting column names to lowercase \n",
    "hypothesis.columns = hypothesis.columns.str.lower()\n",
    "orders.columns = orders.columns.str.lower()\n",
    "\n",
    "# Adding of underscores\n",
    "orders.columns = ['transaction_id', 'visitor_id', 'date', 'revenue', 'group']"
   ]
  },
  {
   "cell_type": "markdown",
   "metadata": {},
   "source": [
    "The columns in the `orders` and `visitors` data frames containing dates are in `object` format and will be converted to `datetime` format in a subsequent part of the study."
   ]
  },
  {
   "cell_type": "markdown",
   "metadata": {},
   "source": [
    "Let's check for any obvious duplicates in the data frames:"
   ]
  },
  {
   "cell_type": "code",
   "execution_count": 6,
   "metadata": {},
   "outputs": [
    {
     "data": {
      "text/plain": [
       "0"
      ]
     },
     "execution_count": 6,
     "metadata": {},
     "output_type": "execute_result"
    }
   ],
   "source": [
    "hypothesis.duplicated().sum()"
   ]
  },
  {
   "cell_type": "code",
   "execution_count": 7,
   "metadata": {},
   "outputs": [
    {
     "data": {
      "text/plain": [
       "0"
      ]
     },
     "execution_count": 7,
     "metadata": {},
     "output_type": "execute_result"
    }
   ],
   "source": [
    "orders.duplicated().sum()"
   ]
  },
  {
   "cell_type": "code",
   "execution_count": 8,
   "metadata": {},
   "outputs": [
    {
     "data": {
      "text/plain": [
       "0"
      ]
     },
     "execution_count": 8,
     "metadata": {},
     "output_type": "execute_result"
    }
   ],
   "source": [
    "visitors.duplicated().sum()"
   ]
  },
  {
   "cell_type": "markdown",
   "metadata": {},
   "source": [
    "No obvious missing values or duplicates were found in the initial data. The column names of the data frames have been adjusted. Differences in data types and their actual content were noted in the `date` columns of the `orders` and `visitors` data frames. Moving on to the next stage of the analysis."
   ]
  },
  {
   "cell_type": "markdown",
   "metadata": {},
   "source": [
    "## Data Analysis"
   ]
  },
  {
   "cell_type": "markdown",
   "metadata": {},
   "source": [
    "### Hypothesis Prioritization"
   ]
  },
  {
   "cell_type": "markdown",
   "metadata": {},
   "source": [
    "In the file /datasets/hypothesis.csv, there are 9 hypotheses for increasing the revenue of an online store with specified parameters: Reach, Impact, Confidence, Effort.\n",
    "\n",
    "Firstly, let's list all hypothesis names and translate them into English:"
   ]
  },
  {
   "cell_type": "code",
   "execution_count": 9,
   "metadata": {},
   "outputs": [
    {
     "data": {
      "text/plain": [
       "0              Добавить два новых канала привлечения трафика, что позволит привлекать на 30% больше пользователей\n",
       "1                                       Запустить собственную службу доставки, что сократит срок доставки заказов\n",
       "2    Добавить блоки рекомендаций товаров на сайт интернет магазина, чтобы повысить конверсию и средний чек заказа\n",
       "3             Изменить структура категорий, что увеличит конверсию, т.к. пользователи быстрее найдут нужный товар\n",
       "4                                Изменить цвет фона главной страницы, чтобы увеличить вовлеченность пользователей\n",
       "5                        Добавить страницу отзывов клиентов о магазине, что позволит увеличить количество заказов\n",
       "6            Показать на главной странице баннеры с актуальными акциями и распродажами, чтобы увеличить конверсию\n",
       "7                Добавить форму подписки на все основные страницы, чтобы собрать базу клиентов для email-рассылок\n",
       "8                                                         Запустить акцию, дающую скидку на товар в день рождения\n",
       "Name: hypothesis, dtype: object"
      ]
     },
     "execution_count": 9,
     "metadata": {},
     "output_type": "execute_result"
    }
   ],
   "source": [
    "hypothesis['hypothesis']"
   ]
  },
  {
   "cell_type": "code",
   "execution_count": 10,
   "metadata": {},
   "outputs": [],
   "source": [
    "translations = {\n",
    "    'Добавить два новых канала привлечения трафика, что позволит привлекать на 30% больше пользователей':\n",
    "    'Add two new traffic acquisition channels, which will attract 30% more users',\n",
    "    'Запустить собственную службу доставки, что сократит срок доставки заказов': \n",
    "    'Launch our own delivery service, which will reduce order delivery time',\n",
    "    'Добавить блоки рекомендаций товаров на сайт интернет магазина, чтобы повысить конверсию и средний чек заказа': \n",
    "    'Add product recommendation blocks to the online store website to increase conversion and average order value',\n",
    "    'Изменить структура категорий, что увеличит конверсию, т.к. пользователи быстрее найдут нужный товар': \n",
    "    'Change the category structure to increase conversion, as users will find the desired product faster',\n",
    "    'Изменить цвет фона главной страницы, чтобы увеличить вовлеченность пользователей': \n",
    "    'Change the background color of the homepage to increase user engagement',\n",
    "    'Добавить страницу отзывов клиентов о магазине, что позволит увеличить количество заказов': \n",
    "    'Add a customer review page for the store to increase the number of orders',\n",
    "    'Показать на главной странице баннеры с актуальными акциями и распродажами, чтобы увеличить конверсию': \n",
    "    'Display banners with current promotions and sales on the homepage to increase conversion',\n",
    "    'Добавить форму подписки на все основные страницы, чтобы собрать базу клиентов для email-рассылок': \n",
    "    'Add a subscription form to all main pages to build a customer base for email newsletters', \n",
    "    'Запустить акцию, дающую скидку на товар в день рождения': \n",
    "    'Launch a promotion offering a discount on the product on the customer\\'s birthday'\n",
    "}\n",
    "\n",
    "hypothesis['hypothesis'] = hypothesis['hypothesis'].map(translations)"
   ]
  },
  {
   "cell_type": "markdown",
   "metadata": {},
   "source": [
    "Let's apply the ICE framework to prioritize hypotheses and sort them in descending order of priority:"
   ]
  },
  {
   "cell_type": "code",
   "execution_count": 11,
   "metadata": {
    "scrolled": true
   },
   "outputs": [
    {
     "data": {
      "text/html": [
       "<div>\n",
       "<style scoped>\n",
       "    .dataframe tbody tr th:only-of-type {\n",
       "        vertical-align: middle;\n",
       "    }\n",
       "\n",
       "    .dataframe tbody tr th {\n",
       "        vertical-align: top;\n",
       "    }\n",
       "\n",
       "    .dataframe thead th {\n",
       "        text-align: right;\n",
       "    }\n",
       "</style>\n",
       "<table border=\"1\" class=\"dataframe\">\n",
       "  <thead>\n",
       "    <tr style=\"text-align: right;\">\n",
       "      <th></th>\n",
       "      <th>hypothesis</th>\n",
       "      <th>reach</th>\n",
       "      <th>impact</th>\n",
       "      <th>confidence</th>\n",
       "      <th>efforts</th>\n",
       "      <th>ICE</th>\n",
       "    </tr>\n",
       "  </thead>\n",
       "  <tbody>\n",
       "    <tr>\n",
       "      <th>8</th>\n",
       "      <td>Launch a promotion offering a discount on the product on the customer's birthday</td>\n",
       "      <td>1</td>\n",
       "      <td>9</td>\n",
       "      <td>9</td>\n",
       "      <td>5</td>\n",
       "      <td>16.20</td>\n",
       "    </tr>\n",
       "    <tr>\n",
       "      <th>0</th>\n",
       "      <td>Add two new traffic acquisition channels, which will attract 30% more users</td>\n",
       "      <td>3</td>\n",
       "      <td>10</td>\n",
       "      <td>8</td>\n",
       "      <td>6</td>\n",
       "      <td>13.33</td>\n",
       "    </tr>\n",
       "    <tr>\n",
       "      <th>7</th>\n",
       "      <td>Add a subscription form to all main pages to build a customer base for email newsletters</td>\n",
       "      <td>10</td>\n",
       "      <td>7</td>\n",
       "      <td>8</td>\n",
       "      <td>5</td>\n",
       "      <td>11.20</td>\n",
       "    </tr>\n",
       "    <tr>\n",
       "      <th>6</th>\n",
       "      <td>Display banners with current promotions and sales on the homepage to increase conversion</td>\n",
       "      <td>5</td>\n",
       "      <td>3</td>\n",
       "      <td>8</td>\n",
       "      <td>3</td>\n",
       "      <td>8.00</td>\n",
       "    </tr>\n",
       "    <tr>\n",
       "      <th>2</th>\n",
       "      <td>Add product recommendation blocks to the online store website to increase conversion and average order value</td>\n",
       "      <td>8</td>\n",
       "      <td>3</td>\n",
       "      <td>7</td>\n",
       "      <td>3</td>\n",
       "      <td>7.00</td>\n",
       "    </tr>\n",
       "    <tr>\n",
       "      <th>1</th>\n",
       "      <td>Launch our own delivery service, which will reduce order delivery time</td>\n",
       "      <td>2</td>\n",
       "      <td>5</td>\n",
       "      <td>4</td>\n",
       "      <td>10</td>\n",
       "      <td>2.00</td>\n",
       "    </tr>\n",
       "    <tr>\n",
       "      <th>5</th>\n",
       "      <td>Add a customer review page for the store to increase the number of orders</td>\n",
       "      <td>3</td>\n",
       "      <td>2</td>\n",
       "      <td>2</td>\n",
       "      <td>3</td>\n",
       "      <td>1.33</td>\n",
       "    </tr>\n",
       "    <tr>\n",
       "      <th>3</th>\n",
       "      <td>Change the category structure to increase conversion, as users will find the desired product faster</td>\n",
       "      <td>8</td>\n",
       "      <td>3</td>\n",
       "      <td>3</td>\n",
       "      <td>8</td>\n",
       "      <td>1.12</td>\n",
       "    </tr>\n",
       "    <tr>\n",
       "      <th>4</th>\n",
       "      <td>Change the background color of the homepage to increase user engagement</td>\n",
       "      <td>3</td>\n",
       "      <td>1</td>\n",
       "      <td>1</td>\n",
       "      <td>1</td>\n",
       "      <td>1.00</td>\n",
       "    </tr>\n",
       "  </tbody>\n",
       "</table>\n",
       "</div>"
      ],
      "text/plain": [
       "                                                                                                     hypothesis  \\\n",
       "8                              Launch a promotion offering a discount on the product on the customer's birthday   \n",
       "0                                   Add two new traffic acquisition channels, which will attract 30% more users   \n",
       "7                      Add a subscription form to all main pages to build a customer base for email newsletters   \n",
       "6                      Display banners with current promotions and sales on the homepage to increase conversion   \n",
       "2  Add product recommendation blocks to the online store website to increase conversion and average order value   \n",
       "1                                        Launch our own delivery service, which will reduce order delivery time   \n",
       "5                                     Add a customer review page for the store to increase the number of orders   \n",
       "3           Change the category structure to increase conversion, as users will find the desired product faster   \n",
       "4                                       Change the background color of the homepage to increase user engagement   \n",
       "\n",
       "   reach  impact  confidence  efforts    ICE  \n",
       "8      1       9           9        5  16.20  \n",
       "0      3      10           8        6  13.33  \n",
       "7     10       7           8        5  11.20  \n",
       "6      5       3           8        3   8.00  \n",
       "2      8       3           7        3   7.00  \n",
       "1      2       5           4       10   2.00  \n",
       "5      3       2           2        3   1.33  \n",
       "3      8       3           3        8   1.12  \n",
       "4      3       1           1        1   1.00  "
      ]
     },
     "execution_count": 11,
     "metadata": {},
     "output_type": "execute_result"
    }
   ],
   "source": [
    "hypothesis['ICE'] = (hypothesis['impact'] * hypothesis['confidence']) / hypothesis['efforts']\n",
    "hypothesis['ICE'] = hypothesis['ICE'].round(2)\n",
    "hypothesis.sort_values(by = 'ICE', ascending = False)"
   ]
  },
  {
   "cell_type": "markdown",
   "metadata": {},
   "source": [
    "Now let's apply the RICE framework to prioritize hypotheses and sort them in descending order of priority:"
   ]
  },
  {
   "cell_type": "code",
   "execution_count": 12,
   "metadata": {},
   "outputs": [
    {
     "data": {
      "text/html": [
       "<div>\n",
       "<style scoped>\n",
       "    .dataframe tbody tr th:only-of-type {\n",
       "        vertical-align: middle;\n",
       "    }\n",
       "\n",
       "    .dataframe tbody tr th {\n",
       "        vertical-align: top;\n",
       "    }\n",
       "\n",
       "    .dataframe thead th {\n",
       "        text-align: right;\n",
       "    }\n",
       "</style>\n",
       "<table border=\"1\" class=\"dataframe\">\n",
       "  <thead>\n",
       "    <tr style=\"text-align: right;\">\n",
       "      <th></th>\n",
       "      <th>hypothesis</th>\n",
       "      <th>reach</th>\n",
       "      <th>impact</th>\n",
       "      <th>confidence</th>\n",
       "      <th>efforts</th>\n",
       "      <th>ICE</th>\n",
       "      <th>RICE</th>\n",
       "    </tr>\n",
       "  </thead>\n",
       "  <tbody>\n",
       "    <tr>\n",
       "      <th>7</th>\n",
       "      <td>Add a subscription form to all main pages to build a customer base for email newsletters</td>\n",
       "      <td>10</td>\n",
       "      <td>7</td>\n",
       "      <td>8</td>\n",
       "      <td>5</td>\n",
       "      <td>11.20</td>\n",
       "      <td>112.0</td>\n",
       "    </tr>\n",
       "    <tr>\n",
       "      <th>2</th>\n",
       "      <td>Add product recommendation blocks to the online store website to increase conversion and average order value</td>\n",
       "      <td>8</td>\n",
       "      <td>3</td>\n",
       "      <td>7</td>\n",
       "      <td>3</td>\n",
       "      <td>7.00</td>\n",
       "      <td>56.0</td>\n",
       "    </tr>\n",
       "    <tr>\n",
       "      <th>0</th>\n",
       "      <td>Add two new traffic acquisition channels, which will attract 30% more users</td>\n",
       "      <td>3</td>\n",
       "      <td>10</td>\n",
       "      <td>8</td>\n",
       "      <td>6</td>\n",
       "      <td>13.33</td>\n",
       "      <td>40.0</td>\n",
       "    </tr>\n",
       "    <tr>\n",
       "      <th>6</th>\n",
       "      <td>Display banners with current promotions and sales on the homepage to increase conversion</td>\n",
       "      <td>5</td>\n",
       "      <td>3</td>\n",
       "      <td>8</td>\n",
       "      <td>3</td>\n",
       "      <td>8.00</td>\n",
       "      <td>40.0</td>\n",
       "    </tr>\n",
       "    <tr>\n",
       "      <th>8</th>\n",
       "      <td>Launch a promotion offering a discount on the product on the customer's birthday</td>\n",
       "      <td>1</td>\n",
       "      <td>9</td>\n",
       "      <td>9</td>\n",
       "      <td>5</td>\n",
       "      <td>16.20</td>\n",
       "      <td>16.2</td>\n",
       "    </tr>\n",
       "    <tr>\n",
       "      <th>3</th>\n",
       "      <td>Change the category structure to increase conversion, as users will find the desired product faster</td>\n",
       "      <td>8</td>\n",
       "      <td>3</td>\n",
       "      <td>3</td>\n",
       "      <td>8</td>\n",
       "      <td>1.12</td>\n",
       "      <td>9.0</td>\n",
       "    </tr>\n",
       "    <tr>\n",
       "      <th>1</th>\n",
       "      <td>Launch our own delivery service, which will reduce order delivery time</td>\n",
       "      <td>2</td>\n",
       "      <td>5</td>\n",
       "      <td>4</td>\n",
       "      <td>10</td>\n",
       "      <td>2.00</td>\n",
       "      <td>4.0</td>\n",
       "    </tr>\n",
       "    <tr>\n",
       "      <th>5</th>\n",
       "      <td>Add a customer review page for the store to increase the number of orders</td>\n",
       "      <td>3</td>\n",
       "      <td>2</td>\n",
       "      <td>2</td>\n",
       "      <td>3</td>\n",
       "      <td>1.33</td>\n",
       "      <td>4.0</td>\n",
       "    </tr>\n",
       "    <tr>\n",
       "      <th>4</th>\n",
       "      <td>Change the background color of the homepage to increase user engagement</td>\n",
       "      <td>3</td>\n",
       "      <td>1</td>\n",
       "      <td>1</td>\n",
       "      <td>1</td>\n",
       "      <td>1.00</td>\n",
       "      <td>3.0</td>\n",
       "    </tr>\n",
       "  </tbody>\n",
       "</table>\n",
       "</div>"
      ],
      "text/plain": [
       "                                                                                                     hypothesis  \\\n",
       "7                      Add a subscription form to all main pages to build a customer base for email newsletters   \n",
       "2  Add product recommendation blocks to the online store website to increase conversion and average order value   \n",
       "0                                   Add two new traffic acquisition channels, which will attract 30% more users   \n",
       "6                      Display banners with current promotions and sales on the homepage to increase conversion   \n",
       "8                              Launch a promotion offering a discount on the product on the customer's birthday   \n",
       "3           Change the category structure to increase conversion, as users will find the desired product faster   \n",
       "1                                        Launch our own delivery service, which will reduce order delivery time   \n",
       "5                                     Add a customer review page for the store to increase the number of orders   \n",
       "4                                       Change the background color of the homepage to increase user engagement   \n",
       "\n",
       "   reach  impact  confidence  efforts    ICE   RICE  \n",
       "7     10       7           8        5  11.20  112.0  \n",
       "2      8       3           7        3   7.00   56.0  \n",
       "0      3      10           8        6  13.33   40.0  \n",
       "6      5       3           8        3   8.00   40.0  \n",
       "8      1       9           9        5  16.20   16.2  \n",
       "3      8       3           3        8   1.12    9.0  \n",
       "1      2       5           4       10   2.00    4.0  \n",
       "5      3       2           2        3   1.33    4.0  \n",
       "4      3       1           1        1   1.00    3.0  "
      ]
     },
     "execution_count": 12,
     "metadata": {},
     "output_type": "execute_result"
    }
   ],
   "source": [
    "hypothesis['RICE'] = ((hypothesis['reach'] * hypothesis['impact'] * hypothesis['confidence']) / \n",
    "                      hypothesis['efforts'])\n",
    "hypothesis.sort_values(by='RICE', ascending=False)"
   ]
  },
  {
   "cell_type": "markdown",
   "metadata": {},
   "source": [
    "When applying the ICE framework, the most promising hypotheses are reflected as 8 'Launch a promotion offering a discount on the product on the customer's birthday', 0 'Add two new traffic acquisition channels, which will attract 30% more users', and 7 'Add a subscription form to all main pages to build a customer base for email newsletters'. However, since hypothesis 8 has the minimum audience reach, according to the RICE framework, it drops out of the top three, while hypothesis 2 with a high Reach score is added. When applying both prioritization methods, hypotheses 7 and 0 are the most promising."
   ]
  },
  {
   "cell_type": "markdown",
   "metadata": {},
   "source": [
    "### A/B Test Analysis"
   ]
  },
  {
   "cell_type": "markdown",
   "metadata": {},
   "source": [
    "Results of the A/B test are contained in the files /datasets/orders.csv and /datasets/visitors.csv. Let's conduct a detailed analysis of these datasets."
   ]
  },
  {
   "cell_type": "markdown",
   "metadata": {},
   "source": [
    "#### Cumulative Revenue Plot by Groups"
   ]
  },
  {
   "cell_type": "code",
   "execution_count": 13,
   "metadata": {},
   "outputs": [],
   "source": [
    "# Converting the data type of the `date` column to datetime\n",
    "orders['date'] = orders['date'].map(\n",
    "    lambda x: dt.datetime.strptime(x, '%Y-%m-%d')\n",
    ")\n",
    "\n",
    "visitors['date'] = visitors['date'].map(\n",
    "    lambda x: dt.datetime.strptime(x, '%Y-%m-%d')\n",
    ")"
   ]
  },
  {
   "cell_type": "code",
   "execution_count": 14,
   "metadata": {},
   "outputs": [
    {
     "data": {
      "image/png": "[encoded data removed]",
      "text/plain": [
       "<Figure size 640x480 with 1 Axes>"
      ]
     },
     "metadata": {},
     "output_type": "display_data"
    }
   ],
   "source": [
    "# Creating an array of unique date-group pairs from orders data\n",
    "datesGroups = orders[['date','group']].drop_duplicates()\n",
    "\n",
    "# Aggregating cumulative data by day for orders\n",
    "ordersAggregated = datesGroups.apply(\n",
    "    lambda x: orders[\n",
    "        np.logical_and(\n",
    "            orders['date'] <= x['date'], orders['group'] == x['group']\n",
    "        )\n",
    "    ].agg(\n",
    "        {\n",
    "            'date': 'max',\n",
    "            'group': 'max',\n",
    "            'transaction_id': 'nunique',\n",
    "            'visitor_id': 'nunique',\n",
    "            'revenue': 'sum',\n",
    "        }\n",
    "    ),\n",
    "    axis=1,\n",
    ").sort_values(by=['date', 'group'])\n",
    "\n",
    "# Aggregating cumulative data by day for visitors\n",
    "visitorsAggregated = datesGroups.apply(\n",
    "    lambda x: visitors[\n",
    "        np.logical_and(\n",
    "            visitors['date'] <= x['date'], visitors['group'] == x['group']\n",
    "        )\n",
    "    ].agg({'date': 'max', 'group': 'max', 'visitors': 'sum'}),\n",
    "    axis=1,\n",
    ").sort_values(by=['date', 'group'])\n",
    "\n",
    "# Combining cumulative data into one table with clear column names\n",
    "cumulativeData = ordersAggregated.merge(visitorsAggregated, left_on=['date', 'group'], right_on=['date', 'group'])\n",
    "cumulativeData.columns = ['date', 'group', 'orders', 'buyers', 'revenue', 'visitors']\n",
    "\n",
    "# DataFrame with cumulative orders and revenue by day in group A\n",
    "cumulativeRevenueA = cumulativeData[cumulativeData['group']=='A'][['date','revenue', 'orders']]\n",
    "\n",
    "# DataFrame with cumulative orders and revenue by day in group B\n",
    "cumulativeRevenueB = cumulativeData[cumulativeData['group']=='B'][['date','revenue', 'orders']]\n",
    "\n",
    "# Plotting cumulative revenue for group A\n",
    "plt.plot(cumulativeRevenueA['date'], cumulativeRevenueA['revenue'], label='A')\n",
    "\n",
    "# Plotting cumulative revenue for group B\n",
    "plt.plot(cumulativeRevenueB['date'], cumulativeRevenueB['revenue'], label='B')\n",
    "\n",
    "# Rotating x-axis labels\n",
    "plt.xticks(rotation=45)\n",
    "\n",
    "# Adding plot title\n",
    "plt.title('Cumulative Revenue by Groups')\n",
    "\n",
    "# Adding axis labels\n",
    "plt.xlabel('Test Date')\n",
    "plt.ylabel('Revenue')\n",
    "\n",
    "plt.legend();"
   ]
  },
  {
   "cell_type": "markdown",
   "metadata": {},
   "source": [
    "Throughout the entire duration of the A/B test, cumulative revenue for group B has been higher than that of group A. However, the revenue graph for group B sharply spikes around August 18-19, 2019. This may indicate the presence of outliers - either a sudden surge in the number of orders or the appearance of very high-value orders in the dataset—that could significantly distort the results."
   ]
  },
  {
   "cell_type": "markdown",
   "metadata": {},
   "source": [
    "#### Graph of Cumulative Average Order Value by Groups"
   ]
  },
  {
   "cell_type": "code",
   "execution_count": 15,
   "metadata": {},
   "outputs": [
    {
     "data": {
      "image/png": "[encoded data removed]",
      "text/plain": [
       "<Figure size 640x480 with 1 Axes>"
      ]
     },
     "metadata": {},
     "output_type": "display_data"
    }
   ],
   "source": [
    "# Dividing cumulative revenue by cumulative number of orders to get cumulative average order value\n",
    "plt.plot(cumulativeRevenueA['date'], cumulativeRevenueA['revenue'] / cumulativeRevenueA['orders'], label='A')\n",
    "plt.plot(cumulativeRevenueB['date'], cumulativeRevenueB['revenue'] / cumulativeRevenueB['orders'], label='B')\n",
    "\n",
    "# Rotating x-axis labels\n",
    "plt.xticks(rotation=45)\n",
    "\n",
    "# Adding plot title\n",
    "plt.title('Cumulative Average Order Value by Groups')\n",
    "\n",
    "# Adding axis labels\n",
    "plt.xlabel('Test Date')\n",
    "plt.ylabel('Cumulative Average Order Value')\n",
    "\n",
    "plt.legend();"
   ]
  },
  {
   "cell_type": "markdown",
   "metadata": {},
   "source": [
    "The average order value of Group B is consistently higher throughout the test compared to Group A. However, there is a massive spike in the average order value observed on August 18-19, 2019 (similar to cumulative revenue). Following this spike, Group A's average order value becomes relatively stable from around August 14, 2019 onwards, whereas Group B shows a steady decline in value after the spike, continuing until the end of the experiment."
   ]
  },
  {
   "cell_type": "markdown",
   "metadata": {},
   "source": [
    "#### Graph of relative change in cumulative average check of Group B compared to Group A"
   ]
  },
  {
   "cell_type": "code",
   "execution_count": 16,
   "metadata": {},
   "outputs": [
    {
     "data": {
      "image/png": "[encoded data removed]",
      "text/plain": [
       "<Figure size 640x480 with 1 Axes>"
      ]
     },
     "metadata": {},
     "output_type": "display_data"
    }
   ],
   "source": [
    "# Combining data into one dataframe\n",
    "mergedCumulativeRevenue = cumulativeRevenueA.merge(\n",
    "                            cumulativeRevenueB, \n",
    "                            left_on='date', \n",
    "                            right_on='date', \n",
    "                            how='left', \n",
    "                            suffixes=['A', 'B'])\n",
    "\n",
    "# Plotting the ratio of average checks\n",
    "plt.plot(mergedCumulativeRevenue['date'], \n",
    "         (mergedCumulativeRevenue['revenueB']/mergedCumulativeRevenue['ordersB']) /\n",
    "         (mergedCumulativeRevenue['revenueA']/mergedCumulativeRevenue['ordersA']) - 1)\n",
    "\n",
    "# Adding the X-axis\n",
    "plt.axhline(y=0, color='black', linestyle='--')\n",
    "\n",
    "# Rotating the X-axis labels\n",
    "plt.xticks(rotation=45)\n",
    "\n",
    "# Adding labels to the axes\n",
    "plt.xlabel('Test Date')\n",
    "plt.ylabel('Relative Change \\n in Cumulative Average Check')\n",
    "\n",
    "# Adding a title to the plot\n",
    "plt.title('Relative Change in Cumulative Average Check of Group B compared to Group A');"
   ]
  },
  {
   "cell_type": "markdown",
   "metadata": {},
   "source": [
    "The graph shows sharp fluctuations in Group B values relative to Group A. Initially, Group B's results were improving compared to Group A, but this changed around August 9, 2019. The sudden spike around August 18-19, 2019, similar to previous graphs, suggests the presence of outliers."
   ]
  },
  {
   "cell_type": "markdown",
   "metadata": {},
   "source": [
    "#### Graph of Cumulative Average Orders per Visitor by Groups"
   ]
  },
  {
   "cell_type": "code",
   "execution_count": 17,
   "metadata": {},
   "outputs": [
    {
     "data": {
      "image/png": "[encoded data removed]",
      "text/plain": [
       "<Figure size 640x480 with 1 Axes>"
      ]
     },
     "metadata": {},
     "output_type": "display_data"
    }
   ],
   "source": [
    "# Calculating the cumulative average orders per visitor\n",
    "cumulativeData['conversion'] = cumulativeData['orders'] / cumulativeData['visitors']\n",
    "\n",
    "# Separating data for group A\n",
    "cumulativeDataA = cumulativeData[cumulativeData['group'] == 'A']\n",
    "\n",
    "# Separating data for group B\n",
    "cumulativeDataB = cumulativeData[cumulativeData['group'] == 'B']\n",
    "\n",
    "# Plotting the graphs\n",
    "plt.plot(cumulativeDataA['date'], cumulativeDataA['conversion'], label='A')\n",
    "plt.plot(cumulativeDataB['date'], cumulativeDataB['conversion'], label='B')\n",
    "plt.legend()\n",
    "\n",
    "# Setting the axis scale\n",
    "plt.axis([dt.datetime(2019, 8, 1), dt.datetime(2019, 9, 1), 0.028, 0.038])\n",
    "\n",
    "# Rotating x-axis labels\n",
    "plt.xticks(rotation=45)\n",
    "\n",
    "# Adding labels to axes\n",
    "plt.xlabel('Test Date')\n",
    "plt.ylabel('Cumulative Average Orders per Visitor')\n",
    "\n",
    "# Adding title to the plot\n",
    "plt.title('Cumulative Average Orders per Visitor by Groups');"
   ]
  },
  {
   "cell_type": "markdown",
   "metadata": {},
   "source": [
    "In the beginning of the test, segment A initially had a higher cumulative average number of orders for a brief period, but gradually segment B caught up and stabilized around a single value, higher than segment A's value."
   ]
  },
  {
   "cell_type": "markdown",
   "metadata": {},
   "source": [
    "#### Graph of the Relative Change in Cumulative Average Orders per Visitor for Group B Compared to Group A"
   ]
  },
  {
   "cell_type": "code",
   "execution_count": 18,
   "metadata": {},
   "outputs": [
    {
     "data": {
      "image/png": "[encoded data removed]",
      "text/plain": [
       "<Figure size 640x480 with 1 Axes>"
      ]
     },
     "metadata": {},
     "output_type": "display_data"
    }
   ],
   "source": [
    "# Merging tables cumulativeDataA and cumulativeDataB\n",
    "mergedCumulativeConversions = cumulativeDataA[['date','conversion']].merge(\n",
    "                              cumulativeDataB[['date','conversion']], \n",
    "                              left_on='date', \n",
    "                              right_on='date', \n",
    "                              how='left', \n",
    "                              suffixes=['A', 'B'])\n",
    "\n",
    "# Plotting the graph\n",
    "plt.plot(mergedCumulativeConversions['date'], mergedCumulativeConversions['conversionB']/\n",
    "         mergedCumulativeConversions['conversionA']-1)\n",
    "\n",
    "# Adding horizontal lines for reference\n",
    "plt.axhline(y=0, color='black', linestyle='--')\n",
    "plt.axhline(y=0.15, color='grey', linestyle='--')\n",
    "\n",
    "# Setting the axis scale\n",
    "plt.axis([dt.datetime(2019, 8, 1), dt.datetime(2019, 9, 1), -0.25, 0.25])\n",
    "\n",
    "# Rotating x-axis labels\n",
    "plt.xticks(rotation=45)\n",
    "\n",
    "# Adding labels to axes\n",
    "plt.xlabel('Test Date')\n",
    "plt.ylabel('Relative Change \\n in Cumulative Average \\n Orders per Visitor')\n",
    "\n",
    "# Adding title to the graph\n",
    "plt.title('Relative Change in Cumulative Average Orders \\n per Visitor for Group B compared to Group A');"
   ]
  },
  {
   "cell_type": "markdown",
   "metadata": {},
   "source": [
    "At the beginning of the test, Group B was trailing behind Group A; however, it later surged ahead. Starting from August 9, 2019, the average number of orders per visitor for Group B leveled off and was approximately 15% higher than that of Group A."
   ]
  },
  {
   "cell_type": "markdown",
   "metadata": {},
   "source": [
    "#### Scatter Plot of Orders per User"
   ]
  },
  {
   "cell_type": "code",
   "execution_count": 19,
   "metadata": {},
   "outputs": [
    {
     "data": {
      "image/png": "[encoded data removed]",
      "text/plain": [
       "<Figure size 640x480 with 1 Axes>"
      ]
     },
     "metadata": {},
     "output_type": "display_data"
    }
   ],
   "source": [
    "# Calculating the number of orders for each user\n",
    "ordersByUsers = (\n",
    "    orders.groupby('visitor_id', as_index=False)\n",
    "    .agg({'transaction_id': 'nunique'})\n",
    ")\n",
    "\n",
    "# Renaming columns of the resulting dataframe\n",
    "ordersByUsers.columns = ['visitor_id', 'orders']\n",
    "\n",
    "# Series of numbers from 0 to the number of observations in ordersByUsers\n",
    "x_values = pd.Series(range(0, len(ordersByUsers)))\n",
    "\n",
    "# Plotting a scatter plot\n",
    "plt.scatter(x_values, ordersByUsers['orders']) \n",
    "\n",
    "# Adding axis labels\n",
    "plt.xlabel('User ID')\n",
    "plt.ylabel('Number of Orders')\n",
    "\n",
    "# Adding plot title\n",
    "plt.title('Number of Orders per User');"
   ]
  },
  {
   "cell_type": "markdown",
   "metadata": {},
   "source": [
    "Users who made more than two orders are relatively few. To determine what number of orders constitutes an outlier for this dataset, we will calculate percentiles of the number of orders per user."
   ]
  },
  {
   "cell_type": "markdown",
   "metadata": {},
   "source": [
    "#### Calculating Percentiles of Order Count per User"
   ]
  },
  {
   "cell_type": "code",
   "execution_count": 20,
   "metadata": {},
   "outputs": [
    {
     "data": {
      "text/plain": [
       "array([1., 2., 4.])"
      ]
     },
     "execution_count": 20,
     "metadata": {},
     "output_type": "execute_result"
    }
   ],
   "source": [
    "np.percentile(ordersByUsers['orders'], [90, 95, 99])"
   ]
  },
  {
   "cell_type": "markdown",
   "metadata": {},
   "source": [
    "Only 1% of visitors make 4 or more orders, and only 5% make 2 or more. We will set a threshold to identify anomalous users based on order count around more than 2 orders (>2)."
   ]
  },
  {
   "cell_type": "markdown",
   "metadata": {},
   "source": [
    "#### Scatter Plot of Order Values"
   ]
  },
  {
   "cell_type": "code",
   "execution_count": 21,
   "metadata": {},
   "outputs": [
    {
     "data": {
      "image/png": "[encoded data removed]",
      "text/plain": [
       "<Figure size 640x480 with 1 Axes>"
      ]
     },
     "metadata": {},
     "output_type": "display_data"
    }
   ],
   "source": [
    "# A series of numbers from 0 to the number of observations in orders['revenue']\n",
    "x_values = pd.Series(range(0, len(orders['revenue'])))\n",
    "\n",
    "# Plotting a scatter plot\n",
    "plt.scatter(x_values, orders['revenue'])\n",
    "\n",
    "# Adding axis labels\n",
    "plt.xlabel('Order ID')\n",
    "plt.ylabel('Order Value')\n",
    "\n",
    "# Adding title to the plot\n",
    "plt.title('Distribution of Order Values');"
   ]
  },
  {
   "cell_type": "markdown",
   "metadata": {},
   "source": [
    "According to the constructed graph, there are only two anomalous order values: one exceeding 200,000 and one exceeding a million. These values are definitely outliers considering that the cost of the remaining orders does not exceed 90,000."
   ]
  },
  {
   "cell_type": "markdown",
   "metadata": {},
   "source": [
    "#### Calculation of Order Cost Percentiles"
   ]
  },
  {
   "cell_type": "code",
   "execution_count": 22,
   "metadata": {},
   "outputs": [
    {
     "data": {
      "text/plain": [
       "array([18168. , 28000. , 58233.2])"
      ]
     },
     "execution_count": 22,
     "metadata": {},
     "output_type": "execute_result"
    }
   ],
   "source": [
    "np.percentile(orders['revenue'], [90, 95, 99])"
   ]
  },
  {
   "cell_type": "markdown",
   "metadata": {},
   "source": [
    "The order cost for 5% of users does not exceed 28,000, and for 1% of users, it is not more than approximately 58,000. Since there are only two significantly anomalous values, we will set the threshold for identifying anomalous users based on order cost at 60,000. This way, we will exclude less than 1% of all users."
   ]
  },
  {
   "cell_type": "markdown",
   "metadata": {},
   "source": [
    "#### Calculation of the Statistical Significance of Differences in the Average Number of Orders per Visitor between Groups Based on 'Raw' Data"
   ]
  },
  {
   "cell_type": "markdown",
   "metadata": {},
   "source": [
    "Let's formulate the hypotheses.\n",
    "\n",
    "Null hypothesis: There are no differences in the average number of orders per visitor between the groups.\n",
    "\n",
    "Alternative hypothesis: There are differences in the average number of orders per visitor between the groups."
   ]
  },
  {
   "cell_type": "code",
   "execution_count": 23,
   "metadata": {},
   "outputs": [
    {
     "name": "stdout",
     "output_type": "stream",
     "text": [
      "Statistical significance of the difference in the average number of orders based on the results of the A/B test: 0.01679\n",
      "Relative difference in the average between the groups: 0.13808\n"
     ]
    }
   ],
   "source": [
    "# Calculating the daily number of visitors for group A\n",
    "visitorsADaily = visitors[visitors['group'] == 'A'][['date', 'visitors']]\n",
    "visitorsADaily.columns = ['date', 'visitorsPerDateA']\n",
    "\n",
    "# Calculating the cumulative number of visitors for group A\n",
    "visitorsACummulative = visitorsADaily.apply(\n",
    "    lambda x: visitorsADaily[visitorsADaily['date'] <= x['date']].agg(\n",
    "        {'date': 'max', 'visitorsPerDateA': 'sum'}\n",
    "    ),\n",
    "    axis=1,\n",
    ")\n",
    "\n",
    "# Renaming the columns of the dataframe\n",
    "visitorsACummulative.columns = ['date', 'visitorsCummulativeA']\n",
    "\n",
    "# Performing the same actions for group B\n",
    "visitorsBDaily = visitors[visitors['group'] == 'B'][['date', 'visitors']]\n",
    "visitorsBDaily.columns = ['date', 'visitorsPerDateB']\n",
    "\n",
    "visitorsBCummulative = visitorsBDaily.apply(\n",
    "    lambda x: visitorsBDaily[visitorsBDaily['date'] <= x['date']].agg(\n",
    "        {'date': 'max', 'visitorsPerDateB': 'sum'}\n",
    "    ),\n",
    "    axis=1,\n",
    ")\n",
    "visitorsBCummulative.columns = ['date', 'visitorsCummulativeB']\n",
    "\n",
    "# Calculating the daily number of orders for users in group A\n",
    "ordersADaily = (\n",
    "    orders[orders['group'] == 'A'][['date', 'transaction_id', 'visitor_id', 'revenue']]\n",
    "    .groupby('date', as_index=False)\n",
    "    .agg({'transaction_id': pd.Series.nunique, 'revenue': 'sum'})\n",
    ")\n",
    "\n",
    "# Renaming the columns of the dataframe\n",
    "ordersADaily.columns = ['date', 'ordersPerDateA', 'revenuePerDateA']\n",
    "\n",
    "# Calculating the cumulative number of orders for users in group A\n",
    "ordersACummulative = ordersADaily.apply(\n",
    "    lambda x: ordersADaily[ordersADaily['date'] <= x['date']].agg(\n",
    "        {'date': 'max', 'ordersPerDateA': 'sum', 'revenuePerDateA': 'sum'}\n",
    "    ),\n",
    "    axis=1,\n",
    ").sort_values(by=['date'])\n",
    "\n",
    "# Renaming the columns of the dataframe\n",
    "ordersACummulative.columns = [\n",
    "    'date',\n",
    "    'ordersCummulativeA',\n",
    "    'revenueCummulativeA',\n",
    "]\n",
    "\n",
    "# Performing the same actions for group B\n",
    "ordersBDaily = (\n",
    "    orders[orders['group'] == 'B'][['date', 'transaction_id', 'visitor_id', 'revenue']]\n",
    "    .groupby('date', as_index=False)\n",
    "    .agg({'transaction_id': pd.Series.nunique, 'revenue': 'sum'})\n",
    ")\n",
    "ordersBDaily.columns = ['date', 'ordersPerDateB', 'revenuePerDateB']\n",
    "\n",
    "ordersBCummulative = ordersBDaily.apply(\n",
    "    lambda x: ordersBDaily[ordersBDaily['date'] <= x['date']].agg(\n",
    "        {'date': 'max', 'ordersPerDateB': 'sum', 'revenuePerDateB': 'sum'}\n",
    "    ),\n",
    "    axis=1,\n",
    ").sort_values(by=['date'])\n",
    "ordersBCummulative.columns = [\n",
    "    'date',\n",
    "    'ordersCummulativeB',\n",
    "    'revenueCummulativeB',\n",
    "]\n",
    "\n",
    "# Merging the dataframes\n",
    "data = (\n",
    "    ordersADaily.merge(\n",
    "        ordersBDaily, left_on='date', right_on='date', how='left'\n",
    "    )\n",
    "    .merge(ordersACummulative, left_on='date', right_on='date', how='left')\n",
    "    .merge(ordersBCummulative, left_on='date', right_on='date', how='left')\n",
    "    .merge(visitorsADaily, left_on='date', right_on='date', how='left')\n",
    "    .merge(visitorsBDaily, left_on='date', right_on='date', how='left')\n",
    "    .merge(visitorsACummulative, left_on='date', right_on='date', how='left')\n",
    "    .merge(visitorsBCummulative, left_on='date', right_on='date', how='left')\n",
    ")\n",
    "\n",
    "# Determining the number of orders for each user in group A\n",
    "ordersByUsersA = (\n",
    "    orders[orders['group'] == 'A']\n",
    "    .groupby('visitor_id', as_index=False)\n",
    "    .agg({'transaction_id': pd.Series.nunique})\n",
    ")\n",
    "\n",
    "# Renaming the columns of the dataframe\n",
    "ordersByUsersA.columns = ['userId', 'orders']\n",
    "\n",
    "# Performing the same actions for group B\n",
    "ordersByUsersB = (\n",
    "    orders[orders['group'] == 'B']\n",
    "    .groupby('visitor_id', as_index=False)\n",
    "    .agg({'transaction_id': pd.Series.nunique})\n",
    ")\n",
    "ordersByUsersB.columns = ['userId', 'orders'] \n",
    "\n",
    "# Declaring the variable sampleA, in which the users from group A will correspond to the number of their orders. \n",
    "# (Those who did not place any orders will correspond to zeros.) \n",
    "sampleA = pd.concat(\n",
    "    [\n",
    "        ordersByUsersA['orders'],\n",
    "        pd.Series(\n",
    "            0,\n",
    "            index=np.arange(\n",
    "                data['visitorsPerDateA'].sum() - len(ordersByUsersA['orders'])\n",
    "            ),\n",
    "            name='orders',\n",
    "        ),\n",
    "    ],\n",
    "    axis=0,\n",
    ")\n",
    "\n",
    "# Declaring a similar variable sampleB for users in group B\n",
    "sampleB = pd.concat(\n",
    "    [\n",
    "        ordersByUsersB['orders'],\n",
    "        pd.Series(\n",
    "            0,\n",
    "            index=np.arange(\n",
    "                data['visitorsPerDateB'].sum() - len(ordersByUsersB['orders'])\n",
    "            ),\n",
    "            name='orders',\n",
    "        ),\n",
    "    ],\n",
    "    axis=0,\n",
    ")\n",
    "\n",
    "# Calculating the statistical significance of the difference in the average number of orders based on \n",
    "# the results of the A/B test, using the Mann-Whitney test\n",
    "print(\"Statistical significance of the difference in the average number of orders based on the results of the A/B test:\", \n",
    "      \"{0:.5f}\".format(stats.mannwhitneyu(sampleA, sampleB)[1]))\n",
    "\n",
    "# Calculating and display the relative difference in the average between the groups. \n",
    "print(\"Relative difference in the average between the groups:\", \n",
    "      \"{0:.5f}\".format(sampleB.mean() / sampleA.mean() - 1))"
   ]
  },
  {
   "cell_type": "markdown",
   "metadata": {},
   "source": [
    "Based on the results of the Mann-Whitney test, the p-value is approximately 0.017, which is less than 0.05. This means we reject the null hypothesis that there are no differences in the average number of orders per visitor between the groups.\n",
    "\n",
    "The relative increase in the average for group B compared to group A is 13.8%."
   ]
  },
  {
   "cell_type": "markdown",
   "metadata": {},
   "source": [
    "#### Calculation of the Statistical Significance of Differences in the Average Order Value between Groups Based on 'Raw' Data"
   ]
  },
  {
   "cell_type": "markdown",
   "metadata": {},
   "source": [
    "Let's check the statistical significance of differences in the average order value between segments.\n",
    "\n",
    "Null hypothesis: There are no differences in the average order value between the groups.\n",
    "\n",
    "Alternative hypothesis: There are differences in the average order value between the groups."
   ]
  },
  {
   "cell_type": "code",
   "execution_count": 24,
   "metadata": {},
   "outputs": [
    {
     "name": "stdout",
     "output_type": "stream",
     "text": [
      "Statistical significance of differences in the average order value between groups: 0.72929\n",
      "Relative increase in the average order value for group B: 0.25871\n"
     ]
    }
   ],
   "source": [
    "# Calculating the statistical significance of differences in the average order value between groups\n",
    "print(\"Statistical significance of differences in the average order value between groups:\", \n",
    "      '{0:.5f}'.format(stats.mannwhitneyu(orders[orders['group']=='A']['revenue'], \n",
    "                                          orders[orders['group']=='B']['revenue'])[1]))\n",
    "\n",
    "# Displaying the relative increase in the average order value for group B\n",
    "print(\"Relative increase in the average order value for group B:\", \n",
    "      '{0:.5f}'.format(orders[orders['group']=='B']['revenue'].mean() /\n",
    "                       orders[orders['group']=='A']['revenue'].mean() - 1))\n"
   ]
  },
  {
   "cell_type": "markdown",
   "metadata": {},
   "source": [
    "The p-value is approximately 0.73, which is greater than 0.05 — therefore, we do not reject the null hypothesis, indicating that there are no statistically significant differences in the average order value between the groups.\n",
    "\n",
    "However, the relative difference in the average order value between segments is approximately 26%."
   ]
  },
  {
   "cell_type": "markdown",
   "metadata": {},
   "source": [
    "#### Calculation of the Statistical Significance of Differences in the Average Number of Orders per Visitor between Groups Using 'Cleaned' Data"
   ]
  },
  {
   "cell_type": "markdown",
   "metadata": {},
   "source": [
    "Earlier, we identified as anomalous the data of users who made more than two orders, as well as those whose order value exceeded 60,000.\n",
    "Let's find out how many user data points can be classified as anomalous."
   ]
  },
  {
   "cell_type": "code",
   "execution_count": 25,
   "metadata": {},
   "outputs": [
    {
     "name": "stdout",
     "output_type": "stream",
     "text": [
      "30\n"
     ]
    }
   ],
   "source": [
    "# Creating a dataframe with information about users who made more than 2 orders\n",
    "usersWithManyOrders = pd.concat(\n",
    "    [\n",
    "        ordersByUsersA[ordersByUsersA['orders'] > 2]['userId'],\n",
    "        ordersByUsersB[ordersByUsersB['orders'] > 2]['userId'],\n",
    "    ],\n",
    "    axis=0,\n",
    ")\n",
    "\n",
    "# Creating a dataframe with information about users whose order value exceeded 60,000\n",
    "usersWithExpensiveOrders = orders[orders['revenue'] > 60000]['visitor_id']\n",
    "abnormalUsers = (\n",
    "    pd.concat([usersWithManyOrders, usersWithExpensiveOrders], axis=0)\n",
    "    .drop_duplicates()\n",
    "    .sort_values()\n",
    ")\n",
    "\n",
    "print(abnormalUsers.shape[0])"
   ]
  },
  {
   "cell_type": "markdown",
   "metadata": {},
   "source": [
    "We have a total of 30 anomalous users.\n",
    "\n",
    "Let's determine how their actions affected the test results. We will calculate the statistical significance of differences in the average number of orders between test groups using cleaned data.\n",
    "\n",
    "Null hypothesis: There are no differences in the average number of orders per visitor between the groups.\n",
    "\n",
    "Alternative hypothesis: There are differences in the average number of orders per visitor between the groups."
   ]
  },
  {
   "cell_type": "code",
   "execution_count": 26,
   "metadata": {},
   "outputs": [
    {
     "name": "stdout",
     "output_type": "stream",
     "text": [
      "Statistical significance of differences in the average number of orders based on A/B test results: 0.00926\n",
      "Relative difference in the average number of orders between groups: 0.17625\n"
     ]
    }
   ],
   "source": [
    "# Preparing samples of order counts per user for each test group\n",
    "sampleAFiltered = pd.concat(\n",
    "    [\n",
    "        ordersByUsersA[\n",
    "            ~ordersByUsersA['userId'].isin(abnormalUsers)\n",
    "        ]['orders'],\n",
    "        pd.Series(\n",
    "            0,\n",
    "            index=np.arange(\n",
    "                data['visitorsPerDateA'].sum() - len(ordersByUsersA['orders'])\n",
    "            ),\n",
    "            name='orders',\n",
    "        ),\n",
    "    ],\n",
    "    axis=0,\n",
    ")\n",
    "\n",
    "sampleBFiltered = pd.concat(\n",
    "    [\n",
    "        ordersByUsersB[\n",
    "            ~ordersByUsersB['userId'].isin(abnormalUsers)\n",
    "        ]['orders'],\n",
    "        pd.Series(\n",
    "            0,\n",
    "            index=np.arange(\n",
    "                data['visitorsPerDateB'].sum() - len(ordersByUsersB['orders'])\n",
    "            ),\n",
    "            name='orders',\n",
    "        ),\n",
    "    ],\n",
    "    axis=0,\n",
    ") \n",
    "\n",
    "# Applying the Mann-Whitney U test to the obtained samples\n",
    "print(\"Statistical significance of differences in the average number of orders based on A/B test results:\", \n",
    "      '{0:.5f}'.format(stats.mannwhitneyu(sampleAFiltered, sampleBFiltered)[1]))\n",
    "print(\"Relative difference in the average number of orders between groups:\",\n",
    "      '{0:.5f}'.format(sampleBFiltered.mean() / sampleAFiltered.mean() - 1))"
   ]
  },
  {
   "cell_type": "markdown",
   "metadata": {},
   "source": [
    "The statistical significance of differences in the average number of orders based on A/B test results using cleaned data is 0.009, which is significantly less than 0.05. This means we again reject the null hypothesis of no differences in the average number of orders per visitor between the groups, as we did with the 'raw' data.\n",
    "\n",
    "The relative difference in the average number of orders between groups increased to 17.6% with cleaned data.\n",
    "\n",
    "It can be concluded that outliers do not fundamentally change the analysis results of the two datasets, and the results of group B in terms of average number of orders are statistically significantly higher than those of group A."
   ]
  },
  {
   "cell_type": "markdown",
   "metadata": {},
   "source": [
    "#### Calculation of the Statistical Significance of Differences in Average Order Value between Groups Using 'Cleaned' Data."
   ]
  },
  {
   "cell_type": "markdown",
   "metadata": {},
   "source": [
    "Null hypothesis: There are no differences in average order value between the groups.\n",
    "\n",
    "Alternative hypothesis: There are differences in average order value between the groups."
   ]
  },
  {
   "cell_type": "code",
   "execution_count": 27,
   "metadata": {},
   "outputs": [
    {
     "name": "stdout",
     "output_type": "stream",
     "text": [
      "Statistical significance of differences in average order value between groups: 0.83546\n",
      "Relative increase in average order value for group B: -0.00643\n"
     ]
    }
   ],
   "source": [
    "# Calculating the statistical significance of differences in average order value between groups\n",
    "print(\"Statistical significance of differences in average order value between groups:\",\n",
    "    '{0:.5f}'.format(\n",
    "        stats.mannwhitneyu(\n",
    "            orders[\n",
    "                np.logical_and(\n",
    "                    orders['group'] == 'A',\n",
    "                    ~orders['visitor_id'].isin(abnormalUsers),\n",
    "                )\n",
    "            ]['revenue'],\n",
    "            orders[\n",
    "                np.logical_and(\n",
    "                    orders['group'] == 'B',\n",
    "                    ~orders['visitor_id'].isin(abnormalUsers),\n",
    "                )\n",
    "            ]['revenue'],\n",
    "        )[1]\n",
    "    )\n",
    ")\n",
    "\n",
    "# Printing the relative increase in average order value for group B\n",
    "print(\"Relative increase in average order value for group B:\",\n",
    "    \"{0:.5f}\".format(\n",
    "        orders[\n",
    "            np.logical_and(\n",
    "                orders['group'] == 'B',\n",
    "                ~orders['visitor_id'].isin(abnormalUsers),\n",
    "            )\n",
    "        ]['revenue'].mean()\n",
    "        / orders[\n",
    "            np.logical_and(\n",
    "                orders['group'] == 'A',\n",
    "                ~orders['visitor_id'].isin(abnormalUsers),\n",
    "            )\n",
    "        ]['revenue'].mean()\n",
    "        - 1\n",
    "    )\n",
    ")"
   ]
  },
  {
   "cell_type": "markdown",
   "metadata": {},
   "source": [
    "\"Since the p-value is 0.84, we cannot reject the null hypothesis, indicating no statistically significant differences in average order value between the groups.\n",
    "\n",
    "The relative increase in average order value from analyzing cleaned data is extremely small and negative, at just -0.6%."
   ]
  },
  {
   "cell_type": "markdown",
   "metadata": {},
   "source": [
    "#### Decision Making Based on Test Results"
   ]
  },
  {
   "cell_type": "markdown",
   "metadata": {},
   "source": [
    "Based on the available facts:\n",
    "\n",
    "There is a statistically significant difference in average order count between the groups, both in raw data and after anomaly filtration.\n",
    "\n",
    "There is no statistically significant difference in average order value between the groups, neither in raw data nor after anomaly filtration.\n",
    "\n",
    "The graph showing the difference in average order count between the groups indicates that Group B consistently outperformed Group A throughout most of the test period, with only initial inferior performance of Group B.\n",
    "\n",
    "In contrast, the graph depicting the difference in average order value shows significant fluctuations. Initially, Group B lagged behind Group A, then improved until around August 9, 2019. However, a sharp decline followed, with Group A surpassing Group B, and Group B's values steadily decreased until the end of the test, largely influenced by outlier orders around August 18-19, 2019.\n",
    "\n",
    "Given these contradictory results from the A/B test analysis, it is recommended to continue the test."
   ]
  },
  {
   "cell_type": "markdown",
   "metadata": {},
   "source": [
    "#### Repeat Plotting of Graphs Using Processed Data without Anomalies"
   ]
  },
  {
   "cell_type": "markdown",
   "metadata": {},
   "source": [
    "To better understand the analysis results, let's remove the anomalous values from the original dataframe and replot the corresponding graphs."
   ]
  },
  {
   "cell_type": "code",
   "execution_count": 28,
   "metadata": {},
   "outputs": [],
   "source": [
    "orders2 = orders[np.logical_not(orders['visitor_id'].isin(abnormalUsers))]"
   ]
  },
  {
   "cell_type": "markdown",
   "metadata": {},
   "source": [
    "**Cumulative Revenue Plot by Groups**"
   ]
  },
  {
   "cell_type": "code",
   "execution_count": 29,
   "metadata": {},
   "outputs": [
    {
     "data": {
      "image/png": "[encoded data removed]",
      "text/plain": [
       "<Figure size 640x480 with 1 Axes>"
      ]
     },
     "metadata": {},
     "output_type": "display_data"
    }
   ],
   "source": [
    "# Creating an array of unique date-group pairs from the orders dataframe\n",
    "datesGroups2 = orders2[['date','group']].drop_duplicates()\n",
    "\n",
    "# Aggregating cumulative daily order data\n",
    "ordersAggregated2 = datesGroups2.apply(\n",
    "    lambda x: orders2[\n",
    "        np.logical_and(\n",
    "            orders2['date'] <= x['date'], orders2['group'] == x['group']\n",
    "        )\n",
    "    ].agg(\n",
    "        {\n",
    "            'date': 'max',\n",
    "            'group': 'max',\n",
    "            'transaction_id': 'nunique',\n",
    "            'visitor_id': 'nunique',\n",
    "            'revenue': 'sum',\n",
    "        }\n",
    "    ),\n",
    "    axis=1,\n",
    ").sort_values(by=['date', 'group'])\n",
    "\n",
    "# Aggregating cumulative daily visitor data\n",
    "visitorsAggregated2 = datesGroups2.apply(\n",
    "    lambda x: visitors[\n",
    "        np.logical_and(\n",
    "            visitors['date'] <= x['date'], visitors['group'] == x['group']\n",
    "        )\n",
    "    ].agg({'date': 'max', 'group': 'max', 'visitors': 'sum'}),\n",
    "    axis=1,\n",
    ").sort_values(by=['date', 'group'])\n",
    "\n",
    "# Merging cumulative data into one table and assign clear column names\n",
    "cumulativeData2 = ordersAggregated2.merge(visitorsAggregated2, left_on=['date', 'group'], right_on=['date', 'group'])\n",
    "cumulativeData2.columns = ['date', 'group', 'orders', 'buyers', 'revenue', 'visitors']\n",
    "\n",
    "# DataFrame with cumulative number of orders and revenue by day in group A\n",
    "cumulativeRevenueA2 = cumulativeData2[cumulativeData2['group']=='A'][['date','revenue', 'orders']]\n",
    "\n",
    "# DataFrame with cumulative number of orders and revenue by day in group B\n",
    "cumulativeRevenueB2 = cumulativeData2[cumulativeData2['group']=='B'][['date','revenue', 'orders']]\n",
    "\n",
    "# Plotting cumulative revenue for group A\n",
    "plt.plot(cumulativeRevenueA2['date'], cumulativeRevenueA2['revenue'], label='A')\n",
    "\n",
    "# Plotting cumulative revenue for group B\n",
    "plt.plot(cumulativeRevenueB2['date'], cumulativeRevenueB2['revenue'], label='B')\n",
    "\n",
    "# Rotating x-axis labels\n",
    "plt.xticks(rotation=45)\n",
    "\n",
    "# Adding title to the plot\n",
    "plt.title('Cumulative Revenue by Groups (excluding anomalies)')\n",
    "\n",
    "# Adding labels to the axes\n",
    "plt.xlabel('Test Date')\n",
    "plt.ylabel('Revenue')\n",
    "\n",
    "plt.legend();"
   ]
  },
  {
   "cell_type": "markdown",
   "metadata": {},
   "source": [
    "**Graph of Cumulative Average Order Value by Groups**"
   ]
  },
  {
   "cell_type": "code",
   "execution_count": 30,
   "metadata": {},
   "outputs": [
    {
     "data": {
      "image/png": "[encoded data removed]",
      "text/plain": [
       "<Figure size 640x480 with 1 Axes>"
      ]
     },
     "metadata": {},
     "output_type": "display_data"
    }
   ],
   "source": [
    "# Dividing cumulative revenue by cumulative number of orders\n",
    "plt.plot(cumulativeRevenueA2['date'], cumulativeRevenueA2['revenue'] / cumulativeRevenueA2['orders'], label='A')\n",
    "plt.plot(cumulativeRevenueB2['date'], cumulativeRevenueB2['revenue'] / cumulativeRevenueB2['orders'], label='B')\n",
    "\n",
    "# Rotating x-axis labels\n",
    "plt.xticks(rotation=45)\n",
    "\n",
    "# Adding title to the plot\n",
    "plt.title('Cumulative Average Order Value by Groups (excluding anomalies)')\n",
    "\n",
    "# Adding labels to the axes\n",
    "plt.xlabel('Test Date')\n",
    "plt.ylabel('Cumulative Average Order Value')\n",
    "\n",
    "plt.legend();"
   ]
  },
  {
   "cell_type": "markdown",
   "metadata": {},
   "source": [
    "**Graph of relative change in cumulative average check of Group B compared to Group A**"
   ]
  },
  {
   "cell_type": "code",
   "execution_count": 31,
   "metadata": {},
   "outputs": [
    {
     "data": {
      "image/png": "[encoded data removed]",
      "text/plain": [
       "<Figure size 640x480 with 1 Axes>"
      ]
     },
     "metadata": {},
     "output_type": "display_data"
    }
   ],
   "source": [
    "# Combining data into one dataframe\n",
    "mergedCumulativeRevenue2 = cumulativeRevenueA2.merge(\n",
    "                            cumulativeRevenueB2, \n",
    "                            left_on='date', \n",
    "                            right_on='date', \n",
    "                            how='left', \n",
    "                            suffixes=['A', 'B'])\n",
    "\n",
    "# Plotting the ratio of average order values\n",
    "plt.plot(mergedCumulativeRevenue2['date'], \n",
    "         (mergedCumulativeRevenue2['revenueB'] / mergedCumulativeRevenue2['ordersB']) /\n",
    "         (mergedCumulativeRevenue2['revenueA'] / mergedCumulativeRevenue2['ordersA']) - 1)\n",
    "\n",
    "# Adding the zero line\n",
    "plt.axhline(y=0, color='black', linestyle='--')\n",
    "\n",
    "# Rotating x-axis labels\n",
    "plt.xticks(rotation=45)\n",
    "\n",
    "# Adding labels to axes\n",
    "plt.xlabel('Test Date')\n",
    "plt.ylabel('elative Change \\n in Cumulative Average Check')\n",
    "\n",
    "# Adding title to the plot\n",
    "plt.title('Relative Change in Cumulative Average Check of Group B \\n compared to Group A (excluding anomalies)');"
   ]
  },
  {
   "cell_type": "markdown",
   "metadata": {},
   "source": [
    "**Graph of Cumulative Average Orders per Visitor by Groups**"
   ]
  },
  {
   "cell_type": "code",
   "execution_count": 32,
   "metadata": {},
   "outputs": [
    {
     "data": {
      "image/png": "[encoded data removed]",
      "text/plain": [
       "<Figure size 640x480 with 1 Axes>"
      ]
     },
     "metadata": {},
     "output_type": "display_data"
    }
   ],
   "source": [
    "# Calculating average number of orders per visitor\n",
    "cumulativeData2['conversion'] = cumulativeData2['orders'] / cumulativeData2['visitors']\n",
    "\n",
    "# Separating data for group A\n",
    "cumulativeDataA2 = cumulativeData2[cumulativeData2['group'] == 'A']\n",
    "\n",
    "# Separating data for group B\n",
    "cumulativeDataB2 = cumulativeData2[cumulativeData2['group'] == 'B']\n",
    "\n",
    "# Plotting\n",
    "plt.plot(cumulativeDataA2['date'], cumulativeDataA2['conversion'], label='A')\n",
    "plt.plot(cumulativeDataB2['date'], cumulativeDataB2['conversion'], label='B')\n",
    "plt.legend()\n",
    "\n",
    "# Setting axes scale\n",
    "plt.axis([dt.datetime(2019, 8, 1), dt.datetime(2019, 9, 1), 0.024, 0.035])\n",
    "\n",
    "# Rotating x-axis labels\n",
    "plt.xticks(rotation=45)\n",
    "\n",
    "# Adding labels to axes\n",
    "plt.xlabel('Test Date')\n",
    "plt.ylabel('Cumulative Average Orders per Visitor')\n",
    "\n",
    "# Adding title to the plot\n",
    "plt.title('Cumulative Average Orders per Visitor by Groups \\n (excluding anomalies)');"
   ]
  },
  {
   "cell_type": "markdown",
   "metadata": {},
   "source": [
    "**Graph of the Relative Change in Cumulative Average Orders per Visitor for Group B Compared to Group A**"
   ]
  },
  {
   "cell_type": "code",
   "execution_count": 33,
   "metadata": {},
   "outputs": [
    {
     "data": {
      "image/png": "[encoded data removed]",
      "text/plain": [
       "<Figure size 640x480 with 1 Axes>"
      ]
     },
     "metadata": {},
     "output_type": "display_data"
    }
   ],
   "source": [
    "# Merging tables cumulativeDataA and cumulativeDataB\n",
    "mergedCumulativeConversions2 = cumulativeDataA2[['date','conversion']].merge(\n",
    "                              cumulativeDataB2[['date','conversion']], \n",
    "                              left_on='date', \n",
    "                              right_on='date', \n",
    "                              how='left', \n",
    "                              suffixes=['A', 'B'])\n",
    "\n",
    "# Plotting\n",
    "plt.plot(mergedCumulativeConversions2['date'], mergedCumulativeConversions2['conversionB']/\n",
    "         mergedCumulativeConversions2['conversionA'] - 1)\n",
    "\n",
    "# Adding horizontal lines\n",
    "plt.axhline(y=0, color='black', linestyle='--')  # Horizontal line at y=0\n",
    "plt.axhline(y=0.18, color='grey', linestyle='--')  # Horizontal line at y=0.18\n",
    "\n",
    "# Setting axes scale\n",
    "plt.axis([dt.datetime(2019, 8, 1), dt.datetime(2019, 9, 1), -0.05, 0.3])\n",
    "\n",
    "# Rotating x-axis labels\n",
    "plt.xticks(rotation=45)\n",
    "\n",
    "# Adding labels to axes\n",
    "plt.xlabel('Test Date')\n",
    "plt.ylabel('Relative Change \\n in Cumulative Average \\n Orders per Visitor')\n",
    "\n",
    "# Adding title to the plot\n",
    "plt.title('Relative Change in Cumulative Average Orders \\n per Visitor for Group B relative to Group A \\n (excluding anomalies)');"
   ]
  },
  {
   "cell_type": "markdown",
   "metadata": {},
   "source": [
    "Without considering anomalous data, the results of the A/B test show the following: the average number of orders per user in group B increased by almost 20% compared to group A. However, by the end of the test, the cumulative average order value for group B fell below that of group A. (Additionally, cumulative average order value for group A shows a clear trend of stable growth, whereas this metric for group B has not yet stabilized.)\n",
    "\n",
    "Due to a higher number of orders and a higher average order value early in the test, group B accumulated greater cumulative revenue by the end of observations compared to group A. However, the gap is not significant, and if the average order value of group B continues to decline relative to group A, future revenue metrics may converge and become indistinguishable."
   ]
  },
  {
   "cell_type": "markdown",
   "metadata": {},
   "source": [
    "## Analysis Results"
   ]
  },
  {
   "cell_type": "markdown",
   "metadata": {},
   "source": [
    "In summary of the study, the original data frames are characterized by their completeness and absence of obvious duplicates.\n",
    "\n",
    "When prioritizing hypotheses using ICE and RICE frameworks, similar results are obtained. However, RICE prioritization brings hypotheses with a high share of audience/user coverage to the top, which should be considered when choosing a prioritization method. Applying both prioritization methods, hypotheses 7 'Add a subscription form to all main pages to collect customer database for email newsletters' and 0 'Add two new traffic acquisition channels to attract 30% more users' emerge as the most promising.\n",
    "\n",
    "After identifying and removing anomalous values in the original data frames containing A/B test results, applying the Mann-Whitney U test to the resulting samples reveals statistically significant differences between groups A and B in terms of average order count and no statistically significant difference in average order value.\n",
    "\n",
    "Users in group B started placing nearly 20% more orders compared to group A; however, by the end of the test, their average order value dropped below that of group A.\n",
    "\n",
    "In the event of continuing the test and maintaining the difference in order counts between the groups:\n",
    "\n",
    "- If the average order value remains stable or increases, group B will clearly be the winner.\n",
    "- f the average order value in group B decreases relative to group A, the results between groups may converge, or group A may come out on top."
   ]
  }
 ],
 "metadata": {
  "ExecuteTimeLog": [
   {
    "duration": 3,
    "start_time": "2024-02-29T07:23:10.441Z"
   },
   {
    "duration": 2,
    "start_time": "2024-02-29T07:26:49.204Z"
   },
   {
    "duration": 1200,
    "start_time": "2024-02-29T07:29:02.363Z"
   },
   {
    "duration": 101,
    "start_time": "2024-02-29T07:32:04.782Z"
   },
   {
    "duration": 175,
    "start_time": "2024-02-29T07:32:05.175Z"
   },
   {
    "duration": 10,
    "start_time": "2024-02-29T07:41:26.569Z"
   },
   {
    "duration": 6,
    "start_time": "2024-02-29T07:41:41.752Z"
   },
   {
    "duration": 8,
    "start_time": "2024-02-29T07:42:18.442Z"
   },
   {
    "duration": 9,
    "start_time": "2024-02-29T07:43:12.995Z"
   },
   {
    "duration": 6,
    "start_time": "2024-02-29T07:43:25.541Z"
   },
   {
    "duration": 8,
    "start_time": "2024-02-29T07:43:33.635Z"
   },
   {
    "duration": 6,
    "start_time": "2024-02-29T07:43:51.678Z"
   },
   {
    "duration": 6,
    "start_time": "2024-02-29T07:44:13.714Z"
   },
   {
    "duration": 7,
    "start_time": "2024-02-29T07:44:20.620Z"
   },
   {
    "duration": 3,
    "start_time": "2024-02-29T07:47:04.074Z"
   },
   {
    "duration": 6,
    "start_time": "2024-02-29T07:47:23.634Z"
   },
   {
    "duration": 3,
    "start_time": "2024-02-29T07:49:51.782Z"
   },
   {
    "duration": 7,
    "start_time": "2024-02-29T07:55:58.113Z"
   },
   {
    "duration": 3,
    "start_time": "2024-02-29T07:57:39.789Z"
   },
   {
    "duration": 7,
    "start_time": "2024-02-29T07:57:40.350Z"
   },
   {
    "duration": 1257,
    "start_time": "2024-02-29T08:00:28.354Z"
   },
   {
    "duration": 1297,
    "start_time": "2024-02-29T08:01:09.746Z"
   },
   {
    "duration": 7,
    "start_time": "2024-02-29T08:03:31.253Z"
   },
   {
    "duration": 1261,
    "start_time": "2024-02-29T08:05:05.195Z"
   },
   {
    "duration": 1199,
    "start_time": "2024-02-29T08:06:01.541Z"
   },
   {
    "duration": 2,
    "start_time": "2024-02-29T08:06:29.371Z"
   },
   {
    "duration": 5,
    "start_time": "2024-02-29T08:07:42.526Z"
   },
   {
    "duration": 5,
    "start_time": "2024-02-29T08:07:49.130Z"
   },
   {
    "duration": 4,
    "start_time": "2024-02-29T08:07:58.204Z"
   },
   {
    "duration": 7,
    "start_time": "2024-02-29T08:19:52.852Z"
   },
   {
    "duration": 5,
    "start_time": "2024-02-29T08:20:08.898Z"
   },
   {
    "duration": 8,
    "start_time": "2024-02-29T08:20:19.414Z"
   },
   {
    "duration": 7,
    "start_time": "2024-02-29T08:20:29.402Z"
   },
   {
    "duration": 9,
    "start_time": "2024-02-29T08:20:32.964Z"
   },
   {
    "duration": 8,
    "start_time": "2024-02-29T08:20:40.296Z"
   },
   {
    "duration": 10,
    "start_time": "2024-02-29T08:21:49.694Z"
   },
   {
    "duration": 8,
    "start_time": "2024-02-29T08:22:10.790Z"
   },
   {
    "duration": 9,
    "start_time": "2024-02-29T08:22:19.010Z"
   },
   {
    "duration": 10,
    "start_time": "2024-02-29T08:25:55.890Z"
   },
   {
    "duration": 4,
    "start_time": "2024-02-29T08:40:42.032Z"
   },
   {
    "duration": 94,
    "start_time": "2024-02-29T08:40:42.039Z"
   },
   {
    "duration": 8,
    "start_time": "2024-02-29T08:40:42.135Z"
   },
   {
    "duration": 34,
    "start_time": "2024-02-29T08:40:42.145Z"
   },
   {
    "duration": 15,
    "start_time": "2024-02-29T08:40:42.181Z"
   },
   {
    "duration": 15,
    "start_time": "2024-02-29T08:40:42.198Z"
   },
   {
    "duration": 18,
    "start_time": "2024-02-29T08:40:42.215Z"
   },
   {
    "duration": 28,
    "start_time": "2024-02-29T08:40:42.235Z"
   },
   {
    "duration": 25,
    "start_time": "2024-02-29T08:40:42.264Z"
   },
   {
    "duration": 13,
    "start_time": "2024-02-29T08:40:42.291Z"
   },
   {
    "duration": 3,
    "start_time": "2024-02-29T08:40:42.306Z"
   },
   {
    "duration": 43,
    "start_time": "2024-02-29T08:40:42.310Z"
   },
   {
    "duration": 40,
    "start_time": "2024-02-29T08:40:42.354Z"
   },
   {
    "duration": 16,
    "start_time": "2024-02-29T08:40:42.395Z"
   },
   {
    "duration": 22,
    "start_time": "2024-02-29T08:40:42.412Z"
   },
   {
    "duration": 18,
    "start_time": "2024-02-29T08:40:42.435Z"
   },
   {
    "duration": 1328,
    "start_time": "2024-03-01T06:28:20.742Z"
   },
   {
    "duration": 198,
    "start_time": "2024-03-01T06:28:22.072Z"
   },
   {
    "duration": 16,
    "start_time": "2024-03-01T06:28:22.272Z"
   },
   {
    "duration": 29,
    "start_time": "2024-03-01T06:28:22.290Z"
   },
   {
    "duration": 16,
    "start_time": "2024-03-01T06:28:22.321Z"
   },
   {
    "duration": 24,
    "start_time": "2024-03-01T06:28:22.338Z"
   },
   {
    "duration": 15,
    "start_time": "2024-03-01T06:28:22.364Z"
   },
   {
    "duration": 27,
    "start_time": "2024-03-01T06:28:22.381Z"
   },
   {
    "duration": 14,
    "start_time": "2024-03-01T06:28:22.410Z"
   },
   {
    "duration": 22,
    "start_time": "2024-03-01T06:28:22.426Z"
   },
   {
    "duration": 41,
    "start_time": "2024-03-01T06:28:22.450Z"
   },
   {
    "duration": 26,
    "start_time": "2024-03-01T06:28:22.492Z"
   },
   {
    "duration": 31,
    "start_time": "2024-03-01T06:28:22.519Z"
   },
   {
    "duration": 15,
    "start_time": "2024-03-01T06:28:22.552Z"
   },
   {
    "duration": 23,
    "start_time": "2024-03-01T06:28:22.568Z"
   },
   {
    "duration": 28,
    "start_time": "2024-03-01T06:28:22.593Z"
   },
   {
    "duration": 1240,
    "start_time": "2024-03-01T06:28:22.622Z"
   },
   {
    "duration": 1119,
    "start_time": "2024-03-01T06:29:08.411Z"
   },
   {
    "duration": 1280,
    "start_time": "2024-03-01T06:30:49.378Z"
   },
   {
    "duration": 3,
    "start_time": "2024-03-01T06:32:18.867Z"
   },
   {
    "duration": 83,
    "start_time": "2024-03-01T06:32:18.872Z"
   },
   {
    "duration": 7,
    "start_time": "2024-03-01T06:32:18.957Z"
   },
   {
    "duration": 15,
    "start_time": "2024-03-01T06:32:18.966Z"
   },
   {
    "duration": 10,
    "start_time": "2024-03-01T06:32:18.983Z"
   },
   {
    "duration": 14,
    "start_time": "2024-03-01T06:32:18.994Z"
   },
   {
    "duration": 11,
    "start_time": "2024-03-01T06:32:19.009Z"
   },
   {
    "duration": 15,
    "start_time": "2024-03-01T06:32:19.022Z"
   },
   {
    "duration": 9,
    "start_time": "2024-03-01T06:32:19.038Z"
   },
   {
    "duration": 12,
    "start_time": "2024-03-01T06:32:19.049Z"
   },
   {
    "duration": 19,
    "start_time": "2024-03-01T06:32:19.066Z"
   },
   {
    "duration": 0,
    "start_time": "2024-03-01T06:32:19.087Z"
   },
   {
    "duration": 0,
    "start_time": "2024-03-01T06:32:19.088Z"
   },
   {
    "duration": 0,
    "start_time": "2024-03-01T06:32:19.089Z"
   },
   {
    "duration": 0,
    "start_time": "2024-03-01T06:32:19.090Z"
   },
   {
    "duration": 0,
    "start_time": "2024-03-01T06:32:19.091Z"
   },
   {
    "duration": 0,
    "start_time": "2024-03-01T06:32:19.092Z"
   },
   {
    "duration": 3,
    "start_time": "2024-03-01T06:32:44.110Z"
   },
   {
    "duration": 97,
    "start_time": "2024-03-01T06:32:44.115Z"
   },
   {
    "duration": 7,
    "start_time": "2024-03-01T06:32:44.214Z"
   },
   {
    "duration": 17,
    "start_time": "2024-03-01T06:32:44.223Z"
   },
   {
    "duration": 15,
    "start_time": "2024-03-01T06:32:44.242Z"
   },
   {
    "duration": 21,
    "start_time": "2024-03-01T06:32:44.259Z"
   },
   {
    "duration": 18,
    "start_time": "2024-03-01T06:32:44.282Z"
   },
   {
    "duration": 18,
    "start_time": "2024-03-01T06:32:44.302Z"
   },
   {
    "duration": 14,
    "start_time": "2024-03-01T06:32:44.322Z"
   },
   {
    "duration": 13,
    "start_time": "2024-03-01T06:32:44.337Z"
   },
   {
    "duration": 7,
    "start_time": "2024-03-01T06:32:44.352Z"
   },
   {
    "duration": 31,
    "start_time": "2024-03-01T06:32:44.360Z"
   },
   {
    "duration": 24,
    "start_time": "2024-03-01T06:32:44.393Z"
   },
   {
    "duration": 12,
    "start_time": "2024-03-01T06:32:44.418Z"
   },
   {
    "duration": 21,
    "start_time": "2024-03-01T06:32:44.432Z"
   },
   {
    "duration": 27,
    "start_time": "2024-03-01T06:32:44.455Z"
   },
   {
    "duration": 308,
    "start_time": "2024-03-01T06:32:44.484Z"
   },
   {
    "duration": 3,
    "start_time": "2024-03-01T06:33:45.147Z"
   },
   {
    "duration": 110,
    "start_time": "2024-03-01T06:33:45.152Z"
   },
   {
    "duration": 7,
    "start_time": "2024-03-01T06:33:45.264Z"
   },
   {
    "duration": 38,
    "start_time": "2024-03-01T06:33:45.272Z"
   },
   {
    "duration": 30,
    "start_time": "2024-03-01T06:33:45.312Z"
   },
   {
    "duration": 46,
    "start_time": "2024-03-01T06:33:45.343Z"
   },
   {
    "duration": 31,
    "start_time": "2024-03-01T06:33:45.391Z"
   },
   {
    "duration": 25,
    "start_time": "2024-03-01T06:33:45.423Z"
   },
   {
    "duration": 42,
    "start_time": "2024-03-01T06:33:45.449Z"
   },
   {
    "duration": 54,
    "start_time": "2024-03-01T06:33:45.493Z"
   },
   {
    "duration": 24,
    "start_time": "2024-03-01T06:33:45.548Z"
   },
   {
    "duration": 40,
    "start_time": "2024-03-01T06:33:45.573Z"
   },
   {
    "duration": 18,
    "start_time": "2024-03-01T06:33:45.616Z"
   },
   {
    "duration": 13,
    "start_time": "2024-03-01T06:33:45.636Z"
   },
   {
    "duration": 27,
    "start_time": "2024-03-01T06:33:45.650Z"
   },
   {
    "duration": 29,
    "start_time": "2024-03-01T06:33:45.678Z"
   },
   {
    "duration": 318,
    "start_time": "2024-03-01T06:33:45.709Z"
   },
   {
    "duration": 357,
    "start_time": "2024-03-01T06:34:52.378Z"
   },
   {
    "duration": 639,
    "start_time": "2024-03-01T06:35:25.945Z"
   },
   {
    "duration": 79,
    "start_time": "2024-03-01T06:35:26.586Z"
   },
   {
    "duration": 11,
    "start_time": "2024-03-01T06:35:26.666Z"
   },
   {
    "duration": 18,
    "start_time": "2024-03-01T06:35:26.679Z"
   },
   {
    "duration": 21,
    "start_time": "2024-03-01T06:35:26.699Z"
   },
   {
    "duration": 25,
    "start_time": "2024-03-01T06:35:26.721Z"
   },
   {
    "duration": 13,
    "start_time": "2024-03-01T06:35:26.747Z"
   },
   {
    "duration": 34,
    "start_time": "2024-03-01T06:35:26.762Z"
   },
   {
    "duration": 29,
    "start_time": "2024-03-01T06:35:26.798Z"
   },
   {
    "duration": 35,
    "start_time": "2024-03-01T06:35:26.829Z"
   },
   {
    "duration": 37,
    "start_time": "2024-03-01T06:35:26.866Z"
   },
   {
    "duration": 17,
    "start_time": "2024-03-01T06:35:26.904Z"
   },
   {
    "duration": 18,
    "start_time": "2024-03-01T06:35:26.922Z"
   },
   {
    "duration": 7,
    "start_time": "2024-03-01T06:35:26.942Z"
   },
   {
    "duration": 17,
    "start_time": "2024-03-01T06:35:26.951Z"
   },
   {
    "duration": 11,
    "start_time": "2024-03-01T06:35:26.970Z"
   },
   {
    "duration": 38,
    "start_time": "2024-03-01T06:35:26.983Z"
   },
   {
    "duration": 395,
    "start_time": "2024-03-01T06:42:00.018Z"
   },
   {
    "duration": 632,
    "start_time": "2024-03-01T06:42:14.313Z"
   },
   {
    "duration": 78,
    "start_time": "2024-03-01T06:42:14.947Z"
   },
   {
    "duration": 11,
    "start_time": "2024-03-01T06:42:15.027Z"
   },
   {
    "duration": 106,
    "start_time": "2024-03-01T06:42:15.039Z"
   },
   {
    "duration": 66,
    "start_time": "2024-03-01T06:42:15.147Z"
   },
   {
    "duration": 59,
    "start_time": "2024-03-01T06:42:15.215Z"
   },
   {
    "duration": 44,
    "start_time": "2024-03-01T06:42:15.276Z"
   },
   {
    "duration": 85,
    "start_time": "2024-03-01T06:42:15.322Z"
   },
   {
    "duration": 31,
    "start_time": "2024-03-01T06:42:15.408Z"
   },
   {
    "duration": 89,
    "start_time": "2024-03-01T06:42:15.441Z"
   },
   {
    "duration": 59,
    "start_time": "2024-03-01T06:42:15.531Z"
   },
   {
    "duration": 38,
    "start_time": "2024-03-01T06:42:15.591Z"
   },
   {
    "duration": 45,
    "start_time": "2024-03-01T06:42:15.631Z"
   },
   {
    "duration": 28,
    "start_time": "2024-03-01T06:42:15.679Z"
   },
   {
    "duration": 126,
    "start_time": "2024-03-01T06:42:15.709Z"
   },
   {
    "duration": 352,
    "start_time": "2024-03-01T06:42:39.775Z"
   },
   {
    "duration": 3,
    "start_time": "2024-03-01T07:02:29.495Z"
   },
   {
    "duration": 99,
    "start_time": "2024-03-01T07:02:29.500Z"
   },
   {
    "duration": 7,
    "start_time": "2024-03-01T07:02:29.601Z"
   },
   {
    "duration": 23,
    "start_time": "2024-03-01T07:02:29.610Z"
   },
   {
    "duration": 23,
    "start_time": "2024-03-01T07:02:29.634Z"
   },
   {
    "duration": 13,
    "start_time": "2024-03-01T07:02:29.658Z"
   },
   {
    "duration": 17,
    "start_time": "2024-03-01T07:02:29.673Z"
   },
   {
    "duration": 21,
    "start_time": "2024-03-01T07:02:29.691Z"
   },
   {
    "duration": 21,
    "start_time": "2024-03-01T07:02:29.714Z"
   },
   {
    "duration": 14,
    "start_time": "2024-03-01T07:02:29.737Z"
   },
   {
    "duration": 18,
    "start_time": "2024-03-01T07:02:29.752Z"
   },
   {
    "duration": 10,
    "start_time": "2024-03-01T07:02:29.772Z"
   },
   {
    "duration": 12,
    "start_time": "2024-03-01T07:02:29.783Z"
   },
   {
    "duration": 14,
    "start_time": "2024-03-01T07:02:29.797Z"
   },
   {
    "duration": 31,
    "start_time": "2024-03-01T07:02:29.813Z"
   },
   {
    "duration": 582,
    "start_time": "2024-03-01T07:02:29.846Z"
   },
   {
    "duration": 0,
    "start_time": "2024-03-01T07:02:30.430Z"
   },
   {
    "duration": 24,
    "start_time": "2024-03-01T07:02:47.858Z"
   },
   {
    "duration": 7,
    "start_time": "2024-03-01T07:03:18.634Z"
   },
   {
    "duration": 24,
    "start_time": "2024-03-01T07:03:48.981Z"
   },
   {
    "duration": 8,
    "start_time": "2024-03-01T07:04:24.761Z"
   },
   {
    "duration": 179,
    "start_time": "2024-03-01T07:05:06.155Z"
   },
   {
    "duration": 7,
    "start_time": "2024-03-01T07:05:19.246Z"
   },
   {
    "duration": 299,
    "start_time": "2024-03-01T07:05:46.743Z"
   },
   {
    "duration": 283,
    "start_time": "2024-03-01T07:06:12.898Z"
   },
   {
    "duration": 503,
    "start_time": "2024-03-01T07:08:27.221Z"
   },
   {
    "duration": 425,
    "start_time": "2024-03-01T07:08:35.335Z"
   },
   {
    "duration": 470,
    "start_time": "2024-03-01T07:09:26.787Z"
   },
   {
    "duration": 438,
    "start_time": "2024-03-01T07:10:39.396Z"
   },
   {
    "duration": 423,
    "start_time": "2024-03-01T07:12:04.923Z"
   },
   {
    "duration": 441,
    "start_time": "2024-03-01T07:12:13.988Z"
   },
   {
    "duration": 426,
    "start_time": "2024-03-01T07:12:19.183Z"
   },
   {
    "duration": 5,
    "start_time": "2024-03-01T07:22:49.511Z"
   },
   {
    "duration": 5,
    "start_time": "2024-03-01T07:22:59.476Z"
   },
   {
    "duration": 4,
    "start_time": "2024-03-01T07:23:16.820Z"
   },
   {
    "duration": 5,
    "start_time": "2024-03-01T07:23:25.128Z"
   },
   {
    "duration": 6,
    "start_time": "2024-03-01T07:23:35.768Z"
   },
   {
    "duration": 5,
    "start_time": "2024-03-01T07:23:44.627Z"
   },
   {
    "duration": 487,
    "start_time": "2024-03-01T07:25:40.321Z"
   },
   {
    "duration": 462,
    "start_time": "2024-03-01T07:25:47.097Z"
   },
   {
    "duration": 79,
    "start_time": "2024-03-01T07:27:20.022Z"
   },
   {
    "duration": 179,
    "start_time": "2024-03-01T07:28:17.016Z"
   },
   {
    "duration": 192,
    "start_time": "2024-03-01T07:28:22.602Z"
   },
   {
    "duration": 179,
    "start_time": "2024-03-01T07:28:49.190Z"
   },
   {
    "duration": 189,
    "start_time": "2024-03-01T07:29:09.792Z"
   },
   {
    "duration": 101,
    "start_time": "2024-03-01T07:35:45.416Z"
   },
   {
    "duration": 342,
    "start_time": "2024-03-01T07:37:17.899Z"
   },
   {
    "duration": 280,
    "start_time": "2024-03-01T08:12:59.414Z"
   },
   {
    "duration": 297,
    "start_time": "2024-03-01T08:13:12.950Z"
   },
   {
    "duration": 259,
    "start_time": "2024-03-01T08:13:27.709Z"
   },
   {
    "duration": 291,
    "start_time": "2024-03-01T08:13:56.583Z"
   },
   {
    "duration": 299,
    "start_time": "2024-03-01T08:14:10.377Z"
   },
   {
    "duration": 264,
    "start_time": "2024-03-01T08:14:14.905Z"
   },
   {
    "duration": 257,
    "start_time": "2024-03-01T08:16:21.122Z"
   },
   {
    "duration": 199,
    "start_time": "2024-03-01T08:30:13.992Z"
   },
   {
    "duration": 197,
    "start_time": "2024-03-01T08:33:11.486Z"
   },
   {
    "duration": 190,
    "start_time": "2024-03-01T08:35:19.780Z"
   },
   {
    "duration": 260,
    "start_time": "2024-03-01T08:35:39.398Z"
   },
   {
    "duration": 632,
    "start_time": "2024-03-01T08:37:45.173Z"
   },
   {
    "duration": 79,
    "start_time": "2024-03-01T08:37:45.807Z"
   },
   {
    "duration": 15,
    "start_time": "2024-03-01T08:37:45.888Z"
   },
   {
    "duration": 21,
    "start_time": "2024-03-01T08:37:45.904Z"
   },
   {
    "duration": 29,
    "start_time": "2024-03-01T08:37:45.928Z"
   },
   {
    "duration": 23,
    "start_time": "2024-03-01T08:37:45.959Z"
   },
   {
    "duration": 11,
    "start_time": "2024-03-01T08:37:45.983Z"
   },
   {
    "duration": 33,
    "start_time": "2024-03-01T08:37:45.996Z"
   },
   {
    "duration": 11,
    "start_time": "2024-03-01T08:37:46.030Z"
   },
   {
    "duration": 15,
    "start_time": "2024-03-01T08:37:46.042Z"
   },
   {
    "duration": 17,
    "start_time": "2024-03-01T08:37:46.058Z"
   },
   {
    "duration": 19,
    "start_time": "2024-03-01T08:37:46.077Z"
   },
   {
    "duration": 21,
    "start_time": "2024-03-01T08:37:46.097Z"
   },
   {
    "duration": 23,
    "start_time": "2024-03-01T08:37:46.121Z"
   },
   {
    "duration": 13,
    "start_time": "2024-03-01T08:37:46.146Z"
   },
   {
    "duration": 13,
    "start_time": "2024-03-01T08:37:46.160Z"
   },
   {
    "duration": 544,
    "start_time": "2024-03-01T08:37:46.175Z"
   },
   {
    "duration": 174,
    "start_time": "2024-03-01T08:37:46.721Z"
   },
   {
    "duration": 272,
    "start_time": "2024-03-01T08:37:46.897Z"
   },
   {
    "duration": 312,
    "start_time": "2024-03-01T08:37:47.170Z"
   },
   {
    "duration": 174,
    "start_time": "2024-03-01T08:39:59.474Z"
   },
   {
    "duration": 177,
    "start_time": "2024-03-01T08:40:08.190Z"
   },
   {
    "duration": 170,
    "start_time": "2024-03-01T08:40:19.566Z"
   },
   {
    "duration": 184,
    "start_time": "2024-03-01T08:40:23.075Z"
   },
   {
    "duration": 189,
    "start_time": "2024-03-01T08:42:17.348Z"
   },
   {
    "duration": 299,
    "start_time": "2024-03-01T08:49:45.977Z"
   },
   {
    "duration": 300,
    "start_time": "2024-03-01T08:51:39.168Z"
   },
   {
    "duration": 265,
    "start_time": "2024-03-01T08:51:55.326Z"
   },
   {
    "duration": 304,
    "start_time": "2024-03-01T08:53:14.253Z"
   },
   {
    "duration": 286,
    "start_time": "2024-03-01T08:53:24.820Z"
   },
   {
    "duration": 399,
    "start_time": "2024-03-01T08:53:59.478Z"
   },
   {
    "duration": 294,
    "start_time": "2024-03-01T08:54:10.773Z"
   },
   {
    "duration": 282,
    "start_time": "2024-03-01T08:54:37.285Z"
   },
   {
    "duration": 74,
    "start_time": "2024-03-01T08:54:50.678Z"
   },
   {
    "duration": 250,
    "start_time": "2024-03-01T08:55:03.001Z"
   },
   {
    "duration": 257,
    "start_time": "2024-03-01T08:59:04.898Z"
   },
   {
    "duration": 8,
    "start_time": "2024-03-01T09:03:39.198Z"
   },
   {
    "duration": 108,
    "start_time": "2024-03-01T09:05:56.440Z"
   },
   {
    "duration": 112,
    "start_time": "2024-03-01T09:06:36.434Z"
   },
   {
    "duration": 7,
    "start_time": "2024-03-01T09:10:56.065Z"
   },
   {
    "duration": 9,
    "start_time": "2024-03-01T09:29:00.670Z"
   },
   {
    "duration": 144,
    "start_time": "2024-03-01T09:29:26.652Z"
   },
   {
    "duration": 128,
    "start_time": "2024-03-01T09:33:26.170Z"
   },
   {
    "duration": 17,
    "start_time": "2024-03-01T09:36:55.595Z"
   },
   {
    "duration": 8,
    "start_time": "2024-03-01T09:37:09.941Z"
   },
   {
    "duration": 9,
    "start_time": "2024-03-01T09:39:20.490Z"
   },
   {
    "duration": 9,
    "start_time": "2024-03-01T09:39:28.247Z"
   },
   {
    "duration": 8,
    "start_time": "2024-03-01T09:39:31.808Z"
   },
   {
    "duration": 8,
    "start_time": "2024-03-01T09:39:34.731Z"
   },
   {
    "duration": 9,
    "start_time": "2024-03-01T09:39:39.010Z"
   },
   {
    "duration": 9,
    "start_time": "2024-03-01T09:39:45.399Z"
   },
   {
    "duration": 9,
    "start_time": "2024-03-01T09:39:51.206Z"
   },
   {
    "duration": 5,
    "start_time": "2024-03-01T09:42:53.618Z"
   },
   {
    "duration": 9,
    "start_time": "2024-03-01T11:26:09.738Z"
   },
   {
    "duration": 56,
    "start_time": "2024-03-01T11:32:56.825Z"
   },
   {
    "duration": 86,
    "start_time": "2024-03-01T11:33:40.196Z"
   },
   {
    "duration": 8,
    "start_time": "2024-03-01T11:35:29.686Z"
   },
   {
    "duration": 98,
    "start_time": "2024-03-01T11:36:32.702Z"
   },
   {
    "duration": 147,
    "start_time": "2024-03-01T11:37:49.161Z"
   },
   {
    "duration": 189,
    "start_time": "2024-03-01T11:38:44.742Z"
   },
   {
    "duration": 211,
    "start_time": "2024-03-01T11:39:16.093Z"
   },
   {
    "duration": 330,
    "start_time": "2024-03-01T11:40:45.722Z"
   },
   {
    "duration": 341,
    "start_time": "2024-03-01T11:41:33.748Z"
   },
   {
    "duration": 327,
    "start_time": "2024-03-01T11:45:49.888Z"
   },
   {
    "duration": 419,
    "start_time": "2024-03-01T11:49:05.808Z"
   },
   {
    "duration": 329,
    "start_time": "2024-03-01T11:52:37.168Z"
   },
   {
    "duration": 413,
    "start_time": "2024-03-01T11:52:58.555Z"
   },
   {
    "duration": 77,
    "start_time": "2024-03-01T11:52:58.970Z"
   },
   {
    "duration": 8,
    "start_time": "2024-03-01T11:52:59.049Z"
   },
   {
    "duration": 22,
    "start_time": "2024-03-01T11:52:59.059Z"
   },
   {
    "duration": 21,
    "start_time": "2024-03-01T11:52:59.083Z"
   },
   {
    "duration": 39,
    "start_time": "2024-03-01T11:52:59.106Z"
   },
   {
    "duration": 26,
    "start_time": "2024-03-01T11:52:59.147Z"
   },
   {
    "duration": 23,
    "start_time": "2024-03-01T11:52:59.175Z"
   },
   {
    "duration": 17,
    "start_time": "2024-03-01T11:52:59.200Z"
   },
   {
    "duration": 33,
    "start_time": "2024-03-01T11:52:59.219Z"
   },
   {
    "duration": 15,
    "start_time": "2024-03-01T11:52:59.253Z"
   },
   {
    "duration": 15,
    "start_time": "2024-03-01T11:52:59.269Z"
   },
   {
    "duration": 24,
    "start_time": "2024-03-01T11:52:59.285Z"
   },
   {
    "duration": 41,
    "start_time": "2024-03-01T11:52:59.313Z"
   },
   {
    "duration": 37,
    "start_time": "2024-03-01T11:52:59.356Z"
   },
   {
    "duration": 31,
    "start_time": "2024-03-01T11:52:59.395Z"
   },
   {
    "duration": 438,
    "start_time": "2024-03-01T11:52:59.427Z"
   },
   {
    "duration": 185,
    "start_time": "2024-03-01T11:52:59.867Z"
   },
   {
    "duration": 323,
    "start_time": "2024-03-01T11:53:00.054Z"
   },
   {
    "duration": 197,
    "start_time": "2024-03-01T11:53:00.379Z"
   },
   {
    "duration": 477,
    "start_time": "2024-03-01T11:53:00.578Z"
   },
   {
    "duration": 228,
    "start_time": "2024-03-01T11:53:01.057Z"
   },
   {
    "duration": 70,
    "start_time": "2024-03-01T11:53:01.287Z"
   },
   {
    "duration": 257,
    "start_time": "2024-03-01T11:53:01.359Z"
   },
   {
    "duration": 82,
    "start_time": "2024-03-01T11:53:01.619Z"
   },
   {
    "duration": 402,
    "start_time": "2024-03-01T11:53:01.703Z"
   },
   {
    "duration": 7,
    "start_time": "2024-03-01T11:53:02.107Z"
   },
   {
    "duration": 103,
    "start_time": "2024-03-01T11:53:02.115Z"
   },
   {
    "duration": 340,
    "start_time": "2024-03-01T11:55:44.154Z"
   },
   {
    "duration": 391,
    "start_time": "2024-03-01T11:57:15.561Z"
   },
   {
    "duration": 11,
    "start_time": "2024-03-01T12:18:46.546Z"
   },
   {
    "duration": 6,
    "start_time": "2024-03-01T12:29:49.066Z"
   },
   {
    "duration": 1306,
    "start_time": "2024-03-01T12:30:23.805Z"
   },
   {
    "duration": 8,
    "start_time": "2024-03-01T12:30:37.003Z"
   },
   {
    "duration": 7,
    "start_time": "2024-03-01T12:30:47.303Z"
   },
   {
    "duration": 8,
    "start_time": "2024-03-01T12:31:01.632Z"
   },
   {
    "duration": 1337,
    "start_time": "2024-03-02T16:11:38.627Z"
   },
   {
    "duration": 193,
    "start_time": "2024-03-02T16:11:39.967Z"
   },
   {
    "duration": 12,
    "start_time": "2024-03-02T16:11:40.162Z"
   },
   {
    "duration": 12,
    "start_time": "2024-03-02T16:11:40.175Z"
   },
   {
    "duration": 8,
    "start_time": "2024-03-02T16:11:40.189Z"
   },
   {
    "duration": 23,
    "start_time": "2024-03-02T16:11:40.199Z"
   },
   {
    "duration": 21,
    "start_time": "2024-03-02T16:11:40.224Z"
   },
   {
    "duration": 11,
    "start_time": "2024-03-02T16:11:40.247Z"
   },
   {
    "duration": 6,
    "start_time": "2024-03-02T16:11:40.260Z"
   },
   {
    "duration": 4,
    "start_time": "2024-03-02T16:11:40.267Z"
   },
   {
    "duration": 16,
    "start_time": "2024-03-02T16:11:40.273Z"
   },
   {
    "duration": 8,
    "start_time": "2024-03-02T16:11:40.291Z"
   },
   {
    "duration": 11,
    "start_time": "2024-03-02T16:11:40.301Z"
   },
   {
    "duration": 13,
    "start_time": "2024-03-02T16:11:40.316Z"
   },
   {
    "duration": 17,
    "start_time": "2024-03-02T16:11:40.331Z"
   },
   {
    "duration": 41,
    "start_time": "2024-03-02T16:11:40.350Z"
   },
   {
    "duration": 597,
    "start_time": "2024-03-02T16:11:40.393Z"
   },
   {
    "duration": 207,
    "start_time": "2024-03-02T16:11:40.992Z"
   },
   {
    "duration": 384,
    "start_time": "2024-03-02T16:11:41.201Z"
   },
   {
    "duration": 215,
    "start_time": "2024-03-02T16:11:41.588Z"
   },
   {
    "duration": 308,
    "start_time": "2024-03-02T16:11:41.805Z"
   },
   {
    "duration": 127,
    "start_time": "2024-03-02T16:11:42.114Z"
   },
   {
    "duration": 5,
    "start_time": "2024-03-02T16:11:42.243Z"
   },
   {
    "duration": 150,
    "start_time": "2024-03-02T16:11:42.249Z"
   },
   {
    "duration": 5,
    "start_time": "2024-03-02T16:11:42.400Z"
   },
   {
    "duration": 390,
    "start_time": "2024-03-02T16:11:42.406Z"
   },
   {
    "duration": 12,
    "start_time": "2024-03-02T16:11:42.797Z"
   },
   {
    "duration": 11,
    "start_time": "2024-03-02T16:11:42.811Z"
   },
   {
    "duration": 1681,
    "start_time": "2024-03-02T16:11:42.824Z"
   },
   {
    "duration": 0,
    "start_time": "2024-03-02T16:11:44.507Z"
   },
   {
    "duration": 9,
    "start_time": "2024-03-02T16:22:29.667Z"
   },
   {
    "duration": 8,
    "start_time": "2024-03-02T16:25:12.045Z"
   },
   {
    "duration": 31,
    "start_time": "2024-03-02T16:26:51.607Z"
   },
   {
    "duration": 1690,
    "start_time": "2024-03-02T16:39:43.796Z"
   },
   {
    "duration": 3,
    "start_time": "2024-03-02T16:40:18.307Z"
   },
   {
    "duration": 76,
    "start_time": "2024-03-02T16:40:18.312Z"
   },
   {
    "duration": 9,
    "start_time": "2024-03-02T16:40:18.390Z"
   },
   {
    "duration": 13,
    "start_time": "2024-03-02T16:40:18.400Z"
   },
   {
    "duration": 9,
    "start_time": "2024-03-02T16:40:18.415Z"
   },
   {
    "duration": 10,
    "start_time": "2024-03-02T16:40:18.426Z"
   },
   {
    "duration": 10,
    "start_time": "2024-03-02T16:40:18.438Z"
   },
   {
    "duration": 39,
    "start_time": "2024-03-02T16:40:18.449Z"
   },
   {
    "duration": 10,
    "start_time": "2024-03-02T16:40:18.490Z"
   },
   {
    "duration": 9,
    "start_time": "2024-03-02T16:40:18.502Z"
   },
   {
    "duration": 7,
    "start_time": "2024-03-02T16:40:18.514Z"
   },
   {
    "duration": 25,
    "start_time": "2024-03-02T16:40:18.522Z"
   },
   {
    "duration": 7,
    "start_time": "2024-03-02T16:40:18.549Z"
   },
   {
    "duration": 13,
    "start_time": "2024-03-02T16:40:18.557Z"
   },
   {
    "duration": 24,
    "start_time": "2024-03-02T16:40:18.571Z"
   },
   {
    "duration": 14,
    "start_time": "2024-03-02T16:40:18.597Z"
   },
   {
    "duration": 564,
    "start_time": "2024-03-02T16:40:18.613Z"
   },
   {
    "duration": 213,
    "start_time": "2024-03-02T16:40:19.179Z"
   },
   {
    "duration": 312,
    "start_time": "2024-03-02T16:40:19.394Z"
   },
   {
    "duration": 221,
    "start_time": "2024-03-02T16:40:19.708Z"
   },
   {
    "duration": 283,
    "start_time": "2024-03-02T16:40:19.931Z"
   },
   {
    "duration": 129,
    "start_time": "2024-03-02T16:40:20.216Z"
   },
   {
    "duration": 5,
    "start_time": "2024-03-02T16:40:20.346Z"
   },
   {
    "duration": 148,
    "start_time": "2024-03-02T16:40:20.352Z"
   },
   {
    "duration": 5,
    "start_time": "2024-03-02T16:40:20.502Z"
   },
   {
    "duration": 394,
    "start_time": "2024-03-02T16:40:20.508Z"
   },
   {
    "duration": 11,
    "start_time": "2024-03-02T16:40:20.904Z"
   },
   {
    "duration": 14,
    "start_time": "2024-03-02T16:40:20.916Z"
   },
   {
    "duration": 31,
    "start_time": "2024-03-02T16:40:20.934Z"
   },
   {
    "duration": 1566,
    "start_time": "2024-03-02T16:40:20.988Z"
   },
   {
    "duration": 15,
    "start_time": "2024-03-02T16:41:09.376Z"
   },
   {
    "duration": 149,
    "start_time": "2024-03-02T16:50:14.205Z"
   },
   {
    "duration": 3,
    "start_time": "2024-03-02T17:16:28.322Z"
   },
   {
    "duration": 80,
    "start_time": "2024-03-02T17:16:28.327Z"
   },
   {
    "duration": 9,
    "start_time": "2024-03-02T17:16:28.409Z"
   },
   {
    "duration": 15,
    "start_time": "2024-03-02T17:16:28.419Z"
   },
   {
    "duration": 12,
    "start_time": "2024-03-02T17:16:28.436Z"
   },
   {
    "duration": 15,
    "start_time": "2024-03-02T17:16:28.450Z"
   },
   {
    "duration": 8,
    "start_time": "2024-03-02T17:16:28.466Z"
   },
   {
    "duration": 16,
    "start_time": "2024-03-02T17:16:28.476Z"
   },
   {
    "duration": 5,
    "start_time": "2024-03-02T17:16:28.493Z"
   },
   {
    "duration": 4,
    "start_time": "2024-03-02T17:16:28.499Z"
   },
   {
    "duration": 8,
    "start_time": "2024-03-02T17:16:28.505Z"
   },
   {
    "duration": 7,
    "start_time": "2024-03-02T17:16:28.514Z"
   },
   {
    "duration": 6,
    "start_time": "2024-03-02T17:16:28.522Z"
   },
   {
    "duration": 11,
    "start_time": "2024-03-02T17:16:28.529Z"
   },
   {
    "duration": 50,
    "start_time": "2024-03-02T17:16:28.542Z"
   },
   {
    "duration": 16,
    "start_time": "2024-03-02T17:16:28.593Z"
   },
   {
    "duration": 471,
    "start_time": "2024-03-02T17:16:28.611Z"
   },
   {
    "duration": 200,
    "start_time": "2024-03-02T17:16:29.087Z"
   },
   {
    "duration": 324,
    "start_time": "2024-03-02T17:16:29.289Z"
   },
   {
    "duration": 315,
    "start_time": "2024-03-02T17:16:29.614Z"
   },
   {
    "duration": 293,
    "start_time": "2024-03-02T17:16:29.931Z"
   },
   {
    "duration": 133,
    "start_time": "2024-03-02T17:16:30.226Z"
   },
   {
    "duration": 6,
    "start_time": "2024-03-02T17:16:30.360Z"
   },
   {
    "duration": 205,
    "start_time": "2024-03-02T17:16:30.367Z"
   },
   {
    "duration": 27,
    "start_time": "2024-03-02T17:16:30.574Z"
   },
   {
    "duration": 488,
    "start_time": "2024-03-02T17:16:30.603Z"
   },
   {
    "duration": 12,
    "start_time": "2024-03-02T17:16:31.093Z"
   },
   {
    "duration": 110,
    "start_time": "2024-03-02T17:16:31.106Z"
   },
   {
    "duration": 120,
    "start_time": "2024-03-02T17:16:31.221Z"
   },
   {
    "duration": 28,
    "start_time": "2024-03-02T17:16:31.343Z"
   },
   {
    "duration": 3,
    "start_time": "2024-03-02T17:17:01.730Z"
   },
   {
    "duration": 293,
    "start_time": "2024-03-02T17:17:01.735Z"
   },
   {
    "duration": 93,
    "start_time": "2024-03-02T17:17:02.030Z"
   },
   {
    "duration": 52,
    "start_time": "2024-03-02T17:17:02.125Z"
   },
   {
    "duration": 82,
    "start_time": "2024-03-02T17:17:02.179Z"
   },
   {
    "duration": 272,
    "start_time": "2024-03-02T17:17:02.262Z"
   },
   {
    "duration": 67,
    "start_time": "2024-03-02T17:17:02.536Z"
   },
   {
    "duration": 140,
    "start_time": "2024-03-02T17:17:02.605Z"
   },
   {
    "duration": 43,
    "start_time": "2024-03-02T17:17:02.747Z"
   },
   {
    "duration": 109,
    "start_time": "2024-03-02T17:17:02.792Z"
   },
   {
    "duration": 71,
    "start_time": "2024-03-02T17:17:02.904Z"
   },
   {
    "duration": 78,
    "start_time": "2024-03-02T17:17:02.977Z"
   },
   {
    "duration": 20,
    "start_time": "2024-03-02T17:17:03.057Z"
   },
   {
    "duration": 34,
    "start_time": "2024-03-02T17:17:03.079Z"
   },
   {
    "duration": 22,
    "start_time": "2024-03-02T17:17:03.115Z"
   },
   {
    "duration": 35,
    "start_time": "2024-03-02T17:17:03.139Z"
   },
   {
    "duration": 478,
    "start_time": "2024-03-02T17:17:03.176Z"
   },
   {
    "duration": 199,
    "start_time": "2024-03-02T17:17:03.656Z"
   },
   {
    "duration": 332,
    "start_time": "2024-03-02T17:17:03.857Z"
   },
   {
    "duration": 217,
    "start_time": "2024-03-02T17:17:04.191Z"
   },
   {
    "duration": 299,
    "start_time": "2024-03-02T17:17:04.409Z"
   },
   {
    "duration": 131,
    "start_time": "2024-03-02T17:17:04.710Z"
   },
   {
    "duration": 5,
    "start_time": "2024-03-02T17:17:04.843Z"
   },
   {
    "duration": 153,
    "start_time": "2024-03-02T17:17:04.849Z"
   },
   {
    "duration": 5,
    "start_time": "2024-03-02T17:17:05.003Z"
   },
   {
    "duration": 452,
    "start_time": "2024-03-02T17:17:05.010Z"
   },
   {
    "duration": 11,
    "start_time": "2024-03-02T17:17:05.464Z"
   },
   {
    "duration": 12,
    "start_time": "2024-03-02T17:17:05.488Z"
   },
   {
    "duration": 30,
    "start_time": "2024-03-02T17:17:05.503Z"
   },
   {
    "duration": 14,
    "start_time": "2024-03-02T17:17:05.535Z"
   },
   {
    "duration": 5,
    "start_time": "2024-03-02T17:41:48.115Z"
   },
   {
    "duration": 295,
    "start_time": "2024-03-02T17:43:19.964Z"
   },
   {
    "duration": 450,
    "start_time": "2024-03-02T17:43:30.659Z"
   },
   {
    "duration": 472,
    "start_time": "2024-03-02T17:44:11.957Z"
   },
   {
    "duration": 195,
    "start_time": "2024-03-02T17:44:58.966Z"
   },
   {
    "duration": 337,
    "start_time": "2024-03-02T17:46:48.966Z"
   },
   {
    "duration": 202,
    "start_time": "2024-03-02T17:53:01.527Z"
   },
   {
    "duration": 333,
    "start_time": "2024-03-02T17:54:04.087Z"
   },
   {
    "duration": 8,
    "start_time": "2024-03-02T17:58:25.128Z"
   },
   {
    "duration": 8,
    "start_time": "2024-03-02T18:04:50.311Z"
   },
   {
    "duration": 10,
    "start_time": "2024-03-02T18:05:46.815Z"
   },
   {
    "duration": 4,
    "start_time": "2024-03-02T18:06:28.687Z"
   },
   {
    "duration": 92,
    "start_time": "2024-03-02T18:06:28.693Z"
   },
   {
    "duration": 10,
    "start_time": "2024-03-02T18:06:28.786Z"
   },
   {
    "duration": 31,
    "start_time": "2024-03-02T18:06:28.798Z"
   },
   {
    "duration": 18,
    "start_time": "2024-03-02T18:06:28.832Z"
   },
   {
    "duration": 23,
    "start_time": "2024-03-02T18:06:28.852Z"
   },
   {
    "duration": 24,
    "start_time": "2024-03-02T18:06:28.877Z"
   },
   {
    "duration": 20,
    "start_time": "2024-03-02T18:06:28.904Z"
   },
   {
    "duration": 26,
    "start_time": "2024-03-02T18:06:28.927Z"
   },
   {
    "duration": 10,
    "start_time": "2024-03-02T18:06:28.957Z"
   },
   {
    "duration": 10,
    "start_time": "2024-03-02T18:06:28.969Z"
   },
   {
    "duration": 9,
    "start_time": "2024-03-02T18:06:28.981Z"
   },
   {
    "duration": 11,
    "start_time": "2024-03-02T18:06:28.992Z"
   },
   {
    "duration": 13,
    "start_time": "2024-03-02T18:06:29.005Z"
   },
   {
    "duration": 14,
    "start_time": "2024-03-02T18:06:29.020Z"
   },
   {
    "duration": 21,
    "start_time": "2024-03-02T18:06:29.036Z"
   },
   {
    "duration": 503,
    "start_time": "2024-03-02T18:06:29.060Z"
   },
   {
    "duration": 203,
    "start_time": "2024-03-02T18:06:29.564Z"
   },
   {
    "duration": 328,
    "start_time": "2024-03-02T18:06:29.768Z"
   },
   {
    "duration": 222,
    "start_time": "2024-03-02T18:06:30.098Z"
   },
   {
    "duration": 386,
    "start_time": "2024-03-02T18:06:30.322Z"
   },
   {
    "duration": 136,
    "start_time": "2024-03-02T18:06:30.710Z"
   },
   {
    "duration": 5,
    "start_time": "2024-03-02T18:06:30.848Z"
   },
   {
    "duration": 184,
    "start_time": "2024-03-02T18:06:30.855Z"
   },
   {
    "duration": 6,
    "start_time": "2024-03-02T18:06:31.040Z"
   },
   {
    "duration": 486,
    "start_time": "2024-03-02T18:06:31.047Z"
   },
   {
    "duration": 36,
    "start_time": "2024-03-02T18:06:31.535Z"
   },
   {
    "duration": 165,
    "start_time": "2024-03-02T18:06:31.574Z"
   },
   {
    "duration": 104,
    "start_time": "2024-03-02T18:06:31.741Z"
   },
   {
    "duration": 158,
    "start_time": "2024-03-02T18:06:31.847Z"
   },
   {
    "duration": 58,
    "start_time": "2024-03-02T18:06:32.006Z"
   },
   {
    "duration": 58,
    "start_time": "2024-03-02T18:06:32.065Z"
   },
   {
    "duration": 515,
    "start_time": "2024-03-02T18:06:32.125Z"
   },
   {
    "duration": 209,
    "start_time": "2024-03-02T18:06:32.642Z"
   },
   {
    "duration": 336,
    "start_time": "2024-03-02T18:06:32.853Z"
   },
   {
    "duration": 213,
    "start_time": "2024-03-02T18:06:33.192Z"
   },
   {
    "duration": 313,
    "start_time": "2024-03-02T18:06:33.407Z"
   },
   {
    "duration": 8,
    "start_time": "2024-03-02T18:07:46.951Z"
   },
   {
    "duration": 4,
    "start_time": "2024-03-02T18:10:30.708Z"
   },
   {
    "duration": 137,
    "start_time": "2024-03-02T18:10:30.714Z"
   },
   {
    "duration": 9,
    "start_time": "2024-03-02T18:10:30.853Z"
   },
   {
    "duration": 61,
    "start_time": "2024-03-02T18:10:30.864Z"
   },
   {
    "duration": 44,
    "start_time": "2024-03-02T18:10:30.927Z"
   },
   {
    "duration": 52,
    "start_time": "2024-03-02T18:10:30.973Z"
   },
   {
    "duration": 42,
    "start_time": "2024-03-02T18:10:31.027Z"
   },
   {
    "duration": 47,
    "start_time": "2024-03-02T18:10:31.071Z"
   },
   {
    "duration": 50,
    "start_time": "2024-03-02T18:10:31.120Z"
   },
   {
    "duration": 45,
    "start_time": "2024-03-02T18:10:31.172Z"
   },
   {
    "duration": 77,
    "start_time": "2024-03-02T18:10:31.220Z"
   },
   {
    "duration": 80,
    "start_time": "2024-03-02T18:10:31.299Z"
   },
   {
    "duration": 74,
    "start_time": "2024-03-02T18:10:31.381Z"
   },
   {
    "duration": 107,
    "start_time": "2024-03-02T18:10:31.456Z"
   },
   {
    "duration": 79,
    "start_time": "2024-03-02T18:10:31.565Z"
   },
   {
    "duration": 110,
    "start_time": "2024-03-02T18:10:31.645Z"
   },
   {
    "duration": 562,
    "start_time": "2024-03-02T18:10:31.757Z"
   },
   {
    "duration": 207,
    "start_time": "2024-03-02T18:10:32.322Z"
   },
   {
    "duration": 374,
    "start_time": "2024-03-02T18:10:32.530Z"
   },
   {
    "duration": 208,
    "start_time": "2024-03-02T18:10:32.905Z"
   },
   {
    "duration": 296,
    "start_time": "2024-03-02T18:10:33.115Z"
   },
   {
    "duration": 138,
    "start_time": "2024-03-02T18:10:33.413Z"
   },
   {
    "duration": 6,
    "start_time": "2024-03-02T18:10:33.553Z"
   },
   {
    "duration": 156,
    "start_time": "2024-03-02T18:10:33.561Z"
   },
   {
    "duration": 5,
    "start_time": "2024-03-02T18:10:33.719Z"
   },
   {
    "duration": 398,
    "start_time": "2024-03-02T18:10:33.726Z"
   },
   {
    "duration": 12,
    "start_time": "2024-03-02T18:10:34.125Z"
   },
   {
    "duration": 11,
    "start_time": "2024-03-02T18:10:34.139Z"
   },
   {
    "duration": 56,
    "start_time": "2024-03-02T18:10:34.153Z"
   },
   {
    "duration": 15,
    "start_time": "2024-03-02T18:10:34.211Z"
   },
   {
    "duration": 9,
    "start_time": "2024-03-02T18:10:34.228Z"
   },
   {
    "duration": 11,
    "start_time": "2024-03-02T18:10:34.239Z"
   },
   {
    "duration": 7,
    "start_time": "2024-03-02T18:10:34.252Z"
   },
   {
    "duration": 33,
    "start_time": "2024-03-02T18:10:34.261Z"
   },
   {
    "duration": 0,
    "start_time": "2024-03-02T18:10:34.296Z"
   },
   {
    "duration": 0,
    "start_time": "2024-03-02T18:10:34.297Z"
   },
   {
    "duration": 0,
    "start_time": "2024-03-02T18:10:34.298Z"
   },
   {
    "duration": 0,
    "start_time": "2024-03-02T18:10:34.299Z"
   },
   {
    "duration": 0,
    "start_time": "2024-03-02T18:10:34.300Z"
   },
   {
    "duration": 4,
    "start_time": "2024-03-02T18:11:57.887Z"
   },
   {
    "duration": 540,
    "start_time": "2024-03-02T18:12:39.516Z"
   },
   {
    "duration": 217,
    "start_time": "2024-03-02T18:12:45.345Z"
   },
   {
    "duration": 308,
    "start_time": "2024-03-02T18:12:59.482Z"
   },
   {
    "duration": 209,
    "start_time": "2024-03-02T18:13:08.013Z"
   },
   {
    "duration": 291,
    "start_time": "2024-03-02T18:13:13.209Z"
   },
   {
    "duration": 282,
    "start_time": "2024-03-02T18:14:51.842Z"
   },
   {
    "duration": 290,
    "start_time": "2024-03-02T18:15:51.989Z"
   },
   {
    "duration": 211,
    "start_time": "2024-03-02T18:16:04.935Z"
   },
   {
    "duration": 223,
    "start_time": "2024-03-02T18:17:29.541Z"
   },
   {
    "duration": 102,
    "start_time": "2024-03-02T18:17:52.701Z"
   },
   {
    "duration": 322,
    "start_time": "2024-03-02T18:17:58.814Z"
   },
   {
    "duration": 336,
    "start_time": "2024-03-02T18:18:20.486Z"
   },
   {
    "duration": 326,
    "start_time": "2024-03-02T18:18:59.808Z"
   },
   {
    "duration": 340,
    "start_time": "2024-03-02T18:19:07.443Z"
   },
   {
    "duration": 4,
    "start_time": "2024-03-02T19:19:50.044Z"
   },
   {
    "duration": 79,
    "start_time": "2024-03-02T19:19:50.050Z"
   },
   {
    "duration": 9,
    "start_time": "2024-03-02T19:19:50.131Z"
   },
   {
    "duration": 19,
    "start_time": "2024-03-02T19:19:50.142Z"
   },
   {
    "duration": 10,
    "start_time": "2024-03-02T19:19:50.163Z"
   },
   {
    "duration": 14,
    "start_time": "2024-03-02T19:19:50.175Z"
   },
   {
    "duration": 19,
    "start_time": "2024-03-02T19:19:50.191Z"
   },
   {
    "duration": 13,
    "start_time": "2024-03-02T19:19:50.212Z"
   },
   {
    "duration": 13,
    "start_time": "2024-03-02T19:19:50.227Z"
   },
   {
    "duration": 15,
    "start_time": "2024-03-02T19:19:50.241Z"
   },
   {
    "duration": 9,
    "start_time": "2024-03-02T19:19:50.257Z"
   },
   {
    "duration": 11,
    "start_time": "2024-03-02T19:19:50.268Z"
   },
   {
    "duration": 12,
    "start_time": "2024-03-02T19:19:50.287Z"
   },
   {
    "duration": 23,
    "start_time": "2024-03-02T19:19:50.300Z"
   },
   {
    "duration": 19,
    "start_time": "2024-03-02T19:19:50.325Z"
   },
   {
    "duration": 482,
    "start_time": "2024-03-02T19:19:50.346Z"
   },
   {
    "duration": 198,
    "start_time": "2024-03-02T19:19:50.830Z"
   },
   {
    "duration": 290,
    "start_time": "2024-03-02T19:19:51.029Z"
   },
   {
    "duration": 207,
    "start_time": "2024-03-02T19:19:51.321Z"
   },
   {
    "duration": 380,
    "start_time": "2024-03-02T19:19:51.530Z"
   },
   {
    "duration": 132,
    "start_time": "2024-03-02T19:19:51.912Z"
   },
   {
    "duration": 5,
    "start_time": "2024-03-02T19:19:52.046Z"
   },
   {
    "duration": 151,
    "start_time": "2024-03-02T19:19:52.053Z"
   },
   {
    "duration": 5,
    "start_time": "2024-03-02T19:19:52.206Z"
   },
   {
    "duration": 373,
    "start_time": "2024-03-02T19:19:52.212Z"
   },
   {
    "duration": 12,
    "start_time": "2024-03-02T19:19:52.587Z"
   },
   {
    "duration": 13,
    "start_time": "2024-03-02T19:19:52.600Z"
   },
   {
    "duration": 34,
    "start_time": "2024-03-02T19:19:52.614Z"
   },
   {
    "duration": 38,
    "start_time": "2024-03-02T19:19:52.650Z"
   },
   {
    "duration": 4,
    "start_time": "2024-03-02T19:19:52.690Z"
   },
   {
    "duration": 496,
    "start_time": "2024-03-02T19:19:52.695Z"
   },
   {
    "duration": 213,
    "start_time": "2024-03-02T19:19:53.192Z"
   },
   {
    "duration": 298,
    "start_time": "2024-03-02T19:19:53.406Z"
   },
   {
    "duration": 217,
    "start_time": "2024-03-02T19:19:53.705Z"
   },
   {
    "duration": 307,
    "start_time": "2024-03-02T19:19:53.924Z"
   },
   {
    "duration": 57,
    "start_time": "2024-03-04T07:16:27.219Z"
   },
   {
    "duration": 1547,
    "start_time": "2024-03-04T07:16:37.469Z"
   },
   {
    "duration": 193,
    "start_time": "2024-03-04T07:16:39.018Z"
   },
   {
    "duration": 13,
    "start_time": "2024-03-04T07:16:39.213Z"
   },
   {
    "duration": 16,
    "start_time": "2024-03-04T07:16:39.228Z"
   },
   {
    "duration": 15,
    "start_time": "2024-03-04T07:16:39.246Z"
   },
   {
    "duration": 19,
    "start_time": "2024-03-04T07:16:39.263Z"
   },
   {
    "duration": 29,
    "start_time": "2024-03-04T07:16:39.284Z"
   },
   {
    "duration": 12,
    "start_time": "2024-03-04T07:16:39.314Z"
   },
   {
    "duration": 4,
    "start_time": "2024-03-04T07:16:39.328Z"
   },
   {
    "duration": 5,
    "start_time": "2024-03-04T07:16:39.334Z"
   },
   {
    "duration": 9,
    "start_time": "2024-03-04T07:16:39.341Z"
   },
   {
    "duration": 9,
    "start_time": "2024-03-04T07:16:39.352Z"
   },
   {
    "duration": 28,
    "start_time": "2024-03-04T07:16:39.362Z"
   },
   {
    "duration": 14,
    "start_time": "2024-03-04T07:16:39.392Z"
   },
   {
    "duration": 57,
    "start_time": "2024-03-04T07:16:39.408Z"
   },
   {
    "duration": 573,
    "start_time": "2024-03-04T07:16:39.467Z"
   },
   {
    "duration": 192,
    "start_time": "2024-03-04T07:16:40.042Z"
   },
   {
    "duration": 406,
    "start_time": "2024-03-04T07:16:40.236Z"
   },
   {
    "duration": 215,
    "start_time": "2024-03-04T07:16:40.644Z"
   },
   {
    "duration": 325,
    "start_time": "2024-03-04T07:16:40.861Z"
   },
   {
    "duration": 133,
    "start_time": "2024-03-04T07:16:41.188Z"
   },
   {
    "duration": 5,
    "start_time": "2024-03-04T07:16:41.322Z"
   },
   {
    "duration": 152,
    "start_time": "2024-03-04T07:16:41.328Z"
   },
   {
    "duration": 6,
    "start_time": "2024-03-04T07:16:41.482Z"
   },
   {
    "duration": 401,
    "start_time": "2024-03-04T07:16:41.490Z"
   },
   {
    "duration": 11,
    "start_time": "2024-03-04T07:16:41.893Z"
   },
   {
    "duration": 23,
    "start_time": "2024-03-04T07:16:41.906Z"
   },
   {
    "duration": 33,
    "start_time": "2024-03-04T07:16:41.932Z"
   },
   {
    "duration": 17,
    "start_time": "2024-03-04T07:16:41.979Z"
   },
   {
    "duration": 5,
    "start_time": "2024-03-04T07:16:41.998Z"
   },
   {
    "duration": 601,
    "start_time": "2024-03-04T07:16:42.005Z"
   },
   {
    "duration": 207,
    "start_time": "2024-03-04T07:16:42.608Z"
   },
   {
    "duration": 296,
    "start_time": "2024-03-04T07:16:42.817Z"
   },
   {
    "duration": 221,
    "start_time": "2024-03-04T07:16:43.115Z"
   },
   {
    "duration": 406,
    "start_time": "2024-03-04T07:16:43.338Z"
   },
   {
    "duration": 3,
    "start_time": "2024-03-04T07:17:46.952Z"
   },
   {
    "duration": 79,
    "start_time": "2024-03-04T07:17:46.960Z"
   },
   {
    "duration": 8,
    "start_time": "2024-03-04T07:17:47.043Z"
   },
   {
    "duration": 12,
    "start_time": "2024-03-04T07:17:47.054Z"
   },
   {
    "duration": 14,
    "start_time": "2024-03-04T07:17:47.068Z"
   },
   {
    "duration": 35,
    "start_time": "2024-03-04T07:17:47.085Z"
   },
   {
    "duration": 13,
    "start_time": "2024-03-04T07:17:47.123Z"
   },
   {
    "duration": 16,
    "start_time": "2024-03-04T07:17:47.138Z"
   },
   {
    "duration": 25,
    "start_time": "2024-03-04T07:17:47.156Z"
   },
   {
    "duration": 13,
    "start_time": "2024-03-04T07:17:47.183Z"
   },
   {
    "duration": 28,
    "start_time": "2024-03-04T07:17:47.198Z"
   },
   {
    "duration": 14,
    "start_time": "2024-03-04T07:17:47.228Z"
   },
   {
    "duration": 15,
    "start_time": "2024-03-04T07:17:47.244Z"
   },
   {
    "duration": 32,
    "start_time": "2024-03-04T07:17:47.261Z"
   },
   {
    "duration": 14,
    "start_time": "2024-03-04T07:17:47.297Z"
   },
   {
    "duration": 500,
    "start_time": "2024-03-04T07:17:47.313Z"
   },
   {
    "duration": 204,
    "start_time": "2024-03-04T07:17:47.815Z"
   },
   {
    "duration": 304,
    "start_time": "2024-03-04T07:17:48.021Z"
   },
   {
    "duration": 216,
    "start_time": "2024-03-04T07:17:48.327Z"
   },
   {
    "duration": 376,
    "start_time": "2024-03-04T07:17:48.545Z"
   },
   {
    "duration": 131,
    "start_time": "2024-03-04T07:17:48.923Z"
   },
   {
    "duration": 4,
    "start_time": "2024-03-04T07:17:49.056Z"
   },
   {
    "duration": 233,
    "start_time": "2024-03-04T07:17:49.062Z"
   },
   {
    "duration": 5,
    "start_time": "2024-03-04T07:17:49.297Z"
   },
   {
    "duration": 392,
    "start_time": "2024-03-04T07:17:49.303Z"
   },
   {
    "duration": 12,
    "start_time": "2024-03-04T07:17:49.696Z"
   },
   {
    "duration": 9,
    "start_time": "2024-03-04T07:17:49.709Z"
   },
   {
    "duration": 32,
    "start_time": "2024-03-04T07:17:49.720Z"
   },
   {
    "duration": 41,
    "start_time": "2024-03-04T07:17:49.754Z"
   },
   {
    "duration": 5,
    "start_time": "2024-03-04T07:17:49.797Z"
   },
   {
    "duration": 528,
    "start_time": "2024-03-04T07:17:49.803Z"
   },
   {
    "duration": 219,
    "start_time": "2024-03-04T07:17:50.333Z"
   },
   {
    "duration": 363,
    "start_time": "2024-03-04T07:17:50.553Z"
   },
   {
    "duration": 225,
    "start_time": "2024-03-04T07:17:50.917Z"
   },
   {
    "duration": 379,
    "start_time": "2024-03-04T07:17:51.144Z"
   },
   {
    "duration": 20,
    "start_time": "2024-03-04T07:18:44.642Z"
   },
   {
    "duration": 1196,
    "start_time": "2024-03-04T07:18:58.066Z"
   },
   {
    "duration": 77,
    "start_time": "2024-03-04T07:18:59.264Z"
   },
   {
    "duration": 12,
    "start_time": "2024-03-04T07:18:59.342Z"
   },
   {
    "duration": 11,
    "start_time": "2024-03-04T07:18:59.356Z"
   },
   {
    "duration": 16,
    "start_time": "2024-03-04T07:18:59.368Z"
   },
   {
    "duration": 15,
    "start_time": "2024-03-04T07:18:59.385Z"
   },
   {
    "duration": 9,
    "start_time": "2024-03-04T07:18:59.401Z"
   },
   {
    "duration": 21,
    "start_time": "2024-03-04T07:18:59.411Z"
   },
   {
    "duration": 10,
    "start_time": "2024-03-04T07:18:59.433Z"
   },
   {
    "duration": 10,
    "start_time": "2024-03-04T07:18:59.445Z"
   },
   {
    "duration": 24,
    "start_time": "2024-03-04T07:18:59.457Z"
   },
   {
    "duration": 6,
    "start_time": "2024-03-04T07:18:59.482Z"
   },
   {
    "duration": 27,
    "start_time": "2024-03-04T07:18:59.490Z"
   },
   {
    "duration": 15,
    "start_time": "2024-03-04T07:18:59.519Z"
   },
   {
    "duration": 17,
    "start_time": "2024-03-04T07:18:59.535Z"
   },
   {
    "duration": 600,
    "start_time": "2024-03-04T07:18:59.553Z"
   },
   {
    "duration": 201,
    "start_time": "2024-03-04T07:19:00.155Z"
   },
   {
    "duration": 339,
    "start_time": "2024-03-04T07:19:00.357Z"
   },
   {
    "duration": 212,
    "start_time": "2024-03-04T07:19:00.698Z"
   },
   {
    "duration": 302,
    "start_time": "2024-03-04T07:19:00.912Z"
   },
   {
    "duration": 142,
    "start_time": "2024-03-04T07:19:01.217Z"
   },
   {
    "duration": 18,
    "start_time": "2024-03-04T07:19:01.361Z"
   },
   {
    "duration": 279,
    "start_time": "2024-03-04T07:19:01.381Z"
   },
   {
    "duration": 5,
    "start_time": "2024-03-04T07:19:01.662Z"
   },
   {
    "duration": 426,
    "start_time": "2024-03-04T07:19:01.668Z"
   },
   {
    "duration": 74,
    "start_time": "2024-03-04T07:19:02.096Z"
   },
   {
    "duration": 89,
    "start_time": "2024-03-04T07:19:02.171Z"
   },
   {
    "duration": 216,
    "start_time": "2024-03-04T07:19:02.263Z"
   },
   {
    "duration": 457,
    "start_time": "2024-03-04T07:19:02.481Z"
   },
   {
    "duration": 55,
    "start_time": "2024-03-04T07:19:02.940Z"
   },
   {
    "duration": 556,
    "start_time": "2024-03-04T07:19:02.996Z"
   },
   {
    "duration": 207,
    "start_time": "2024-03-04T07:19:03.554Z"
   },
   {
    "duration": 329,
    "start_time": "2024-03-04T07:19:03.763Z"
   },
   {
    "duration": 228,
    "start_time": "2024-03-04T07:19:04.094Z"
   },
   {
    "duration": 311,
    "start_time": "2024-03-04T07:19:04.324Z"
   },
   {
    "duration": 15,
    "start_time": "2024-03-04T07:21:06.175Z"
   },
   {
    "duration": 13,
    "start_time": "2024-03-04T07:22:25.138Z"
   },
   {
    "duration": 13,
    "start_time": "2024-03-04T07:22:50.805Z"
   },
   {
    "duration": 3,
    "start_time": "2024-03-04T07:23:09.057Z"
   },
   {
    "duration": 76,
    "start_time": "2024-03-04T07:23:09.062Z"
   },
   {
    "duration": 8,
    "start_time": "2024-03-04T07:23:09.139Z"
   },
   {
    "duration": 12,
    "start_time": "2024-03-04T07:23:09.149Z"
   },
   {
    "duration": 9,
    "start_time": "2024-03-04T07:23:09.163Z"
   },
   {
    "duration": 15,
    "start_time": "2024-03-04T07:23:09.174Z"
   },
   {
    "duration": 8,
    "start_time": "2024-03-04T07:23:09.190Z"
   },
   {
    "duration": 13,
    "start_time": "2024-03-04T07:23:09.201Z"
   },
   {
    "duration": 5,
    "start_time": "2024-03-04T07:23:09.217Z"
   },
   {
    "duration": 22,
    "start_time": "2024-03-04T07:23:09.224Z"
   },
   {
    "duration": 9,
    "start_time": "2024-03-04T07:23:09.248Z"
   },
   {
    "duration": 5,
    "start_time": "2024-03-04T07:23:09.258Z"
   },
   {
    "duration": 12,
    "start_time": "2024-03-04T07:23:09.281Z"
   },
   {
    "duration": 20,
    "start_time": "2024-03-04T07:23:09.295Z"
   },
   {
    "duration": 15,
    "start_time": "2024-03-04T07:23:09.317Z"
   },
   {
    "duration": 510,
    "start_time": "2024-03-04T07:23:09.333Z"
   },
   {
    "duration": 208,
    "start_time": "2024-03-04T07:23:09.845Z"
   },
   {
    "duration": 344,
    "start_time": "2024-03-04T07:23:10.054Z"
   },
   {
    "duration": 233,
    "start_time": "2024-03-04T07:23:10.399Z"
   },
   {
    "duration": 305,
    "start_time": "2024-03-04T07:23:10.634Z"
   },
   {
    "duration": 139,
    "start_time": "2024-03-04T07:23:10.941Z"
   },
   {
    "duration": 5,
    "start_time": "2024-03-04T07:23:11.081Z"
   },
   {
    "duration": 230,
    "start_time": "2024-03-04T07:23:11.088Z"
   },
   {
    "duration": 4,
    "start_time": "2024-03-04T07:23:11.322Z"
   },
   {
    "duration": 386,
    "start_time": "2024-03-04T07:23:11.328Z"
   },
   {
    "duration": 11,
    "start_time": "2024-03-04T07:23:11.715Z"
   },
   {
    "duration": 12,
    "start_time": "2024-03-04T07:23:11.728Z"
   },
   {
    "duration": 77,
    "start_time": "2024-03-04T07:23:11.742Z"
   },
   {
    "duration": 15,
    "start_time": "2024-03-04T07:23:11.821Z"
   },
   {
    "duration": 6,
    "start_time": "2024-03-04T07:23:11.838Z"
   },
   {
    "duration": 540,
    "start_time": "2024-03-04T07:23:11.847Z"
   },
   {
    "duration": 243,
    "start_time": "2024-03-04T07:23:12.390Z"
   },
   {
    "duration": 294,
    "start_time": "2024-03-04T07:23:12.635Z"
   },
   {
    "duration": 221,
    "start_time": "2024-03-04T07:23:12.930Z"
   },
   {
    "duration": 352,
    "start_time": "2024-03-04T07:23:13.153Z"
   },
   {
    "duration": 14,
    "start_time": "2024-03-04T07:24:52.015Z"
   },
   {
    "duration": 487,
    "start_time": "2024-03-04T07:33:45.769Z"
   },
   {
    "duration": 537,
    "start_time": "2024-03-04T07:34:10.511Z"
   },
   {
    "duration": 500,
    "start_time": "2024-03-04T07:35:09.495Z"
   },
   {
    "duration": 217,
    "start_time": "2024-03-04T07:35:23.087Z"
   },
   {
    "duration": 400,
    "start_time": "2024-03-04T08:03:38.311Z"
   },
   {
    "duration": 292,
    "start_time": "2024-03-04T08:04:02.424Z"
   },
   {
    "duration": 332,
    "start_time": "2024-03-04T08:04:08.086Z"
   },
   {
    "duration": 286,
    "start_time": "2024-03-04T08:05:03.422Z"
   },
   {
    "duration": 203,
    "start_time": "2024-03-04T08:06:13.768Z"
   },
   {
    "duration": 229,
    "start_time": "2024-03-04T08:06:48.926Z"
   },
   {
    "duration": 329,
    "start_time": "2024-03-04T08:07:39.437Z"
   },
   {
    "duration": 333,
    "start_time": "2024-03-04T08:08:08.173Z"
   },
   {
    "duration": 330,
    "start_time": "2024-03-04T08:09:54.277Z"
   },
   {
    "duration": 133,
    "start_time": "2024-03-04T08:11:19.261Z"
   },
   {
    "duration": 497,
    "start_time": "2024-03-04T08:12:22.840Z"
   },
   {
    "duration": 302,
    "start_time": "2024-03-04T08:13:08.502Z"
   },
   {
    "duration": 218,
    "start_time": "2024-03-04T08:13:58.215Z"
   },
   {
    "duration": 226,
    "start_time": "2024-03-04T08:14:24.114Z"
   },
   {
    "duration": 319,
    "start_time": "2024-03-04T08:14:59.491Z"
   },
   {
    "duration": 216,
    "start_time": "2024-03-04T08:15:46.813Z"
   },
   {
    "duration": 243,
    "start_time": "2024-03-04T08:16:02.539Z"
   },
   {
    "duration": 213,
    "start_time": "2024-03-04T08:16:29.198Z"
   },
   {
    "duration": 149,
    "start_time": "2024-03-04T08:17:23.469Z"
   },
   {
    "duration": 3,
    "start_time": "2024-03-04T08:17:31.375Z"
   },
   {
    "duration": 119,
    "start_time": "2024-03-04T08:17:31.380Z"
   },
   {
    "duration": 9,
    "start_time": "2024-03-04T08:17:31.500Z"
   },
   {
    "duration": 65,
    "start_time": "2024-03-04T08:17:31.511Z"
   },
   {
    "duration": 47,
    "start_time": "2024-03-04T08:17:31.578Z"
   },
   {
    "duration": 48,
    "start_time": "2024-03-04T08:17:31.627Z"
   },
   {
    "duration": 51,
    "start_time": "2024-03-04T08:17:31.677Z"
   },
   {
    "duration": 46,
    "start_time": "2024-03-04T08:17:31.730Z"
   },
   {
    "duration": 26,
    "start_time": "2024-03-04T08:17:31.780Z"
   },
   {
    "duration": 13,
    "start_time": "2024-03-04T08:17:31.808Z"
   },
   {
    "duration": 49,
    "start_time": "2024-03-04T08:17:31.823Z"
   },
   {
    "duration": 44,
    "start_time": "2024-03-04T08:17:31.874Z"
   },
   {
    "duration": 45,
    "start_time": "2024-03-04T08:17:31.920Z"
   },
   {
    "duration": 39,
    "start_time": "2024-03-04T08:17:31.967Z"
   },
   {
    "duration": 29,
    "start_time": "2024-03-04T08:17:32.008Z"
   },
   {
    "duration": 518,
    "start_time": "2024-03-04T08:17:32.039Z"
   },
   {
    "duration": 228,
    "start_time": "2024-03-04T08:17:32.559Z"
   },
   {
    "duration": 415,
    "start_time": "2024-03-04T08:17:32.789Z"
   },
   {
    "duration": 229,
    "start_time": "2024-03-04T08:17:33.206Z"
   },
   {
    "duration": 321,
    "start_time": "2024-03-04T08:17:33.437Z"
   },
   {
    "duration": 141,
    "start_time": "2024-03-04T08:17:33.760Z"
   },
   {
    "duration": 5,
    "start_time": "2024-03-04T08:17:33.902Z"
   },
   {
    "duration": 163,
    "start_time": "2024-03-04T08:17:33.909Z"
   },
   {
    "duration": 5,
    "start_time": "2024-03-04T08:17:34.079Z"
   },
   {
    "duration": 387,
    "start_time": "2024-03-04T08:17:34.086Z"
   },
   {
    "duration": 16,
    "start_time": "2024-03-04T08:17:34.475Z"
   },
   {
    "duration": 24,
    "start_time": "2024-03-04T08:17:34.493Z"
   },
   {
    "duration": 36,
    "start_time": "2024-03-04T08:17:34.519Z"
   },
   {
    "duration": 30,
    "start_time": "2024-03-04T08:17:34.556Z"
   },
   {
    "duration": 5,
    "start_time": "2024-03-04T08:17:34.588Z"
   },
   {
    "duration": 529,
    "start_time": "2024-03-04T08:17:34.595Z"
   },
   {
    "duration": 219,
    "start_time": "2024-03-04T08:17:35.125Z"
   },
   {
    "duration": 365,
    "start_time": "2024-03-04T08:17:35.345Z"
   },
   {
    "duration": 230,
    "start_time": "2024-03-04T08:17:35.712Z"
   },
   {
    "duration": 362,
    "start_time": "2024-03-04T08:17:35.943Z"
   },
   {
    "duration": 370,
    "start_time": "2024-03-04T08:18:28.648Z"
   },
   {
    "duration": 3,
    "start_time": "2024-03-04T08:18:57.106Z"
   },
   {
    "duration": 84,
    "start_time": "2024-03-04T08:18:57.112Z"
   },
   {
    "duration": 9,
    "start_time": "2024-03-04T08:18:57.197Z"
   },
   {
    "duration": 12,
    "start_time": "2024-03-04T08:18:57.209Z"
   },
   {
    "duration": 13,
    "start_time": "2024-03-04T08:18:57.223Z"
   },
   {
    "duration": 16,
    "start_time": "2024-03-04T08:18:57.238Z"
   },
   {
    "duration": 30,
    "start_time": "2024-03-04T08:18:57.256Z"
   },
   {
    "duration": 16,
    "start_time": "2024-03-04T08:18:57.289Z"
   },
   {
    "duration": 5,
    "start_time": "2024-03-04T08:18:57.307Z"
   },
   {
    "duration": 9,
    "start_time": "2024-03-04T08:18:57.313Z"
   },
   {
    "duration": 102,
    "start_time": "2024-03-04T08:18:57.323Z"
   },
   {
    "duration": 5,
    "start_time": "2024-03-04T08:18:57.426Z"
   },
   {
    "duration": 12,
    "start_time": "2024-03-04T08:18:57.433Z"
   },
   {
    "duration": 37,
    "start_time": "2024-03-04T08:18:57.446Z"
   },
   {
    "duration": 14,
    "start_time": "2024-03-04T08:18:57.485Z"
   },
   {
    "duration": 491,
    "start_time": "2024-03-04T08:18:57.501Z"
   },
   {
    "duration": 224,
    "start_time": "2024-03-04T08:18:57.994Z"
   },
   {
    "duration": 301,
    "start_time": "2024-03-04T08:18:58.220Z"
   },
   {
    "duration": 234,
    "start_time": "2024-03-04T08:18:58.524Z"
   },
   {
    "duration": 345,
    "start_time": "2024-03-04T08:18:58.760Z"
   },
   {
    "duration": 140,
    "start_time": "2024-03-04T08:18:59.107Z"
   },
   {
    "duration": 4,
    "start_time": "2024-03-04T08:18:59.249Z"
   },
   {
    "duration": 154,
    "start_time": "2024-03-04T08:18:59.255Z"
   },
   {
    "duration": 5,
    "start_time": "2024-03-04T08:18:59.412Z"
   },
   {
    "duration": 395,
    "start_time": "2024-03-04T08:18:59.419Z"
   },
   {
    "duration": 13,
    "start_time": "2024-03-04T08:18:59.816Z"
   },
   {
    "duration": 15,
    "start_time": "2024-03-04T08:18:59.831Z"
   },
   {
    "duration": 46,
    "start_time": "2024-03-04T08:18:59.847Z"
   },
   {
    "duration": 15,
    "start_time": "2024-03-04T08:18:59.895Z"
   },
   {
    "duration": 6,
    "start_time": "2024-03-04T08:18:59.912Z"
   },
   {
    "duration": 508,
    "start_time": "2024-03-04T08:18:59.920Z"
   },
   {
    "duration": 246,
    "start_time": "2024-03-04T08:19:00.430Z"
   },
   {
    "duration": 339,
    "start_time": "2024-03-04T08:19:00.680Z"
   },
   {
    "duration": 344,
    "start_time": "2024-03-04T08:19:01.021Z"
   },
   {
    "duration": 387,
    "start_time": "2024-03-04T08:19:01.367Z"
   },
   {
    "duration": 51,
    "start_time": "2024-03-08T07:52:15.723Z"
   },
   {
    "duration": 1158,
    "start_time": "2024-03-08T07:52:27.653Z"
   },
   {
    "duration": 185,
    "start_time": "2024-03-08T07:52:28.814Z"
   },
   {
    "duration": 12,
    "start_time": "2024-03-08T07:52:29.001Z"
   },
   {
    "duration": 12,
    "start_time": "2024-03-08T07:52:29.015Z"
   },
   {
    "duration": 9,
    "start_time": "2024-03-08T07:52:29.029Z"
   },
   {
    "duration": 12,
    "start_time": "2024-03-08T07:52:29.040Z"
   },
   {
    "duration": 10,
    "start_time": "2024-03-08T07:52:29.054Z"
   },
   {
    "duration": 13,
    "start_time": "2024-03-08T07:52:29.066Z"
   },
   {
    "duration": 7,
    "start_time": "2024-03-08T07:52:29.081Z"
   },
   {
    "duration": 6,
    "start_time": "2024-03-08T07:52:29.122Z"
   },
   {
    "duration": 13,
    "start_time": "2024-03-08T07:52:29.130Z"
   },
   {
    "duration": 6,
    "start_time": "2024-03-08T07:52:29.145Z"
   },
   {
    "duration": 14,
    "start_time": "2024-03-08T07:52:29.152Z"
   },
   {
    "duration": 20,
    "start_time": "2024-03-08T07:52:29.167Z"
   },
   {
    "duration": 44,
    "start_time": "2024-03-08T07:52:29.189Z"
   },
   {
    "duration": 628,
    "start_time": "2024-03-08T07:52:29.235Z"
   },
   {
    "duration": 222,
    "start_time": "2024-03-08T07:52:29.865Z"
   },
   {
    "duration": 362,
    "start_time": "2024-03-08T07:52:30.089Z"
   },
   {
    "duration": 234,
    "start_time": "2024-03-08T07:52:30.453Z"
   },
   {
    "duration": 372,
    "start_time": "2024-03-08T07:52:30.689Z"
   },
   {
    "duration": 153,
    "start_time": "2024-03-08T07:52:31.063Z"
   },
   {
    "duration": 5,
    "start_time": "2024-03-08T07:52:31.223Z"
   },
   {
    "duration": 206,
    "start_time": "2024-03-08T07:52:31.230Z"
   },
   {
    "duration": 5,
    "start_time": "2024-03-08T07:52:31.438Z"
   },
   {
    "duration": 432,
    "start_time": "2024-03-08T07:52:31.445Z"
   },
   {
    "duration": 12,
    "start_time": "2024-03-08T07:52:31.879Z"
   },
   {
    "duration": 26,
    "start_time": "2024-03-08T07:52:31.893Z"
   },
   {
    "duration": 39,
    "start_time": "2024-03-08T07:52:31.923Z"
   },
   {
    "duration": 25,
    "start_time": "2024-03-08T07:52:31.963Z"
   },
   {
    "duration": 52,
    "start_time": "2024-03-08T07:52:31.990Z"
   },
   {
    "duration": 609,
    "start_time": "2024-03-08T07:52:32.044Z"
   },
   {
    "duration": 229,
    "start_time": "2024-03-08T07:52:32.655Z"
   },
   {
    "duration": 358,
    "start_time": "2024-03-08T07:52:32.886Z"
   },
   {
    "duration": 242,
    "start_time": "2024-03-08T07:52:33.245Z"
   },
   {
    "duration": 405,
    "start_time": "2024-03-08T07:52:33.489Z"
   },
   {
    "duration": 5,
    "start_time": "2024-03-08T07:53:22.129Z"
   }
  ],
  "kernelspec": {
   "display_name": "Python 3 (ipykernel)",
   "language": "python",
   "name": "python3"
  },
  "language_info": {
   "codemirror_mode": {
    "name": "ipython",
    "version": 3
   },
   "file_extension": ".py",
   "mimetype": "text/x-python",
   "name": "python",
   "nbconvert_exporter": "python",
   "pygments_lexer": "ipython3",
   "version": "3.12.0"
  },
  "toc": {
   "base_numbering": 1,
   "nav_menu": {},
   "number_sections": true,
   "sideBar": true,
   "skip_h1_title": true,
   "title_cell": "Table of Contents",
   "title_sidebar": "Contents",
   "toc_cell": false,
   "toc_position": {},
   "toc_section_display": true,
   "toc_window_display": false
  }
 },
 "nbformat": 4,
 "nbformat_minor": 4
}
